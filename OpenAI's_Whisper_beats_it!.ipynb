{
  "nbformat": 4,
  "nbformat_minor": 0,
  "metadata": {
    "colab": {
      "provenance": [],
      "collapsed_sections": []
    },
    "kernelspec": {
      "name": "python3",
      "display_name": "Python 3"
    },
    "language_info": {
      "name": "python"
    }
  },
  "cells": [
    {
      "cell_type": "markdown",
      "source": [
        "Andrej [@karpathy](https://twitter.com/karpathy/status/1574474950416617472?s=20&t=fQkyC3t3qjG0WYZ-AAXMFw) downloaded all ~322 episodes of @lexfridman\n",
        " podcast and used OpenAI [Whisper](https://github.com/openai/whisper) to [transcribe](https://karpathy.ai/lexicap/index.html) them. People talk mostly clearly in a podcast, so I have a really TOUGH mission for Whisper: [Beat It](https://youtu.be/oRdxUFDoQe0) song of Michael Jackson. Michael sings fast and full of emotions, accompanied by a chorus, and with a really rough music. <br>\n",
        "\n",
        "The result totally surpasses my expectations, fantastic!\n",
        "\n",
        "It seems the model uses some randomness, and can behave strangely. For example, running it a [2nd time](#scrollTo=COmkiVmKNzrC&line=1&uniqifier=1), it almost ommits part 2 of verse 1 [01:05.000 --> 01:26.000]! "
      ],
      "metadata": {
        "id": "s8uUBFsQMPp3"
      }
    },
    {
      "cell_type": "code",
      "execution_count": null,
      "metadata": {
        "id": "MwhUZjJe_TUo",
        "colab": {
          "base_uri": "https://localhost:8080/"
        },
        "outputId": "a477c292-caad-4d40-9d6b-5beb17de1db2"
      },
      "outputs": [
        {
          "output_type": "stream",
          "name": "stdout",
          "text": [
            "Looking in indexes: https://pypi.org/simple, https://us-python.pkg.dev/colab-wheels/public/simple/\n",
            "Collecting git+https://github.com/openai/whisper.git\n",
            "  Cloning https://github.com/openai/whisper.git to /tmp/pip-req-build-8knw9agc\n",
            "  Running command git clone -q https://github.com/openai/whisper.git /tmp/pip-req-build-8knw9agc\n",
            "Requirement already satisfied: numpy in /usr/local/lib/python3.7/dist-packages (from whisper==1.0) (1.21.6)\n",
            "Requirement already satisfied: torch in /usr/local/lib/python3.7/dist-packages (from whisper==1.0) (1.12.1+cu113)\n",
            "Requirement already satisfied: tqdm in /usr/local/lib/python3.7/dist-packages (from whisper==1.0) (4.64.1)\n",
            "Requirement already satisfied: more-itertools in /usr/local/lib/python3.7/dist-packages (from whisper==1.0) (8.14.0)\n",
            "Collecting transformers>=4.19.0\n",
            "  Downloading transformers-4.22.2-py3-none-any.whl (4.9 MB)\n",
            "\u001b[K     |████████████████████████████████| 4.9 MB 5.2 MB/s \n",
            "\u001b[?25hCollecting ffmpeg-python==0.2.0\n",
            "  Downloading ffmpeg_python-0.2.0-py3-none-any.whl (25 kB)\n",
            "Requirement already satisfied: future in /usr/local/lib/python3.7/dist-packages (from ffmpeg-python==0.2.0->whisper==1.0) (0.16.0)\n",
            "Requirement already satisfied: pyyaml>=5.1 in /usr/local/lib/python3.7/dist-packages (from transformers>=4.19.0->whisper==1.0) (6.0)\n",
            "Collecting huggingface-hub<1.0,>=0.9.0\n",
            "  Downloading huggingface_hub-0.10.0-py3-none-any.whl (163 kB)\n",
            "\u001b[K     |████████████████████████████████| 163 kB 46.2 MB/s \n",
            "\u001b[?25hRequirement already satisfied: regex!=2019.12.17 in /usr/local/lib/python3.7/dist-packages (from transformers>=4.19.0->whisper==1.0) (2022.6.2)\n",
            "Requirement already satisfied: filelock in /usr/local/lib/python3.7/dist-packages (from transformers>=4.19.0->whisper==1.0) (3.8.0)\n",
            "Collecting tokenizers!=0.11.3,<0.13,>=0.11.1\n",
            "  Downloading tokenizers-0.12.1-cp37-cp37m-manylinux_2_12_x86_64.manylinux2010_x86_64.whl (6.6 MB)\n",
            "\u001b[K     |████████████████████████████████| 6.6 MB 36.4 MB/s \n",
            "\u001b[?25hRequirement already satisfied: packaging>=20.0 in /usr/local/lib/python3.7/dist-packages (from transformers>=4.19.0->whisper==1.0) (21.3)\n",
            "Requirement already satisfied: requests in /usr/local/lib/python3.7/dist-packages (from transformers>=4.19.0->whisper==1.0) (2.23.0)\n",
            "Requirement already satisfied: importlib-metadata in /usr/local/lib/python3.7/dist-packages (from transformers>=4.19.0->whisper==1.0) (4.12.0)\n",
            "Requirement already satisfied: typing-extensions>=3.7.4.3 in /usr/local/lib/python3.7/dist-packages (from huggingface-hub<1.0,>=0.9.0->transformers>=4.19.0->whisper==1.0) (4.1.1)\n",
            "Requirement already satisfied: pyparsing!=3.0.5,>=2.0.2 in /usr/local/lib/python3.7/dist-packages (from packaging>=20.0->transformers>=4.19.0->whisper==1.0) (3.0.9)\n",
            "Requirement already satisfied: zipp>=0.5 in /usr/local/lib/python3.7/dist-packages (from importlib-metadata->transformers>=4.19.0->whisper==1.0) (3.8.1)\n",
            "Requirement already satisfied: idna<3,>=2.5 in /usr/local/lib/python3.7/dist-packages (from requests->transformers>=4.19.0->whisper==1.0) (2.10)\n",
            "Requirement already satisfied: urllib3!=1.25.0,!=1.25.1,<1.26,>=1.21.1 in /usr/local/lib/python3.7/dist-packages (from requests->transformers>=4.19.0->whisper==1.0) (1.24.3)\n",
            "Requirement already satisfied: certifi>=2017.4.17 in /usr/local/lib/python3.7/dist-packages (from requests->transformers>=4.19.0->whisper==1.0) (2022.6.15)\n",
            "Requirement already satisfied: chardet<4,>=3.0.2 in /usr/local/lib/python3.7/dist-packages (from requests->transformers>=4.19.0->whisper==1.0) (3.0.4)\n",
            "Building wheels for collected packages: whisper\n",
            "  Building wheel for whisper (setup.py) ... \u001b[?25l\u001b[?25hdone\n",
            "  Created wheel for whisper: filename=whisper-1.0-py3-none-any.whl size=1175010 sha256=2544b56d13ae6c22a65aaea80f9da52f8abe5d6e3a561619f3fb60a313feb8a8\n",
            "  Stored in directory: /tmp/pip-ephem-wheel-cache-s3dmqmfg/wheels/16/15/89/1c7bb31bd0006793a95549d04785121a8a36daad9158e1e43a\n",
            "Successfully built whisper\n",
            "Installing collected packages: tokenizers, huggingface-hub, transformers, ffmpeg-python, whisper\n",
            "Successfully installed ffmpeg-python-0.2.0 huggingface-hub-0.10.0 tokenizers-0.12.1 transformers-4.22.2 whisper-1.0\n"
          ]
        }
      ],
      "source": [
        "!pip install git+https://github.com/openai/whisper.git "
      ]
    },
    {
      "cell_type": "code",
      "source": [
        "!mkdir whisper\n",
        "%cd whisper\n",
        "!wget -O beatIt.mp3 https://mp3.gisher.org/download/2647 "
      ],
      "metadata": {
        "id": "Z-L5goKVBxZ7"
      },
      "execution_count": null,
      "outputs": []
    },
    {
      "cell_type": "markdown",
      "source": [
        "And here comes the magic! "
      ],
      "metadata": {
        "id": "liaVEbTtZQBi"
      }
    },
    {
      "cell_type": "code",
      "source": [
        "!time whisper beatIt.mp3 --language en --model large"
      ],
      "metadata": {
        "colab": {
          "base_uri": "https://localhost:8080/"
        },
        "id": "_vns3VQlKMaI",
        "outputId": "ba88645e-d8bd-44e3-b0fc-c0cd6c272e65"
      },
      "execution_count": null,
      "outputs": [
        {
          "output_type": "stream",
          "name": "stdout",
          "text": [
            "tcmalloc: large alloc 3087007744 bytes == 0x5926000 @  0x7feb1f5851e7 0x4b2150 0x5ac2ec 0x5dc6af 0x58ee9b 0x5901a3 0x5e3f6b 0x4d18aa 0x51b31c 0x58f2a7 0x51740e 0x5b41c5 0x58f49e 0x51837f 0x58f2a7 0x51740e 0x5b41c5 0x604133 0x606e06 0x606ecc 0x609aa6 0x64d332 0x64d4de 0x7feb1f182c87 0x5b561a\n",
            "[00:00.000 --> 00:10.520]  Object of지고\n",
            "[00:10.440 --> 00:20.920] ڤ̢̫͝ch̸̶ì̶̠͋íem̸̡̯� happen\n",
            "[00:21.760 --> 00:23.580]  You\n",
            "[00:23.580 --> 00:44.580]  They told him don't you ever come around here Don't wanna see your face, you better disappear\n",
            "[00:44.580 --> 00:47.580]  The fire's in their eyes and their words are really clear\n",
            "[00:47.580 --> 00:54.580]  So beat it, just beat it You better run, you better do what you can\n",
            "[00:54.580 --> 00:57.580]  Don't wanna see no blood, don't be a macho man\n",
            "[00:57.580 --> 01:01.580]  You wanna be tough, better do what you can\n",
            "[01:01.580 --> 01:04.580]  So beat it, but you wanna be bad\n",
            "[01:04.580 --> 01:18.580]  Just beat it, beat it No one wants to beat it, beat it Showing how funky, strong is your fight It doesn't matter who's wrong or right\n",
            "[01:18.580 --> 01:25.580]  Just beat it, just beat it Just beat it, just beat it\n",
            "[01:25.580 --> 01:32.580]  They're out to get you better, leave while you can Don't wanna be a boy, you wanna be a man\n",
            "[01:32.580 --> 01:35.580]  You wanna stay alive, better do what you can\n",
            "[01:35.580 --> 01:42.580]  So beat it, just beat it You have to show them that you're really not scared\n",
            "[01:42.580 --> 01:46.580]  You're playing with your life, this ain't no true but yeah\n",
            "[01:46.580 --> 01:49.580]  They'll kick you then they'll beat you then they'll tell you it's fair\n",
            "[01:49.580 --> 01:53.580]  So beat it, but you wanna be bad\n",
            "[01:53.580 --> 02:07.580]  Just beat it, beat it No one wants to beat it, beat it Showing how funky, strong is your fight It doesn't matter who's wrong or right\n",
            "[02:07.580 --> 02:24.580]  Just beat it, beat it No one wants to beat it, beat it Showing how funky, strong is your fight It doesn't matter who's wrong or right\n",
            "[02:24.580 --> 02:39.580]  Just beat it, just beat it Just beat it, just beat it\n",
            "[03:16.580 --> 03:23.580]  Beat it, beat it No one wants to beat it, beat it\n",
            "[03:23.580 --> 03:30.580]  Show how funky, strong is your fight It doesn't matter who's wrong or right\n",
            "[03:30.580 --> 03:44.580]  Just beat it, beat it No one wants to beat it, beat it Show how funky, strong is your fight It doesn't matter who's wrong or right\n",
            "[03:44.580 --> 03:57.580]  Just beat it, beat it No one wants to beat it, beat it Show how funky, strong is your fight It doesn't matter who's wrong or right\n",
            "[03:57.580 --> 04:01.580]  Just beat it, beat it, beat it, beat it\n",
            "[04:01.580 --> 04:04.580]  No one wants to beat it, beat it\n",
            "[04:04.580 --> 04:08.580]  Show how far even strong is your fighter\n",
            "[04:08.580 --> 04:11.580]  It doesn't matter who's stronger\n",
            "[04:11.580 --> 04:27.580]  It doesn't matter who's stronger\n",
            "\n",
            "real\t4m30.047s\n",
            "user\t3m51.521s\n",
            "sys\t0m34.025s\n"
          ]
        }
      ]
    },
    {
      "cell_type": "markdown",
      "source": [
        "Here is the lyrics for comparision (from [genius.com](https://genius.com/Michael-jackson-beat-it-lyrics)):<br>\n",
        "<br>\n",
        "[Verse 1]<br>\n",
        "They told him, \"Don't you ever come around here<br>\n",
        "Don't wanna see your face, you better disappear\"<br>\n",
        "The fire's in their eyes and their words are really clear<br>\n",
        "So beat it, just beat it (Ooh!)<br>\n",
        "You better run, you better do what you can (Ooh!)<br>\n",
        "Don't wanna see no blood, don't be a macho man (Ooh!)<br>\n",
        "You wanna be tough, better do what you can<br>\n",
        "So beat it, but you wanna be bad<br>\n",
        "<br>\n",
        "[Chorus]<br>\n",
        "Just beat it, beat it, beat it, beat it<br>\n",
        "No one wants to be defeated<br>\n",
        "Showin' how funky and strong is your fight<br>\n",
        "It doesn't matter who's wrong or right<br>\n",
        "Just beat it (Beat it)<br>\n",
        "Just beat it (Beat it)<br>\n",
        "Just beat it (Beat it)<br>\n",
        "Just beat it (Beat it, uh)<br>\n",
        "[Verse 2]<br>\n",
        "They're out to get you, better leave while you can<br>\n",
        "Don't wanna be a boy, you wanna be a man<br>\n",
        "You wanna stay alive, better do what you can<br>\n",
        "So beat it, just beat it (Ooh!)<br>\n",
        "You have to show them that you're really not scared (Ooh!)<br>\n",
        "You're playin' with your life, this ain't no truth or dare (Ooh!)<br>\n",
        "They'll kick you, then they'll beat you, then they'll tell you it's fair<br>\n",
        "So beat it, but you wanna be bad<br>\n",
        "<br>\n",
        "[Chorus]<br>\n",
        "Just beat it, beat it, beat it, beat it<br>\n",
        "No one wants to be defeated<br>\n",
        "Showin' how funky and strong is your fight<br>\n",
        "It doesn't matter who's wrong or right<br>\n",
        "Just beat it, beat it, beat it, beat it<br>\n",
        "No one wants to be defeated<br>\n",
        "Showin' how funky and strong is your fight<br>\n",
        "It doesn't matter who's wrong or right<br>\n",
        "Just beat it (Beat it, beat it, beat it)<br>\n",
        "Beat it (Beat it, beat it, ha, ha, ha, ha)<br>\n",
        "Beat it (Beat it, beat it)<br>\n",
        "Beat it (Beat it, beat it)<br>\n",
        "<br>\n",
        "[Guitar Solo]<br>\n",
        "[Chorus]<br>\n",
        "Beat it, beat it, beat it, beat it<br>\n",
        "No one wants to be defeated<br>\n",
        "Showin' how funky and strong is your fight<br>\n",
        "It doesn't matter who's wrong or right (Who's right)<br>\n",
        "Just beat it, beat it, beat it, beat it (Hoo-hoo!)<br>\n",
        "No one wants to be defeated (Oh, lord)<br>\n",
        "Showin' how funky (Hee-hee!) and strong is your fight (Hee-hee-hee!)<br>\n",
        "It doesn't matter who's wrong or right<br>\n",
        "Just beat it, beat it, beat it, beat it (Beat it!)<br>\n",
        "No one wants to be defeated (Oh-no!)<br>\n",
        "Showin' how funky (Hoo-hoo!) and strong is your fight (Hee-hee! Hoo!)<br>\n",
        "It doesn't matter who's wrong or right<br>\n",
        "Just beat it, beat it, beat it, beat it<br>\n",
        "No one wants to be defeated<br>\n",
        "Showin' how funky and strong is your fight<br>\n",
        "It doesn't matter who's wrong or right (Who's right)<br>\n",
        "Just beat it, beat it, beat it, beat it (Hoo-hoo!)<br>\n",
        "No one wants to be defeated<br>\n"
      ],
      "metadata": {
        "id": "PywAVcUEaYIF"
      }
    },
    {
      "cell_type": "markdown",
      "source": [
        "Strange! running Whisper a 2nd time, it almost ommits part 2 of verse 1 [01:05.000 --> 01:26.000]"
      ],
      "metadata": {
        "id": "5hSoP6JVapwM"
      }
    },
    {
      "cell_type": "code",
      "source": [
        "!whisper beatIt.mp3 --language en --model large"
      ],
      "metadata": {
        "colab": {
          "base_uri": "https://localhost:8080/"
        },
        "id": "COmkiVmKNzrC",
        "outputId": "7413ee19-4cb6-49a1-a9c1-90ae1368c39c"
      },
      "execution_count": null,
      "outputs": [
        {
          "output_type": "stream",
          "name": "stdout",
          "text": [
            "100%|██████████████████████████████████████| 2.87G/2.87G [00:19<00:00, 161MiB/s]\n",
            "tcmalloc: large alloc 3087007744 bytes == 0x5492000 @  0x7f020c3b11e7 0x4b2150 0x5ac2ec 0x5dc6af 0x58ee9b 0x5901a3 0x5e3f6b 0x4d18aa 0x51b31c 0x58f2a7 0x51740e 0x5b41c5 0x58f49e 0x51837f 0x58f2a7 0x51740e 0x5b41c5 0x604133 0x606e06 0x606ecc 0x609aa6 0x64d332 0x64d4de 0x7f020bfaec87 0x5b561a\n",
            "[00:00.000 --> 00:28.040]  mlg\n",
            "[00:30.000 --> 00:45.000]  They told him don't you ever come around here Don't wanna see your face, you better disappear\n",
            "[00:45.000 --> 00:48.000]  The fire's in their eyes and their words are really clear\n",
            "[00:48.000 --> 00:55.000]  So beat it, just beat it You better run, you better do what you can\n",
            "[00:55.000 --> 01:02.000]  Don't wanna see no blood, don't be a macho man You wanna be tough, better do what you can\n",
            "[01:02.000 --> 01:05.000]  So beat it, but you wanna be bad\n",
            "[01:05.000 --> 01:26.000]  Just beat it, beat it No one wants to beat it, beat it\n",
            "[01:26.000 --> 01:29.000]  They're out to get you, better leave while you can\n",
            "[01:29.000 --> 01:36.000]  Don't wanna be a boy, you wanna be a man You wanna stay alive, better do what you can\n",
            "[01:36.000 --> 01:43.000]  So beat it, just beat it You have to show them that you're really not scared\n",
            "[01:43.000 --> 01:46.000]  You're playing with your life, this ain't no true love, yeah\n",
            "[01:46.000 --> 01:50.000]  They'll kick you then they'll beat you then they'll tell you it's fair\n",
            "[01:50.000 --> 02:00.000]  So beat it, but you wanna be bad Just beat it, beat it There's no one wants to beat it, beat it\n",
            "[02:00.000 --> 02:07.000]  Show them how fucking strong is your fight It doesn't matter who's right or right\n",
            "[02:07.000 --> 02:24.000]  Just beat it, beat it There's no one wants to beat it, beat it\n",
            "[02:24.000 --> 02:39.000]  Beat it, beat it Beat it, beat it Beat it, beat it\n",
            "[03:17.000 --> 03:23.000]  Beat it, beat it There's no one wants to beat it, beat it\n",
            "[03:23.000 --> 03:30.000]  Show them how fucking strong is your fight It doesn't matter who's right or right\n",
            "[03:30.000 --> 03:37.000]  Just beat it, beat it There's no one wants to beat it, beat it\n",
            "[03:37.000 --> 03:44.000]  Show them how fucking strong is your fight It doesn't matter who's right or right\n",
            "[03:44.000 --> 03:53.000]  Just beat it, beat it There's no one wants to beat it, beat it\n",
            "[03:53.000 --> 04:05.000]  Beat it, beat it There's no one wants to beat it, beat it\n",
            "[04:05.000 --> 04:15.000]  Show them how fucking strong is your fight It doesn't matter who's right or right\n"
          ]
        }
      ]
    },
    {
      "cell_type": "markdown",
      "source": [
        "Whisper comes with five models, tiny, base, small, medium and large. The firts 4 modles have an english only version (with .en suffix). Below you can compare the results of other models. <br>\n",
        "\n",
        "The medium.en model does an acceptable job."
      ],
      "metadata": {
        "id": "ZZQHO_k7bBdI"
      }
    },
    {
      "cell_type": "code",
      "source": [
        "!whisper beatIt.mp3  --model medium.en"
      ],
      "metadata": {
        "colab": {
          "base_uri": "https://localhost:8080/"
        },
        "id": "H4uGXXPd_huP",
        "outputId": "b64bb483-4760-4e83-ea37-ada391cea204"
      },
      "execution_count": null,
      "outputs": [
        {
          "output_type": "stream",
          "name": "stdout",
          "text": [
            "/usr/local/lib/python3.7/dist-packages/whisper/transcribe.py:286: UserWarning: medium.en is an English-only model but receipted 'None'; using English instead.\n",
            "  warnings.warn(f\"{model_name} is an English-only model but receipted '{args['language']}'; using English instead.\")\n",
            "100%|██████████████████████████████████████| 1.42G/1.42G [00:12<00:00, 122MiB/s]\n",
            "tcmalloc: large alloc 1528012800 bytes == 0x5c52000 @  0x7f7261e131e7 0x4b2150 0x5ac2ec 0x5dc6af 0x58ee9b 0x5901a3 0x5e3f6b 0x4d18aa 0x51b31c 0x58f2a7 0x51740e 0x5b41c5 0x58f49e 0x51837f 0x58f2a7 0x51740e 0x5b41c5 0x604133 0x606e06 0x606ecc 0x609aa6 0x64d332 0x64d4de 0x7f7261a10c87 0x5b561a\n",
            "[00:00.000 --> 00:25.900]  MUSIC\n",
            "[00:30.000 --> 00:41.000]  They told them, don't you ever give a right, yeah\n",
            "[00:41.000 --> 00:44.000]  Don't wanna see your face, you better disappear\n",
            "[00:44.000 --> 00:48.000]  The fire's in their eyes and their words are really clear\n",
            "[00:48.000 --> 00:51.000]  So beat it, just beat it\n",
            "[00:51.000 --> 00:55.000]  You better run, you better do what you can\n",
            "[00:55.000 --> 00:58.000]  Don't wanna see no blood, don't be a macho man\n",
            "[00:58.000 --> 01:02.000]  You wanna be tough, better do what you can\n",
            "[01:02.000 --> 01:05.000]  So beat it, but you wanna be bad\n",
            "[01:05.000 --> 01:08.000]  Just beat it, beat it, beat it\n",
            "[01:08.000 --> 01:12.000]  Don't know what to beat, beat it\n",
            "[01:12.000 --> 01:16.000]  Showing how funky, strong is your fighter\n",
            "[01:16.000 --> 01:19.000]  It doesn't matter who's broke up right\n",
            "[01:19.000 --> 01:26.000]  Just beat it, beat it, beat it\n",
            "[01:26.000 --> 01:29.000]  Their eyes suggest you better leave while you can\n",
            "[01:29.000 --> 01:33.000]  Don't wanna be a boy, you wanna be a man\n",
            "[01:33.000 --> 01:36.000]  You wanna stay alive, better do what you can\n",
            "[01:36.000 --> 01:40.000]  So beat it, just beat it\n",
            "[01:40.000 --> 01:43.000]  You have to show them that you're really not scared\n",
            "[01:43.000 --> 01:47.000]  You're playing with your life, this ain't no truth, but yeah\n",
            "[01:47.000 --> 01:50.000]  They'll kick you, then they beat you, then they'll tell you it's fair\n",
            "[01:50.000 --> 01:53.000]  So beat it, but you wanna be bad\n",
            "[01:53.000 --> 01:57.000]  Just beat it, beat it, beat it\n",
            "[01:57.000 --> 02:00.000]  No one wants to beat it, beat it\n",
            "[02:00.000 --> 02:04.000]  Showing how funky, strong is your fighter\n",
            "[02:04.000 --> 02:07.000]  It doesn't matter who's broke up right\n",
            "[02:07.000 --> 02:11.000]  Just beat it, beat it, beat it\n",
            "[02:11.000 --> 02:14.000]  No one wants to beat it, beat it\n",
            "[02:14.000 --> 02:18.000]  Showing how funky, strong is your fighter\n",
            "[02:18.000 --> 02:21.000]  It doesn't matter who's broke up right\n",
            "[02:21.000 --> 02:24.880]  Just beat it, beat it, beat it, beat it, beat it\n",
            "[02:24.880 --> 02:34.880]  Breathe it, breathe it, breathe it, breathe it\n",
            "[03:16.880 --> 03:19.880]  Breathe it, breathe it, breathe it\n",
            "[03:19.880 --> 03:26.880]  No one wants to be defeated Shoot out for me, go and make the fight\n",
            "[03:26.880 --> 03:29.880]  It don't even matter who's strong, who's right\n",
            "[03:29.880 --> 03:31.880]  I justeno\n",
            "[03:31.880 --> 03:40.880]  No one wants to be defeated Shoot out for me, go and make the fight\n",
            "[03:40.880 --> 03:43.880]  It don't even matter who's strong, who's right\n"
          ]
        }
      ]
    },
    {
      "cell_type": "markdown",
      "source": [
        "The multilingual medium model is not that good, but remember, the models use randomness and running it again, you can get different results."
      ],
      "metadata": {
        "id": "ntvr-ICHcSGd"
      }
    },
    {
      "cell_type": "code",
      "source": [
        "!whisper beatIt.mp3 --language en --model medium"
      ],
      "metadata": {
        "colab": {
          "base_uri": "https://localhost:8080/"
        },
        "id": "7jzSA_rtMWXH",
        "outputId": "33596855-4201-4ef7-f8a1-59f250e7046a"
      },
      "execution_count": null,
      "outputs": [
        {
          "output_type": "stream",
          "name": "stdout",
          "text": [
            "tcmalloc: large alloc 1528012800 bytes == 0x678e000 @  0x7f8aba0f81e7 0x4b2150 0x5ac2ec 0x5dc6af 0x58ee9b 0x5901a3 0x5e3f6b 0x4d18aa 0x51b31c 0x58f2a7 0x51740e 0x5b41c5 0x58f49e 0x51837f 0x58f2a7 0x51740e 0x5b41c5 0x604133 0x606e06 0x606ecc 0x609aa6 0x64d332 0x64d4de 0x7f8ab9cf5c87 0x5b561a\n",
            "[00:00.000 --> 00:15.720]  There we go.\n",
            "[00:15.720 --> 00:27.900]  Go get some corn.\n",
            "[00:37.900 --> 00:40.900]  They told them don't you ever come around here\n",
            "[00:40.900 --> 00:43.900]  Don't wanna see your face, you better disappear\n",
            "[00:43.900 --> 00:47.900]  The fire's in their eyes and their words are really clear\n",
            "[00:47.900 --> 00:50.900]  So feed it, just feed it\n",
            "[00:50.900 --> 00:54.900]  You better run, you better do what you can\n",
            "[00:54.900 --> 00:57.900]  Don't wanna see no blood, don't be a macho man\n",
            "[00:57.900 --> 01:01.900]  You wanna be tough, better do what you can\n",
            "[01:01.900 --> 01:04.900]  So feed it, but you wanna be bad\n",
            "[01:04.900 --> 01:08.900]  Just feed it, feed it\n",
            "[01:08.900 --> 01:11.900]  No one wants to feed it, feed it\n",
            "[01:11.900 --> 01:15.900]  Sure, I'm fucking strong, it's just like that\n",
            "[01:15.900 --> 01:18.900]  It doesn't matter who spoke up right\n",
            "[01:18.900 --> 01:25.900]  Just feed it, feed it\n",
            "[01:25.900 --> 01:28.900]  They're right to get you, better leave while you can\n",
            "[01:28.900 --> 01:32.900]  Don't wanna be a boy, you wanna be a man\n",
            "[01:32.900 --> 01:35.900]  You wanna stay alive, better do what you can\n",
            "[01:35.900 --> 01:39.900]  So feed it, just feed it\n",
            "[01:39.900 --> 01:42.900]  You have to show them that you're really not scared\n",
            "[01:42.900 --> 01:46.900]  You're playing with your life, this ain't no truth, but yeah\n",
            "[01:46.900 --> 01:49.900]  They'll kick you, they'll beat you, they'll tell you it's fair\n",
            "[01:49.900 --> 01:52.900]  So feed it, but you wanna be bad\n",
            "[01:52.900 --> 01:56.900]  Just feed it, feed it\n",
            "[01:56.900 --> 01:59.900]  No one wants to feed it, feed it\n",
            "[01:59.900 --> 02:03.900]  Sure, I'm fucking strong, it's just like that\n",
            "[02:03.900 --> 02:06.900]  It doesn't matter who spoke up right\n",
            "[02:06.900 --> 02:10.900]  Just feed it, feed it\n",
            "[02:10.900 --> 02:13.900]  No one wants to feed it, feed it\n",
            "[02:13.900 --> 02:17.900]  Sure, I'm fucking strong, it's just like that\n",
            "[02:17.900 --> 02:20.900]  It doesn't matter who spoke up right\n",
            "[02:20.900 --> 02:23.900]  Just feed it, feed it\n",
            "[02:23.900 --> 02:30.900]  Feed it, feed it\n",
            "[02:30.900 --> 02:39.900]  Feed it, feed it\n",
            "[02:39.900 --> 02:47.900]  Feed it, feed it\n",
            "[03:16.900 --> 03:19.900]  Feed it, feed it\n",
            "[03:19.900 --> 03:22.900]  No one wants to feed it, feed it\n",
            "[03:22.900 --> 03:26.900]  Sure, I'm fucking strong, it's just like that\n",
            "[03:26.900 --> 03:29.900]  It doesn't matter who spoke up right\n",
            "[03:29.900 --> 03:32.900]  Just feed it, feed it\n",
            "[03:32.900 --> 03:36.900]  No one wants to feed it, feed it\n",
            "[03:36.900 --> 03:40.900]  Sure, I'm fucking strong, it's just like that\n",
            "[03:40.900 --> 03:43.900]  It doesn't matter who spoke up right\n",
            "[03:43.900 --> 03:47.900]  Just feed it, feed it\n",
            "[03:47.900 --> 03:50.900]  No one wants to feed it, feed it\n",
            "[03:50.900 --> 03:53.900]  Sure, I'm fucking strong, it's just like that\n",
            "[03:53.900 --> 03:57.900]  It doesn't matter who spoke up right\n",
            "[03:57.900 --> 04:00.900]  Just feed it, feed it\n",
            "[04:00.900 --> 04:03.900]  No one wants to feed it, feed it\n",
            "[04:03.900 --> 04:08.900]  Showin' how funky, strong is your fighter\n",
            "[04:08.900 --> 04:36.900]  Showin' how funky, strong is your fighter\n"
          ]
        }
      ]
    },
    {
      "cell_type": "markdown",
      "source": [
        "Both small and small.en can get a big part of it right! You see small does better here: \"macho man\" vs \"mantra man\" of [small.en](#scrollTo=8TmnlGkjIbef&line=1&uniqifier=1)"
      ],
      "metadata": {
        "id": "kcR2w7A0eFR2"
      }
    },
    {
      "cell_type": "code",
      "source": [
        "!whisper beatIt.mp3 --language en --model small"
      ],
      "metadata": {
        "colab": {
          "base_uri": "https://localhost:8080/"
        },
        "id": "MF5xZn3DCQoo",
        "outputId": "eff76eb3-70b0-4b9b-a44d-0e672d42cfb5"
      },
      "execution_count": null,
      "outputs": [
        {
          "output_type": "stream",
          "name": "stdout",
          "text": [
            "100%|████████████████████████████████████████| 461M/461M [00:03<00:00, 136MiB/s]\n",
            "[00:00.000 --> 00:02.560]  AL着实\n",
            "[00:02.560 --> 00:05.120]  I\n",
            "[00:05.120 --> 00:08.520]  I\n",
            "[00:08.520 --> 00:11.540]  I\n",
            "[00:11.540 --> 00:15.560]  I\n",
            "[00:15.560 --> 00:19.560]  I\n",
            "[00:19.560 --> 00:24.540]  I\n",
            "[00:38.140 --> 00:41.140]  They told him, don't you ever come around here\n",
            "[00:41.140 --> 00:44.640]  Don't wanna see your face, you better disappear\n",
            "[00:44.640 --> 00:47.840]  The fire's in their eyes, and their words are really clear\n",
            "[00:47.840 --> 00:51.940]  So feed it, just feed it\n",
            "[00:51.940 --> 00:54.940]  You better run, you better do what you can\n",
            "[00:54.940 --> 00:58.440]  Don't wanna see no blood, don't be a macho man\n",
            "[00:58.440 --> 01:01.440]  You wanna be tough, better do what you can\n",
            "[01:01.440 --> 01:04.940]  So feed it, but you wanna be bad\n",
            "[01:04.940 --> 01:08.440]  Just feed it, feed it\n",
            "[01:08.440 --> 01:11.940]  Because no one wants to feed it, feed it\n",
            "[01:11.940 --> 01:14.440]  Show off and I'm fucking strong\n",
            "[01:14.440 --> 01:17.440]  It's your fighter, it doesn't matter\n",
            "[01:17.440 --> 01:20.440]  Who's broke up right, just feed it\n",
            "[01:20.440 --> 01:22.440]  Just feed it, feed it\n",
            "[01:22.440 --> 01:24.440]  Just feed it, feed it\n",
            "[01:24.440 --> 01:26.440]  Just feed it, feed it\n",
            "[01:26.440 --> 01:29.440]  They're out to get you better, leave what you can\n",
            "[01:29.440 --> 01:32.440]  Don't wanna be a boy, you wanna be a man\n",
            "[01:32.440 --> 01:36.440]  You wanna stay alive, better do what you can\n",
            "[01:36.440 --> 01:39.440]  So feed it, just feed it\n",
            "[01:39.440 --> 01:43.440]  You have to show them that you're really not scared\n",
            "[01:43.440 --> 01:46.440]  You're playing with your life, this ain't no truth, but yeah\n",
            "[01:46.440 --> 01:48.440]  They'll kick you, then they beat you\n",
            "[01:48.440 --> 01:51.440]  They'll tell you it's fair, so feed it\n",
            "[01:51.440 --> 01:54.440]  But you wanna be bad, just feed it\n",
            "[01:54.440 --> 01:56.440]  Feed it, feed it\n",
            "[01:56.440 --> 02:00.440]  Because no one wants to feed it, feed it\n",
            "[02:00.440 --> 02:02.440]  Show off and I'm fucking strong\n",
            "[02:02.440 --> 02:05.440]  It's your fighter, it doesn't matter\n",
            "[02:05.440 --> 02:08.440]  Who's broke up right, just feed it\n",
            "[02:08.440 --> 02:10.440]  Feed it, feed it\n",
            "[02:10.440 --> 02:14.440]  Because no one wants to feed it, feed it\n",
            "[02:14.440 --> 02:16.440]  Show off and I'm fucking strong\n",
            "[02:16.440 --> 02:19.440]  It's your fighter, it doesn't matter\n",
            "[02:19.440 --> 02:22.440]  Who's broke up right, just feed it\n",
            "[02:22.440 --> 02:24.440]  Feed it, feed it\n",
            "[02:24.440 --> 02:26.440]  Feed it, feed it\n",
            "[02:31.440 --> 02:33.440]  Feed it, feed it\n",
            "[02:33.440 --> 02:47.440]  Feed it, feed it\n",
            "[03:16.440 --> 03:19.440]  Feed it, feed it\n",
            "[03:19.440 --> 03:22.440]  Because no one wants to feed it, feed it\n",
            "[03:22.440 --> 03:25.440]  Show off and I'm fucking strong\n",
            "[03:25.440 --> 03:28.440]  It's your fighter, it doesn't matter\n",
            "[03:28.440 --> 03:31.440]  Who's broke up right, just feed it\n",
            "[03:31.440 --> 03:33.440]  Feed it, feed it\n",
            "[03:33.440 --> 03:36.440]  Because no one wants to feed it, feed it\n",
            "[03:36.440 --> 03:39.440]  Show off and I'm fucking strong\n",
            "[03:39.440 --> 03:42.440]  It's your fighter, it doesn't matter\n",
            "[03:42.440 --> 03:46.440]  Who's broke up right, just feed it\n",
            "[03:46.440 --> 03:48.440]  Feed it, feed it\n",
            "[03:48.440 --> 03:50.440]  Because no one wants to feed it, feed it\n",
            "[03:50.440 --> 03:53.440]  Show off and I'mID\n",
            "[03:53.440 --> 03:56.440]  Because no one wants to feed it, feed it\n",
            "[03:56.440 --> 03:58.440]  Show off and I'm fucking strong\n",
            "[03:58.440 --> 04:01.840]  Speed it up, speed it up\n",
            "[04:01.840 --> 04:04.840]  No one wants to be the be the be\n",
            "[04:04.840 --> 04:08.840]  Show them how funny, how strong you can fight them\n",
            "[04:08.840 --> 04:34.840]  It doesn't matter who's stronger when you're fighting them\n"
          ]
        }
      ]
    },
    {
      "cell_type": "code",
      "source": [
        "!whisper beatIt.mp3 --model small.en"
      ],
      "metadata": {
        "colab": {
          "base_uri": "https://localhost:8080/"
        },
        "id": "8TmnlGkjIbef",
        "outputId": "aa479aed-16b7-4ed7-87d4-8367e5b714cf"
      },
      "execution_count": null,
      "outputs": [
        {
          "output_type": "stream",
          "name": "stdout",
          "text": [
            "/usr/local/lib/python3.7/dist-packages/whisper/transcribe.py:286: UserWarning: small.en is an English-only model but receipted 'None'; using English instead.\n",
            "  warnings.warn(f\"{model_name} is an English-only model but receipted '{args['language']}'; using English instead.\")\n",
            "100%|████████████████████████████████████████| 461M/461M [00:03<00:00, 135MiB/s]\n",
            "[00:00.000 --> 00:05.500]  YET\n",
            "[00:05.500 --> 00:10.820]  YET\n",
            "[00:10.820 --> 00:15.840]  YET\n",
            "[00:15.840 --> 00:19.880]  YET\n",
            "[00:19.880 --> 00:25.280]  YET\n",
            "[00:38.280 --> 00:41.280]  They told him, don't you ever come around here\n",
            "[00:41.280 --> 00:44.280]  Don't wanna see your face, you better disappear\n",
            "[00:44.280 --> 00:48.280]  The fire's in their eyes and their words are really clear\n",
            "[00:48.280 --> 00:51.280]  So beat it, just beat it\n",
            "[00:51.280 --> 00:54.280]  You better run, you better do what you can\n",
            "[00:54.280 --> 00:57.280]  Don't wanna see no blood, don't be a mantra man\n",
            "[00:57.280 --> 01:01.280]  You wanna be tough, better do what you can\n",
            "[01:01.280 --> 01:04.280]  So beat it, but you wanna be fair\n",
            "[01:04.280 --> 01:08.280]  Just beat it, beat it\n",
            "[01:08.280 --> 01:11.280]  No one wants to beat it, beat it\n",
            "[01:11.280 --> 01:15.280]  Show up and I'm fucking strong as your fighter\n",
            "[01:15.280 --> 01:18.280]  It doesn't matter who's woke up right\n",
            "[01:18.280 --> 01:20.280]  Just beat it, beat it\n",
            "[01:20.280 --> 01:22.280]  Just beat it, beat it\n",
            "[01:22.280 --> 01:24.280]  Just beat it, beat it\n",
            "[01:24.280 --> 01:26.280]  Just beat it, beat it\n",
            "[01:26.280 --> 01:29.280]  Their eyes are dead, you better leave while you can\n",
            "[01:29.280 --> 01:32.280]  Don't wanna be a boy, you wanna be a man\n",
            "[01:32.280 --> 01:36.280]  You wanna stay alive, better do what you can\n",
            "[01:36.280 --> 01:39.280]  So beat it, just beat it\n",
            "[01:39.280 --> 01:43.280]  You have to show them that you're really not scared\n",
            "[01:43.280 --> 01:46.280]  You're playing with your life, this ain't no truth, but yeah\n",
            "[01:46.280 --> 01:48.280]  They'll kick you, then they beat you\n",
            "[01:48.280 --> 01:51.280]  They'll tell you it's fair, so beat it\n",
            "[01:51.280 --> 01:53.280]  But you wanna be fair\n",
            "[01:53.280 --> 01:56.280]  Just beat it, beat it\n",
            "[01:56.280 --> 01:59.280]  No one wants to beat it, beat it\n",
            "[01:59.280 --> 02:03.280]  Show up and I'm fucking strong as your fighter\n",
            "[02:03.280 --> 02:07.280]  It doesn't matter who's woke up right\n",
            "[02:07.280 --> 02:10.280]  Just beat it, beat it\n",
            "[02:10.280 --> 02:13.280]  No one wants to beat it, beat it\n",
            "[02:13.280 --> 02:17.280]  Show up and I'm fucking strong as your fighter\n",
            "[02:17.280 --> 02:21.280]  It doesn't matter who's woke up right\n",
            "[02:21.280 --> 02:23.280]  Just beat it, beat it\n",
            "[02:23.280 --> 02:25.280]  Beat it, beat it\n",
            "[02:31.280 --> 02:33.280]  Beat it, beat it\n",
            "[02:33.280 --> 02:49.280]  Beat it, beat it\n",
            "[03:17.280 --> 03:20.280]  Beat it, beat it\n",
            "[03:20.280 --> 03:23.280]  No one wants to beat it, beat it\n",
            "[03:23.280 --> 03:27.280]  Show up and I'm fucking strong as your fighter\n",
            "[03:27.280 --> 03:30.280]  It doesn't matter who's woke up right\n",
            "[03:30.280 --> 03:34.280]  Just beat it, beat it\n",
            "[03:34.280 --> 03:38.280]  No one wants to beat it, beat it\n",
            "[03:38.280 --> 03:41.280]  Show up and I'm fucking strong as your fighter\n",
            "[03:41.280 --> 03:44.280]  It doesn't matter who's woke up right\n",
            "[03:44.280 --> 03:47.280]  Just beat it, beat it, beat it\n",
            "[03:47.280 --> 03:50.280]  No one wants to beat it, beat it\n",
            "[03:50.280 --> 03:52.280]  No one wants to beat it, beat it\n",
            "[03:52.280 --> 03:55.280]  Show up and I'm fighting strong as your fighter\n",
            "[03:55.280 --> 03:59.280]  I don't wanna be so bad if I just beat it\n",
            "[03:59.280 --> 04:01.280]  Beat it, beat it\n",
            "[04:01.280 --> 04:02.280]  Beat it, beat it\n",
            "[04:02.280 --> 04:04.280]  No one wants to beat it, beat it\n",
            "[04:05.280 --> 04:07.280]  Show it how funny and strong\n",
            "[04:07.280 --> 04:09.280]  You just find the end of it\n",
            "[04:09.280 --> 04:27.280]  Beat it, beat it, beat it\n"
          ]
        }
      ]
    },
    {
      "cell_type": "markdown",
      "source": [
        "Both base and base.en models have some real difficulty. base sometimes writes \"feel it\" instead of \"beat it\".   \n",
        "\n",
        "[base.en](#scrollTo=DzMC2cKEZJox&line=1&uniqifier=1) looks more consistent: always \"feed it\" instead of \"beat it\". "
      ],
      "metadata": {
        "id": "c-HzhYnIgJLn"
      }
    },
    {
      "cell_type": "code",
      "source": [
        "!whisper beatIt.mp3 --language en --model base"
      ],
      "metadata": {
        "colab": {
          "base_uri": "https://localhost:8080/"
        },
        "id": "NSvUmvIdZlYU",
        "outputId": "8de945b1-de00-4c1b-92c7-73e8430c1fc6"
      },
      "execution_count": null,
      "outputs": [
        {
          "output_type": "stream",
          "name": "stdout",
          "text": [
            "100%|████████████████████████████████████████| 139M/139M [00:01<00:00, 129MiB/s]\n",
            "[00:00.000 --> 00:12.000]  Music\n",
            "[00:38.200 --> 00:41.200]  They told them don't you ever cover up here\n",
            "[00:41.200 --> 00:44.400]  Don't wanna see if it makes you better disappear\n",
            "[00:44.400 --> 00:47.800]  The fire's in their eyes and their words are really clear\n",
            "[00:47.800 --> 00:51.000]  So beat it, just beat it\n",
            "[00:52.000 --> 00:55.000]  You better run, you better do what you can\n",
            "[00:55.000 --> 00:58.000]  Don't wanna see no blood, don't be a mature man\n",
            "[00:58.000 --> 01:02.000]  You wanna be tough, better do what you can\n",
            "[01:02.000 --> 01:07.000]  So beat it, but you wanna be bad, just beat it\n",
            "[01:07.000 --> 01:12.000]  Beat it, I know I want to beat it, beat it\n",
            "[01:12.000 --> 01:16.000]  Show up and I'll fucking throw this job like that\n",
            "[01:16.000 --> 01:20.000]  It doesn't matter who's the fuck up right, just beat it\n",
            "[01:20.000 --> 01:24.000]  Just beat it, just beat it, beat it\n",
            "[01:24.000 --> 01:26.000]  Just beat it, beat it, go\n",
            "[01:26.000 --> 01:29.000]  There's a good, you better leave what you can\n",
            "[01:29.000 --> 01:32.000]  Don't wanna be a boy, you wanna be a man\n",
            "[01:32.000 --> 01:36.000]  You wanna stay alive, better do what you can\n",
            "[01:36.000 --> 01:39.000]  So beat it, just beat it\n",
            "[01:39.000 --> 01:43.000]  You have to show them that you're really not scared\n",
            "[01:43.000 --> 01:46.000]  You're playing with your life to say no truth, but yeah\n",
            "[01:46.000 --> 01:50.000]  They'll kick you, they beat you, they'll tell you it's fair\n",
            "[01:50.000 --> 01:55.000]  So beat it, but you wanna be bad, just beat it\n",
            "[01:55.000 --> 01:58.000]  Beat it, beat it, beat it, go\n",
            "[01:58.000 --> 02:00.000]  There's a bad, you better leave what you can\n",
            "[02:00.000 --> 02:03.000]  So beat it, but you wanna be bad, just beat it\n",
            "[02:03.000 --> 02:04.000]  Show up and I'll fucking throw this job like that\n",
            "[02:04.000 --> 02:08.000]  It doesn't matter who's the fuck up right, just beat it\n",
            "[02:08.000 --> 02:10.000]  Beat it, beat it, beat it\n",
            "[02:10.000 --> 02:18.000]  Show up and I'll fucking throw this job like that\n",
            "[02:18.000 --> 02:22.000]  It doesn't matter who's the fuck up right, just beat it\n",
            "[03:22.000 --> 03:23.000]  Feel it\n",
            "[03:23.600 --> 03:26.000]  Joke, I'm funny, but drunk\n",
            "[03:26.000 --> 03:29.000]  It's just like a end of the matter\n",
            "[03:29.000 --> 03:31.000]  We're small, don't fight us just\n",
            "[03:31.000 --> 03:32.000]  Feel it\n",
            "[03:32.000 --> 03:33.000]  Feel it\n",
            "[03:33.000 --> 03:34.000]  Feel it\n",
            "[03:34.000 --> 03:36.000]  No, I'm not with the feeling\n",
            "[03:36.000 --> 03:37.000]  Feel it\n",
            "[03:37.000 --> 03:38.000]  No, I'm not\n",
            "[03:38.000 --> 03:40.000]  Joke, I'm not with the feeling\n",
            "[03:40.000 --> 03:41.000]  Joke, I'm not\n",
            "[03:41.000 --> 03:42.000]  Feel it\n",
            "[03:42.000 --> 03:43.000]  No, I'm not\n",
            "[03:43.000 --> 03:44.000]  We're small, I'm not\n",
            "[03:44.000 --> 03:46.000]  Just feel it\n",
            "[03:46.000 --> 03:47.000]  Feel it\n",
            "[03:47.000 --> 03:48.000]  Feel it\n",
            "[03:48.000 --> 03:50.000]  No, I'm not with the feeling\n",
            "[03:50.000 --> 03:51.000]  Feel it\n",
            "[03:51.000 --> 03:52.000]  Joke\n",
            "[03:52.000 --> 03:53.000]  I'm not fighting\n",
            "[03:53.000 --> 03:57.000]  It's just like a end of the matter\n",
            "[03:57.000 --> 03:58.000]  We're small, can we fight\n",
            "[03:58.000 --> 03:59.000]  Just feel it\n",
            "[03:59.000 --> 04:01.000]  Feel it\n",
            "[04:01.000 --> 04:02.000]  Feel it\n",
            "[04:02.000 --> 04:04.000]  No, I'm not with the feeling\n",
            "[04:04.000 --> 04:05.000]  Feel it\n",
            "[04:05.000 --> 04:06.000]  Joke\n",
            "[04:06.000 --> 04:07.000]  I'm not fighting\n",
            "[04:07.000 --> 04:10.000]  It's just like a end of the matter\n",
            "[04:10.000 --> 04:11.000]  We're small\n",
            "[04:11.000 --> 04:12.000]  I'm not with the feeling\n"
          ]
        }
      ]
    },
    {
      "cell_type": "code",
      "source": [
        "!whisper beatIt.mp3 --model base.en"
      ],
      "metadata": {
        "colab": {
          "base_uri": "https://localhost:8080/"
        },
        "id": "DzMC2cKEZJox",
        "outputId": "4404f688-f8d3-4828-c65c-68b19b0abea2"
      },
      "execution_count": null,
      "outputs": [
        {
          "output_type": "stream",
          "name": "stdout",
          "text": [
            "/usr/local/lib/python3.7/dist-packages/whisper/transcribe.py:286: UserWarning: base.en is an English-only model but receipted 'None'; using English instead.\n",
            "  warnings.warn(f\"{model_name} is an English-only model but receipted '{args['language']}'; using English instead.\")\n",
            "100%|████████████████████████████████████████| 139M/139M [00:01<00:00, 142MiB/s]\n",
            "[00:00.000 --> 00:16.240]  Music\n",
            "[00:16.240 --> 00:24.240]  Music\n",
            "[00:38.240 --> 00:41.240]  They don't, don't you ever cover up here\n",
            "[00:41.240 --> 00:44.240]  Don't wanna see a face you better disappear\n",
            "[00:44.240 --> 00:46.240]  The fires in their eyes\n",
            "[00:46.240 --> 00:48.240]  And their words are really clear\n",
            "[00:48.240 --> 00:51.240]  So feed it, just feed it\n",
            "[00:51.240 --> 00:54.240]  You better run, you better do what you can\n",
            "[00:54.240 --> 00:57.240]  Don't wanna see no blood, don't be a man\n",
            "[00:57.240 --> 01:01.240]  You wanna be tough, better do what you can\n",
            "[01:01.240 --> 01:06.240]  So feed it, but you wanna be bad, just feed it\n",
            "[01:06.240 --> 01:10.240]  Feed it, feed it, feed it, feed it\n",
            "[01:10.240 --> 01:12.240]  It's all I want to feed, just feed it\n",
            "[01:12.240 --> 01:15.240]  So open up my body, control this job\n",
            "[01:15.240 --> 01:20.240]  It doesn't matter who's broke up right, just feed it\n",
            "[01:20.240 --> 01:23.240]  Feed it, just feed it, feed it\n",
            "[01:23.240 --> 01:26.240]  Feed it, feed it, feed it, feed it\n",
            "[01:26.240 --> 01:29.240]  There I suggest you better leave while you can\n",
            "[01:29.240 --> 01:32.240]  Don't wanna be a boy, you wanna be a man\n",
            "[01:32.240 --> 01:36.240]  You wanna stay alive, better do what you can\n",
            "[01:36.240 --> 01:39.240]  So feed it, just feed it\n",
            "[01:39.240 --> 01:43.240]  You have to show them that you're really not scared\n",
            "[01:43.240 --> 01:46.240]  You play with your life, you say no truth, but yeah\n",
            "[01:46.240 --> 01:50.240]  They'll get you, they beat you, they'll tell you it's fair\n",
            "[01:50.240 --> 01:54.240]  So feed it, but you wanna be bad, just feed it\n",
            "[01:54.240 --> 01:57.240]  Feed it, feed it, feed it, feed it\n",
            "[01:57.240 --> 02:03.240]  So open up my body, control this job\n",
            "[02:03.240 --> 02:08.240]  It doesn't matter who's broke up right, just feed it\n",
            "[02:08.240 --> 02:11.240]  Feed it, feed it, feed it, feed it\n",
            "[02:11.240 --> 02:17.240]  So open up my body, control this job\n",
            "[02:17.240 --> 02:23.240]  It doesn't matter who's broke up right, just feed it, feed it\n",
            "[02:23.240 --> 02:26.240]  Feed it, feed it, feed it, feed it\n",
            "[02:26.240 --> 02:36.240]  Feed it, feed it, feed it, feed it, feed it\n",
            "[03:17.240 --> 03:23.240]  Feed it, feed it, feed it, feed it\n",
            "[03:23.240 --> 03:26.240]  So open up my body, control this job\n",
            "[03:26.240 --> 03:31.240]  It doesn't matter who's broke up right, just feed it\n",
            "[03:31.240 --> 03:34.240]  Feed it, feed it, feed it, feed it\n",
            "[03:34.240 --> 03:38.240]  It doesn't matter who's broke up right, just feed it\n",
            "[03:38.240 --> 03:42.240]  Feed it, feed it, feed it, feed it\n",
            "[03:42.240 --> 03:48.240]  Feed it, feed it, feed it, feed it\n",
            "[03:48.240 --> 03:54.240]  So open up my body, control this job\n",
            "[03:54.240 --> 04:00.240]  It doesn't matter who's broke up right, just feed it\n",
            "[04:00.240 --> 04:05.240]  Feed it, feed it, feed it, feed it\n",
            "[04:05.240 --> 04:08.240]  So open up my body, control this job\n",
            "[04:08.240 --> 04:20.240]  It doesn't matter who's broke up right, just feed it\n"
          ]
        }
      ]
    },
    {
      "cell_type": "markdown",
      "source": [
        "And finally, the tiny.en does better than [tiny](#scrollTo=rVQ-Op3O3acn&line=1&uniqifier=1)."
      ],
      "metadata": {
        "id": "9MyCAfcMbKil"
      }
    },
    {
      "cell_type": "code",
      "source": [
        "!whisper beatIt.mp3 --model tiny.en"
      ],
      "metadata": {
        "colab": {
          "base_uri": "https://localhost:8080/"
        },
        "id": "Lro7LFtzCFkT",
        "outputId": "47e8f45a-eae5-4795-aee6-e838bb34f750"
      },
      "execution_count": null,
      "outputs": [
        {
          "output_type": "stream",
          "name": "stdout",
          "text": [
            "/usr/local/lib/python3.7/dist-packages/whisper/transcribe.py:286: UserWarning: tiny.en is an English-only model but receipted 'None'; using English instead.\n",
            "  warnings.warn(f\"{model_name} is an English-only model but receipted '{args['language']}'; using English instead.\")\n",
            "100%|██████████████████████████████████████| 72.1M/72.1M [00:00<00:00, 128MiB/s]\n",
            "[00:00.000 --> 00:20.000]  I got this...\n",
            "[00:20.000 --> 00:41.280]  They don't don't you ever come around here\n",
            "[00:41.280 --> 00:44.480]  Don't want to see if they should ever disappear\n",
            "[00:44.480 --> 00:47.880]  The fire's in their eyes and their hearts aren't really clear\n",
            "[00:47.880 --> 00:50.880]  So feed it, just feed it\n",
            "[00:51.880 --> 00:54.880]  You better run your better, do it, you can't\n",
            "[00:54.880 --> 00:57.880]  Don't want to see no good, don't be a macho man\n",
            "[00:57.880 --> 01:01.880]  You wanna be tough, better do it, you can't\n",
            "[01:01.880 --> 01:06.880]  So feed it, but you wanna be bad, just feed it\n",
            "[01:06.880 --> 01:10.880]  Be better, be better, don't want to feed it\n",
            "[01:10.880 --> 01:12.880]  Be better, be better, don't want to feed it\n",
            "[01:12.880 --> 01:25.880]  Don't want to be tough, but you can't\n",
            "[01:25.880 --> 01:28.880]  Don't want to be tough, but you can't\n",
            "[01:28.880 --> 01:32.880]  Don't want to be tough, but you can't\n",
            "[01:32.880 --> 01:35.880]  You wanna stay alive, better do what you can't\n",
            "[01:35.880 --> 01:39.880]  So feed it, just feed it\n",
            "[01:39.880 --> 01:42.880]  You have to show that you're really not scared\n",
            "[01:42.880 --> 01:45.880]  Your plan, you'd like to say no true, but yeah\n",
            "[01:45.880 --> 01:47.880]  Now get you and they beat you\n",
            "[01:47.880 --> 01:50.880]  Now tell you it's fair, so feed it, stop\n",
            "[01:50.880 --> 01:54.880]  But you wanna be bad, just feed it\n",
            "[01:54.880 --> 01:58.880]  Be better, be better, don't want to be big\n",
            "[01:58.880 --> 02:02.880]  Don't want to be tough, but you can't\n",
            "[02:02.880 --> 02:04.880]  Don't want to be tough, but you can't\n",
            "[02:04.880 --> 02:06.880]  Don't want to be tough, but you can't\n",
            "[02:06.880 --> 02:10.880]  Don't want to be tough, but you can't\n",
            "[02:10.880 --> 02:22.880]  Don't want to be tough, but you can't\n",
            "[02:22.880 --> 02:25.880]  Don't want to be tough, but you can't\n",
            "[02:25.880 --> 02:30.880]  You can't not know what that's about\n",
            "[02:30.880 --> 02:34.880]  You don't want to be tough, but you can't\n",
            "[04:04.880 --> 04:09.880]  Show how my people can get by the end of the battle\n",
            "[04:09.880 --> 04:18.880]  And that's all my people love me.\n"
          ]
        }
      ]
    },
    {
      "cell_type": "code",
      "source": [
        "!whisper beatIt.mp3 --language en --model tiny"
      ],
      "metadata": {
        "colab": {
          "base_uri": "https://localhost:8080/"
        },
        "id": "rVQ-Op3O3acn",
        "outputId": "cd9c2a17-c848-4337-a4ec-3aab049986c7"
      },
      "execution_count": null,
      "outputs": [
        {
          "output_type": "stream",
          "name": "stdout",
          "text": [
            "[00:00.000 --> 00:02.000]  Oh\n",
            "[00:38.000 --> 00:41.000]  They told them don't you ever cover up him\n",
            "[00:41.000 --> 00:44.000]  Don't wanna see if they should better disappear\n",
            "[00:44.000 --> 00:46.000]  The fire's in their eyes\n",
            "[00:46.000 --> 00:48.000]  And their words are really clear\n",
            "[00:48.000 --> 00:49.000]  So feed it\n",
            "[00:49.000 --> 00:51.000]  Just feed it\n",
            "[00:52.000 --> 00:54.000]  You better run, you better do it\n",
            "[00:54.000 --> 00:55.000]  You can't\n",
            "[00:55.000 --> 00:58.000]  Don't wanna see no blood, don't be a match or man\n",
            "[00:58.000 --> 01:00.000]  You wanna be tough\n",
            "[01:00.000 --> 01:01.000]  Better do it\n",
            "[01:01.000 --> 01:03.000]  You can't so feed it\n",
            "[01:03.000 --> 01:05.000]  But you wanna be bad\n",
            "[01:05.000 --> 01:07.000]  Just feed it\n",
            "[01:07.000 --> 01:08.000]  Be it\n",
            "[01:08.000 --> 01:11.000]  Don't wanna see\n",
            "[01:12.000 --> 01:13.000]  Show it up\n",
            "[01:13.000 --> 01:14.000]  Fuck it\n",
            "[01:14.000 --> 01:15.000]  Throw it just\n",
            "[01:15.000 --> 01:16.000]  Fight it\n",
            "[01:16.000 --> 01:17.000]  It doesn't matter\n",
            "[01:17.000 --> 01:18.000]  Who's so dumb\n",
            "[01:18.000 --> 01:19.000]  Fight\n",
            "[01:19.000 --> 01:20.000]  Just feed it\n",
            "[01:20.000 --> 01:22.000]  Just feed it\n",
            "[01:22.000 --> 01:23.000]  Just feed it\n",
            "[01:23.000 --> 01:24.000]  Just feed it\n",
            "[01:24.000 --> 01:25.000]  Just feed it\n",
            "[01:25.000 --> 01:27.000]  You better run\n",
            "[01:27.000 --> 01:28.000]  Don't wanna see\n",
            "[01:28.000 --> 01:29.000]  You better do it\n",
            "[01:29.000 --> 01:30.000]  You can't\n",
            "[01:30.000 --> 01:31.000]  Don't wanna be a boy\n",
            "[01:31.000 --> 01:33.000]  You wanna be a man\n",
            "[01:33.000 --> 01:35.000]  You wanna stay alive\n",
            "[01:35.000 --> 01:36.000]  Better do it\n",
            "[01:36.000 --> 01:38.000]  Can't so feed it\n",
            "[01:38.000 --> 01:40.000]  Just feed it\n",
            "[01:40.000 --> 01:41.000]  You have the show\n",
            "[01:41.000 --> 01:43.000]  Don't let your really match\n",
            "[01:43.000 --> 01:44.000]  Get your plan\n",
            "[01:44.000 --> 01:45.000]  Don't you like the same\n",
            "[01:45.000 --> 01:46.000]  Don't you but yeah\n",
            "[01:46.000 --> 01:48.000]  Don't get you\n",
            "[01:48.000 --> 01:49.000]  And they beat you\n",
            "[01:49.000 --> 01:50.000]  Don't tell you it's a fair\n",
            "[01:50.000 --> 01:51.000]  So feed it\n",
            "[01:51.000 --> 01:52.000]  Don't\n",
            "[01:52.000 --> 01:54.000]  Don't wanna be bad\n",
            "[01:54.000 --> 01:56.000]  Just feed it\n",
            "[01:56.000 --> 01:57.000]  You have the show\n",
            "[01:57.000 --> 01:59.000]  Or what's the pain\n",
            "[01:59.000 --> 02:00.000]  Be it\n",
            "[02:00.000 --> 02:02.000]  Show it up\n",
            "[02:02.000 --> 02:03.000]  Fuck it\n",
            "[02:03.000 --> 02:07.040]  Throw it\n",
            "[02:07.040 --> 02:08.000]  Just feed it\n",
            "[02:08.000 --> 02:10.000]  Be it\n",
            "[02:10.000 --> 02:11.000]  You have the show\n",
            "[02:11.000 --> 02:13.000]  Or what's the pain\n",
            "[02:13.000 --> 02:14.000]  Be it\n",
            "[02:14.000 --> 02:15.000]  Show it up\n",
            "[02:15.000 --> 02:16.000]  Fuck it\n",
            "[02:16.000 --> 02:17.000]  Don't\n",
            "[02:17.000 --> 02:17.020]  Jump\n",
            "[02:17.000 --> 02:18.000]  Fight it\n",
            "[02:18.000 --> 02:19.000]  It doesn't matter\n",
            "[02:19.000 --> 02:20.000]  Who's so dumb\n",
            "[02:20.000 --> 02:20.000]  Fight\n",
            "[02:20.000 --> 02:21.400]  Don't\n",
            "[02:21.400 --> 02:23.000]  Just feed it\n",
            "[02:23.000 --> 02:24.000]  Be it\n",
            "[02:24.000 --> 02:31.000]  Baby, baby, baby\n",
            "[02:31.000 --> 02:53.000]  Baby, baby, baby, baby\n",
            "[03:17.000 --> 03:23.000]  Baby, baby, baby\n",
            "[03:23.000 --> 03:31.000]  I can't understand again\n",
            "[03:31.000 --> 03:37.000]  Baby, baby\n",
            "[03:37.000 --> 03:39.000]  Baby, baby\n",
            "[03:39.000 --> 03:42.000]  Baby, baby\n",
            "[03:42.000 --> 03:47.000]  Baby, baby, baby\n",
            "[03:47.000 --> 03:49.000]  Baby, baby\n",
            "[03:49.000 --> 03:52.000]  Baby, Baby, baby\n"
          ]
        }
      ]
    }
  ]
}