{
  "cells": [
    {
      "cell_type": "markdown",
      "metadata": {
        "id": "view-in-github",
        "colab_type": "text"
      },
      "source": [
        "<a href=\"https://colab.research.google.com/github/Majdoddin/nlp/blob/develop/Pyannote_plays_and_Whisper_rhymes_v_2_0.ipynb\" target=\"_parent\"><img src=\"https://colab.research.google.com/assets/colab-badge.svg\" alt=\"Open In Colab\"/></a>"
      ]
    },
    {
      "cell_type": "markdown",
      "source": [
        "# Whisper's transcription plus Pyannote's Diarization \n",
        "\n",
        "Andrej Karpathy [suggested](https://twitter.com/karpathy/status/1574476200801538048?s=20&t=s5IMMXOYjBI6-91dib6w8g) training a classifier on top of  OpenAI [Whisper](https://openai.com/blog/whisper/) model features to identify the speaker, so we can visualize the speaker in the transcript. But, as [pointed out](https://twitter.com/tarantulae/status/1574493613362388992?s=20&t=s5IMMXOYjBI6-91dib6w8g) by Christian Perone, it seems that features from whisper wouldn't be that great for speaker recognition as its main objective is basically to ignore speaker differences.\n",
        "\n",
        "In the following, I use [**`pyannote-audio`**](https://github.com/pyannote/pyannote-audio), a speaker diarization toolkit by Hervé Bredin, to identify the speakers, and then match it with the transcriptions of Whispr. I try it on a part of an [interview](https://youtu.be/NSp2fEQ6wyA) with Freeman Dyson. Check the result [**here**](https://majdoddin.github.io/dyson.html).\n",
        "\n",
        "To make it easier to match the transcriptions to diarizations by speaker change, Sarah Kaiser [suggested](https://github.com/openai/whisper/discussions/264#discussioncomment-3825375) runnnig the pyannote.audio first and  then just running whisper on the split-by-speaker chunks. \n",
        "For sake of performance (and transcription quality?), we attach the audio segements into a single audio file with a silent spacer as a seperator, and run whisper on it. Enjoy it!\n",
        "\n",
        "(For sake of performance , I also tried attaching the audio segements into a single audio file with a silent -or beep- spacer as a seperator, and run whisper on it see it on [colab](https://colab.research.google.com/drive/1HuvcY4tkTHPDzcwyVH77LCh_m8tP-Qet?usp=sharing). It [works](https://majdoddin.github.io/lexicap.html) on some audio, and fails on some (Dyson's Interview). The problem is, whisper does not reliably make a timestap on a spacer. See the discussions [#139](https://github.com/openai/whisper/discussions/139) and [#29](https://github.com/openai/whisper/discussions/29))"
      ],
      "metadata": {
        "id": "RQyROdrfsvk4"
      }
    },
    {
      "cell_type": "markdown",
      "source": [
        "# Preparing the audio file"
      ],
      "metadata": {
        "id": "wtljXaTXnowa"
      }
    },
    {
      "cell_type": "markdown",
      "source": [
        "**Optional:** Mount Google Drive\n",
        "\n"
      ],
      "metadata": {
        "id": "bUA_4lnNgpSW"
      }
    },
    {
      "cell_type": "code",
      "source": [
        "from google.colab import drive\n",
        "from pathlib import Path\n",
        "\n",
        "drive_mount_path = Path(\"/content/drive\")\n",
        "drive.mount(str(drive_mount_path))\n",
        "drive_mount_path /= \"MyDrive\""
      ],
      "metadata": {
        "id": "B3tqC8m8fyCJ",
        "outputId": "0853a36e-f426-4121-c89c-ea15a2497d0c",
        "colab": {
          "base_uri": "https://localhost:8080/"
        }
      },
      "execution_count": 1,
      "outputs": [
        {
          "output_type": "stream",
          "name": "stdout",
          "text": [
            "Mounted at /content/drive\n"
          ]
        }
      ]
    },
    {
      "cell_type": "code",
      "source": [
        "#@markdown Enter the URL of the YouTube video, or the path to the video/audio file you want to transcribe, give the output path, and run the cell. HTML file is generated only for YouTube videos\n",
        "\n",
        "Source = 'Youtube' #@param ['Youtube', 'File (Google Drive)']\n",
        "#@markdown ---\n",
        "#@markdown #### **Youtube video**\n",
        "video_url = \"https://youtu.be/NSp2fEQ6wyA\" #@param {type:\"string\"}\n",
        "#store_audio = True #@param {type:\"boolean\"}\n",
        "#@markdown ---\n",
        "#@markdown #### **Google Drive video or audio (mp4, wav)**\n",
        "video_path = \"/content/drive/MyDrive/Colab Notebooks/PyannoteWhisper/dyson.mp4.webm\" #@param {type:\"string\"}\n",
        "#@markdown ---\n",
        "output_path = \"/content/drive/MyDrive/Colab Notebooks/PyannoteWhisper/\" #@param {type:\"string\"}\n",
        "output_path = str(Path(output_path))\n",
        "#@markdown ---\n",
        "#@markdown **Run this cell again if you change the video.**\n"
      ],
      "metadata": {
        "id": "1zqnZsBacKph"
      },
      "execution_count": 2,
      "outputs": []
    },
    {
      "cell_type": "code",
      "source": [
        "Path(output_path).mkdir(parents=True, exist_ok=True)\n",
        "%cd {output_path}\n",
        "video_title = \"\"\n",
        "video_id = \"\""
      ],
      "metadata": {
        "colab": {
          "base_uri": "https://localhost:8080/"
        },
        "id": "6vgK82ahXNje",
        "outputId": "0de95d04-d0f8-4f83-beeb-cd02785f9604"
      },
      "execution_count": 3,
      "outputs": [
        {
          "output_type": "stream",
          "name": "stdout",
          "text": [
            "/content/drive/MyDrive/Colab Notebooks/PyannoteWhisper\n"
          ]
        }
      ]
    },
    {
      "cell_type": "markdown",
      "source": [
        "## From YouTube"
      ],
      "metadata": {
        "id": "o-a6pLioVHjl"
      }
    },
    {
      "cell_type": "markdown",
      "source": [
        " Installing [`yt-dlp`](https://github.com/yt-dlp/yt-dlp) and downloading the [video](https://youtu.be/NSp2fEQ6wyA) from youtube."
      ],
      "metadata": {
        "id": "Ct4adIANpQvX"
      }
    },
    {
      "cell_type": "code",
      "execution_count": 4,
      "metadata": {
        "id": "TL7fC4aZdpyH"
      },
      "outputs": [],
      "source": [
        "if Source == \"Youtube\":\n",
        "  !pip install -U yt-dlp"
      ]
    },
    {
      "cell_type": "markdown",
      "source": [
        "Custom build of `ffmpeg` as [recommended](https://github.com/yt-dlp/yt-dlp#strongly-recommended) by `yt-dlp`."
      ],
      "metadata": {
        "id": "bI5sr2GI4gXb"
      }
    },
    {
      "cell_type": "code",
      "execution_count": 5,
      "metadata": {
        "id": "KsedMPN-daEX"
      },
      "outputs": [],
      "source": [
        "if Source == \"Youtube\":\n",
        "  !wget -O - -q  https://github.com/yt-dlp/FFmpeg-Builds/releases/download/latest/ffmpeg-master-latest-linux64-gpl.tar.xz | xz -qdc| tar -x"
      ]
    },
    {
      "cell_type": "code",
      "source": [
        "#Getting video info\n",
        "if Source == \"Youtube\":\n",
        "  from yt_dlp import YoutubeDL\n",
        "  with YoutubeDL() as ydl: \n",
        "    info_dict = ydl.extract_info(video_url, download=False)\n",
        "    video_title = info_dict.get('title', None)\n",
        "    video_id = info_dict.get('id', None)\n",
        "    print(\"Title: \" + video_title) # <= Here, you got the video title\n"
      ],
      "metadata": {
        "id": "DNcD7tx9UmyK"
      },
      "execution_count": 6,
      "outputs": []
    },
    {
      "cell_type": "markdown",
      "source": [
        "Downloading the audio from YouTube."
      ],
      "metadata": {
        "id": "e_UyK49aPNiD"
      }
    },
    {
      "cell_type": "code",
      "execution_count": 7,
      "metadata": {
        "id": "2VHzpv72dkvV"
      },
      "outputs": [],
      "source": [
        "if Source == \"Youtube\":\n",
        "  !yt-dlp -xv --ffmpeg-location ffmpeg-master-latest-linux64-gpl/bin --audio-format wav  -o \"{str(output_path) + '/'}input.wav\" -- {video_url}"
      ]
    },
    {
      "cell_type": "markdown",
      "source": [
        "## or from File (Google Drive)"
      ],
      "metadata": {
        "id": "NJRyeo5RVYb8"
      }
    },
    {
      "cell_type": "code",
      "source": [
        "\n",
        "!\n",
        "\n"
      ],
      "metadata": {
        "colab": {
          "base_uri": "https://localhost:8080/"
        },
        "id": "MmRjjbT2aeDD",
        "outputId": "fb82726c-8b51-4414-9ddb-b68161135d9a"
      },
      "execution_count": 17,
      "outputs": [
        {
          "output_type": "stream",
          "name": "stdout",
          "text": [
            "ffmpeg-master-latest-linux64-gpl  input_prep\n"
          ]
        }
      ]
    },
    {
      "cell_type": "code",
      "source": [
        "if Source == 'File (Google Drive)':\n",
        "    !ffmpeg -i {repr(video_path)} -vn -acodec pcm_s16le -ar 16000 -ac 1 input.wav  "
      ],
      "metadata": {
        "colab": {
          "base_uri": "https://localhost:8080/"
        },
        "id": "VjORT6CkVoTF",
        "outputId": "50b19437-de45-47e4-936a-702a0e4f99b9"
      },
      "execution_count": 9,
      "outputs": [
        {
          "output_type": "stream",
          "name": "stdout",
          "text": [
            "ffmpeg version 3.4.11-0ubuntu0.1 Copyright (c) 2000-2022 the FFmpeg developers\n",
            "  built with gcc 7 (Ubuntu 7.5.0-3ubuntu1~18.04)\n",
            "  configuration: --prefix=/usr --extra-version=0ubuntu0.1 --toolchain=hardened --libdir=/usr/lib/x86_64-linux-gnu --incdir=/usr/include/x86_64-linux-gnu --enable-gpl --disable-stripping --enable-avresample --enable-avisynth --enable-gnutls --enable-ladspa --enable-libass --enable-libbluray --enable-libbs2b --enable-libcaca --enable-libcdio --enable-libflite --enable-libfontconfig --enable-libfreetype --enable-libfribidi --enable-libgme --enable-libgsm --enable-libmp3lame --enable-libmysofa --enable-libopenjpeg --enable-libopenmpt --enable-libopus --enable-libpulse --enable-librubberband --enable-librsvg --enable-libshine --enable-libsnappy --enable-libsoxr --enable-libspeex --enable-libssh --enable-libtheora --enable-libtwolame --enable-libvorbis --enable-libvpx --enable-libwavpack --enable-libwebp --enable-libx265 --enable-libxml2 --enable-libxvid --enable-libzmq --enable-libzvbi --enable-omx --enable-openal --enable-opengl --enable-sdl2 --enable-libdc1394 --enable-libdrm --enable-libiec61883 --enable-chromaprint --enable-frei0r --enable-libopencv --enable-libx264 --enable-shared\n",
            "  libavutil      55. 78.100 / 55. 78.100\n",
            "  libavcodec     57.107.100 / 57.107.100\n",
            "  libavformat    57. 83.100 / 57. 83.100\n",
            "  libavdevice    57. 10.100 / 57. 10.100\n",
            "  libavfilter     6.107.100 /  6.107.100\n",
            "  libavresample   3.  7.  0 /  3.  7.  0\n",
            "  libswscale      4.  8.100 /  4.  8.100\n",
            "  libswresample   2.  9.100 /  2.  9.100\n",
            "  libpostproc    54.  7.100 / 54.  7.100\n",
            "Input #0, matroska,webm, from '/content/drive/MyDrive/Colab Notebooks/PyannoteWhisper/dyson.mp4.webm':\n",
            "  Metadata:\n",
            "    ENCODER         : Lavf59.34.101\n",
            "  Duration: 00:04:16.67, start: 0.000000, bitrate: 380 kb/s\n",
            "    Stream #0:0(eng): Video: vp9 (Profile 0), yuv420p(tv), 600x480, SAR 1:1 DAR 5:4, 25 fps, 25 tbr, 1k tbn, 1k tbc (default)\n",
            "    Metadata:\n",
            "      DURATION        : 00:04:16.640000000\n",
            "    Stream #0:1(eng): Audio: opus, 48000 Hz, mono, fltp (default)\n",
            "    Metadata:\n",
            "      DURATION        : 00:04:16.668000000\n",
            "File 'input.wav' already exists. Overwrite ? [y/N] ^C\n"
          ]
        }
      ]
    },
    {
      "cell_type": "markdown",
      "source": [
        "## Prepending a spacer"
      ],
      "metadata": {
        "id": "1u1vbqd_VzNp"
      }
    },
    {
      "cell_type": "markdown",
      "source": [
        "`pyannote.audio` seems to miss the first 0.5 seconds of the audio, and, therefore, we prepend a spcacer."
      ],
      "metadata": {
        "id": "q7qMLTISFE6M"
      }
    },
    {
      "cell_type": "code",
      "execution_count": 9,
      "metadata": {
        "id": "ZqznOE7Kw725",
        "colab": {
          "base_uri": "https://localhost:8080/"
        },
        "outputId": "ee690816-eb17-4280-948e-a1ddf5f55256"
      },
      "outputs": [
        {
          "output_type": "stream",
          "name": "stdout",
          "text": [
            "Looking in indexes: https://pypi.org/simple, https://us-python.pkg.dev/colab-wheels/public/simple/\n",
            "Collecting pydub\n",
            "  Downloading pydub-0.25.1-py2.py3-none-any.whl (32 kB)\n",
            "Installing collected packages: pydub\n",
            "Successfully installed pydub-0.25.1\n"
          ]
        }
      ],
      "source": [
        "!pip install pydub"
      ]
    },
    {
      "cell_type": "code",
      "source": [
        "from pydub import AudioSegment\n",
        "\n",
        "spacermilli = 2000\n",
        "spacer = AudioSegment.silent(duration=spacermilli)\n",
        "\n",
        "\n",
        "audio = AudioSegment.from_wav(\"input.wav\") \n",
        "\n",
        "audio = spacer.append(audio, crossfade=0)\n",
        "\n",
        "audio.export('input_prep.wav', format='wav')"
      ],
      "metadata": {
        "colab": {
          "base_uri": "https://localhost:8080/"
        },
        "id": "MaRDsBV1CWi8",
        "outputId": "0b0d53bf-dbd7-43f2-d67c-f61cbdf2c1ca"
      },
      "execution_count": 10,
      "outputs": [
        {
          "output_type": "execute_result",
          "data": {
            "text/plain": [
              "<_io.BufferedRandom name='input_prep'>"
            ]
          },
          "metadata": {},
          "execution_count": 10
        }
      ]
    },
    {
      "cell_type": "markdown",
      "source": [
        "# Pyannote's Diarization"
      ],
      "metadata": {
        "id": "mb5eEOKUooju"
      }
    },
    {
      "cell_type": "markdown",
      "metadata": {
        "id": "nxNf1l8Ye_U9"
      },
      "source": [
        "[`pyannote.audio`](https://github.com/pyannote/pyannote-audio) is an open-source toolkit written in Python for **speaker diarization**. \n",
        "\n",
        "Based on [`PyTorch`](https://pytorch.org) machine learning framework, it provides a set of trainable end-to-end neural building blocks that can be combined and jointly optimized to build speaker diarization pipelines. \n",
        "\n",
        "`pyannote.audio` also comes with pretrained [models](https://huggingface.co/models?other=pyannote-audio-model) and [pipelines](https://huggingface.co/models?other=pyannote-audio-pipeline) covering a wide range of domains for voice activity detection, speaker segmentation, overlapped speech detection, speaker embedding reaching state-of-the-art performance for most of them. "
      ]
    },
    {
      "cell_type": "markdown",
      "source": [
        "Installing `pyannote.audio`."
      ],
      "metadata": {
        "id": "S8Ak_OQwqd-3"
      }
    },
    {
      "cell_type": "code",
      "execution_count": 11,
      "metadata": {
        "id": "vJGyKTQJqdzq",
        "colab": {
          "base_uri": "https://localhost:8080/",
          "height": 1000
        },
        "outputId": "d43f2970-5ae5-4514-e8fb-8c340d9148da"
      },
      "outputs": [
        {
          "output_type": "stream",
          "name": "stdout",
          "text": [
            "Looking in indexes: https://pypi.org/simple, https://us-python.pkg.dev/colab-wheels/public/simple/\n",
            "Collecting pyannote.audio\n",
            "  Downloading pyannote.audio-2.1.1-py2.py3-none-any.whl (390 kB)\n",
            "\u001b[K     |████████████████████████████████| 390 kB 5.1 MB/s \n",
            "\u001b[?25hCollecting omegaconf<3.0,>=2.1\n",
            "  Downloading omegaconf-2.2.3-py3-none-any.whl (79 kB)\n",
            "\u001b[K     |████████████████████████████████| 79 kB 7.9 MB/s \n",
            "\u001b[?25hCollecting einops<0.4.0,>=0.3\n",
            "  Downloading einops-0.3.2-py3-none-any.whl (25 kB)\n",
            "Requirement already satisfied: networkx<3.0,>=2.6 in /usr/local/lib/python3.7/dist-packages (from pyannote.audio) (2.6.3)\n",
            "Collecting backports.cached-property\n",
            "  Downloading backports.cached_property-1.0.2-py3-none-any.whl (6.1 kB)\n",
            "Collecting pytorch-lightning<1.7,>=1.5.4\n",
            "  Downloading pytorch_lightning-1.6.5-py3-none-any.whl (585 kB)\n",
            "\u001b[K     |████████████████████████████████| 585 kB 53.9 MB/s \n",
            "\u001b[?25hCollecting singledispatchmethod\n",
            "  Downloading singledispatchmethod-1.0-py2.py3-none-any.whl (4.7 kB)\n",
            "Collecting pyannote.database<5.0,>=4.1.1\n",
            "  Downloading pyannote.database-4.1.3-py3-none-any.whl (41 kB)\n",
            "\u001b[K     |████████████████████████████████| 41 kB 480 kB/s \n",
            "\u001b[?25hRequirement already satisfied: torch>=1.9 in /usr/local/lib/python3.7/dist-packages (from pyannote.audio) (1.12.1+cu113)\n",
            "Collecting asteroid-filterbanks<0.5,>=0.4\n",
            "  Downloading asteroid_filterbanks-0.4.0-py3-none-any.whl (29 kB)\n",
            "Collecting speechbrain<0.6,>=0.5.12\n",
            "  Downloading speechbrain-0.5.13-py3-none-any.whl (498 kB)\n",
            "\u001b[K     |████████████████████████████████| 498 kB 51.5 MB/s \n",
            "\u001b[?25hRequirement already satisfied: typing-extensions in /usr/local/lib/python3.7/dist-packages (from pyannote.audio) (4.1.1)\n",
            "Collecting hmmlearn<0.3,>=0.2.7\n",
            "  Downloading hmmlearn-0.2.8-cp37-cp37m-manylinux_2_5_x86_64.manylinux1_x86_64.whl (217 kB)\n",
            "\u001b[K     |████████████████████████████████| 217 kB 47.8 MB/s \n",
            "\u001b[?25hCollecting pytorch-metric-learning<2.0,>=1.0.0\n",
            "  Downloading pytorch_metric_learning-1.6.3-py3-none-any.whl (111 kB)\n",
            "\u001b[K     |████████████████████████████████| 111 kB 59.7 MB/s \n",
            "\u001b[?25hCollecting pyannote.metrics<4.0,>=3.2\n",
            "  Downloading pyannote.metrics-3.2.1-py3-none-any.whl (51 kB)\n",
            "\u001b[K     |████████████████████████████████| 51 kB 197 kB/s \n",
            "\u001b[?25hCollecting huggingface-hub>=0.8.1\n",
            "  Downloading huggingface_hub-0.10.1-py3-none-any.whl (163 kB)\n",
            "\u001b[K     |████████████████████████████████| 163 kB 75.0 MB/s \n",
            "\u001b[?25hCollecting torch-audiomentations>=0.11.0\n",
            "  Downloading torch_audiomentations-0.11.0-py3-none-any.whl (47 kB)\n",
            "\u001b[K     |████████████████████████████████| 47 kB 5.7 MB/s \n",
            "\u001b[?25hCollecting pyannote.pipeline<3.0,>=2.3\n",
            "  Downloading pyannote.pipeline-2.3-py3-none-any.whl (30 kB)\n",
            "Collecting soundfile<0.11,>=0.10.2\n",
            "  Downloading SoundFile-0.10.3.post1-py2.py3-none-any.whl (21 kB)\n",
            "Collecting semver<3.0,>=2.10.2\n",
            "  Downloading semver-2.13.0-py2.py3-none-any.whl (12 kB)\n",
            "Collecting torchmetrics<1.0,>=0.6\n",
            "  Downloading torchmetrics-0.10.2-py3-none-any.whl (529 kB)\n",
            "\u001b[K     |████████████████████████████████| 529 kB 77.9 MB/s \n",
            "\u001b[?25hRequirement already satisfied: torchaudio<1.0,>=0.10 in /usr/local/lib/python3.7/dist-packages (from pyannote.audio) (0.12.1+cu113)\n",
            "Collecting pyannote.core<5.0,>=4.4\n",
            "  Downloading pyannote.core-4.5-py3-none-any.whl (60 kB)\n",
            "\u001b[K     |████████████████████████████████| 60 kB 8.0 MB/s \n",
            "\u001b[?25hRequirement already satisfied: numpy in /usr/local/lib/python3.7/dist-packages (from asteroid-filterbanks<0.5,>=0.4->pyannote.audio) (1.21.6)\n",
            "Requirement already satisfied: scikit-learn>=0.16 in /usr/local/lib/python3.7/dist-packages (from hmmlearn<0.3,>=0.2.7->pyannote.audio) (1.0.2)\n",
            "Requirement already satisfied: scipy>=0.19 in /usr/local/lib/python3.7/dist-packages (from hmmlearn<0.3,>=0.2.7->pyannote.audio) (1.7.3)\n",
            "Requirement already satisfied: importlib-metadata in /usr/local/lib/python3.7/dist-packages (from huggingface-hub>=0.8.1->pyannote.audio) (4.13.0)\n",
            "Requirement already satisfied: tqdm in /usr/local/lib/python3.7/dist-packages (from huggingface-hub>=0.8.1->pyannote.audio) (4.64.1)\n",
            "Requirement already satisfied: requests in /usr/local/lib/python3.7/dist-packages (from huggingface-hub>=0.8.1->pyannote.audio) (2.23.0)\n",
            "Requirement already satisfied: packaging>=20.9 in /usr/local/lib/python3.7/dist-packages (from huggingface-hub>=0.8.1->pyannote.audio) (21.3)\n",
            "Requirement already satisfied: filelock in /usr/local/lib/python3.7/dist-packages (from huggingface-hub>=0.8.1->pyannote.audio) (3.8.0)\n",
            "Requirement already satisfied: pyyaml>=5.1 in /usr/local/lib/python3.7/dist-packages (from huggingface-hub>=0.8.1->pyannote.audio) (6.0)\n",
            "Collecting antlr4-python3-runtime==4.9.*\n",
            "  Downloading antlr4-python3-runtime-4.9.3.tar.gz (117 kB)\n",
            "\u001b[K     |████████████████████████████████| 117 kB 77.4 MB/s \n",
            "\u001b[?25hRequirement already satisfied: pyparsing!=3.0.5,>=2.0.2 in /usr/local/lib/python3.7/dist-packages (from packaging>=20.9->huggingface-hub>=0.8.1->pyannote.audio) (3.0.9)\n",
            "Collecting simplejson>=3.8.1\n",
            "  Downloading simplejson-3.17.6-cp37-cp37m-manylinux_2_5_x86_64.manylinux1_x86_64.manylinux_2_12_x86_64.manylinux2010_x86_64.whl (130 kB)\n",
            "\u001b[K     |████████████████████████████████| 130 kB 75.4 MB/s \n",
            "\u001b[?25hRequirement already satisfied: sortedcontainers>=2.0.4 in /usr/local/lib/python3.7/dist-packages (from pyannote.core<5.0,>=4.4->pyannote.audio) (2.4.0)\n",
            "Requirement already satisfied: pandas>=0.19 in /usr/local/lib/python3.7/dist-packages (from pyannote.database<5.0,>=4.1.1->pyannote.audio) (1.3.5)\n",
            "Requirement already satisfied: typer[all]>=0.2.1 in /usr/local/lib/python3.7/dist-packages (from pyannote.database<5.0,>=4.1.1->pyannote.audio) (0.4.2)\n",
            "Requirement already satisfied: pytz>=2017.3 in /usr/local/lib/python3.7/dist-packages (from pandas>=0.19->pyannote.database<5.0,>=4.1.1->pyannote.audio) (2022.6)\n",
            "Requirement already satisfied: python-dateutil>=2.7.3 in /usr/local/lib/python3.7/dist-packages (from pandas>=0.19->pyannote.database<5.0,>=4.1.1->pyannote.audio) (2.8.2)\n",
            "Requirement already satisfied: tabulate>=0.7.7 in /usr/local/lib/python3.7/dist-packages (from pyannote.metrics<4.0,>=3.2->pyannote.audio) (0.8.10)\n",
            "Collecting docopt>=0.6.2\n",
            "  Downloading docopt-0.6.2.tar.gz (25 kB)\n",
            "Requirement already satisfied: matplotlib>=2.0.0 in /usr/local/lib/python3.7/dist-packages (from pyannote.metrics<4.0,>=3.2->pyannote.audio) (3.2.2)\n",
            "Requirement already satisfied: sympy>=1.1 in /usr/local/lib/python3.7/dist-packages (from pyannote.metrics<4.0,>=3.2->pyannote.audio) (1.7.1)\n",
            "Requirement already satisfied: cycler>=0.10 in /usr/local/lib/python3.7/dist-packages (from matplotlib>=2.0.0->pyannote.metrics<4.0,>=3.2->pyannote.audio) (0.11.0)\n",
            "Requirement already satisfied: kiwisolver>=1.0.1 in /usr/local/lib/python3.7/dist-packages (from matplotlib>=2.0.0->pyannote.metrics<4.0,>=3.2->pyannote.audio) (1.4.4)\n",
            "Collecting optuna>=1.4\n",
            "  Downloading optuna-3.0.3-py3-none-any.whl (348 kB)\n",
            "\u001b[K     |████████████████████████████████| 348 kB 64.6 MB/s \n",
            "\u001b[?25hCollecting colorlog\n",
            "  Downloading colorlog-6.7.0-py2.py3-none-any.whl (11 kB)\n",
            "Collecting cliff\n",
            "  Downloading cliff-3.10.1-py3-none-any.whl (81 kB)\n",
            "\u001b[K     |████████████████████████████████| 81 kB 10.0 MB/s \n",
            "\u001b[?25hRequirement already satisfied: sqlalchemy>=1.3.0 in /usr/local/lib/python3.7/dist-packages (from optuna>=1.4->pyannote.pipeline<3.0,>=2.3->pyannote.audio) (1.4.43)\n",
            "Collecting cmaes>=0.8.2\n",
            "  Downloading cmaes-0.9.0-py3-none-any.whl (23 kB)\n",
            "Collecting alembic>=1.5.0\n",
            "  Downloading alembic-1.8.1-py3-none-any.whl (209 kB)\n",
            "\u001b[K     |████████████████████████████████| 209 kB 76.8 MB/s \n",
            "\u001b[?25hCollecting Mako\n",
            "  Downloading Mako-1.2.3-py3-none-any.whl (78 kB)\n",
            "\u001b[K     |████████████████████████████████| 78 kB 6.9 MB/s \n",
            "\u001b[?25hRequirement already satisfied: importlib-resources in /usr/local/lib/python3.7/dist-packages (from alembic>=1.5.0->optuna>=1.4->pyannote.pipeline<3.0,>=2.3->pyannote.audio) (5.10.0)\n",
            "Requirement already satisfied: zipp>=0.5 in /usr/local/lib/python3.7/dist-packages (from importlib-metadata->huggingface-hub>=0.8.1->pyannote.audio) (3.10.0)\n",
            "Requirement already satisfied: six>=1.5 in /usr/local/lib/python3.7/dist-packages (from python-dateutil>=2.7.3->pandas>=0.19->pyannote.database<5.0,>=4.1.1->pyannote.audio) (1.15.0)\n",
            "Requirement already satisfied: tensorboard>=2.2.0 in /usr/local/lib/python3.7/dist-packages (from pytorch-lightning<1.7,>=1.5.4->pyannote.audio) (2.9.1)\n",
            "Requirement already satisfied: protobuf<=3.20.1 in /usr/local/lib/python3.7/dist-packages (from pytorch-lightning<1.7,>=1.5.4->pyannote.audio) (3.19.6)\n",
            "Collecting pyDeprecate>=0.3.1\n",
            "  Downloading pyDeprecate-0.3.2-py3-none-any.whl (10 kB)\n",
            "Requirement already satisfied: fsspec[http]!=2021.06.0,>=2021.05.0 in /usr/local/lib/python3.7/dist-packages (from pytorch-lightning<1.7,>=1.5.4->pyannote.audio) (2022.10.0)\n",
            "Requirement already satisfied: aiohttp!=4.0.0a0,!=4.0.0a1 in /usr/local/lib/python3.7/dist-packages (from fsspec[http]!=2021.06.0,>=2021.05.0->pytorch-lightning<1.7,>=1.5.4->pyannote.audio) (3.8.3)\n",
            "Requirement already satisfied: yarl<2.0,>=1.0 in /usr/local/lib/python3.7/dist-packages (from aiohttp!=4.0.0a0,!=4.0.0a1->fsspec[http]!=2021.06.0,>=2021.05.0->pytorch-lightning<1.7,>=1.5.4->pyannote.audio) (1.8.1)\n",
            "Requirement already satisfied: multidict<7.0,>=4.5 in /usr/local/lib/python3.7/dist-packages (from aiohttp!=4.0.0a0,!=4.0.0a1->fsspec[http]!=2021.06.0,>=2021.05.0->pytorch-lightning<1.7,>=1.5.4->pyannote.audio) (6.0.2)\n",
            "Requirement already satisfied: aiosignal>=1.1.2 in /usr/local/lib/python3.7/dist-packages (from aiohttp!=4.0.0a0,!=4.0.0a1->fsspec[http]!=2021.06.0,>=2021.05.0->pytorch-lightning<1.7,>=1.5.4->pyannote.audio) (1.3.1)\n",
            "Requirement already satisfied: attrs>=17.3.0 in /usr/local/lib/python3.7/dist-packages (from aiohttp!=4.0.0a0,!=4.0.0a1->fsspec[http]!=2021.06.0,>=2021.05.0->pytorch-lightning<1.7,>=1.5.4->pyannote.audio) (22.1.0)\n",
            "Requirement already satisfied: frozenlist>=1.1.1 in /usr/local/lib/python3.7/dist-packages (from aiohttp!=4.0.0a0,!=4.0.0a1->fsspec[http]!=2021.06.0,>=2021.05.0->pytorch-lightning<1.7,>=1.5.4->pyannote.audio) (1.3.3)\n",
            "Requirement already satisfied: charset-normalizer<3.0,>=2.0 in /usr/local/lib/python3.7/dist-packages (from aiohttp!=4.0.0a0,!=4.0.0a1->fsspec[http]!=2021.06.0,>=2021.05.0->pytorch-lightning<1.7,>=1.5.4->pyannote.audio) (2.1.1)\n",
            "Requirement already satisfied: async-timeout<5.0,>=4.0.0a3 in /usr/local/lib/python3.7/dist-packages (from aiohttp!=4.0.0a0,!=4.0.0a1->fsspec[http]!=2021.06.0,>=2021.05.0->pytorch-lightning<1.7,>=1.5.4->pyannote.audio) (4.0.2)\n",
            "Requirement already satisfied: asynctest==0.13.0 in /usr/local/lib/python3.7/dist-packages (from aiohttp!=4.0.0a0,!=4.0.0a1->fsspec[http]!=2021.06.0,>=2021.05.0->pytorch-lightning<1.7,>=1.5.4->pyannote.audio) (0.13.0)\n",
            "Requirement already satisfied: torchvision in /usr/local/lib/python3.7/dist-packages (from pytorch-metric-learning<2.0,>=1.0.0->pyannote.audio) (0.13.1+cu113)\n",
            "Requirement already satisfied: threadpoolctl>=2.0.0 in /usr/local/lib/python3.7/dist-packages (from scikit-learn>=0.16->hmmlearn<0.3,>=0.2.7->pyannote.audio) (3.1.0)\n",
            "Requirement already satisfied: joblib>=0.11 in /usr/local/lib/python3.7/dist-packages (from scikit-learn>=0.16->hmmlearn<0.3,>=0.2.7->pyannote.audio) (1.2.0)\n",
            "Requirement already satisfied: cffi>=1.0 in /usr/local/lib/python3.7/dist-packages (from soundfile<0.11,>=0.10.2->pyannote.audio) (1.15.1)\n",
            "Requirement already satisfied: pycparser in /usr/local/lib/python3.7/dist-packages (from cffi>=1.0->soundfile<0.11,>=0.10.2->pyannote.audio) (2.21)\n",
            "Collecting sentencepiece\n",
            "  Downloading sentencepiece-0.1.97-cp37-cp37m-manylinux_2_17_x86_64.manylinux2014_x86_64.whl (1.3 MB)\n",
            "\u001b[K     |████████████████████████████████| 1.3 MB 62.8 MB/s \n",
            "\u001b[?25hCollecting hyperpyyaml\n",
            "  Downloading HyperPyYAML-1.0.1.tar.gz (14 kB)\n",
            "Requirement already satisfied: greenlet!=0.4.17 in /usr/local/lib/python3.7/dist-packages (from sqlalchemy>=1.3.0->optuna>=1.4->pyannote.pipeline<3.0,>=2.3->pyannote.audio) (2.0.1)\n",
            "Requirement already satisfied: mpmath>=0.19 in /usr/local/lib/python3.7/dist-packages (from sympy>=1.1->pyannote.metrics<4.0,>=3.2->pyannote.audio) (1.2.1)\n",
            "Requirement already satisfied: google-auth<3,>=1.6.3 in /usr/local/lib/python3.7/dist-packages (from tensorboard>=2.2.0->pytorch-lightning<1.7,>=1.5.4->pyannote.audio) (2.14.1)\n",
            "Requirement already satisfied: tensorboard-plugin-wit>=1.6.0 in /usr/local/lib/python3.7/dist-packages (from tensorboard>=2.2.0->pytorch-lightning<1.7,>=1.5.4->pyannote.audio) (1.8.1)\n",
            "Requirement already satisfied: wheel>=0.26 in /usr/local/lib/python3.7/dist-packages (from tensorboard>=2.2.0->pytorch-lightning<1.7,>=1.5.4->pyannote.audio) (0.38.3)\n",
            "Requirement already satisfied: absl-py>=0.4 in /usr/local/lib/python3.7/dist-packages (from tensorboard>=2.2.0->pytorch-lightning<1.7,>=1.5.4->pyannote.audio) (1.3.0)\n",
            "Requirement already satisfied: tensorboard-data-server<0.7.0,>=0.6.0 in /usr/local/lib/python3.7/dist-packages (from tensorboard>=2.2.0->pytorch-lightning<1.7,>=1.5.4->pyannote.audio) (0.6.1)\n",
            "Requirement already satisfied: werkzeug>=1.0.1 in /usr/local/lib/python3.7/dist-packages (from tensorboard>=2.2.0->pytorch-lightning<1.7,>=1.5.4->pyannote.audio) (1.0.1)\n",
            "Requirement already satisfied: google-auth-oauthlib<0.5,>=0.4.1 in /usr/local/lib/python3.7/dist-packages (from tensorboard>=2.2.0->pytorch-lightning<1.7,>=1.5.4->pyannote.audio) (0.4.6)\n",
            "Requirement already satisfied: grpcio>=1.24.3 in /usr/local/lib/python3.7/dist-packages (from tensorboard>=2.2.0->pytorch-lightning<1.7,>=1.5.4->pyannote.audio) (1.50.0)\n",
            "Requirement already satisfied: markdown>=2.6.8 in /usr/local/lib/python3.7/dist-packages (from tensorboard>=2.2.0->pytorch-lightning<1.7,>=1.5.4->pyannote.audio) (3.4.1)\n",
            "Requirement already satisfied: setuptools>=41.0.0 in /usr/local/lib/python3.7/dist-packages (from tensorboard>=2.2.0->pytorch-lightning<1.7,>=1.5.4->pyannote.audio) (57.4.0)\n",
            "Requirement already satisfied: cachetools<6.0,>=2.0.0 in /usr/local/lib/python3.7/dist-packages (from google-auth<3,>=1.6.3->tensorboard>=2.2.0->pytorch-lightning<1.7,>=1.5.4->pyannote.audio) (5.2.0)\n",
            "Requirement already satisfied: rsa<5,>=3.1.4 in /usr/local/lib/python3.7/dist-packages (from google-auth<3,>=1.6.3->tensorboard>=2.2.0->pytorch-lightning<1.7,>=1.5.4->pyannote.audio) (4.9)\n",
            "Requirement already satisfied: pyasn1-modules>=0.2.1 in /usr/local/lib/python3.7/dist-packages (from google-auth<3,>=1.6.3->tensorboard>=2.2.0->pytorch-lightning<1.7,>=1.5.4->pyannote.audio) (0.2.8)\n",
            "Requirement already satisfied: requests-oauthlib>=0.7.0 in /usr/local/lib/python3.7/dist-packages (from google-auth-oauthlib<0.5,>=0.4.1->tensorboard>=2.2.0->pytorch-lightning<1.7,>=1.5.4->pyannote.audio) (1.3.1)\n",
            "Requirement already satisfied: pyasn1<0.5.0,>=0.4.6 in /usr/local/lib/python3.7/dist-packages (from pyasn1-modules>=0.2.1->google-auth<3,>=1.6.3->tensorboard>=2.2.0->pytorch-lightning<1.7,>=1.5.4->pyannote.audio) (0.4.8)\n",
            "Requirement already satisfied: certifi>=2017.4.17 in /usr/local/lib/python3.7/dist-packages (from requests->huggingface-hub>=0.8.1->pyannote.audio) (2022.9.24)\n",
            "Requirement already satisfied: urllib3!=1.25.0,!=1.25.1,<1.26,>=1.21.1 in /usr/local/lib/python3.7/dist-packages (from requests->huggingface-hub>=0.8.1->pyannote.audio) (1.24.3)\n",
            "Requirement already satisfied: idna<3,>=2.5 in /usr/local/lib/python3.7/dist-packages (from requests->huggingface-hub>=0.8.1->pyannote.audio) (2.10)\n",
            "Requirement already satisfied: chardet<4,>=3.0.2 in /usr/local/lib/python3.7/dist-packages (from requests->huggingface-hub>=0.8.1->pyannote.audio) (3.0.4)\n",
            "Requirement already satisfied: oauthlib>=3.0.0 in /usr/local/lib/python3.7/dist-packages (from requests-oauthlib>=0.7.0->google-auth-oauthlib<0.5,>=0.4.1->tensorboard>=2.2.0->pytorch-lightning<1.7,>=1.5.4->pyannote.audio) (3.2.2)\n",
            "Requirement already satisfied: librosa>=0.6.0 in /usr/local/lib/python3.7/dist-packages (from torch-audiomentations>=0.11.0->pyannote.audio) (0.8.1)\n",
            "Collecting julius<0.3,>=0.2.3\n",
            "  Downloading julius-0.2.7.tar.gz (59 kB)\n",
            "\u001b[K     |████████████████████████████████| 59 kB 6.9 MB/s \n",
            "\u001b[?25hCollecting torch-pitch-shift>=1.2.2\n",
            "  Downloading torch_pitch_shift-1.2.2-py3-none-any.whl (5.0 kB)\n",
            "Requirement already satisfied: pooch>=1.0 in /usr/local/lib/python3.7/dist-packages (from librosa>=0.6.0->torch-audiomentations>=0.11.0->pyannote.audio) (1.6.0)\n",
            "Requirement already satisfied: numba>=0.43.0 in /usr/local/lib/python3.7/dist-packages (from librosa>=0.6.0->torch-audiomentations>=0.11.0->pyannote.audio) (0.56.4)\n",
            "Requirement already satisfied: resampy>=0.2.2 in /usr/local/lib/python3.7/dist-packages (from librosa>=0.6.0->torch-audiomentations>=0.11.0->pyannote.audio) (0.4.2)\n",
            "Requirement already satisfied: audioread>=2.0.0 in /usr/local/lib/python3.7/dist-packages (from librosa>=0.6.0->torch-audiomentations>=0.11.0->pyannote.audio) (3.0.0)\n",
            "Requirement already satisfied: decorator>=3.0.0 in /usr/local/lib/python3.7/dist-packages (from librosa>=0.6.0->torch-audiomentations>=0.11.0->pyannote.audio) (4.4.2)\n",
            "Requirement already satisfied: llvmlite<0.40,>=0.39.0dev0 in /usr/local/lib/python3.7/dist-packages (from numba>=0.43.0->librosa>=0.6.0->torch-audiomentations>=0.11.0->pyannote.audio) (0.39.1)\n",
            "Requirement already satisfied: appdirs>=1.3.0 in /usr/local/lib/python3.7/dist-packages (from pooch>=1.0->librosa>=0.6.0->torch-audiomentations>=0.11.0->pyannote.audio) (1.4.4)\n",
            "Collecting primePy>=1.3\n",
            "  Downloading primePy-1.3-py3-none-any.whl (4.0 kB)\n",
            "Requirement already satisfied: click<9.0.0,>=7.1.1 in /usr/local/lib/python3.7/dist-packages (from typer[all]>=0.2.1->pyannote.database<5.0,>=4.1.1->pyannote.audio) (7.1.2)\n",
            "Collecting shellingham<2.0.0,>=1.3.0\n",
            "  Downloading shellingham-1.5.0-py2.py3-none-any.whl (9.3 kB)\n",
            "Collecting colorama<0.5.0,>=0.4.3\n",
            "  Downloading colorama-0.4.6-py2.py3-none-any.whl (25 kB)\n",
            "Collecting autopage>=0.4.0\n",
            "  Downloading autopage-0.5.1-py3-none-any.whl (29 kB)\n",
            "Collecting stevedore>=2.0.1\n",
            "  Downloading stevedore-3.5.2-py3-none-any.whl (50 kB)\n",
            "\u001b[K     |████████████████████████████████| 50 kB 6.8 MB/s \n",
            "\u001b[?25hCollecting pbr!=2.1.0,>=2.0.0\n",
            "  Downloading pbr-5.11.0-py2.py3-none-any.whl (112 kB)\n",
            "\u001b[K     |████████████████████████████████| 112 kB 89.2 MB/s \n",
            "\u001b[?25hCollecting cmd2>=1.0.0\n",
            "  Downloading cmd2-2.4.2-py3-none-any.whl (147 kB)\n",
            "\u001b[K     |████████████████████████████████| 147 kB 83.4 MB/s \n",
            "\u001b[?25hRequirement already satisfied: PrettyTable>=0.7.2 in /usr/local/lib/python3.7/dist-packages (from cliff->optuna>=1.4->pyannote.pipeline<3.0,>=2.3->pyannote.audio) (3.5.0)\n",
            "Requirement already satisfied: wcwidth>=0.1.7 in /usr/local/lib/python3.7/dist-packages (from cmd2>=1.0.0->cliff->optuna>=1.4->pyannote.pipeline<3.0,>=2.3->pyannote.audio) (0.2.5)\n",
            "Collecting pyperclip>=1.6\n",
            "  Downloading pyperclip-1.8.2.tar.gz (20 kB)\n",
            "Collecting ruamel.yaml>=0.17.8\n",
            "  Downloading ruamel.yaml-0.17.21-py3-none-any.whl (109 kB)\n",
            "\u001b[K     |████████████████████████████████| 109 kB 66.2 MB/s \n",
            "\u001b[?25hCollecting ruamel.yaml.clib>=0.2.6\n",
            "  Downloading ruamel.yaml.clib-0.2.7-cp37-cp37m-manylinux_2_17_x86_64.manylinux2014_x86_64.manylinux_2_24_x86_64.whl (500 kB)\n",
            "\u001b[K     |████████████████████████████████| 500 kB 81.9 MB/s \n",
            "\u001b[?25hRequirement already satisfied: MarkupSafe>=0.9.2 in /usr/local/lib/python3.7/dist-packages (from Mako->alembic>=1.5.0->optuna>=1.4->pyannote.pipeline<3.0,>=2.3->pyannote.audio) (2.0.1)\n",
            "Requirement already satisfied: pillow!=8.3.*,>=5.3.0 in /usr/local/lib/python3.7/dist-packages (from torchvision->pytorch-metric-learning<2.0,>=1.0.0->pyannote.audio) (7.1.2)\n",
            "Building wheels for collected packages: antlr4-python3-runtime, docopt, julius, pyperclip, hyperpyyaml\n",
            "  Building wheel for antlr4-python3-runtime (setup.py) ... \u001b[?25l\u001b[?25hdone\n",
            "  Created wheel for antlr4-python3-runtime: filename=antlr4_python3_runtime-4.9.3-py3-none-any.whl size=144576 sha256=0f1e175283268d323f3c4197b42655d3243a20392444d2c56f2f775a9e6b55a6\n",
            "  Stored in directory: /root/.cache/pip/wheels/8b/8d/53/2af8772d9aec614e3fc65e53d4a993ad73c61daa8bbd85a873\n",
            "  Building wheel for docopt (setup.py) ... \u001b[?25l\u001b[?25hdone\n",
            "  Created wheel for docopt: filename=docopt-0.6.2-py2.py3-none-any.whl size=13723 sha256=e153cd16d812d8ff720e7445b8159f10d229edb60901821f88de676a2a46b2ec\n",
            "  Stored in directory: /root/.cache/pip/wheels/72/b0/3f/1d95f96ff986c7dfffe46ce2be4062f38ebd04b506c77c81b9\n",
            "  Building wheel for julius (setup.py) ... \u001b[?25l\u001b[?25hdone\n",
            "  Created wheel for julius: filename=julius-0.2.7-py3-none-any.whl size=21907 sha256=843a656698db6e695f48a4a157c6821d4fe5493766d2d31cb93b9ab67f592211\n",
            "  Stored in directory: /root/.cache/pip/wheels/44/52/2c/7dd069f82c7f905f40b190a8039ec2a17fdd4bb009c57c6664\n",
            "  Building wheel for pyperclip (setup.py) ... \u001b[?25l\u001b[?25hdone\n",
            "  Created wheel for pyperclip: filename=pyperclip-1.8.2-py3-none-any.whl size=11137 sha256=68c2944d43845387bb64a98837d49a84f96db34b15a4255faf82b9541fae03f5\n",
            "  Stored in directory: /root/.cache/pip/wheels/9f/18/84/8f69f8b08169c7bae2dde6bd7daf0c19fca8c8e500ee620a28\n",
            "  Building wheel for hyperpyyaml (setup.py) ... \u001b[?25l\u001b[?25hdone\n",
            "  Created wheel for hyperpyyaml: filename=HyperPyYAML-1.0.1-py3-none-any.whl size=15193 sha256=fe80ffa5dc761c7a5881103427160734f3f6f42235c94f431f0657e2da0f86ed\n",
            "  Stored in directory: /root/.cache/pip/wheels/6c/87/65/266d722c3932f81f16332ce842e972be8421e3a9cd3771766b\n",
            "Successfully built antlr4-python3-runtime docopt julius pyperclip hyperpyyaml\n",
            "Installing collected packages: pyperclip, pbr, stevedore, simplejson, shellingham, ruamel.yaml.clib, Mako, colorama, cmd2, autopage, soundfile, ruamel.yaml, pyannote.core, primePy, colorlog, cmaes, cliff, alembic, torchmetrics, torch-pitch-shift, sentencepiece, pyDeprecate, pyannote.database, optuna, julius, hyperpyyaml, huggingface-hub, docopt, antlr4-python3-runtime, torch-audiomentations, speechbrain, singledispatchmethod, semver, pytorch-metric-learning, pytorch-lightning, pyannote.pipeline, pyannote.metrics, omegaconf, hmmlearn, einops, backports.cached-property, asteroid-filterbanks, pyannote.audio\n",
            "  Attempting uninstall: soundfile\n",
            "    Found existing installation: soundfile 0.11.0\n",
            "    Uninstalling soundfile-0.11.0:\n",
            "      Successfully uninstalled soundfile-0.11.0\n",
            "Successfully installed Mako-1.2.3 alembic-1.8.1 antlr4-python3-runtime-4.9.3 asteroid-filterbanks-0.4.0 autopage-0.5.1 backports.cached-property-1.0.2 cliff-3.10.1 cmaes-0.9.0 cmd2-2.4.2 colorama-0.4.6 colorlog-6.7.0 docopt-0.6.2 einops-0.3.2 hmmlearn-0.2.8 huggingface-hub-0.10.1 hyperpyyaml-1.0.1 julius-0.2.7 omegaconf-2.2.3 optuna-3.0.3 pbr-5.11.0 primePy-1.3 pyDeprecate-0.3.2 pyannote.audio-2.1.1 pyannote.core-4.5 pyannote.database-4.1.3 pyannote.metrics-3.2.1 pyannote.pipeline-2.3 pyperclip-1.8.2 pytorch-lightning-1.6.5 pytorch-metric-learning-1.6.3 ruamel.yaml-0.17.21 ruamel.yaml.clib-0.2.7 semver-2.13.0 sentencepiece-0.1.97 shellingham-1.5.0 simplejson-3.17.6 singledispatchmethod-1.0 soundfile-0.10.3.post1 speechbrain-0.5.13 stevedore-3.5.2 torch-audiomentations-0.11.0 torch-pitch-shift-1.2.2 torchmetrics-0.10.2\n"
          ]
        },
        {
          "output_type": "display_data",
          "data": {
            "application/vnd.colab-display-data+json": {
              "pip_warning": {
                "packages": [
                  "pydevd_plugins"
                ]
              }
            }
          },
          "metadata": {}
        }
      ],
      "source": [
        "!pip install   pyannote.audio"
      ]
    },
    {
      "cell_type": "markdown",
      "source": [
        "**Important:** To load the speaker diarization pipeline, \n",
        "\n",
        "* accept the user conditions on both [hf.co/pyannote/speaker-diarization](https://hf.co/pyannote/speaker-diarization) and [hf.co/pyannote/segmentation](https://huggingface.co/pyannote/segmentation).\n",
        "* login using `notebook_login` below"
      ],
      "metadata": {
        "id": "N7TPgEVW8XeH"
      }
    },
    {
      "cell_type": "code",
      "execution_count": 12,
      "metadata": {
        "id": "r5u7VMb-YnqB",
        "outputId": "42c5254c-8cb2-4435-bd9e-ced5bcdd54ad",
        "colab": {
          "base_uri": "https://localhost:8080/",
          "height": 299,
          "referenced_widgets": [
            "784d3df8eb5b476789872a01bd159b95",
            "9718e953aae5472ba12a6022b7920660",
            "dba3b716e89c433b9e0eb68039b34fbd",
            "5bca75959c2549e2b00ae7d5583e33fa",
            "42cf452e44be4e58abcc6650dbf282eb",
            "4fa18cf2ea6042028b913ef72e6a6cf0",
            "de458f3b38ee4499b809b5ec9e1df135",
            "d85e7e19399642a792f1c932c6512668",
            "44da777b513d44fdbfc015ca8eb52ffa",
            "a8413489ca2b40ecb1085e8598819cb8",
            "c2f2cf09daaf4aa386d55eeeed8d9193",
            "9ec8c7a47460411fb9c035dc7d1b2dbd",
            "e7d26053e3044c18aae69f24e8ec33ce",
            "3229614bce1f45caba16cffb6b293bd2"
          ]
        }
      },
      "outputs": [
        {
          "output_type": "stream",
          "name": "stdout",
          "text": [
            "Login successful\n",
            "Your token has been saved to /root/.huggingface/token\n"
          ]
        }
      ],
      "source": [
        "from huggingface_hub import notebook_login\n",
        "notebook_login()"
      ]
    },
    {
      "cell_type": "code",
      "execution_count": 13,
      "metadata": {
        "id": "jKG14DGYbwku",
        "colab": {
          "base_uri": "https://localhost:8080/",
          "height": 273,
          "referenced_widgets": [
            "b2ef68a5ceb94f3c9fd83d19016095ce",
            "2b36b515fe4645faa525b109529ecefe",
            "2a5ee14fb22c4367a2319c7b55177967",
            "cb1e2fbd8eb44c8c9acdd726d300e123",
            "acdc8bacbf1f420384fd241b946f8f16",
            "ee1b9eed4b1d4f959e70bfe8961307c4",
            "0e85f9334b3c4a75ab9d5446d2ca5927",
            "46ad47575e1942c39f7b7aefc5caf52f",
            "fcdfebc86c1c432b9644f6bbc1eca907",
            "680f7b9465614e23bf655c1936770dc1",
            "de02517a4d544321a719e0441e574c02",
            "952da9668b334147bde0a7395c8ce7f3",
            "c261faabeda049efabbf9fede99a0eb3",
            "b3e848af4a3047b1903c83596a23a675",
            "fcf4bfa8800a420caf59adaaee20abeb",
            "c007e26d4ff24a87b2c02d57efe21542",
            "764da5e4d4bb47be8232f97ec428e848",
            "d6c84183b6184adcbb3e3f9afb0eeb24",
            "4af0743aba1c492da80d1769068e9992",
            "1d55427b74034e6a8d2676b3cbac2fa6",
            "c39df2a2663f42c28ef6aa8bf12cc317",
            "8a53760468c845808f9c13b2afbb342c",
            "a419e40310454f59bf32ba2ceac3c3f5",
            "9994615bf5e74e14932e349662e8f66b",
            "5e5fda490be542c1a988c7dd1ea9fc55",
            "04bac4856e1147bf8c933bdef9901a1f",
            "9518d2dcaace4c8ab9399272dc0f4365",
            "1e03e872b3e24e1a9c587804a5f35149",
            "bd37f0961619431b9f17805a384fdc8b",
            "019e15aaf7c3499b9e74a15dba848407",
            "1852b8e64301432baa22c507aacfcd24",
            "fabb30fcf765438fa3e4bbac0f323178",
            "5168f27979eb489985d31c218eceff9e",
            "15716035ee0649e6ae8b9a0d5ff96b13",
            "1825899638d7433996271105893524c6",
            "cb8a2a72c17840e6ad3a691083cc8411",
            "688d4f367404465ebaff2eb9d121f1b4",
            "8c18cd7c98034ead9628c4608a8d406f",
            "fdac22fac29e4a2386213dac2dd1e9bb",
            "404671831b154f34be5fe83fe5859df1",
            "ef507c8352bc4f7ebc2e718bb0fd9423",
            "b435184c68924411bc144a2a01cb697a",
            "f26efadfaa7e46068a11dea97d987f5d",
            "4d5278a810834931b485f3859f113aa6",
            "7586d9b568244238a9e9d2e5f2f7bc72",
            "5ef332cb10fa4b949d6307f7efcc3bee",
            "0e972ba2894c4e80a5b872b67c56543d",
            "8bd047a3c98543929c3ad566b8a0c24e",
            "a082b679d97343c4b02795803f892ba3",
            "3e5dca6a78b44c93a709378344e23446",
            "e3bb6adbb9c641e285ea1dc4893d5ec9",
            "7dd080bade3d46c0a60220f3edf8e4c7",
            "8b7bdfff75544ecc8668e3cce9d51886",
            "ff012f4297b345b8a5e071c38de1aae7",
            "6b2a9820cd8244e8b24def870a5ce530",
            "0cff902bdce24a85a5bb237d0df405e7",
            "cbb4bb8502b443bb9be94918b75d730b",
            "8f9fe44c4f0541e7b7e5aeed3abbeb47",
            "66cf39f11b35455294ee8289b290bccc",
            "2ba8eea50c1944b49ee2df82f36751d8",
            "bddbc9220ecb4a7fb979b6c91ddc91ac",
            "b6a19711c4a44a61a14a5ef9fab1014e",
            "7aef90656360410493d78b59620286f5",
            "f479c54ba0be40b3915f72deafcc037a",
            "7b2128a6a5f042f391318a400b3315f7",
            "0010e68670bc4636a1ca75fa468762de",
            "3a3bd410e9064cf782618d2a80784800",
            "98a7f55b83c84dc58aaab325c773e604",
            "de87b08c012b4b7ca6cd4e59a296fef9",
            "01983bb6abc34dc8b22fb43c1a5cedff",
            "c192dbe1f82540a1b0fd2035bcdcb09e",
            "e0a9d8b968c1442190cb4ae947be40d5",
            "de331e30ae40432985de3de51dc05185",
            "6e5bf007258f4c66a871c40e5d342062",
            "e84591d8c0504b76ab7676c7c9f304cb",
            "ce85262cb0c44ac4bd904c9366584ce0",
            "6cb3dc86817c494b9a30dc7744a4a78d",
            "54f2fbf292ce49cf9082df926b544a0f",
            "4e76ef88ef804beeb4ee965bbddb3e38",
            "d7938b39601f43f28211014685617d95",
            "4d4483a0d3794c4c8dbccfb9e977f006",
            "e69d7af6a05d484f882046bfc970d7b6",
            "392019d0b07444d198374afcbbc315c6",
            "08f8161cddc94a56872fb0dc705b0760",
            "8a894bf28b5e4619a3d42ad1e4465399",
            "4915ccc7f7314a4abe665af78b358f93",
            "afa1eb8791e743c5b0c941b9d5775594",
            "dc7f5beed415445f8ee56b8bc440b07f"
          ]
        },
        "outputId": "d6be135b-d5c0-467f-fdea-3af7d11c1948"
      },
      "outputs": [
        {
          "output_type": "display_data",
          "data": {
            "text/plain": [
              "Downloading:   0%|          | 0.00/500 [00:00<?, ?B/s]"
            ],
            "application/vnd.jupyter.widget-view+json": {
              "version_major": 2,
              "version_minor": 0,
              "model_id": "b2ef68a5ceb94f3c9fd83d19016095ce"
            }
          },
          "metadata": {}
        },
        {
          "output_type": "display_data",
          "data": {
            "text/plain": [
              "Downloading:   0%|          | 0.00/17.7M [00:00<?, ?B/s]"
            ],
            "application/vnd.jupyter.widget-view+json": {
              "version_major": 2,
              "version_minor": 0,
              "model_id": "952da9668b334147bde0a7395c8ce7f3"
            }
          },
          "metadata": {}
        },
        {
          "output_type": "display_data",
          "data": {
            "text/plain": [
              "Downloading:   0%|          | 0.00/318 [00:00<?, ?B/s]"
            ],
            "application/vnd.jupyter.widget-view+json": {
              "version_major": 2,
              "version_minor": 0,
              "model_id": "a419e40310454f59bf32ba2ceac3c3f5"
            }
          },
          "metadata": {}
        },
        {
          "output_type": "display_data",
          "data": {
            "text/plain": [
              "Downloading:   0%|          | 0.00/1.92k [00:00<?, ?B/s]"
            ],
            "application/vnd.jupyter.widget-view+json": {
              "version_major": 2,
              "version_minor": 0,
              "model_id": "15716035ee0649e6ae8b9a0d5ff96b13"
            }
          },
          "metadata": {}
        },
        {
          "output_type": "display_data",
          "data": {
            "text/plain": [
              "Downloading:   0%|          | 0.00/83.3M [00:00<?, ?B/s]"
            ],
            "application/vnd.jupyter.widget-view+json": {
              "version_major": 2,
              "version_minor": 0,
              "model_id": "7586d9b568244238a9e9d2e5f2f7bc72"
            }
          },
          "metadata": {}
        },
        {
          "output_type": "display_data",
          "data": {
            "text/plain": [
              "Downloading:   0%|          | 0.00/1.92k [00:00<?, ?B/s]"
            ],
            "application/vnd.jupyter.widget-view+json": {
              "version_major": 2,
              "version_minor": 0,
              "model_id": "0cff902bdce24a85a5bb237d0df405e7"
            }
          },
          "metadata": {}
        },
        {
          "output_type": "display_data",
          "data": {
            "text/plain": [
              "Downloading:   0%|          | 0.00/5.53M [00:00<?, ?B/s]"
            ],
            "application/vnd.jupyter.widget-view+json": {
              "version_major": 2,
              "version_minor": 0,
              "model_id": "3a3bd410e9064cf782618d2a80784800"
            }
          },
          "metadata": {}
        },
        {
          "output_type": "display_data",
          "data": {
            "text/plain": [
              "Downloading:   0%|          | 0.00/129k [00:00<?, ?B/s]"
            ],
            "application/vnd.jupyter.widget-view+json": {
              "version_major": 2,
              "version_minor": 0,
              "model_id": "54f2fbf292ce49cf9082df926b544a0f"
            }
          },
          "metadata": {}
        }
      ],
      "source": [
        "from pyannote.audio import Pipeline\n",
        "\n",
        "pipeline = Pipeline.from_pretrained('pyannote/speaker-diarization', use_auth_token=True)"
      ]
    },
    {
      "cell_type": "markdown",
      "source": [
        "Running pyannote.audio to generate the diarizations."
      ],
      "metadata": {
        "id": "ImKMcCr5W5Nw"
      }
    },
    {
      "cell_type": "code",
      "execution_count": 14,
      "metadata": {
        "id": "yA4xiEefft9Z"
      },
      "outputs": [],
      "source": [
        "DEMO_FILE = {'uri': 'blabla', 'audio': 'input_prep.wav'}\n",
        "dz = pipeline(DEMO_FILE)  \n",
        "\n",
        "with open(\"diarization.txt\", \"w\") as text_file:\n",
        "    text_file.write(str(dz))"
      ]
    },
    {
      "cell_type": "code",
      "source": [
        "print(*list(dz.itertracks(yield_label = True))[:10], sep=\"\\n\")"
      ],
      "metadata": {
        "colab": {
          "base_uri": "https://localhost:8080/"
        },
        "id": "GHIY2MB3Vz3e",
        "outputId": "47881e18-4e1c-4277-ce2f-19dd235a0144"
      },
      "execution_count": 15,
      "outputs": [
        {
          "output_type": "stream",
          "name": "stdout",
          "text": [
            "(<Segment(1.98281, 20.0391)>, 'F', 'SPEAKER_01')\n",
            "(<Segment(20.8659, 34.1803)>, 'G', 'SPEAKER_01')\n",
            "(<Segment(34.8553, 37.8759)>, 'H', 'SPEAKER_01')\n",
            "(<Segment(38.8209, 40.4747)>, 'I', 'SPEAKER_01')\n",
            "(<Segment(41.7741, 46.0772)>, 'J', 'SPEAKER_01')\n",
            "(<Segment(46.9547, 51.6122)>, 'K', 'SPEAKER_01')\n",
            "(<Segment(52.2534, 53.5528)>, 'L', 'SPEAKER_01')\n",
            "(<Segment(55.2234, 56.3709)>, 'M', 'SPEAKER_01')\n",
            "(<Segment(57.9741, 60.3703)>, 'N', 'SPEAKER_01')\n",
            "(<Segment(61.2984, 70.4953)>, 'O', 'SPEAKER_01')\n"
          ]
        }
      ]
    },
    {
      "cell_type": "markdown",
      "source": [
        "# Preparing audio files according to the diarization"
      ],
      "metadata": {
        "id": "Wp36eMedRkR0"
      }
    },
    {
      "cell_type": "code",
      "source": [
        "def millisec(timeStr):\n",
        "  spl = timeStr.split(\":\")\n",
        "  s = (int)((int(spl[0]) * 60 * 60 + int(spl[1]) * 60 + float(spl[2]) )* 1000)\n",
        "  return s"
      ],
      "metadata": {
        "id": "KPGOaVpOH7pZ"
      },
      "execution_count": 16,
      "outputs": []
    },
    {
      "cell_type": "markdown",
      "source": [
        "Grouping the diarization segments according to the speaker."
      ],
      "metadata": {
        "id": "_Co3BIIH6aW4"
      }
    },
    {
      "cell_type": "code",
      "source": [
        "import re\n",
        "dzs = open('diarization.txt').read().splitlines()\n",
        "\n",
        "groups = []\n",
        "g = []\n",
        "lastend = 0\n",
        "\n",
        "for d in dzs:   \n",
        "  if g and (g[0].split()[-1] != d.split()[-1]):      #same speaker\n",
        "    groups.append(g)\n",
        "    g = []\n",
        "  \n",
        "  g.append(d)\n",
        "  \n",
        "  end = re.findall('[0-9]+:[0-9]+:[0-9]+\\.[0-9]+', string=d)[1]\n",
        "  end = millisec(end)\n",
        "  if (lastend > end):       #segment engulfed by a previous segment\n",
        "    groups.append(g)\n",
        "    g = [] \n",
        "  else:\n",
        "    lastend = end\n",
        "if g:\n",
        "  groups.append(g)\n",
        "print(*groups, sep='\\n')"
      ],
      "metadata": {
        "colab": {
          "base_uri": "https://localhost:8080/"
        },
        "id": "umQdzNFzcP2f",
        "outputId": "4d1fe0d0-2fea-4597-b96c-7bf120f217f3"
      },
      "execution_count": 17,
      "outputs": [
        {
          "output_type": "stream",
          "name": "stdout",
          "text": [
            "['[ 00:00:01.982 -->  00:00:20.039] F SPEAKER_01', '[ 00:00:20.865 -->  00:00:34.180] G SPEAKER_01', '[ 00:00:34.855 -->  00:00:37.875] H SPEAKER_01', '[ 00:00:38.820 -->  00:00:40.474] I SPEAKER_01', '[ 00:00:41.774 -->  00:00:46.077] J SPEAKER_01', '[ 00:00:46.954 -->  00:00:51.612] K SPEAKER_01', '[ 00:00:52.253 -->  00:00:53.552] L SPEAKER_01', '[ 00:00:55.223 -->  00:00:56.370] M SPEAKER_01', '[ 00:00:57.974 -->  00:01:00.370] N SPEAKER_01', '[ 00:01:01.298 -->  00:01:10.495] O SPEAKER_01', '[ 00:01:11.237 -->  00:01:15.692] P SPEAKER_01', '[ 00:01:16.536 -->  00:01:23.657] Q SPEAKER_01', '[ 00:01:24.265 -->  00:01:31.386] R SPEAKER_01', '[ 00:01:32.618 -->  00:01:33.192] S SPEAKER_01', '[ 00:01:36.060 -->  00:01:37.056] T SPEAKER_01', '[ 00:01:39.402 -->  00:01:40.819] U SPEAKER_01', '[ 00:01:42.490 -->  00:01:45.510] V SPEAKER_01', '[ 00:01:47.114 -->  00:01:53.172] W SPEAKER_01', '[ 00:01:54.539 -->  00:01:56.918] X SPEAKER_01']\n",
            "['[ 00:01:57.947 -->  00:02:04.242] A SPEAKER_00']\n",
            "['[ 00:02:03.719 -->  00:02:17.235] Y SPEAKER_01', '[ 00:02:18.619 -->  00:02:21.741] Z SPEAKER_01', '[ 00:02:23.108 -->  00:02:30.550] AA SPEAKER_01', '[ 00:02:31.343 -->  00:02:36.895] AB SPEAKER_01', '[ 00:02:37.671 -->  00:02:48.353] AC SPEAKER_01', '[ 00:02:49.922 -->  00:03:06.882] AD SPEAKER_01', '[ 00:03:09.750 -->  00:03:18.407] AE SPEAKER_01', '[ 00:03:19.285 -->  00:03:38.927] AF SPEAKER_01', '[ 00:03:39.788 -->  00:03:44.445] AG SPEAKER_01']\n",
            "['[ 00:03:44.445 -->  00:03:53.001] B SPEAKER_00']\n",
            "['[ 00:03:52.697 -->  00:03:59.549] AH SPEAKER_01']\n",
            "['[ 00:03:56.241 -->  00:03:57.152] C SPEAKER_00']\n",
            "['[ 00:04:01.928 -->  00:04:05.252] D SPEAKER_00', '[ 00:04:06.906 -->  00:04:08.897] E SPEAKER_00']\n",
            "['[ 00:04:08.509 -->  00:04:10.230] AI SPEAKER_01', '[ 00:04:12.610 -->  00:04:18.449] AJ SPEAKER_01']\n"
          ]
        }
      ]
    },
    {
      "cell_type": "markdown",
      "source": [
        "Save the audio part corresponding to each diarization group."
      ],
      "metadata": {
        "id": "JOuf8CuRQeZo"
      }
    },
    {
      "cell_type": "code",
      "source": [
        "audio = AudioSegment.from_wav(\"input_prep.wav\")\n",
        "gidx = -1\n",
        "for g in groups:\n",
        "  start = re.findall('[0-9]+:[0-9]+:[0-9]+\\.[0-9]+', string=g[0])[0]\n",
        "  end = re.findall('[0-9]+:[0-9]+:[0-9]+\\.[0-9]+', string=g[-1])[1]\n",
        "  start = millisec(start) #- spacermilli\n",
        "  end = millisec(end)  #- spacermilli\n",
        "  print(start, end)\n",
        "  gidx += 1\n",
        "  audio[start:end].export(str(gidx) + '.wav', format='wav')"
      ],
      "metadata": {
        "colab": {
          "base_uri": "https://localhost:8080/"
        },
        "id": "dRQPUW4Mzvfn",
        "outputId": "3f274b33-2c15-4eed-a5f8-5926672d7182"
      },
      "execution_count": 18,
      "outputs": [
        {
          "output_type": "stream",
          "name": "stdout",
          "text": [
            "1982 116918\n",
            "117947 124242\n",
            "123719 224445\n",
            "224445 233001\n",
            "232697 239549\n",
            "236241 237152\n",
            "241928 248897\n",
            "248509 258449\n"
          ]
        }
      ]
    },
    {
      "cell_type": "markdown",
      "source": [
        "Freeing up some memory"
      ],
      "metadata": {
        "id": "rv2GYZCsLKBJ"
      }
    },
    {
      "cell_type": "code",
      "source": [
        "#del   DEMO_FILE, pipeline, spacer,  audio, dz, newAudio"
      ],
      "metadata": {
        "id": "cONumKWUjfus"
      },
      "execution_count": null,
      "outputs": []
    },
    {
      "cell_type": "markdown",
      "source": [
        "# Whisper's Transcriptions"
      ],
      "metadata": {
        "id": "AmxtB0k4n8lY"
      }
    },
    {
      "cell_type": "markdown",
      "source": [
        "Installing Open AI whisper.\n",
        "\n",
        "**Important:** There is a version conflict with pyannote.audio resulting in an error (see this [RP](https://github.com/pyannote/pyannote-audio/pull/1098)). Our workaround is to first run Pyannote and then whisper. You can safely ignore the error."
      ],
      "metadata": {
        "id": "swPVuqWaakkH"
      }
    },
    {
      "cell_type": "code",
      "source": [
        "!pip install git+https://github.com/openai/whisper.git "
      ],
      "metadata": {
        "id": "kUd7I__FUZVc",
        "colab": {
          "base_uri": "https://localhost:8080/"
        },
        "outputId": "9a85d2c3-c2c7-4ace-9be2-ff10615f4754"
      },
      "execution_count": 19,
      "outputs": [
        {
          "output_type": "stream",
          "name": "stdout",
          "text": [
            "Looking in indexes: https://pypi.org/simple, https://us-python.pkg.dev/colab-wheels/public/simple/\n",
            "Collecting git+https://github.com/openai/whisper.git\n",
            "  Cloning https://github.com/openai/whisper.git to /tmp/pip-req-build-5td78po7\n",
            "  Running command git clone -q https://github.com/openai/whisper.git /tmp/pip-req-build-5td78po7\n",
            "Requirement already satisfied: numpy in /usr/local/lib/python3.7/dist-packages (from whisper==1.0) (1.21.6)\n",
            "Requirement already satisfied: torch in /usr/local/lib/python3.7/dist-packages (from whisper==1.0) (1.12.1+cu113)\n",
            "Requirement already satisfied: tqdm in /usr/local/lib/python3.7/dist-packages (from whisper==1.0) (4.64.1)\n",
            "Requirement already satisfied: more-itertools in /usr/local/lib/python3.7/dist-packages (from whisper==1.0) (9.0.0)\n",
            "Collecting transformers>=4.19.0\n",
            "  Downloading transformers-4.24.0-py3-none-any.whl (5.5 MB)\n",
            "\u001b[K     |████████████████████████████████| 5.5 MB 4.7 MB/s \n",
            "\u001b[?25hCollecting ffmpeg-python==0.2.0\n",
            "  Downloading ffmpeg_python-0.2.0-py3-none-any.whl (25 kB)\n",
            "Requirement already satisfied: future in /usr/local/lib/python3.7/dist-packages (from ffmpeg-python==0.2.0->whisper==1.0) (0.16.0)\n",
            "Requirement already satisfied: requests in /usr/local/lib/python3.7/dist-packages (from transformers>=4.19.0->whisper==1.0) (2.23.0)\n",
            "Requirement already satisfied: huggingface-hub<1.0,>=0.10.0 in /usr/local/lib/python3.7/dist-packages (from transformers>=4.19.0->whisper==1.0) (0.10.1)\n",
            "Requirement already satisfied: filelock in /usr/local/lib/python3.7/dist-packages (from transformers>=4.19.0->whisper==1.0) (3.8.0)\n",
            "Requirement already satisfied: packaging>=20.0 in /usr/local/lib/python3.7/dist-packages (from transformers>=4.19.0->whisper==1.0) (21.3)\n",
            "Collecting tokenizers!=0.11.3,<0.14,>=0.11.1\n",
            "  Downloading tokenizers-0.13.2-cp37-cp37m-manylinux_2_17_x86_64.manylinux2014_x86_64.whl (7.6 MB)\n",
            "\u001b[K     |████████████████████████████████| 7.6 MB 63.5 MB/s \n",
            "\u001b[?25hRequirement already satisfied: regex!=2019.12.17 in /usr/local/lib/python3.7/dist-packages (from transformers>=4.19.0->whisper==1.0) (2022.6.2)\n",
            "Requirement already satisfied: pyyaml>=5.1 in /usr/local/lib/python3.7/dist-packages (from transformers>=4.19.0->whisper==1.0) (6.0)\n",
            "Requirement already satisfied: importlib-metadata in /usr/local/lib/python3.7/dist-packages (from transformers>=4.19.0->whisper==1.0) (4.13.0)\n",
            "Requirement already satisfied: typing-extensions>=3.7.4.3 in /usr/local/lib/python3.7/dist-packages (from huggingface-hub<1.0,>=0.10.0->transformers>=4.19.0->whisper==1.0) (4.1.1)\n",
            "Requirement already satisfied: pyparsing!=3.0.5,>=2.0.2 in /usr/local/lib/python3.7/dist-packages (from packaging>=20.0->transformers>=4.19.0->whisper==1.0) (3.0.9)\n",
            "Requirement already satisfied: zipp>=0.5 in /usr/local/lib/python3.7/dist-packages (from importlib-metadata->transformers>=4.19.0->whisper==1.0) (3.10.0)\n",
            "Requirement already satisfied: urllib3!=1.25.0,!=1.25.1,<1.26,>=1.21.1 in /usr/local/lib/python3.7/dist-packages (from requests->transformers>=4.19.0->whisper==1.0) (1.24.3)\n",
            "Requirement already satisfied: idna<3,>=2.5 in /usr/local/lib/python3.7/dist-packages (from requests->transformers>=4.19.0->whisper==1.0) (2.10)\n",
            "Requirement already satisfied: certifi>=2017.4.17 in /usr/local/lib/python3.7/dist-packages (from requests->transformers>=4.19.0->whisper==1.0) (2022.9.24)\n",
            "Requirement already satisfied: chardet<4,>=3.0.2 in /usr/local/lib/python3.7/dist-packages (from requests->transformers>=4.19.0->whisper==1.0) (3.0.4)\n",
            "Building wheels for collected packages: whisper\n",
            "  Building wheel for whisper (setup.py) ... \u001b[?25l\u001b[?25hdone\n",
            "  Created wheel for whisper: filename=whisper-1.0-py3-none-any.whl size=1175218 sha256=411b398951481188492ddb1432ca716102474bb7440f7f4a1b096c17768c39dd\n",
            "  Stored in directory: /tmp/pip-ephem-wheel-cache-d5siuozd/wheels/16/15/89/1c7bb31bd0006793a95549d04785121a8a36daad9158e1e43a\n",
            "Successfully built whisper\n",
            "Installing collected packages: tokenizers, transformers, ffmpeg-python, whisper\n",
            "Successfully installed ffmpeg-python-0.2.0 tokenizers-0.13.2 transformers-4.24.0 whisper-1.0\n"
          ]
        }
      ]
    },
    {
      "cell_type": "markdown",
      "source": [
        "Run whisper on all audio files. Whisper generates the transcription and writes it to a file."
      ],
      "metadata": {
        "id": "pBO8IpdiRQ0X"
      }
    },
    {
      "cell_type": "code",
      "source": [
        "for i in range(gidx+1):\n",
        "  !whisper {str(i) + '.wav'} --language en --model large"
      ],
      "metadata": {
        "id": "WhzMeNgMVNFc",
        "colab": {
          "base_uri": "https://localhost:8080/"
        },
        "outputId": "853193c6-a016-4c7a-a956-d1949ded9793"
      },
      "execution_count": 20,
      "outputs": [
        {
          "output_type": "stream",
          "name": "stdout",
          "text": [
            "The cache for model files in Transformers v4.22.0 has been updated. Migrating your old cache. This is a one-time only operation. You can interrupt this and resume the migration later on by calling `transformers.utils.move_cache()`.\n",
            "Moving 0 files to the new cache system\n",
            "0it [00:00, ?it/s]\n",
            "100%|█████████████████████████████████████| 2.87G/2.87G [00:32<00:00, 94.5MiB/s]\n",
            "tcmalloc: large alloc 3087007744 bytes == 0xb074000 @  0x7fb5efae11e7 0x4b2590 0x5ad01c 0x5dcfef 0x58f92b 0x590c33 0x5e48ac 0x4d20fa 0x51041f 0x58fd37 0x50c4fc 0x5b4ee6 0x58ff2e 0x50d482 0x58fd37 0x50c4fc 0x5b4ee6 0x6005a3 0x607796 0x60785c 0x60a436 0x64db82 0x64dd2e 0x7fb5ef6dec87 0x5b636a\n",
            "[00:00.000 --> 00:08.460]  So then I come to Cambridge in 1941 as a 17-year-old, and before, I mean, I'd always been interested\n",
            "[00:08.460 --> 00:15.440]  in physics and applied mathematics of all sorts, and one of the textbooks that I bought\n",
            "[00:15.440 --> 00:21.900]  as a prize was a textbook in aerodynamics, which I think was because of James Lighthill,\n",
            "[00:21.900 --> 00:29.800]  and so I thought of myself as becoming an aerodynamicist as a serious possibility of\n",
            "[00:29.800 --> 00:34.700]  finding—that seemed to be a field where mathematics could really be helpful, and flying,\n",
            "[00:34.700 --> 00:41.220]  of course, was exciting. But anyway, I arrived in Cambridge, and all the applied mathematicians\n",
            "[00:41.220 --> 00:48.240]  were gone. There was nobody there except pure, and all the applied mathematicians and physicists\n",
            "[00:48.240 --> 00:57.680]  were fighting the war, and they'd gone to do radar or cryptoanalysis or various other\n",
            "[00:57.680 --> 01:03.640]  things, so they'd all disappeared, and all that was left was the pure mathematicians.\n",
            "[01:03.640 --> 01:09.620]  So I just had a wonderful feast of pure mathematics for the two years that I was in Cambridge,\n",
            "[01:09.620 --> 01:15.920]  and I had the great luck to have Bezikovich as my tutor, who was a great mathematician\n",
            "[01:15.920 --> 01:23.020]  as well as being also a Russian, so I could talk Russian with him, and we became very\n",
            "[01:23.020 --> 01:40.620]  close friends. With him, I actually did serious mathematics, and I got, again, deep into problems\n",
            "[01:40.620 --> 01:48.700]  which I never solved but which gave me enormous satisfaction. I remember Bezikovich gave me\n",
            "[01:48.700 --> 01:53.480]  problems which would have been too hard for a graduate student, but nevertheless they\n",
            "[01:53.480 --> 02:19.640]  taught me a tremendous lot.\n",
            "tcmalloc: large alloc 3087007744 bytes == 0x9b7c000 @  0x7fa22311f1e7 0x4b2590 0x5ad01c 0x5dcfef 0x58f92b 0x590c33 0x5e48ac 0x4d20fa 0x51041f 0x58fd37 0x50c4fc 0x5b4ee6 0x58ff2e 0x50d482 0x58fd37 0x50c4fc 0x5b4ee6 0x6005a3 0x607796 0x60785c 0x60a436 0x64db82 0x64dd2e 0x7fa222d1cc87 0x5b636a\n",
            "[00:00.000 --> 00:06.000]  And he was primarily interested in measure theory and such problems?\n",
            "tcmalloc: large alloc 3087007744 bytes == 0xaf52000 @  0x7f5ed36661e7 0x4b2590 0x5ad01c 0x5dcfef 0x58f92b 0x590c33 0x5e48ac 0x4d20fa 0x51041f 0x58fd37 0x50c4fc 0x5b4ee6 0x58ff2e 0x50d482 0x58fd37 0x50c4fc 0x5b4ee6 0x6005a3 0x607796 0x60785c 0x60a436 0x64db82 0x64dd2e 0x7f5ed3263c87 0x5b636a\n",
            "[00:00.000 --> 00:07.900]  Yes, he was also geometry. It was metrical geometry rather than algebraic. But the kind\n",
            "[00:07.900 --> 00:17.120]  of problem he gave to me was to understand the properties of measurable sets in fractional\n",
            "[00:17.120 --> 00:25.920]  dimensions. It's hard enough in one dimension or two, but when you come to fractional dimensions,\n",
            "[00:25.920 --> 00:32.660]  it gets worse. So, I had a great time struggling with that, but of course nothing much came\n",
            "[00:32.660 --> 00:39.280]  out of it, except just a taste for his style. And Besicovitch's style has stayed with\n",
            "[00:39.280 --> 00:50.080]  me all my life. It's the way I do science in all fields. It's a very distinctive style,\n",
            "[00:50.080 --> 00:57.680]  which is kind of an architectural style in which you take very simple components and\n",
            "[00:57.680 --> 01:11.040]  then build hierarchical structures which become, stage by stage, bigger and fewer as you build\n",
            "[01:11.040 --> 01:16.160]  one story on another, until finally you get the keystone at the top. So you have this\n",
            "[01:16.160 --> 01:22.960]  hierarchical structure which played a big part in all Besicovitch's work. So out of these\n",
            "[01:22.960 --> 01:28.540]  simple components you get this very powerful structure, and then the theorem you want to\n",
            "[01:28.540 --> 01:34.000]  prove falls out as a consequence of the overall structure. So it's a kind of architectural\n",
            "[01:34.000 --> 01:51.680]  style of reasoning which is very powerful, and I used that in quantum electrodynamics.\n",
            "tcmalloc: large alloc 3087007744 bytes == 0xaa08000 @  0x7fe0253e01e7 0x4b2590 0x5ad01c 0x5dcfef 0x58f92b 0x590c33 0x5e48ac 0x4d20fa 0x51041f 0x58fd37 0x50c4fc 0x5b4ee6 0x58ff2e 0x50d482 0x58fd37 0x50c4fc 0x5b4ee6 0x6005a3 0x607796 0x60785c 0x60a436 0x64db82 0x64dd2e 0x7fe024fddc87 0x5b636a\n",
            "[00:00.000 --> 00:05.480]  And you were conscious of that at the time in interacting with Besicovitch, that this\n",
            "[00:05.480 --> 00:33.120]  is an approach of how he does mathematics and so on.\n",
            "tcmalloc: large alloc 3087007744 bytes == 0xafd4000 @  0x7f22ac46d1e7 0x4b2590 0x5ad01c 0x5dcfef 0x58f92b 0x590c33 0x5e48ac 0x4d20fa 0x51041f 0x58fd37 0x50c4fc 0x5b4ee6 0x58ff2e 0x50d482 0x58fd37 0x50c4fc 0x5b4ee6 0x6005a3 0x607796 0x60785c 0x60a436 0x64db82 0x64dd2e 0x7f22ac06ac87 0x5b636a\n",
            "[00:00.000 --> 00:04.840]  I'm not sure whether I was conscious of it, but certainly I absorbed it, and it's very\n",
            "[00:04.840 --> 00:32.840]  visible in everything that I do.\n",
            "tcmalloc: large alloc 3087007744 bytes == 0xa0a6000 @  0x7fd2146ee1e7 0x4b2590 0x5ad01c 0x5dcfef 0x58f92b 0x590c33 0x5e48ac 0x4d20fa 0x51041f 0x58fd37 0x50c4fc 0x5b4ee6 0x58ff2e 0x50d482 0x58fd37 0x50c4fc 0x5b4ee6 0x6005a3 0x607796 0x60785c 0x60a436 0x64db82 0x64dd2e 0x7fd2142ebc87 0x5b636a\n",
            "[00:00.000 --> 00:02.000]  Mm-hmm\n",
            "tcmalloc: large alloc 3087007744 bytes == 0xa890000 @  0x7f2d16e441e7 0x4b2590 0x5ad01c 0x5dcfef 0x58f92b 0x590c33 0x5e48ac 0x4d20fa 0x51041f 0x58fd37 0x50c4fc 0x5b4ee6 0x58ff2e 0x50d482 0x58fd37 0x50c4fc 0x5b4ee6 0x6005a3 0x607796 0x60785c 0x60a436 0x64db82 0x64dd2e 0x7f2d16a41c87 0x5b636a\n",
            "[00:00.000 --> 00:06.960]  And so Besicovitch is an important resource for you.\n",
            "tcmalloc: large alloc 3087007744 bytes == 0xa2ee000 @  0x7fab9cebe1e7 0x4b2590 0x5ad01c 0x5dcfef 0x58f92b 0x590c33 0x5e48ac 0x4d20fa 0x51041f 0x58fd37 0x50c4fc 0x5b4ee6 0x58ff2e 0x50d482 0x58fd37 0x50c4fc 0x5b4ee6 0x6005a3 0x607796 0x60785c 0x60a436 0x64db82 0x64dd2e 0x7fab9cabbc87 0x5b636a\n",
            "[00:00.000 --> 00:09.840]  Yes, I mean certainly the tools that I use are basically Besicovich tools.\n"
          ]
        }
      ]
    },
    {
      "cell_type": "markdown",
      "source": [
        "# Generating the HTML and/or txt file from the Transcriptions and the Diarization"
      ],
      "metadata": {
        "id": "u_UyWQMXpB3N"
      }
    },
    {
      "cell_type": "markdown",
      "source": [
        "Reading the transcription file."
      ],
      "metadata": {
        "id": "HNauX5fXqODD"
      }
    },
    {
      "cell_type": "code",
      "source": [
        "!pip install -U webvtt-py"
      ],
      "metadata": {
        "colab": {
          "base_uri": "https://localhost:8080/"
        },
        "id": "aEPsEuS2k4yf",
        "outputId": "acf90e23-1cff-4870-d5a1-4a6e077ff380"
      },
      "execution_count": 21,
      "outputs": [
        {
          "output_type": "stream",
          "name": "stdout",
          "text": [
            "Looking in indexes: https://pypi.org/simple, https://us-python.pkg.dev/colab-wheels/public/simple/\n",
            "Collecting webvtt-py\n",
            "  Downloading webvtt_py-0.4.6-py3-none-any.whl (16 kB)\n",
            "Requirement already satisfied: docopt in /usr/local/lib/python3.7/dist-packages (from webvtt-py) (0.6.2)\n",
            "Installing collected packages: webvtt-py\n",
            "Successfully installed webvtt-py-0.4.6\n"
          ]
        }
      ]
    },
    {
      "cell_type": "markdown",
      "source": [
        "Change or add to the speaker names and collors bellow as you wish `(speaker, textbox color, speaker color)`."
      ],
      "metadata": {
        "id": "V2qTkKD_30FG"
      }
    },
    {
      "cell_type": "code",
      "source": [
        "speakers = {'SPEAKER_00':('Dyson', 'white', 'darkorange'), 'SPEAKER_01':('Interviewer', '#e1ffc7', 'darkgreen') }\n",
        "def_boxclr = 'white'\n",
        "def_spkrclr = 'orange'"
      ],
      "metadata": {
        "id": "j7EP6fO73wTY"
      },
      "execution_count": 22,
      "outputs": []
    },
    {
      "cell_type": "markdown",
      "source": [
        "In the generated HTML,  the transcriptions for each diarization group are written in a box, with the speaker name on the top. By clicking a transcription, the embedded video jumps to the right time ."
      ],
      "metadata": {
        "id": "KndDYy_xMpMq"
      }
    },
    {
      "cell_type": "code",
      "execution_count": 24,
      "metadata": {
        "id": "vKdx9Hwg630K"
      },
      "outputs": [],
      "source": [
        "preS = '<!DOCTYPE html>\\n<html lang=\"en\">\\n  <head>\\n    <meta charset=\"UTF-8\">\\n    <meta name=\"viewport\" content=\"width=device-width, initial-scale=1.0\">\\n    <meta http-equiv=\"X-UA-Compatible\" content=\"ie=edge\">\\n    <title>' + \\\n",
        "      video_title + \\\n",
        "      '</title>\\n    <style>\\n        body {\\n            font-family: sans-serif;\\n            font-size: 18px;\\n            color: #111;\\n            padding: 0 0 1em 0;\\n\\t        background-color: #efe7dd;\\n        }\\n        table {\\n             border-spacing: 10px;\\n        }\\n        th { text-align: left;}\\n        .lt {\\n          color: inherit;\\n          text-decoration: inherit;\\n        }\\n        .l {\\n          color: #050;\\n        }\\n        .s {\\n            display: inline-block;\\n        }\\n        .c {\\n            display: inline-block;\\n        }\\n        .e {\\n            /*background-color: white; Changing background color */\\n            border-radius: 20px; /* Making border radius */\\n            width: fit-content; /* Making auto-sizable width */\\n            height: fit-content; /* Making auto-sizable height */\\n            padding: 5px 30px 5px 30px; /* Making space around letters */\\n            font-size: 18px; /* Changing font size */\\n            display: flex;\\n            flex-direction: column;\\n            margin-bottom: 10px;\\n            white-space: nowrap;\\n        }\\n\\n        .t {\\n            display: inline-block;\\n        }\\n        #player {\\n            position: sticky;\\n            top: 20px;\\n            float: right;\\n        }\\n    </style>\\n\\t<script>\\n      var tag = document.createElement(\\'script\\');\\n      tag.src = \"https://www.youtube.com/iframe_api\";\\n      var firstScriptTag = document.getElementsByTagName(\\'script\\')[0];\\n      firstScriptTag.parentNode.insertBefore(tag, firstScriptTag);\\n      var player;\\n      function onYouTubeIframeAPIReady() {\\n        player = new YT.Player(\\'player\\', {\\n          //height: \\'210\\',\\n          //width: \\'340\\',\\n          videoId: \\'' + \\\n",
        "      video_id + \\\n",
        "      '\\',\\n        });\\n      }\\n      function jumptoTime(timepoint, id) {\\n        event.preventDefault();\\n        history.pushState(null, null, \"#\"+id);\\n        player.seekTo(timepoint);\\n        player.playVideo();\\n      }\\n    </script>\\n  </head>\\n  <body>\\n    <h2>' + \\\n",
        "      video_title + \\\n",
        "      '</h2>\\n  <i>Click on a part of the transcription, to jump to its video, and get an anchor to it in the address bar<br><br></i>\\n<div  id=\"player\"></div>\\n'\n",
        "postS = '\\t</body>\\n</html>'"
      ]
    },
    {
      "cell_type": "code",
      "source": [
        "import webvtt\n",
        "\n",
        "from datetime import timedelta\n",
        "\n",
        "html = list(preS)\n",
        "txt = list(\"\")\n",
        "gidx = -1\n",
        "for g in groups:  \n",
        "  shift = re.findall('[0-9]+:[0-9]+:[0-9]+\\.[0-9]+', string=g[0])[0]\n",
        "  shift = millisec(shift) - spacermilli #the start time in the original video\n",
        "  shift=max(shift, 0)\n",
        "  \n",
        "  gidx += 1\n",
        "  captions = [[(int)(millisec(caption.start)), (int)(millisec(caption.end)),  caption.text] for caption in webvtt.read(str(gidx) + '.wav.vtt')]\n",
        "  #captions = (list) webvtt.read(str(gidx) + '.wav.vtt')\n",
        "\n",
        "  if captions:\n",
        "    speaker = g[0].split()[-1]\n",
        "    boxclr = def_boxclr\n",
        "    spkrclr = def_spkrclr\n",
        "    if speaker in speakers:\n",
        "      speaker, boxclr, spkrclr = speakers[speaker] \n",
        "    \n",
        "    html.append(f'<div class=\"e\" style=\"background-color: {boxclr}\">\\n');\n",
        "    html.append(f'<span style=\"color: {spkrclr}\">{speaker}</span><br>\\n')\n",
        "      \n",
        "    for c in captions:\n",
        "      start = shift + c[0] \n",
        "      start = start / 1000.0   #time resolution ot youtube is Second.\n",
        "      startStr = '{0:02d}:{1:02d}:{2:06.3f}'.format((int)(start // 3600), \n",
        "                                              (int)(start % 3600 // 60), \n",
        "                                              start % 60)\n",
        "      end = shift + c[1] \n",
        "      end = end / 1000.0   #time resolution ot youtube is Second.\n",
        "      endStr = '{0:02d}:{1:02d}:{2:06.3f}'.format((int)(end // 3600), \n",
        "                                              (int)(end % 3600 // 60), \n",
        "                                              end % 60)            \n",
        "      \n",
        "      txt.append(f'[{startStr} --> {endStr}] [{speaker}] {c[2]}\\n')\n",
        "      html.append(f'\\t\\t\\t\\t<a href=\"#{startStr}\" id=\"{startStr}\" class=\"lt\" onclick=\"jumptoTime({int(start)}, this.id)\">{c[2]}</a>\\n')      \n",
        "\n",
        "    html.append(f'</div>\\n');\n",
        "\n",
        "html.append(postS)\n",
        "\n",
        "with open(\"capspeaker.txt\", \"w\") as file:\n",
        "  s = \"\".join(txt)\n",
        "  file.write(s)\n",
        "if Source == 'File (Google Drive)':\n",
        "  print(s)\n",
        "elif Source == 'Youtube':\n",
        "  with open(\"capspeaker.html\", \"w\") as file:    #TODO: proper embed tag for video/audio from file\n",
        "    s = \"\".join(html)\n",
        "    file.write(s)\n",
        "    print(s)"
      ],
      "metadata": {
        "colab": {
          "base_uri": "https://localhost:8080/"
        },
        "id": "vqO6Nd6YfZYa",
        "outputId": "99d63b56-5450-413e-efcc-4f65864f8e3d"
      },
      "execution_count": 34,
      "outputs": [
        {
          "output_type": "stream",
          "name": "stdout",
          "text": [
            "<!DOCTYPE html>\n",
            "<html lang=\"en\">\n",
            "  <head>\n",
            "    <meta charset=\"UTF-8\">\n",
            "    <meta name=\"viewport\" content=\"width=device-width, initial-scale=1.0\">\n",
            "    <meta http-equiv=\"X-UA-Compatible\" content=\"ie=edge\">\n",
            "    <title>Freeman Dyson - Pure mathematics at Cambridge: the influence of Besicovitch (23/157)</title>\n",
            "    <style>\n",
            "        body {\n",
            "            font-family: sans-serif;\n",
            "            font-size: 18px;\n",
            "            color: #111;\n",
            "            padding: 0 0 1em 0;\n",
            "\t        background-color: #efe7dd;\n",
            "        }\n",
            "        table {\n",
            "             border-spacing: 10px;\n",
            "        }\n",
            "        th { text-align: left;}\n",
            "        .lt {\n",
            "          color: inherit;\n",
            "          text-decoration: inherit;\n",
            "        }\n",
            "        .l {\n",
            "          color: #050;\n",
            "        }\n",
            "        .s {\n",
            "            display: inline-block;\n",
            "        }\n",
            "        .c {\n",
            "            display: inline-block;\n",
            "        }\n",
            "        .e {\n",
            "            /*background-color: white; Changing background color */\n",
            "            border-radius: 20px; /* Making border radius */\n",
            "            width: fit-content; /* Making auto-sizable width */\n",
            "            height: fit-content; /* Making auto-sizable height */\n",
            "            padding: 5px 30px 5px 30px; /* Making space around letters */\n",
            "            font-size: 18px; /* Changing font size */\n",
            "            display: flex;\n",
            "            flex-direction: column;\n",
            "            margin-bottom: 10px;\n",
            "            white-space: nowrap;\n",
            "        }\n",
            "\n",
            "        .t {\n",
            "            display: inline-block;\n",
            "        }\n",
            "        #player {\n",
            "            position: sticky;\n",
            "            top: 20px;\n",
            "            float: right;\n",
            "        }\n",
            "    </style>\n",
            "\t<script>\n",
            "      var tag = document.createElement('script');\n",
            "      tag.src = \"https://www.youtube.com/iframe_api\";\n",
            "      var firstScriptTag = document.getElementsByTagName('script')[0];\n",
            "      firstScriptTag.parentNode.insertBefore(tag, firstScriptTag);\n",
            "      var player;\n",
            "      function onYouTubeIframeAPIReady() {\n",
            "        player = new YT.Player('player', {\n",
            "          //height: '210',\n",
            "          //width: '340',\n",
            "          videoId: 'NSp2fEQ6wyA',\n",
            "        });\n",
            "      }\n",
            "      function jumptoTime(timepoint, id) {\n",
            "        event.preventDefault();\n",
            "        history.pushState(null, null, \"#\"+id);\n",
            "        player.seekTo(timepoint);\n",
            "        player.playVideo();\n",
            "      }\n",
            "    </script>\n",
            "  </head>\n",
            "  <body>\n",
            "    <h2>Freeman Dyson - Pure mathematics at Cambridge: the influence of Besicovitch (23/157)</h2>\n",
            "  <i>Click on a part of the transcription, to jump to its video, and get an anchor to it in the address bar<br><br></i>\n",
            "<div  id=\"player\"></div>\n",
            "<div class=\"e\" style=\"background-color: #e1ffc7\">\n",
            "<span style=\"color: darkgreen\">Interviewer</span><br>\n",
            "\t\t\t\t<a href=\"#00:00:00.000\" id=\"00:00:00.000\" class=\"lt\" onclick=\"jumptoTime(0, this.id)\">So then I come to Cambridge in 1941 as a 17-year-old, and before, I mean, I'd always been interested</a>\n",
            "\t\t\t\t<a href=\"#00:00:08.460\" id=\"00:00:08.460\" class=\"lt\" onclick=\"jumptoTime(8, this.id)\">in physics and applied mathematics of all sorts, and one of the textbooks that I bought</a>\n",
            "\t\t\t\t<a href=\"#00:00:15.440\" id=\"00:00:15.440\" class=\"lt\" onclick=\"jumptoTime(15, this.id)\">as a prize was a textbook in aerodynamics, which I think was because of James Lighthill,</a>\n",
            "\t\t\t\t<a href=\"#00:00:21.900\" id=\"00:00:21.900\" class=\"lt\" onclick=\"jumptoTime(21, this.id)\">and so I thought of myself as becoming an aerodynamicist as a serious possibility of</a>\n",
            "\t\t\t\t<a href=\"#00:00:29.800\" id=\"00:00:29.800\" class=\"lt\" onclick=\"jumptoTime(29, this.id)\">finding—that seemed to be a field where mathematics could really be helpful, and flying,</a>\n",
            "\t\t\t\t<a href=\"#00:00:34.700\" id=\"00:00:34.700\" class=\"lt\" onclick=\"jumptoTime(34, this.id)\">of course, was exciting. But anyway, I arrived in Cambridge, and all the applied mathematicians</a>\n",
            "\t\t\t\t<a href=\"#00:00:41.220\" id=\"00:00:41.220\" class=\"lt\" onclick=\"jumptoTime(41, this.id)\">were gone. There was nobody there except pure, and all the applied mathematicians and physicists</a>\n",
            "\t\t\t\t<a href=\"#00:00:48.240\" id=\"00:00:48.240\" class=\"lt\" onclick=\"jumptoTime(48, this.id)\">were fighting the war, and they'd gone to do radar or cryptoanalysis or various other</a>\n",
            "\t\t\t\t<a href=\"#00:00:57.680\" id=\"00:00:57.680\" class=\"lt\" onclick=\"jumptoTime(57, this.id)\">things, so they'd all disappeared, and all that was left was the pure mathematicians.</a>\n",
            "\t\t\t\t<a href=\"#00:01:03.640\" id=\"00:01:03.640\" class=\"lt\" onclick=\"jumptoTime(63, this.id)\">So I just had a wonderful feast of pure mathematics for the two years that I was in Cambridge,</a>\n",
            "\t\t\t\t<a href=\"#00:01:09.620\" id=\"00:01:09.620\" class=\"lt\" onclick=\"jumptoTime(69, this.id)\">and I had the great luck to have Bezikovich as my tutor, who was a great mathematician</a>\n",
            "\t\t\t\t<a href=\"#00:01:15.920\" id=\"00:01:15.920\" class=\"lt\" onclick=\"jumptoTime(75, this.id)\">as well as being also a Russian, so I could talk Russian with him, and we became very</a>\n",
            "\t\t\t\t<a href=\"#00:01:23.020\" id=\"00:01:23.020\" class=\"lt\" onclick=\"jumptoTime(83, this.id)\">close friends. With him, I actually did serious mathematics, and I got, again, deep into problems</a>\n",
            "\t\t\t\t<a href=\"#00:01:40.620\" id=\"00:01:40.620\" class=\"lt\" onclick=\"jumptoTime(100, this.id)\">which I never solved but which gave me enormous satisfaction. I remember Bezikovich gave me</a>\n",
            "\t\t\t\t<a href=\"#00:01:48.700\" id=\"00:01:48.700\" class=\"lt\" onclick=\"jumptoTime(108, this.id)\">problems which would have been too hard for a graduate student, but nevertheless they</a>\n",
            "\t\t\t\t<a href=\"#00:01:53.479\" id=\"00:01:53.479\" class=\"lt\" onclick=\"jumptoTime(113, this.id)\">taught me a tremendous lot.</a>\n",
            "</div>\n",
            "<div class=\"e\" style=\"background-color: white\">\n",
            "<span style=\"color: darkorange\">Dyson</span><br>\n",
            "\t\t\t\t<a href=\"#00:01:55.947\" id=\"00:01:55.947\" class=\"lt\" onclick=\"jumptoTime(115, this.id)\">And he was primarily interested in measure theory and such problems?</a>\n",
            "</div>\n",
            "<div class=\"e\" style=\"background-color: #e1ffc7\">\n",
            "<span style=\"color: darkgreen\">Interviewer</span><br>\n",
            "\t\t\t\t<a href=\"#00:02:01.719\" id=\"00:02:01.719\" class=\"lt\" onclick=\"jumptoTime(121, this.id)\">Yes, he was also geometry. It was metrical geometry rather than algebraic. But the kind</a>\n",
            "\t\t\t\t<a href=\"#00:02:09.619\" id=\"00:02:09.619\" class=\"lt\" onclick=\"jumptoTime(129, this.id)\">of problem he gave to me was to understand the properties of measurable sets in fractional</a>\n",
            "\t\t\t\t<a href=\"#00:02:18.839\" id=\"00:02:18.839\" class=\"lt\" onclick=\"jumptoTime(138, this.id)\">dimensions. It's hard enough in one dimension or two, but when you come to fractional dimensions,</a>\n",
            "\t\t\t\t<a href=\"#00:02:27.639\" id=\"00:02:27.639\" class=\"lt\" onclick=\"jumptoTime(147, this.id)\">it gets worse. So, I had a great time struggling with that, but of course nothing much came</a>\n",
            "\t\t\t\t<a href=\"#00:02:34.378\" id=\"00:02:34.378\" class=\"lt\" onclick=\"jumptoTime(154, this.id)\">out of it, except just a taste for his style. And Besicovitch's style has stayed with</a>\n",
            "\t\t\t\t<a href=\"#00:02:40.999\" id=\"00:02:40.999\" class=\"lt\" onclick=\"jumptoTime(160, this.id)\">me all my life. It's the way I do science in all fields. It's a very distinctive style,</a>\n",
            "\t\t\t\t<a href=\"#00:02:51.799\" id=\"00:02:51.799\" class=\"lt\" onclick=\"jumptoTime(171, this.id)\">which is kind of an architectural style in which you take very simple components and</a>\n",
            "\t\t\t\t<a href=\"#00:02:59.399\" id=\"00:02:59.399\" class=\"lt\" onclick=\"jumptoTime(179, this.id)\">then build hierarchical structures which become, stage by stage, bigger and fewer as you build</a>\n",
            "\t\t\t\t<a href=\"#00:03:12.758\" id=\"00:03:12.758\" class=\"lt\" onclick=\"jumptoTime(192, this.id)\">one story on another, until finally you get the keystone at the top. So you have this</a>\n",
            "\t\t\t\t<a href=\"#00:03:17.879\" id=\"00:03:17.879\" class=\"lt\" onclick=\"jumptoTime(197, this.id)\">hierarchical structure which played a big part in all Besicovitch's work. So out of these</a>\n",
            "\t\t\t\t<a href=\"#00:03:24.679\" id=\"00:03:24.679\" class=\"lt\" onclick=\"jumptoTime(204, this.id)\">simple components you get this very powerful structure, and then the theorem you want to</a>\n",
            "\t\t\t\t<a href=\"#00:03:30.258\" id=\"00:03:30.258\" class=\"lt\" onclick=\"jumptoTime(210, this.id)\">prove falls out as a consequence of the overall structure. So it's a kind of architectural</a>\n",
            "\t\t\t\t<a href=\"#00:03:35.719\" id=\"00:03:35.719\" class=\"lt\" onclick=\"jumptoTime(215, this.id)\">style of reasoning which is very powerful, and I used that in quantum electrodynamics.</a>\n",
            "</div>\n",
            "<div class=\"e\" style=\"background-color: white\">\n",
            "<span style=\"color: darkorange\">Dyson</span><br>\n",
            "\t\t\t\t<a href=\"#00:03:42.445\" id=\"00:03:42.445\" class=\"lt\" onclick=\"jumptoTime(222, this.id)\">And you were conscious of that at the time in interacting with Besicovitch, that this</a>\n",
            "\t\t\t\t<a href=\"#00:03:47.925\" id=\"00:03:47.925\" class=\"lt\" onclick=\"jumptoTime(227, this.id)\">is an approach of how he does mathematics and so on.</a>\n",
            "</div>\n",
            "<div class=\"e\" style=\"background-color: #e1ffc7\">\n",
            "<span style=\"color: darkgreen\">Interviewer</span><br>\n",
            "\t\t\t\t<a href=\"#00:03:50.697\" id=\"00:03:50.697\" class=\"lt\" onclick=\"jumptoTime(230, this.id)\">I'm not sure whether I was conscious of it, but certainly I absorbed it, and it's very</a>\n",
            "\t\t\t\t<a href=\"#00:03:55.537\" id=\"00:03:55.537\" class=\"lt\" onclick=\"jumptoTime(235, this.id)\">visible in everything that I do.</a>\n",
            "</div>\n",
            "<div class=\"e\" style=\"background-color: white\">\n",
            "<span style=\"color: darkorange\">Dyson</span><br>\n",
            "\t\t\t\t<a href=\"#00:03:54.241\" id=\"00:03:54.241\" class=\"lt\" onclick=\"jumptoTime(234, this.id)\">Mm-hmm</a>\n",
            "</div>\n",
            "<div class=\"e\" style=\"background-color: white\">\n",
            "<span style=\"color: darkorange\">Dyson</span><br>\n",
            "\t\t\t\t<a href=\"#00:03:59.928\" id=\"00:03:59.928\" class=\"lt\" onclick=\"jumptoTime(239, this.id)\">And so Besicovitch is an important resource for you.</a>\n",
            "</div>\n",
            "<div class=\"e\" style=\"background-color: #e1ffc7\">\n",
            "<span style=\"color: darkgreen\">Interviewer</span><br>\n",
            "\t\t\t\t<a href=\"#00:04:06.509\" id=\"00:04:06.509\" class=\"lt\" onclick=\"jumptoTime(246, this.id)\">Yes, I mean certainly the tools that I use are basically Besicovich tools.</a>\n",
            "</div>\n",
            "\t</body>\n",
            "</html>\n"
          ]
        }
      ]
    },
    {
      "cell_type": "code",
      "source": [
        "  !yt-dlp -v --ffmpeg-location ffmpeg-master-latest-linux64-gpl/bin   -o \"dyson.mp4\" -- {video_url}"
      ],
      "metadata": {
        "colab": {
          "base_uri": "https://localhost:8080/"
        },
        "id": "FBpCa2r8Xhxk",
        "outputId": "685345b2-a695-4499-80db-dc7342bd66cd"
      },
      "execution_count": 37,
      "outputs": [
        {
          "output_type": "stream",
          "name": "stdout",
          "text": [
            "[debug] Command-line config: ['-v', '--ffmpeg-location', 'ffmpeg-master-latest-linux64-gpl/bin', '-o', 'dyson.mp4', '--', 'https://youtu.be/NSp2fEQ6wyA']\n",
            "[debug] Encodings: locale UTF-8, fs utf-8, pref UTF-8, out UTF-8, error UTF-8, screen UTF-8\n",
            "[debug] yt-dlp version 2022.11.11 [8b64402] (pip)\n",
            "[debug] Python 3.7.15 (CPython x86_64 64bit) - Linux-5.10.133+-x86_64-with-Ubuntu-18.04-bionic (OpenSSL 1.1.1  11 Sep 2018, glibc 2.26)\n",
            "[debug] exe versions: ffmpeg N-109048-g65f3bc9e7e-20221110 (setts), ffprobe N-109048-g65f3bc9e7e-20221110\n",
            "[debug] Optional libraries: Cryptodome-3.15.0, brotli-1.0.9, certifi-2022.09.24, mutagen-1.46.0, sqlite3-2.6.0, websockets-10.4\n",
            "[debug] Proxy map: {}\n",
            "[debug] Loaded 1723 extractors\n",
            "[debug] [youtube] Extracting URL: https://youtu.be/NSp2fEQ6wyA\n",
            "[youtube] NSp2fEQ6wyA: Downloading webpage\n",
            "[youtube] NSp2fEQ6wyA: Downloading android player API JSON\n",
            "[debug] Sort order given by extractor: quality, res, fps, hdr:12, source, vcodec:vp9.2, channels, acodec, lang, proto\n",
            "[debug] Formats sorted by: hasvid, ie_pref, quality, res, fps, hdr:12(7), source, vcodec:vp9.2(10), channels, acodec, lang, proto, filesize, fs_approx, tbr, vbr, abr, asr, vext, aext, hasaud, id\n",
            "[debug] Default format spec: bestvideo*+bestaudio/best\n",
            "[info] NSp2fEQ6wyA: Downloading 1 format(s): 244+251\n",
            "[debug] Invoking http downloader on \"https://rr5---sn-5ualdnlr.googlevideo.com/videoplayback?expire=1668287297&ei=4bZvY4S4BM2YhwbX3pnoAg&ip=35.237.216.67&id=o-AI1C6k2BbsiTaEaauMJ42U2lpu6794Nl--2C5NMdeGUM&itag=244&source=youtube&requiressl=yes&mh=KI&mm=31%2C29&mn=sn-5ualdnlr%2Csn-5uaeznld&ms=au%2Crdu&mv=m&mvi=5&pl=17&initcwndbps=2078750&spc=SFxXNiVQ9PeSWoQeLLT1IHsWVn_qzZk&vprv=1&svpuc=1&mime=video%2Fwebm&gir=yes&clen=9055274&dur=256.600&lmt=1475066330377418&mt=1668265294&fvip=5&keepalive=yes&fexp=24001373%2C24007246&beids=24239134&c=ANDROID&sparams=expire%2Cei%2Cip%2Cid%2Citag%2Csource%2Crequiressl%2Cspc%2Cvprv%2Csvpuc%2Cmime%2Cgir%2Cclen%2Cdur%2Clmt&sig=AOq0QJ8wRAIgbl7MJZssWACoUcOFI94EMKYAogGYbhDYaZlch1m6fYMCIC5z9ZlD1UgO75Wl6yyCZAlrOmRXNJxCCwIaj6LJqxBw&lsparams=mh%2Cmm%2Cmn%2Cms%2Cmv%2Cmvi%2Cpl%2Cinitcwndbps&lsig=AG3C_xAwRQIhAKqilaBROD1kFecRVlgh9pMPjm1ZgdbrYsOmBwxZ-pflAiAAw068V_53nHlvqZIi-KqiNB3dX-qAPnsiYwuEpyWWeQ%3D%3D\"\n",
            "[download] Destination: dyson.mp4.f244.webm\n",
            "\u001b[K[download] 100% of    8.64MiB in \u001b[1;37m00:00:00\u001b[0m at \u001b[0;32m21.21MiB/s\u001b[0m\n",
            "[debug] Invoking http downloader on \"https://rr5---sn-5ualdnlr.googlevideo.com/videoplayback?expire=1668287297&ei=4bZvY4S4BM2YhwbX3pnoAg&ip=35.237.216.67&id=o-AI1C6k2BbsiTaEaauMJ42U2lpu6794Nl--2C5NMdeGUM&itag=251&source=youtube&requiressl=yes&mh=KI&mm=31%2C29&mn=sn-5ualdnlr%2Csn-5uaeznld&ms=au%2Crdu&mv=m&mvi=5&pl=17&initcwndbps=2078750&spc=SFxXNiVQ9PeSWoQeLLT1IHsWVn_qzZk&vprv=1&svpuc=1&mime=audio%2Fwebm&gir=yes&clen=3153007&dur=256.641&lmt=1475065382561792&mt=1668265294&fvip=5&keepalive=yes&fexp=24001373%2C24007246&beids=24239134&c=ANDROID&sparams=expire%2Cei%2Cip%2Cid%2Citag%2Csource%2Crequiressl%2Cspc%2Cvprv%2Csvpuc%2Cmime%2Cgir%2Cclen%2Cdur%2Clmt&sig=AOq0QJ8wRgIhAKJsIMqqlqI9cLsKhh3HL1UZfKio4iqmUwXZAVqIfNMkAiEAyNGwm43Kg9b5lk5W6H8nZytqTBv-kgNdT0aywpb_wf8%3D&lsparams=mh%2Cmm%2Cmn%2Cms%2Cmv%2Cmvi%2Cpl%2Cinitcwndbps&lsig=AG3C_xAwRQIhAKqilaBROD1kFecRVlgh9pMPjm1ZgdbrYsOmBwxZ-pflAiAAw068V_53nHlvqZIi-KqiNB3dX-qAPnsiYwuEpyWWeQ%3D%3D\"\n",
            "[download] Destination: dyson.mp4.f251.webm\n",
            "\u001b[K[download] 100% of    3.01MiB in \u001b[1;37m00:00:00\u001b[0m at \u001b[0;32m20.66MiB/s\u001b[0m\n",
            "[Merger] Merging formats into \"dyson.mp4.webm\"\n",
            "[debug] ffmpeg command line: ffmpeg-master-latest-linux64-gpl/bin/ffmpeg -y -loglevel repeat+info -i file:dyson.mp4.f244.webm -i file:dyson.mp4.f251.webm -c copy -map 0:v:0 -map 1:a:0 -movflags +faststart file:dyson.mp4.temp.webm\n",
            "Deleting original file dyson.mp4.f251.webm (pass -k to keep)\n",
            "Deleting original file dyson.mp4.f244.webm (pass -k to keep)\n"
          ]
        }
      ]
    },
    {
      "cell_type": "code",
      "source": [
        "from google.colab import drive\n",
        "drive.mount('/content/drive')"
      ],
      "metadata": {
        "id": "HFklGWtLZlhC"
      },
      "execution_count": null,
      "outputs": []
    },
    {
      "cell_type": "code",
      "source": [
        "  !pip install -U yt-dlp\n",
        "  !yt-dlp -v --ffmpeg-location ffmpeg-master-latest-linux64-gpl/bin -o \"dyson.mp4\" -- {video_url}"
      ],
      "metadata": {
        "colab": {
          "base_uri": "https://localhost:8080/"
        },
        "id": "a_EEvlycbT0i",
        "outputId": "eb1a1a1e-112f-4795-f968-6ccffce5f5bc"
      },
      "execution_count": 20,
      "outputs": [
        {
          "output_type": "stream",
          "name": "stdout",
          "text": [
            "Looking in indexes: https://pypi.org/simple, https://us-python.pkg.dev/colab-wheels/public/simple/\n",
            "Collecting yt-dlp\n",
            "  Downloading yt_dlp-2022.11.11-py2.py3-none-any.whl (2.8 MB)\n",
            "\u001b[K     |████████████████████████████████| 2.8 MB 5.0 MB/s \n",
            "\u001b[?25hCollecting pycryptodomex\n",
            "  Downloading pycryptodomex-3.15.0-cp35-abi3-manylinux2010_x86_64.whl (2.3 MB)\n",
            "\u001b[K     |████████████████████████████████| 2.3 MB 51.7 MB/s \n",
            "\u001b[?25hCollecting mutagen\n",
            "  Downloading mutagen-1.46.0-py3-none-any.whl (193 kB)\n",
            "\u001b[K     |████████████████████████████████| 193 kB 71.9 MB/s \n",
            "\u001b[?25hRequirement already satisfied: certifi in /usr/local/lib/python3.7/dist-packages (from yt-dlp) (2022.9.24)\n",
            "Collecting websockets\n",
            "  Downloading websockets-10.4-cp37-cp37m-manylinux_2_5_x86_64.manylinux1_x86_64.manylinux_2_17_x86_64.manylinux2014_x86_64.whl (106 kB)\n",
            "\u001b[K     |████████████████████████████████| 106 kB 73.7 MB/s \n",
            "\u001b[?25hCollecting brotli\n",
            "  Downloading Brotli-1.0.9-cp37-cp37m-manylinux1_x86_64.whl (357 kB)\n",
            "\u001b[K     |████████████████████████████████| 357 kB 57.9 MB/s \n",
            "\u001b[?25hInstalling collected packages: websockets, pycryptodomex, mutagen, brotli, yt-dlp\n",
            "Successfully installed brotli-1.0.9 mutagen-1.46.0 pycryptodomex-3.15.0 websockets-10.4 yt-dlp-2022.11.11\n",
            "[debug] Command-line config: ['-v', '--ffmpeg-location', 'ffmpeg-master-latest-linux64-gpl/bin', '-o', 'dyson.mp4', '--', 'https://youtu.be/NSp2fEQ6wyA']\n",
            "[debug] Encodings: locale UTF-8, fs utf-8, pref UTF-8, out UTF-8, error UTF-8, screen UTF-8\n",
            "[debug] yt-dlp version 2022.11.11 [8b64402] (pip)\n",
            "[debug] Python 3.7.15 (CPython x86_64 64bit) - Linux-5.10.133+-x86_64-with-Ubuntu-18.04-bionic (OpenSSL 1.1.1  11 Sep 2018, glibc 2.26)\n",
            "[debug] exe versions: none\n",
            "[debug] Optional libraries: Cryptodome-3.15.0, brotli-1.0.9, certifi-2022.09.24, mutagen-1.46.0, sqlite3-2.6.0, websockets-10.4\n",
            "[debug] Proxy map: {}\n",
            "[debug] Loaded 1723 extractors\n",
            "[debug] [youtube] Extracting URL: https://youtu.be/NSp2fEQ6wyA\n",
            "[youtube] NSp2fEQ6wyA: Downloading webpage\n",
            "[youtube] NSp2fEQ6wyA: Downloading android player API JSON\n",
            "[debug] Sort order given by extractor: quality, res, fps, hdr:12, source, vcodec:vp9.2, channels, acodec, lang, proto\n",
            "[debug] Formats sorted by: hasvid, ie_pref, quality, res, fps, hdr:12(7), source, vcodec:vp9.2(10), channels, acodec, lang, proto, filesize, fs_approx, tbr, vbr, abr, asr, vext, aext, hasaud, id\n",
            "[debug] Default format spec: best/bestvideo+bestaudio\n",
            "[info] NSp2fEQ6wyA: Downloading 1 format(s): 18\n",
            "[debug] Invoking http downloader on \"https://rr5---sn-5ualdnlr.googlevideo.com/videoplayback?expire=1668288099&ei=A7pvY936KtSwhwa-lbeoBw&ip=104.196.164.56&id=o-AEVyIdPFiILmqFObn7_Ty8uPawWcRIdSeDZdTVGc6rcT&itag=18&source=youtube&requiressl=yes&mh=KI&mm=31%2C26&mn=sn-5ualdnlr%2Csn-5goeen7k&ms=au%2Conr&mv=u&mvi=5&pl=20&pcm2=yes&spc=SFxXNsBbsq8h3mIg8ff1YRH696rjlkY&vprv=1&svpuc=1&mime=video%2Fmp4&cnr=14&ratebypass=yes&dur=256.696&lmt=1661447974067792&mt=1668265147&fvip=3&fexp=24001373%2C24007246&c=ANDROID&txp=1318224&sparams=expire%2Cei%2Cip%2Cid%2Citag%2Csource%2Crequiressl%2Cpcm2%2Cspc%2Cvprv%2Csvpuc%2Cmime%2Ccnr%2Cratebypass%2Cdur%2Clmt&sig=AOq0QJ8wRgIhANo4BZXkrk_G6YdT8C_B17ec5OiJl943xgw-4GBrhjTWAiEAgM0vUNHZ9ZPFM5oOPsmWi5Aktrvn8gZSzlBQnsIFtNI%3D&lsparams=mh%2Cmm%2Cmn%2Cms%2Cmv%2Cmvi%2Cpl&lsig=AG3C_xAwRgIhAJUz9kn1v9e2LcS6s8GFbydYA0Z6HLuwHYWvpziml6aWAiEAhqxNKrXfFjfhYkCxch9RAtDkzglientaKZwoMfJeYxQ%3D\"\n",
            "[download] Destination: dyson.mp4\n",
            "\u001b[K[download] 100% of    9.70MiB in \u001b[1;37m00:00:01\u001b[0m at \u001b[0;32m7.14MiB/s\u001b[0m\n"
          ]
        }
      ]
    }
  ],
  "metadata": {
    "colab": {
      "collapsed_sections": [],
      "provenance": [],
      "machine_shape": "hm",
      "include_colab_link": true
    },
    "kernelspec": {
      "display_name": "Python 3",
      "name": "python3"
    },
    "gpuClass": "standard",
    "widgets": {
      "application/vnd.jupyter.widget-state+json": {
        "784d3df8eb5b476789872a01bd159b95": {
          "model_module": "@jupyter-widgets/controls",
          "model_name": "VBoxModel",
          "model_module_version": "1.5.0",
          "state": {
            "_dom_classes": [],
            "_model_module": "@jupyter-widgets/controls",
            "_model_module_version": "1.5.0",
            "_model_name": "VBoxModel",
            "_view_count": null,
            "_view_module": "@jupyter-widgets/controls",
            "_view_module_version": "1.5.0",
            "_view_name": "VBoxView",
            "box_style": "",
            "children": [
              "IPY_MODEL_9718e953aae5472ba12a6022b7920660",
              "IPY_MODEL_dba3b716e89c433b9e0eb68039b34fbd",
              "IPY_MODEL_5bca75959c2549e2b00ae7d5583e33fa",
              "IPY_MODEL_42cf452e44be4e58abcc6650dbf282eb"
            ],
            "layout": "IPY_MODEL_4fa18cf2ea6042028b913ef72e6a6cf0"
          }
        },
        "9718e953aae5472ba12a6022b7920660": {
          "model_module": "@jupyter-widgets/controls",
          "model_name": "HTMLModel",
          "model_module_version": "1.5.0",
          "state": {
            "_dom_classes": [],
            "_model_module": "@jupyter-widgets/controls",
            "_model_module_version": "1.5.0",
            "_model_name": "HTMLModel",
            "_view_count": null,
            "_view_module": "@jupyter-widgets/controls",
            "_view_module_version": "1.5.0",
            "_view_name": "HTMLView",
            "description": "",
            "description_tooltip": null,
            "layout": "IPY_MODEL_de458f3b38ee4499b809b5ec9e1df135",
            "placeholder": "​",
            "style": "IPY_MODEL_d85e7e19399642a792f1c932c6512668",
            "value": "<center> <img\nsrc=https://huggingface.co/front/assets/huggingface_logo-noborder.svg\nalt='Hugging Face'> <br> Copy a token from <a\nhref=\"https://huggingface.co/settings/tokens\" target=\"_blank\">your Hugging Face\ntokens page</a> and paste it below. <br> Immediately click login after copying\nyour token or it might be stored in plain text in this notebook file. </center>"
          }
        },
        "dba3b716e89c433b9e0eb68039b34fbd": {
          "model_module": "@jupyter-widgets/controls",
          "model_name": "PasswordModel",
          "model_module_version": "1.5.0",
          "state": {
            "_dom_classes": [],
            "_model_module": "@jupyter-widgets/controls",
            "_model_module_version": "1.5.0",
            "_model_name": "PasswordModel",
            "_view_count": null,
            "_view_module": "@jupyter-widgets/controls",
            "_view_module_version": "1.5.0",
            "_view_name": "PasswordView",
            "continuous_update": true,
            "description": "Token:",
            "description_tooltip": null,
            "disabled": false,
            "layout": "IPY_MODEL_44da777b513d44fdbfc015ca8eb52ffa",
            "placeholder": "​",
            "style": "IPY_MODEL_a8413489ca2b40ecb1085e8598819cb8",
            "value": ""
          }
        },
        "5bca75959c2549e2b00ae7d5583e33fa": {
          "model_module": "@jupyter-widgets/controls",
          "model_name": "ButtonModel",
          "model_module_version": "1.5.0",
          "state": {
            "_dom_classes": [],
            "_model_module": "@jupyter-widgets/controls",
            "_model_module_version": "1.5.0",
            "_model_name": "ButtonModel",
            "_view_count": null,
            "_view_module": "@jupyter-widgets/controls",
            "_view_module_version": "1.5.0",
            "_view_name": "ButtonView",
            "button_style": "",
            "description": "Login",
            "disabled": false,
            "icon": "",
            "layout": "IPY_MODEL_c2f2cf09daaf4aa386d55eeeed8d9193",
            "style": "IPY_MODEL_9ec8c7a47460411fb9c035dc7d1b2dbd",
            "tooltip": ""
          }
        },
        "42cf452e44be4e58abcc6650dbf282eb": {
          "model_module": "@jupyter-widgets/controls",
          "model_name": "HTMLModel",
          "model_module_version": "1.5.0",
          "state": {
            "_dom_classes": [],
            "_model_module": "@jupyter-widgets/controls",
            "_model_module_version": "1.5.0",
            "_model_name": "HTMLModel",
            "_view_count": null,
            "_view_module": "@jupyter-widgets/controls",
            "_view_module_version": "1.5.0",
            "_view_name": "HTMLView",
            "description": "",
            "description_tooltip": null,
            "layout": "IPY_MODEL_e7d26053e3044c18aae69f24e8ec33ce",
            "placeholder": "​",
            "style": "IPY_MODEL_3229614bce1f45caba16cffb6b293bd2",
            "value": "\n<b>Pro Tip:</b> If you don't already have one, you can create a dedicated\n'notebooks' token with 'write' access, that you can then easily reuse for all\nnotebooks. </center>"
          }
        },
        "4fa18cf2ea6042028b913ef72e6a6cf0": {
          "model_module": "@jupyter-widgets/base",
          "model_name": "LayoutModel",
          "model_module_version": "1.2.0",
          "state": {
            "_model_module": "@jupyter-widgets/base",
            "_model_module_version": "1.2.0",
            "_model_name": "LayoutModel",
            "_view_count": null,
            "_view_module": "@jupyter-widgets/base",
            "_view_module_version": "1.2.0",
            "_view_name": "LayoutView",
            "align_content": null,
            "align_items": "center",
            "align_self": null,
            "border": null,
            "bottom": null,
            "display": "flex",
            "flex": null,
            "flex_flow": "column",
            "grid_area": null,
            "grid_auto_columns": null,
            "grid_auto_flow": null,
            "grid_auto_rows": null,
            "grid_column": null,
            "grid_gap": null,
            "grid_row": null,
            "grid_template_areas": null,
            "grid_template_columns": null,
            "grid_template_rows": null,
            "height": null,
            "justify_content": null,
            "justify_items": null,
            "left": null,
            "margin": null,
            "max_height": null,
            "max_width": null,
            "min_height": null,
            "min_width": null,
            "object_fit": null,
            "object_position": null,
            "order": null,
            "overflow": null,
            "overflow_x": null,
            "overflow_y": null,
            "padding": null,
            "right": null,
            "top": null,
            "visibility": null,
            "width": "50%"
          }
        },
        "de458f3b38ee4499b809b5ec9e1df135": {
          "model_module": "@jupyter-widgets/base",
          "model_name": "LayoutModel",
          "model_module_version": "1.2.0",
          "state": {
            "_model_module": "@jupyter-widgets/base",
            "_model_module_version": "1.2.0",
            "_model_name": "LayoutModel",
            "_view_count": null,
            "_view_module": "@jupyter-widgets/base",
            "_view_module_version": "1.2.0",
            "_view_name": "LayoutView",
            "align_content": null,
            "align_items": null,
            "align_self": null,
            "border": null,
            "bottom": null,
            "display": null,
            "flex": null,
            "flex_flow": null,
            "grid_area": null,
            "grid_auto_columns": null,
            "grid_auto_flow": null,
            "grid_auto_rows": null,
            "grid_column": null,
            "grid_gap": null,
            "grid_row": null,
            "grid_template_areas": null,
            "grid_template_columns": null,
            "grid_template_rows": null,
            "height": null,
            "justify_content": null,
            "justify_items": null,
            "left": null,
            "margin": null,
            "max_height": null,
            "max_width": null,
            "min_height": null,
            "min_width": null,
            "object_fit": null,
            "object_position": null,
            "order": null,
            "overflow": null,
            "overflow_x": null,
            "overflow_y": null,
            "padding": null,
            "right": null,
            "top": null,
            "visibility": null,
            "width": null
          }
        },
        "d85e7e19399642a792f1c932c6512668": {
          "model_module": "@jupyter-widgets/controls",
          "model_name": "DescriptionStyleModel",
          "model_module_version": "1.5.0",
          "state": {
            "_model_module": "@jupyter-widgets/controls",
            "_model_module_version": "1.5.0",
            "_model_name": "DescriptionStyleModel",
            "_view_count": null,
            "_view_module": "@jupyter-widgets/base",
            "_view_module_version": "1.2.0",
            "_view_name": "StyleView",
            "description_width": ""
          }
        },
        "44da777b513d44fdbfc015ca8eb52ffa": {
          "model_module": "@jupyter-widgets/base",
          "model_name": "LayoutModel",
          "model_module_version": "1.2.0",
          "state": {
            "_model_module": "@jupyter-widgets/base",
            "_model_module_version": "1.2.0",
            "_model_name": "LayoutModel",
            "_view_count": null,
            "_view_module": "@jupyter-widgets/base",
            "_view_module_version": "1.2.0",
            "_view_name": "LayoutView",
            "align_content": null,
            "align_items": null,
            "align_self": null,
            "border": null,
            "bottom": null,
            "display": null,
            "flex": null,
            "flex_flow": null,
            "grid_area": null,
            "grid_auto_columns": null,
            "grid_auto_flow": null,
            "grid_auto_rows": null,
            "grid_column": null,
            "grid_gap": null,
            "grid_row": null,
            "grid_template_areas": null,
            "grid_template_columns": null,
            "grid_template_rows": null,
            "height": null,
            "justify_content": null,
            "justify_items": null,
            "left": null,
            "margin": null,
            "max_height": null,
            "max_width": null,
            "min_height": null,
            "min_width": null,
            "object_fit": null,
            "object_position": null,
            "order": null,
            "overflow": null,
            "overflow_x": null,
            "overflow_y": null,
            "padding": null,
            "right": null,
            "top": null,
            "visibility": null,
            "width": null
          }
        },
        "a8413489ca2b40ecb1085e8598819cb8": {
          "model_module": "@jupyter-widgets/controls",
          "model_name": "DescriptionStyleModel",
          "model_module_version": "1.5.0",
          "state": {
            "_model_module": "@jupyter-widgets/controls",
            "_model_module_version": "1.5.0",
            "_model_name": "DescriptionStyleModel",
            "_view_count": null,
            "_view_module": "@jupyter-widgets/base",
            "_view_module_version": "1.2.0",
            "_view_name": "StyleView",
            "description_width": ""
          }
        },
        "c2f2cf09daaf4aa386d55eeeed8d9193": {
          "model_module": "@jupyter-widgets/base",
          "model_name": "LayoutModel",
          "model_module_version": "1.2.0",
          "state": {
            "_model_module": "@jupyter-widgets/base",
            "_model_module_version": "1.2.0",
            "_model_name": "LayoutModel",
            "_view_count": null,
            "_view_module": "@jupyter-widgets/base",
            "_view_module_version": "1.2.0",
            "_view_name": "LayoutView",
            "align_content": null,
            "align_items": null,
            "align_self": null,
            "border": null,
            "bottom": null,
            "display": null,
            "flex": null,
            "flex_flow": null,
            "grid_area": null,
            "grid_auto_columns": null,
            "grid_auto_flow": null,
            "grid_auto_rows": null,
            "grid_column": null,
            "grid_gap": null,
            "grid_row": null,
            "grid_template_areas": null,
            "grid_template_columns": null,
            "grid_template_rows": null,
            "height": null,
            "justify_content": null,
            "justify_items": null,
            "left": null,
            "margin": null,
            "max_height": null,
            "max_width": null,
            "min_height": null,
            "min_width": null,
            "object_fit": null,
            "object_position": null,
            "order": null,
            "overflow": null,
            "overflow_x": null,
            "overflow_y": null,
            "padding": null,
            "right": null,
            "top": null,
            "visibility": null,
            "width": null
          }
        },
        "9ec8c7a47460411fb9c035dc7d1b2dbd": {
          "model_module": "@jupyter-widgets/controls",
          "model_name": "ButtonStyleModel",
          "model_module_version": "1.5.0",
          "state": {
            "_model_module": "@jupyter-widgets/controls",
            "_model_module_version": "1.5.0",
            "_model_name": "ButtonStyleModel",
            "_view_count": null,
            "_view_module": "@jupyter-widgets/base",
            "_view_module_version": "1.2.0",
            "_view_name": "StyleView",
            "button_color": null,
            "font_weight": ""
          }
        },
        "e7d26053e3044c18aae69f24e8ec33ce": {
          "model_module": "@jupyter-widgets/base",
          "model_name": "LayoutModel",
          "model_module_version": "1.2.0",
          "state": {
            "_model_module": "@jupyter-widgets/base",
            "_model_module_version": "1.2.0",
            "_model_name": "LayoutModel",
            "_view_count": null,
            "_view_module": "@jupyter-widgets/base",
            "_view_module_version": "1.2.0",
            "_view_name": "LayoutView",
            "align_content": null,
            "align_items": null,
            "align_self": null,
            "border": null,
            "bottom": null,
            "display": null,
            "flex": null,
            "flex_flow": null,
            "grid_area": null,
            "grid_auto_columns": null,
            "grid_auto_flow": null,
            "grid_auto_rows": null,
            "grid_column": null,
            "grid_gap": null,
            "grid_row": null,
            "grid_template_areas": null,
            "grid_template_columns": null,
            "grid_template_rows": null,
            "height": null,
            "justify_content": null,
            "justify_items": null,
            "left": null,
            "margin": null,
            "max_height": null,
            "max_width": null,
            "min_height": null,
            "min_width": null,
            "object_fit": null,
            "object_position": null,
            "order": null,
            "overflow": null,
            "overflow_x": null,
            "overflow_y": null,
            "padding": null,
            "right": null,
            "top": null,
            "visibility": null,
            "width": null
          }
        },
        "3229614bce1f45caba16cffb6b293bd2": {
          "model_module": "@jupyter-widgets/controls",
          "model_name": "DescriptionStyleModel",
          "model_module_version": "1.5.0",
          "state": {
            "_model_module": "@jupyter-widgets/controls",
            "_model_module_version": "1.5.0",
            "_model_name": "DescriptionStyleModel",
            "_view_count": null,
            "_view_module": "@jupyter-widgets/base",
            "_view_module_version": "1.2.0",
            "_view_name": "StyleView",
            "description_width": ""
          }
        },
        "b2ef68a5ceb94f3c9fd83d19016095ce": {
          "model_module": "@jupyter-widgets/controls",
          "model_name": "HBoxModel",
          "model_module_version": "1.5.0",
          "state": {
            "_dom_classes": [],
            "_model_module": "@jupyter-widgets/controls",
            "_model_module_version": "1.5.0",
            "_model_name": "HBoxModel",
            "_view_count": null,
            "_view_module": "@jupyter-widgets/controls",
            "_view_module_version": "1.5.0",
            "_view_name": "HBoxView",
            "box_style": "",
            "children": [
              "IPY_MODEL_2b36b515fe4645faa525b109529ecefe",
              "IPY_MODEL_2a5ee14fb22c4367a2319c7b55177967",
              "IPY_MODEL_cb1e2fbd8eb44c8c9acdd726d300e123"
            ],
            "layout": "IPY_MODEL_acdc8bacbf1f420384fd241b946f8f16"
          }
        },
        "2b36b515fe4645faa525b109529ecefe": {
          "model_module": "@jupyter-widgets/controls",
          "model_name": "HTMLModel",
          "model_module_version": "1.5.0",
          "state": {
            "_dom_classes": [],
            "_model_module": "@jupyter-widgets/controls",
            "_model_module_version": "1.5.0",
            "_model_name": "HTMLModel",
            "_view_count": null,
            "_view_module": "@jupyter-widgets/controls",
            "_view_module_version": "1.5.0",
            "_view_name": "HTMLView",
            "description": "",
            "description_tooltip": null,
            "layout": "IPY_MODEL_ee1b9eed4b1d4f959e70bfe8961307c4",
            "placeholder": "​",
            "style": "IPY_MODEL_0e85f9334b3c4a75ab9d5446d2ca5927",
            "value": "Downloading: 100%"
          }
        },
        "2a5ee14fb22c4367a2319c7b55177967": {
          "model_module": "@jupyter-widgets/controls",
          "model_name": "FloatProgressModel",
          "model_module_version": "1.5.0",
          "state": {
            "_dom_classes": [],
            "_model_module": "@jupyter-widgets/controls",
            "_model_module_version": "1.5.0",
            "_model_name": "FloatProgressModel",
            "_view_count": null,
            "_view_module": "@jupyter-widgets/controls",
            "_view_module_version": "1.5.0",
            "_view_name": "ProgressView",
            "bar_style": "success",
            "description": "",
            "description_tooltip": null,
            "layout": "IPY_MODEL_46ad47575e1942c39f7b7aefc5caf52f",
            "max": 500,
            "min": 0,
            "orientation": "horizontal",
            "style": "IPY_MODEL_fcdfebc86c1c432b9644f6bbc1eca907",
            "value": 500
          }
        },
        "cb1e2fbd8eb44c8c9acdd726d300e123": {
          "model_module": "@jupyter-widgets/controls",
          "model_name": "HTMLModel",
          "model_module_version": "1.5.0",
          "state": {
            "_dom_classes": [],
            "_model_module": "@jupyter-widgets/controls",
            "_model_module_version": "1.5.0",
            "_model_name": "HTMLModel",
            "_view_count": null,
            "_view_module": "@jupyter-widgets/controls",
            "_view_module_version": "1.5.0",
            "_view_name": "HTMLView",
            "description": "",
            "description_tooltip": null,
            "layout": "IPY_MODEL_680f7b9465614e23bf655c1936770dc1",
            "placeholder": "​",
            "style": "IPY_MODEL_de02517a4d544321a719e0441e574c02",
            "value": " 500/500 [00:00&lt;00:00, 15.2kB/s]"
          }
        },
        "acdc8bacbf1f420384fd241b946f8f16": {
          "model_module": "@jupyter-widgets/base",
          "model_name": "LayoutModel",
          "model_module_version": "1.2.0",
          "state": {
            "_model_module": "@jupyter-widgets/base",
            "_model_module_version": "1.2.0",
            "_model_name": "LayoutModel",
            "_view_count": null,
            "_view_module": "@jupyter-widgets/base",
            "_view_module_version": "1.2.0",
            "_view_name": "LayoutView",
            "align_content": null,
            "align_items": null,
            "align_self": null,
            "border": null,
            "bottom": null,
            "display": null,
            "flex": null,
            "flex_flow": null,
            "grid_area": null,
            "grid_auto_columns": null,
            "grid_auto_flow": null,
            "grid_auto_rows": null,
            "grid_column": null,
            "grid_gap": null,
            "grid_row": null,
            "grid_template_areas": null,
            "grid_template_columns": null,
            "grid_template_rows": null,
            "height": null,
            "justify_content": null,
            "justify_items": null,
            "left": null,
            "margin": null,
            "max_height": null,
            "max_width": null,
            "min_height": null,
            "min_width": null,
            "object_fit": null,
            "object_position": null,
            "order": null,
            "overflow": null,
            "overflow_x": null,
            "overflow_y": null,
            "padding": null,
            "right": null,
            "top": null,
            "visibility": null,
            "width": null
          }
        },
        "ee1b9eed4b1d4f959e70bfe8961307c4": {
          "model_module": "@jupyter-widgets/base",
          "model_name": "LayoutModel",
          "model_module_version": "1.2.0",
          "state": {
            "_model_module": "@jupyter-widgets/base",
            "_model_module_version": "1.2.0",
            "_model_name": "LayoutModel",
            "_view_count": null,
            "_view_module": "@jupyter-widgets/base",
            "_view_module_version": "1.2.0",
            "_view_name": "LayoutView",
            "align_content": null,
            "align_items": null,
            "align_self": null,
            "border": null,
            "bottom": null,
            "display": null,
            "flex": null,
            "flex_flow": null,
            "grid_area": null,
            "grid_auto_columns": null,
            "grid_auto_flow": null,
            "grid_auto_rows": null,
            "grid_column": null,
            "grid_gap": null,
            "grid_row": null,
            "grid_template_areas": null,
            "grid_template_columns": null,
            "grid_template_rows": null,
            "height": null,
            "justify_content": null,
            "justify_items": null,
            "left": null,
            "margin": null,
            "max_height": null,
            "max_width": null,
            "min_height": null,
            "min_width": null,
            "object_fit": null,
            "object_position": null,
            "order": null,
            "overflow": null,
            "overflow_x": null,
            "overflow_y": null,
            "padding": null,
            "right": null,
            "top": null,
            "visibility": null,
            "width": null
          }
        },
        "0e85f9334b3c4a75ab9d5446d2ca5927": {
          "model_module": "@jupyter-widgets/controls",
          "model_name": "DescriptionStyleModel",
          "model_module_version": "1.5.0",
          "state": {
            "_model_module": "@jupyter-widgets/controls",
            "_model_module_version": "1.5.0",
            "_model_name": "DescriptionStyleModel",
            "_view_count": null,
            "_view_module": "@jupyter-widgets/base",
            "_view_module_version": "1.2.0",
            "_view_name": "StyleView",
            "description_width": ""
          }
        },
        "46ad47575e1942c39f7b7aefc5caf52f": {
          "model_module": "@jupyter-widgets/base",
          "model_name": "LayoutModel",
          "model_module_version": "1.2.0",
          "state": {
            "_model_module": "@jupyter-widgets/base",
            "_model_module_version": "1.2.0",
            "_model_name": "LayoutModel",
            "_view_count": null,
            "_view_module": "@jupyter-widgets/base",
            "_view_module_version": "1.2.0",
            "_view_name": "LayoutView",
            "align_content": null,
            "align_items": null,
            "align_self": null,
            "border": null,
            "bottom": null,
            "display": null,
            "flex": null,
            "flex_flow": null,
            "grid_area": null,
            "grid_auto_columns": null,
            "grid_auto_flow": null,
            "grid_auto_rows": null,
            "grid_column": null,
            "grid_gap": null,
            "grid_row": null,
            "grid_template_areas": null,
            "grid_template_columns": null,
            "grid_template_rows": null,
            "height": null,
            "justify_content": null,
            "justify_items": null,
            "left": null,
            "margin": null,
            "max_height": null,
            "max_width": null,
            "min_height": null,
            "min_width": null,
            "object_fit": null,
            "object_position": null,
            "order": null,
            "overflow": null,
            "overflow_x": null,
            "overflow_y": null,
            "padding": null,
            "right": null,
            "top": null,
            "visibility": null,
            "width": null
          }
        },
        "fcdfebc86c1c432b9644f6bbc1eca907": {
          "model_module": "@jupyter-widgets/controls",
          "model_name": "ProgressStyleModel",
          "model_module_version": "1.5.0",
          "state": {
            "_model_module": "@jupyter-widgets/controls",
            "_model_module_version": "1.5.0",
            "_model_name": "ProgressStyleModel",
            "_view_count": null,
            "_view_module": "@jupyter-widgets/base",
            "_view_module_version": "1.2.0",
            "_view_name": "StyleView",
            "bar_color": null,
            "description_width": ""
          }
        },
        "680f7b9465614e23bf655c1936770dc1": {
          "model_module": "@jupyter-widgets/base",
          "model_name": "LayoutModel",
          "model_module_version": "1.2.0",
          "state": {
            "_model_module": "@jupyter-widgets/base",
            "_model_module_version": "1.2.0",
            "_model_name": "LayoutModel",
            "_view_count": null,
            "_view_module": "@jupyter-widgets/base",
            "_view_module_version": "1.2.0",
            "_view_name": "LayoutView",
            "align_content": null,
            "align_items": null,
            "align_self": null,
            "border": null,
            "bottom": null,
            "display": null,
            "flex": null,
            "flex_flow": null,
            "grid_area": null,
            "grid_auto_columns": null,
            "grid_auto_flow": null,
            "grid_auto_rows": null,
            "grid_column": null,
            "grid_gap": null,
            "grid_row": null,
            "grid_template_areas": null,
            "grid_template_columns": null,
            "grid_template_rows": null,
            "height": null,
            "justify_content": null,
            "justify_items": null,
            "left": null,
            "margin": null,
            "max_height": null,
            "max_width": null,
            "min_height": null,
            "min_width": null,
            "object_fit": null,
            "object_position": null,
            "order": null,
            "overflow": null,
            "overflow_x": null,
            "overflow_y": null,
            "padding": null,
            "right": null,
            "top": null,
            "visibility": null,
            "width": null
          }
        },
        "de02517a4d544321a719e0441e574c02": {
          "model_module": "@jupyter-widgets/controls",
          "model_name": "DescriptionStyleModel",
          "model_module_version": "1.5.0",
          "state": {
            "_model_module": "@jupyter-widgets/controls",
            "_model_module_version": "1.5.0",
            "_model_name": "DescriptionStyleModel",
            "_view_count": null,
            "_view_module": "@jupyter-widgets/base",
            "_view_module_version": "1.2.0",
            "_view_name": "StyleView",
            "description_width": ""
          }
        },
        "952da9668b334147bde0a7395c8ce7f3": {
          "model_module": "@jupyter-widgets/controls",
          "model_name": "HBoxModel",
          "model_module_version": "1.5.0",
          "state": {
            "_dom_classes": [],
            "_model_module": "@jupyter-widgets/controls",
            "_model_module_version": "1.5.0",
            "_model_name": "HBoxModel",
            "_view_count": null,
            "_view_module": "@jupyter-widgets/controls",
            "_view_module_version": "1.5.0",
            "_view_name": "HBoxView",
            "box_style": "",
            "children": [
              "IPY_MODEL_c261faabeda049efabbf9fede99a0eb3",
              "IPY_MODEL_b3e848af4a3047b1903c83596a23a675",
              "IPY_MODEL_fcf4bfa8800a420caf59adaaee20abeb"
            ],
            "layout": "IPY_MODEL_c007e26d4ff24a87b2c02d57efe21542"
          }
        },
        "c261faabeda049efabbf9fede99a0eb3": {
          "model_module": "@jupyter-widgets/controls",
          "model_name": "HTMLModel",
          "model_module_version": "1.5.0",
          "state": {
            "_dom_classes": [],
            "_model_module": "@jupyter-widgets/controls",
            "_model_module_version": "1.5.0",
            "_model_name": "HTMLModel",
            "_view_count": null,
            "_view_module": "@jupyter-widgets/controls",
            "_view_module_version": "1.5.0",
            "_view_name": "HTMLView",
            "description": "",
            "description_tooltip": null,
            "layout": "IPY_MODEL_764da5e4d4bb47be8232f97ec428e848",
            "placeholder": "​",
            "style": "IPY_MODEL_d6c84183b6184adcbb3e3f9afb0eeb24",
            "value": "Downloading: 100%"
          }
        },
        "b3e848af4a3047b1903c83596a23a675": {
          "model_module": "@jupyter-widgets/controls",
          "model_name": "FloatProgressModel",
          "model_module_version": "1.5.0",
          "state": {
            "_dom_classes": [],
            "_model_module": "@jupyter-widgets/controls",
            "_model_module_version": "1.5.0",
            "_model_name": "FloatProgressModel",
            "_view_count": null,
            "_view_module": "@jupyter-widgets/controls",
            "_view_module_version": "1.5.0",
            "_view_name": "ProgressView",
            "bar_style": "success",
            "description": "",
            "description_tooltip": null,
            "layout": "IPY_MODEL_4af0743aba1c492da80d1769068e9992",
            "max": 17719103,
            "min": 0,
            "orientation": "horizontal",
            "style": "IPY_MODEL_1d55427b74034e6a8d2676b3cbac2fa6",
            "value": 17719103
          }
        },
        "fcf4bfa8800a420caf59adaaee20abeb": {
          "model_module": "@jupyter-widgets/controls",
          "model_name": "HTMLModel",
          "model_module_version": "1.5.0",
          "state": {
            "_dom_classes": [],
            "_model_module": "@jupyter-widgets/controls",
            "_model_module_version": "1.5.0",
            "_model_name": "HTMLModel",
            "_view_count": null,
            "_view_module": "@jupyter-widgets/controls",
            "_view_module_version": "1.5.0",
            "_view_name": "HTMLView",
            "description": "",
            "description_tooltip": null,
            "layout": "IPY_MODEL_c39df2a2663f42c28ef6aa8bf12cc317",
            "placeholder": "​",
            "style": "IPY_MODEL_8a53760468c845808f9c13b2afbb342c",
            "value": " 17.7M/17.7M [00:00&lt;00:00, 50.8MB/s]"
          }
        },
        "c007e26d4ff24a87b2c02d57efe21542": {
          "model_module": "@jupyter-widgets/base",
          "model_name": "LayoutModel",
          "model_module_version": "1.2.0",
          "state": {
            "_model_module": "@jupyter-widgets/base",
            "_model_module_version": "1.2.0",
            "_model_name": "LayoutModel",
            "_view_count": null,
            "_view_module": "@jupyter-widgets/base",
            "_view_module_version": "1.2.0",
            "_view_name": "LayoutView",
            "align_content": null,
            "align_items": null,
            "align_self": null,
            "border": null,
            "bottom": null,
            "display": null,
            "flex": null,
            "flex_flow": null,
            "grid_area": null,
            "grid_auto_columns": null,
            "grid_auto_flow": null,
            "grid_auto_rows": null,
            "grid_column": null,
            "grid_gap": null,
            "grid_row": null,
            "grid_template_areas": null,
            "grid_template_columns": null,
            "grid_template_rows": null,
            "height": null,
            "justify_content": null,
            "justify_items": null,
            "left": null,
            "margin": null,
            "max_height": null,
            "max_width": null,
            "min_height": null,
            "min_width": null,
            "object_fit": null,
            "object_position": null,
            "order": null,
            "overflow": null,
            "overflow_x": null,
            "overflow_y": null,
            "padding": null,
            "right": null,
            "top": null,
            "visibility": null,
            "width": null
          }
        },
        "764da5e4d4bb47be8232f97ec428e848": {
          "model_module": "@jupyter-widgets/base",
          "model_name": "LayoutModel",
          "model_module_version": "1.2.0",
          "state": {
            "_model_module": "@jupyter-widgets/base",
            "_model_module_version": "1.2.0",
            "_model_name": "LayoutModel",
            "_view_count": null,
            "_view_module": "@jupyter-widgets/base",
            "_view_module_version": "1.2.0",
            "_view_name": "LayoutView",
            "align_content": null,
            "align_items": null,
            "align_self": null,
            "border": null,
            "bottom": null,
            "display": null,
            "flex": null,
            "flex_flow": null,
            "grid_area": null,
            "grid_auto_columns": null,
            "grid_auto_flow": null,
            "grid_auto_rows": null,
            "grid_column": null,
            "grid_gap": null,
            "grid_row": null,
            "grid_template_areas": null,
            "grid_template_columns": null,
            "grid_template_rows": null,
            "height": null,
            "justify_content": null,
            "justify_items": null,
            "left": null,
            "margin": null,
            "max_height": null,
            "max_width": null,
            "min_height": null,
            "min_width": null,
            "object_fit": null,
            "object_position": null,
            "order": null,
            "overflow": null,
            "overflow_x": null,
            "overflow_y": null,
            "padding": null,
            "right": null,
            "top": null,
            "visibility": null,
            "width": null
          }
        },
        "d6c84183b6184adcbb3e3f9afb0eeb24": {
          "model_module": "@jupyter-widgets/controls",
          "model_name": "DescriptionStyleModel",
          "model_module_version": "1.5.0",
          "state": {
            "_model_module": "@jupyter-widgets/controls",
            "_model_module_version": "1.5.0",
            "_model_name": "DescriptionStyleModel",
            "_view_count": null,
            "_view_module": "@jupyter-widgets/base",
            "_view_module_version": "1.2.0",
            "_view_name": "StyleView",
            "description_width": ""
          }
        },
        "4af0743aba1c492da80d1769068e9992": {
          "model_module": "@jupyter-widgets/base",
          "model_name": "LayoutModel",
          "model_module_version": "1.2.0",
          "state": {
            "_model_module": "@jupyter-widgets/base",
            "_model_module_version": "1.2.0",
            "_model_name": "LayoutModel",
            "_view_count": null,
            "_view_module": "@jupyter-widgets/base",
            "_view_module_version": "1.2.0",
            "_view_name": "LayoutView",
            "align_content": null,
            "align_items": null,
            "align_self": null,
            "border": null,
            "bottom": null,
            "display": null,
            "flex": null,
            "flex_flow": null,
            "grid_area": null,
            "grid_auto_columns": null,
            "grid_auto_flow": null,
            "grid_auto_rows": null,
            "grid_column": null,
            "grid_gap": null,
            "grid_row": null,
            "grid_template_areas": null,
            "grid_template_columns": null,
            "grid_template_rows": null,
            "height": null,
            "justify_content": null,
            "justify_items": null,
            "left": null,
            "margin": null,
            "max_height": null,
            "max_width": null,
            "min_height": null,
            "min_width": null,
            "object_fit": null,
            "object_position": null,
            "order": null,
            "overflow": null,
            "overflow_x": null,
            "overflow_y": null,
            "padding": null,
            "right": null,
            "top": null,
            "visibility": null,
            "width": null
          }
        },
        "1d55427b74034e6a8d2676b3cbac2fa6": {
          "model_module": "@jupyter-widgets/controls",
          "model_name": "ProgressStyleModel",
          "model_module_version": "1.5.0",
          "state": {
            "_model_module": "@jupyter-widgets/controls",
            "_model_module_version": "1.5.0",
            "_model_name": "ProgressStyleModel",
            "_view_count": null,
            "_view_module": "@jupyter-widgets/base",
            "_view_module_version": "1.2.0",
            "_view_name": "StyleView",
            "bar_color": null,
            "description_width": ""
          }
        },
        "c39df2a2663f42c28ef6aa8bf12cc317": {
          "model_module": "@jupyter-widgets/base",
          "model_name": "LayoutModel",
          "model_module_version": "1.2.0",
          "state": {
            "_model_module": "@jupyter-widgets/base",
            "_model_module_version": "1.2.0",
            "_model_name": "LayoutModel",
            "_view_count": null,
            "_view_module": "@jupyter-widgets/base",
            "_view_module_version": "1.2.0",
            "_view_name": "LayoutView",
            "align_content": null,
            "align_items": null,
            "align_self": null,
            "border": null,
            "bottom": null,
            "display": null,
            "flex": null,
            "flex_flow": null,
            "grid_area": null,
            "grid_auto_columns": null,
            "grid_auto_flow": null,
            "grid_auto_rows": null,
            "grid_column": null,
            "grid_gap": null,
            "grid_row": null,
            "grid_template_areas": null,
            "grid_template_columns": null,
            "grid_template_rows": null,
            "height": null,
            "justify_content": null,
            "justify_items": null,
            "left": null,
            "margin": null,
            "max_height": null,
            "max_width": null,
            "min_height": null,
            "min_width": null,
            "object_fit": null,
            "object_position": null,
            "order": null,
            "overflow": null,
            "overflow_x": null,
            "overflow_y": null,
            "padding": null,
            "right": null,
            "top": null,
            "visibility": null,
            "width": null
          }
        },
        "8a53760468c845808f9c13b2afbb342c": {
          "model_module": "@jupyter-widgets/controls",
          "model_name": "DescriptionStyleModel",
          "model_module_version": "1.5.0",
          "state": {
            "_model_module": "@jupyter-widgets/controls",
            "_model_module_version": "1.5.0",
            "_model_name": "DescriptionStyleModel",
            "_view_count": null,
            "_view_module": "@jupyter-widgets/base",
            "_view_module_version": "1.2.0",
            "_view_name": "StyleView",
            "description_width": ""
          }
        },
        "a419e40310454f59bf32ba2ceac3c3f5": {
          "model_module": "@jupyter-widgets/controls",
          "model_name": "HBoxModel",
          "model_module_version": "1.5.0",
          "state": {
            "_dom_classes": [],
            "_model_module": "@jupyter-widgets/controls",
            "_model_module_version": "1.5.0",
            "_model_name": "HBoxModel",
            "_view_count": null,
            "_view_module": "@jupyter-widgets/controls",
            "_view_module_version": "1.5.0",
            "_view_name": "HBoxView",
            "box_style": "",
            "children": [
              "IPY_MODEL_9994615bf5e74e14932e349662e8f66b",
              "IPY_MODEL_5e5fda490be542c1a988c7dd1ea9fc55",
              "IPY_MODEL_04bac4856e1147bf8c933bdef9901a1f"
            ],
            "layout": "IPY_MODEL_9518d2dcaace4c8ab9399272dc0f4365"
          }
        },
        "9994615bf5e74e14932e349662e8f66b": {
          "model_module": "@jupyter-widgets/controls",
          "model_name": "HTMLModel",
          "model_module_version": "1.5.0",
          "state": {
            "_dom_classes": [],
            "_model_module": "@jupyter-widgets/controls",
            "_model_module_version": "1.5.0",
            "_model_name": "HTMLModel",
            "_view_count": null,
            "_view_module": "@jupyter-widgets/controls",
            "_view_module_version": "1.5.0",
            "_view_name": "HTMLView",
            "description": "",
            "description_tooltip": null,
            "layout": "IPY_MODEL_1e03e872b3e24e1a9c587804a5f35149",
            "placeholder": "​",
            "style": "IPY_MODEL_bd37f0961619431b9f17805a384fdc8b",
            "value": "Downloading: 100%"
          }
        },
        "5e5fda490be542c1a988c7dd1ea9fc55": {
          "model_module": "@jupyter-widgets/controls",
          "model_name": "FloatProgressModel",
          "model_module_version": "1.5.0",
          "state": {
            "_dom_classes": [],
            "_model_module": "@jupyter-widgets/controls",
            "_model_module_version": "1.5.0",
            "_model_name": "FloatProgressModel",
            "_view_count": null,
            "_view_module": "@jupyter-widgets/controls",
            "_view_module_version": "1.5.0",
            "_view_name": "ProgressView",
            "bar_style": "success",
            "description": "",
            "description_tooltip": null,
            "layout": "IPY_MODEL_019e15aaf7c3499b9e74a15dba848407",
            "max": 318,
            "min": 0,
            "orientation": "horizontal",
            "style": "IPY_MODEL_1852b8e64301432baa22c507aacfcd24",
            "value": 318
          }
        },
        "04bac4856e1147bf8c933bdef9901a1f": {
          "model_module": "@jupyter-widgets/controls",
          "model_name": "HTMLModel",
          "model_module_version": "1.5.0",
          "state": {
            "_dom_classes": [],
            "_model_module": "@jupyter-widgets/controls",
            "_model_module_version": "1.5.0",
            "_model_name": "HTMLModel",
            "_view_count": null,
            "_view_module": "@jupyter-widgets/controls",
            "_view_module_version": "1.5.0",
            "_view_name": "HTMLView",
            "description": "",
            "description_tooltip": null,
            "layout": "IPY_MODEL_fabb30fcf765438fa3e4bbac0f323178",
            "placeholder": "​",
            "style": "IPY_MODEL_5168f27979eb489985d31c218eceff9e",
            "value": " 318/318 [00:00&lt;00:00, 8.12kB/s]"
          }
        },
        "9518d2dcaace4c8ab9399272dc0f4365": {
          "model_module": "@jupyter-widgets/base",
          "model_name": "LayoutModel",
          "model_module_version": "1.2.0",
          "state": {
            "_model_module": "@jupyter-widgets/base",
            "_model_module_version": "1.2.0",
            "_model_name": "LayoutModel",
            "_view_count": null,
            "_view_module": "@jupyter-widgets/base",
            "_view_module_version": "1.2.0",
            "_view_name": "LayoutView",
            "align_content": null,
            "align_items": null,
            "align_self": null,
            "border": null,
            "bottom": null,
            "display": null,
            "flex": null,
            "flex_flow": null,
            "grid_area": null,
            "grid_auto_columns": null,
            "grid_auto_flow": null,
            "grid_auto_rows": null,
            "grid_column": null,
            "grid_gap": null,
            "grid_row": null,
            "grid_template_areas": null,
            "grid_template_columns": null,
            "grid_template_rows": null,
            "height": null,
            "justify_content": null,
            "justify_items": null,
            "left": null,
            "margin": null,
            "max_height": null,
            "max_width": null,
            "min_height": null,
            "min_width": null,
            "object_fit": null,
            "object_position": null,
            "order": null,
            "overflow": null,
            "overflow_x": null,
            "overflow_y": null,
            "padding": null,
            "right": null,
            "top": null,
            "visibility": null,
            "width": null
          }
        },
        "1e03e872b3e24e1a9c587804a5f35149": {
          "model_module": "@jupyter-widgets/base",
          "model_name": "LayoutModel",
          "model_module_version": "1.2.0",
          "state": {
            "_model_module": "@jupyter-widgets/base",
            "_model_module_version": "1.2.0",
            "_model_name": "LayoutModel",
            "_view_count": null,
            "_view_module": "@jupyter-widgets/base",
            "_view_module_version": "1.2.0",
            "_view_name": "LayoutView",
            "align_content": null,
            "align_items": null,
            "align_self": null,
            "border": null,
            "bottom": null,
            "display": null,
            "flex": null,
            "flex_flow": null,
            "grid_area": null,
            "grid_auto_columns": null,
            "grid_auto_flow": null,
            "grid_auto_rows": null,
            "grid_column": null,
            "grid_gap": null,
            "grid_row": null,
            "grid_template_areas": null,
            "grid_template_columns": null,
            "grid_template_rows": null,
            "height": null,
            "justify_content": null,
            "justify_items": null,
            "left": null,
            "margin": null,
            "max_height": null,
            "max_width": null,
            "min_height": null,
            "min_width": null,
            "object_fit": null,
            "object_position": null,
            "order": null,
            "overflow": null,
            "overflow_x": null,
            "overflow_y": null,
            "padding": null,
            "right": null,
            "top": null,
            "visibility": null,
            "width": null
          }
        },
        "bd37f0961619431b9f17805a384fdc8b": {
          "model_module": "@jupyter-widgets/controls",
          "model_name": "DescriptionStyleModel",
          "model_module_version": "1.5.0",
          "state": {
            "_model_module": "@jupyter-widgets/controls",
            "_model_module_version": "1.5.0",
            "_model_name": "DescriptionStyleModel",
            "_view_count": null,
            "_view_module": "@jupyter-widgets/base",
            "_view_module_version": "1.2.0",
            "_view_name": "StyleView",
            "description_width": ""
          }
        },
        "019e15aaf7c3499b9e74a15dba848407": {
          "model_module": "@jupyter-widgets/base",
          "model_name": "LayoutModel",
          "model_module_version": "1.2.0",
          "state": {
            "_model_module": "@jupyter-widgets/base",
            "_model_module_version": "1.2.0",
            "_model_name": "LayoutModel",
            "_view_count": null,
            "_view_module": "@jupyter-widgets/base",
            "_view_module_version": "1.2.0",
            "_view_name": "LayoutView",
            "align_content": null,
            "align_items": null,
            "align_self": null,
            "border": null,
            "bottom": null,
            "display": null,
            "flex": null,
            "flex_flow": null,
            "grid_area": null,
            "grid_auto_columns": null,
            "grid_auto_flow": null,
            "grid_auto_rows": null,
            "grid_column": null,
            "grid_gap": null,
            "grid_row": null,
            "grid_template_areas": null,
            "grid_template_columns": null,
            "grid_template_rows": null,
            "height": null,
            "justify_content": null,
            "justify_items": null,
            "left": null,
            "margin": null,
            "max_height": null,
            "max_width": null,
            "min_height": null,
            "min_width": null,
            "object_fit": null,
            "object_position": null,
            "order": null,
            "overflow": null,
            "overflow_x": null,
            "overflow_y": null,
            "padding": null,
            "right": null,
            "top": null,
            "visibility": null,
            "width": null
          }
        },
        "1852b8e64301432baa22c507aacfcd24": {
          "model_module": "@jupyter-widgets/controls",
          "model_name": "ProgressStyleModel",
          "model_module_version": "1.5.0",
          "state": {
            "_model_module": "@jupyter-widgets/controls",
            "_model_module_version": "1.5.0",
            "_model_name": "ProgressStyleModel",
            "_view_count": null,
            "_view_module": "@jupyter-widgets/base",
            "_view_module_version": "1.2.0",
            "_view_name": "StyleView",
            "bar_color": null,
            "description_width": ""
          }
        },
        "fabb30fcf765438fa3e4bbac0f323178": {
          "model_module": "@jupyter-widgets/base",
          "model_name": "LayoutModel",
          "model_module_version": "1.2.0",
          "state": {
            "_model_module": "@jupyter-widgets/base",
            "_model_module_version": "1.2.0",
            "_model_name": "LayoutModel",
            "_view_count": null,
            "_view_module": "@jupyter-widgets/base",
            "_view_module_version": "1.2.0",
            "_view_name": "LayoutView",
            "align_content": null,
            "align_items": null,
            "align_self": null,
            "border": null,
            "bottom": null,
            "display": null,
            "flex": null,
            "flex_flow": null,
            "grid_area": null,
            "grid_auto_columns": null,
            "grid_auto_flow": null,
            "grid_auto_rows": null,
            "grid_column": null,
            "grid_gap": null,
            "grid_row": null,
            "grid_template_areas": null,
            "grid_template_columns": null,
            "grid_template_rows": null,
            "height": null,
            "justify_content": null,
            "justify_items": null,
            "left": null,
            "margin": null,
            "max_height": null,
            "max_width": null,
            "min_height": null,
            "min_width": null,
            "object_fit": null,
            "object_position": null,
            "order": null,
            "overflow": null,
            "overflow_x": null,
            "overflow_y": null,
            "padding": null,
            "right": null,
            "top": null,
            "visibility": null,
            "width": null
          }
        },
        "5168f27979eb489985d31c218eceff9e": {
          "model_module": "@jupyter-widgets/controls",
          "model_name": "DescriptionStyleModel",
          "model_module_version": "1.5.0",
          "state": {
            "_model_module": "@jupyter-widgets/controls",
            "_model_module_version": "1.5.0",
            "_model_name": "DescriptionStyleModel",
            "_view_count": null,
            "_view_module": "@jupyter-widgets/base",
            "_view_module_version": "1.2.0",
            "_view_name": "StyleView",
            "description_width": ""
          }
        },
        "15716035ee0649e6ae8b9a0d5ff96b13": {
          "model_module": "@jupyter-widgets/controls",
          "model_name": "HBoxModel",
          "model_module_version": "1.5.0",
          "state": {
            "_dom_classes": [],
            "_model_module": "@jupyter-widgets/controls",
            "_model_module_version": "1.5.0",
            "_model_name": "HBoxModel",
            "_view_count": null,
            "_view_module": "@jupyter-widgets/controls",
            "_view_module_version": "1.5.0",
            "_view_name": "HBoxView",
            "box_style": "",
            "children": [
              "IPY_MODEL_1825899638d7433996271105893524c6",
              "IPY_MODEL_cb8a2a72c17840e6ad3a691083cc8411",
              "IPY_MODEL_688d4f367404465ebaff2eb9d121f1b4"
            ],
            "layout": "IPY_MODEL_8c18cd7c98034ead9628c4608a8d406f"
          }
        },
        "1825899638d7433996271105893524c6": {
          "model_module": "@jupyter-widgets/controls",
          "model_name": "HTMLModel",
          "model_module_version": "1.5.0",
          "state": {
            "_dom_classes": [],
            "_model_module": "@jupyter-widgets/controls",
            "_model_module_version": "1.5.0",
            "_model_name": "HTMLModel",
            "_view_count": null,
            "_view_module": "@jupyter-widgets/controls",
            "_view_module_version": "1.5.0",
            "_view_name": "HTMLView",
            "description": "",
            "description_tooltip": null,
            "layout": "IPY_MODEL_fdac22fac29e4a2386213dac2dd1e9bb",
            "placeholder": "​",
            "style": "IPY_MODEL_404671831b154f34be5fe83fe5859df1",
            "value": "Downloading: 100%"
          }
        },
        "cb8a2a72c17840e6ad3a691083cc8411": {
          "model_module": "@jupyter-widgets/controls",
          "model_name": "FloatProgressModel",
          "model_module_version": "1.5.0",
          "state": {
            "_dom_classes": [],
            "_model_module": "@jupyter-widgets/controls",
            "_model_module_version": "1.5.0",
            "_model_name": "FloatProgressModel",
            "_view_count": null,
            "_view_module": "@jupyter-widgets/controls",
            "_view_module_version": "1.5.0",
            "_view_name": "ProgressView",
            "bar_style": "success",
            "description": "",
            "description_tooltip": null,
            "layout": "IPY_MODEL_ef507c8352bc4f7ebc2e718bb0fd9423",
            "max": 1920,
            "min": 0,
            "orientation": "horizontal",
            "style": "IPY_MODEL_b435184c68924411bc144a2a01cb697a",
            "value": 1920
          }
        },
        "688d4f367404465ebaff2eb9d121f1b4": {
          "model_module": "@jupyter-widgets/controls",
          "model_name": "HTMLModel",
          "model_module_version": "1.5.0",
          "state": {
            "_dom_classes": [],
            "_model_module": "@jupyter-widgets/controls",
            "_model_module_version": "1.5.0",
            "_model_name": "HTMLModel",
            "_view_count": null,
            "_view_module": "@jupyter-widgets/controls",
            "_view_module_version": "1.5.0",
            "_view_name": "HTMLView",
            "description": "",
            "description_tooltip": null,
            "layout": "IPY_MODEL_f26efadfaa7e46068a11dea97d987f5d",
            "placeholder": "​",
            "style": "IPY_MODEL_4d5278a810834931b485f3859f113aa6",
            "value": " 1.92k/1.92k [00:00&lt;00:00, 66.1kB/s]"
          }
        },
        "8c18cd7c98034ead9628c4608a8d406f": {
          "model_module": "@jupyter-widgets/base",
          "model_name": "LayoutModel",
          "model_module_version": "1.2.0",
          "state": {
            "_model_module": "@jupyter-widgets/base",
            "_model_module_version": "1.2.0",
            "_model_name": "LayoutModel",
            "_view_count": null,
            "_view_module": "@jupyter-widgets/base",
            "_view_module_version": "1.2.0",
            "_view_name": "LayoutView",
            "align_content": null,
            "align_items": null,
            "align_self": null,
            "border": null,
            "bottom": null,
            "display": null,
            "flex": null,
            "flex_flow": null,
            "grid_area": null,
            "grid_auto_columns": null,
            "grid_auto_flow": null,
            "grid_auto_rows": null,
            "grid_column": null,
            "grid_gap": null,
            "grid_row": null,
            "grid_template_areas": null,
            "grid_template_columns": null,
            "grid_template_rows": null,
            "height": null,
            "justify_content": null,
            "justify_items": null,
            "left": null,
            "margin": null,
            "max_height": null,
            "max_width": null,
            "min_height": null,
            "min_width": null,
            "object_fit": null,
            "object_position": null,
            "order": null,
            "overflow": null,
            "overflow_x": null,
            "overflow_y": null,
            "padding": null,
            "right": null,
            "top": null,
            "visibility": null,
            "width": null
          }
        },
        "fdac22fac29e4a2386213dac2dd1e9bb": {
          "model_module": "@jupyter-widgets/base",
          "model_name": "LayoutModel",
          "model_module_version": "1.2.0",
          "state": {
            "_model_module": "@jupyter-widgets/base",
            "_model_module_version": "1.2.0",
            "_model_name": "LayoutModel",
            "_view_count": null,
            "_view_module": "@jupyter-widgets/base",
            "_view_module_version": "1.2.0",
            "_view_name": "LayoutView",
            "align_content": null,
            "align_items": null,
            "align_self": null,
            "border": null,
            "bottom": null,
            "display": null,
            "flex": null,
            "flex_flow": null,
            "grid_area": null,
            "grid_auto_columns": null,
            "grid_auto_flow": null,
            "grid_auto_rows": null,
            "grid_column": null,
            "grid_gap": null,
            "grid_row": null,
            "grid_template_areas": null,
            "grid_template_columns": null,
            "grid_template_rows": null,
            "height": null,
            "justify_content": null,
            "justify_items": null,
            "left": null,
            "margin": null,
            "max_height": null,
            "max_width": null,
            "min_height": null,
            "min_width": null,
            "object_fit": null,
            "object_position": null,
            "order": null,
            "overflow": null,
            "overflow_x": null,
            "overflow_y": null,
            "padding": null,
            "right": null,
            "top": null,
            "visibility": null,
            "width": null
          }
        },
        "404671831b154f34be5fe83fe5859df1": {
          "model_module": "@jupyter-widgets/controls",
          "model_name": "DescriptionStyleModel",
          "model_module_version": "1.5.0",
          "state": {
            "_model_module": "@jupyter-widgets/controls",
            "_model_module_version": "1.5.0",
            "_model_name": "DescriptionStyleModel",
            "_view_count": null,
            "_view_module": "@jupyter-widgets/base",
            "_view_module_version": "1.2.0",
            "_view_name": "StyleView",
            "description_width": ""
          }
        },
        "ef507c8352bc4f7ebc2e718bb0fd9423": {
          "model_module": "@jupyter-widgets/base",
          "model_name": "LayoutModel",
          "model_module_version": "1.2.0",
          "state": {
            "_model_module": "@jupyter-widgets/base",
            "_model_module_version": "1.2.0",
            "_model_name": "LayoutModel",
            "_view_count": null,
            "_view_module": "@jupyter-widgets/base",
            "_view_module_version": "1.2.0",
            "_view_name": "LayoutView",
            "align_content": null,
            "align_items": null,
            "align_self": null,
            "border": null,
            "bottom": null,
            "display": null,
            "flex": null,
            "flex_flow": null,
            "grid_area": null,
            "grid_auto_columns": null,
            "grid_auto_flow": null,
            "grid_auto_rows": null,
            "grid_column": null,
            "grid_gap": null,
            "grid_row": null,
            "grid_template_areas": null,
            "grid_template_columns": null,
            "grid_template_rows": null,
            "height": null,
            "justify_content": null,
            "justify_items": null,
            "left": null,
            "margin": null,
            "max_height": null,
            "max_width": null,
            "min_height": null,
            "min_width": null,
            "object_fit": null,
            "object_position": null,
            "order": null,
            "overflow": null,
            "overflow_x": null,
            "overflow_y": null,
            "padding": null,
            "right": null,
            "top": null,
            "visibility": null,
            "width": null
          }
        },
        "b435184c68924411bc144a2a01cb697a": {
          "model_module": "@jupyter-widgets/controls",
          "model_name": "ProgressStyleModel",
          "model_module_version": "1.5.0",
          "state": {
            "_model_module": "@jupyter-widgets/controls",
            "_model_module_version": "1.5.0",
            "_model_name": "ProgressStyleModel",
            "_view_count": null,
            "_view_module": "@jupyter-widgets/base",
            "_view_module_version": "1.2.0",
            "_view_name": "StyleView",
            "bar_color": null,
            "description_width": ""
          }
        },
        "f26efadfaa7e46068a11dea97d987f5d": {
          "model_module": "@jupyter-widgets/base",
          "model_name": "LayoutModel",
          "model_module_version": "1.2.0",
          "state": {
            "_model_module": "@jupyter-widgets/base",
            "_model_module_version": "1.2.0",
            "_model_name": "LayoutModel",
            "_view_count": null,
            "_view_module": "@jupyter-widgets/base",
            "_view_module_version": "1.2.0",
            "_view_name": "LayoutView",
            "align_content": null,
            "align_items": null,
            "align_self": null,
            "border": null,
            "bottom": null,
            "display": null,
            "flex": null,
            "flex_flow": null,
            "grid_area": null,
            "grid_auto_columns": null,
            "grid_auto_flow": null,
            "grid_auto_rows": null,
            "grid_column": null,
            "grid_gap": null,
            "grid_row": null,
            "grid_template_areas": null,
            "grid_template_columns": null,
            "grid_template_rows": null,
            "height": null,
            "justify_content": null,
            "justify_items": null,
            "left": null,
            "margin": null,
            "max_height": null,
            "max_width": null,
            "min_height": null,
            "min_width": null,
            "object_fit": null,
            "object_position": null,
            "order": null,
            "overflow": null,
            "overflow_x": null,
            "overflow_y": null,
            "padding": null,
            "right": null,
            "top": null,
            "visibility": null,
            "width": null
          }
        },
        "4d5278a810834931b485f3859f113aa6": {
          "model_module": "@jupyter-widgets/controls",
          "model_name": "DescriptionStyleModel",
          "model_module_version": "1.5.0",
          "state": {
            "_model_module": "@jupyter-widgets/controls",
            "_model_module_version": "1.5.0",
            "_model_name": "DescriptionStyleModel",
            "_view_count": null,
            "_view_module": "@jupyter-widgets/base",
            "_view_module_version": "1.2.0",
            "_view_name": "StyleView",
            "description_width": ""
          }
        },
        "7586d9b568244238a9e9d2e5f2f7bc72": {
          "model_module": "@jupyter-widgets/controls",
          "model_name": "HBoxModel",
          "model_module_version": "1.5.0",
          "state": {
            "_dom_classes": [],
            "_model_module": "@jupyter-widgets/controls",
            "_model_module_version": "1.5.0",
            "_model_name": "HBoxModel",
            "_view_count": null,
            "_view_module": "@jupyter-widgets/controls",
            "_view_module_version": "1.5.0",
            "_view_name": "HBoxView",
            "box_style": "",
            "children": [
              "IPY_MODEL_5ef332cb10fa4b949d6307f7efcc3bee",
              "IPY_MODEL_0e972ba2894c4e80a5b872b67c56543d",
              "IPY_MODEL_8bd047a3c98543929c3ad566b8a0c24e"
            ],
            "layout": "IPY_MODEL_a082b679d97343c4b02795803f892ba3"
          }
        },
        "5ef332cb10fa4b949d6307f7efcc3bee": {
          "model_module": "@jupyter-widgets/controls",
          "model_name": "HTMLModel",
          "model_module_version": "1.5.0",
          "state": {
            "_dom_classes": [],
            "_model_module": "@jupyter-widgets/controls",
            "_model_module_version": "1.5.0",
            "_model_name": "HTMLModel",
            "_view_count": null,
            "_view_module": "@jupyter-widgets/controls",
            "_view_module_version": "1.5.0",
            "_view_name": "HTMLView",
            "description": "",
            "description_tooltip": null,
            "layout": "IPY_MODEL_3e5dca6a78b44c93a709378344e23446",
            "placeholder": "​",
            "style": "IPY_MODEL_e3bb6adbb9c641e285ea1dc4893d5ec9",
            "value": "Downloading: 100%"
          }
        },
        "0e972ba2894c4e80a5b872b67c56543d": {
          "model_module": "@jupyter-widgets/controls",
          "model_name": "FloatProgressModel",
          "model_module_version": "1.5.0",
          "state": {
            "_dom_classes": [],
            "_model_module": "@jupyter-widgets/controls",
            "_model_module_version": "1.5.0",
            "_model_name": "FloatProgressModel",
            "_view_count": null,
            "_view_module": "@jupyter-widgets/controls",
            "_view_module_version": "1.5.0",
            "_view_name": "ProgressView",
            "bar_style": "success",
            "description": "",
            "description_tooltip": null,
            "layout": "IPY_MODEL_7dd080bade3d46c0a60220f3edf8e4c7",
            "max": 83316686,
            "min": 0,
            "orientation": "horizontal",
            "style": "IPY_MODEL_8b7bdfff75544ecc8668e3cce9d51886",
            "value": 83316686
          }
        },
        "8bd047a3c98543929c3ad566b8a0c24e": {
          "model_module": "@jupyter-widgets/controls",
          "model_name": "HTMLModel",
          "model_module_version": "1.5.0",
          "state": {
            "_dom_classes": [],
            "_model_module": "@jupyter-widgets/controls",
            "_model_module_version": "1.5.0",
            "_model_name": "HTMLModel",
            "_view_count": null,
            "_view_module": "@jupyter-widgets/controls",
            "_view_module_version": "1.5.0",
            "_view_name": "HTMLView",
            "description": "",
            "description_tooltip": null,
            "layout": "IPY_MODEL_ff012f4297b345b8a5e071c38de1aae7",
            "placeholder": "​",
            "style": "IPY_MODEL_6b2a9820cd8244e8b24def870a5ce530",
            "value": " 83.3M/83.3M [00:01&lt;00:00, 58.0MB/s]"
          }
        },
        "a082b679d97343c4b02795803f892ba3": {
          "model_module": "@jupyter-widgets/base",
          "model_name": "LayoutModel",
          "model_module_version": "1.2.0",
          "state": {
            "_model_module": "@jupyter-widgets/base",
            "_model_module_version": "1.2.0",
            "_model_name": "LayoutModel",
            "_view_count": null,
            "_view_module": "@jupyter-widgets/base",
            "_view_module_version": "1.2.0",
            "_view_name": "LayoutView",
            "align_content": null,
            "align_items": null,
            "align_self": null,
            "border": null,
            "bottom": null,
            "display": null,
            "flex": null,
            "flex_flow": null,
            "grid_area": null,
            "grid_auto_columns": null,
            "grid_auto_flow": null,
            "grid_auto_rows": null,
            "grid_column": null,
            "grid_gap": null,
            "grid_row": null,
            "grid_template_areas": null,
            "grid_template_columns": null,
            "grid_template_rows": null,
            "height": null,
            "justify_content": null,
            "justify_items": null,
            "left": null,
            "margin": null,
            "max_height": null,
            "max_width": null,
            "min_height": null,
            "min_width": null,
            "object_fit": null,
            "object_position": null,
            "order": null,
            "overflow": null,
            "overflow_x": null,
            "overflow_y": null,
            "padding": null,
            "right": null,
            "top": null,
            "visibility": null,
            "width": null
          }
        },
        "3e5dca6a78b44c93a709378344e23446": {
          "model_module": "@jupyter-widgets/base",
          "model_name": "LayoutModel",
          "model_module_version": "1.2.0",
          "state": {
            "_model_module": "@jupyter-widgets/base",
            "_model_module_version": "1.2.0",
            "_model_name": "LayoutModel",
            "_view_count": null,
            "_view_module": "@jupyter-widgets/base",
            "_view_module_version": "1.2.0",
            "_view_name": "LayoutView",
            "align_content": null,
            "align_items": null,
            "align_self": null,
            "border": null,
            "bottom": null,
            "display": null,
            "flex": null,
            "flex_flow": null,
            "grid_area": null,
            "grid_auto_columns": null,
            "grid_auto_flow": null,
            "grid_auto_rows": null,
            "grid_column": null,
            "grid_gap": null,
            "grid_row": null,
            "grid_template_areas": null,
            "grid_template_columns": null,
            "grid_template_rows": null,
            "height": null,
            "justify_content": null,
            "justify_items": null,
            "left": null,
            "margin": null,
            "max_height": null,
            "max_width": null,
            "min_height": null,
            "min_width": null,
            "object_fit": null,
            "object_position": null,
            "order": null,
            "overflow": null,
            "overflow_x": null,
            "overflow_y": null,
            "padding": null,
            "right": null,
            "top": null,
            "visibility": null,
            "width": null
          }
        },
        "e3bb6adbb9c641e285ea1dc4893d5ec9": {
          "model_module": "@jupyter-widgets/controls",
          "model_name": "DescriptionStyleModel",
          "model_module_version": "1.5.0",
          "state": {
            "_model_module": "@jupyter-widgets/controls",
            "_model_module_version": "1.5.0",
            "_model_name": "DescriptionStyleModel",
            "_view_count": null,
            "_view_module": "@jupyter-widgets/base",
            "_view_module_version": "1.2.0",
            "_view_name": "StyleView",
            "description_width": ""
          }
        },
        "7dd080bade3d46c0a60220f3edf8e4c7": {
          "model_module": "@jupyter-widgets/base",
          "model_name": "LayoutModel",
          "model_module_version": "1.2.0",
          "state": {
            "_model_module": "@jupyter-widgets/base",
            "_model_module_version": "1.2.0",
            "_model_name": "LayoutModel",
            "_view_count": null,
            "_view_module": "@jupyter-widgets/base",
            "_view_module_version": "1.2.0",
            "_view_name": "LayoutView",
            "align_content": null,
            "align_items": null,
            "align_self": null,
            "border": null,
            "bottom": null,
            "display": null,
            "flex": null,
            "flex_flow": null,
            "grid_area": null,
            "grid_auto_columns": null,
            "grid_auto_flow": null,
            "grid_auto_rows": null,
            "grid_column": null,
            "grid_gap": null,
            "grid_row": null,
            "grid_template_areas": null,
            "grid_template_columns": null,
            "grid_template_rows": null,
            "height": null,
            "justify_content": null,
            "justify_items": null,
            "left": null,
            "margin": null,
            "max_height": null,
            "max_width": null,
            "min_height": null,
            "min_width": null,
            "object_fit": null,
            "object_position": null,
            "order": null,
            "overflow": null,
            "overflow_x": null,
            "overflow_y": null,
            "padding": null,
            "right": null,
            "top": null,
            "visibility": null,
            "width": null
          }
        },
        "8b7bdfff75544ecc8668e3cce9d51886": {
          "model_module": "@jupyter-widgets/controls",
          "model_name": "ProgressStyleModel",
          "model_module_version": "1.5.0",
          "state": {
            "_model_module": "@jupyter-widgets/controls",
            "_model_module_version": "1.5.0",
            "_model_name": "ProgressStyleModel",
            "_view_count": null,
            "_view_module": "@jupyter-widgets/base",
            "_view_module_version": "1.2.0",
            "_view_name": "StyleView",
            "bar_color": null,
            "description_width": ""
          }
        },
        "ff012f4297b345b8a5e071c38de1aae7": {
          "model_module": "@jupyter-widgets/base",
          "model_name": "LayoutModel",
          "model_module_version": "1.2.0",
          "state": {
            "_model_module": "@jupyter-widgets/base",
            "_model_module_version": "1.2.0",
            "_model_name": "LayoutModel",
            "_view_count": null,
            "_view_module": "@jupyter-widgets/base",
            "_view_module_version": "1.2.0",
            "_view_name": "LayoutView",
            "align_content": null,
            "align_items": null,
            "align_self": null,
            "border": null,
            "bottom": null,
            "display": null,
            "flex": null,
            "flex_flow": null,
            "grid_area": null,
            "grid_auto_columns": null,
            "grid_auto_flow": null,
            "grid_auto_rows": null,
            "grid_column": null,
            "grid_gap": null,
            "grid_row": null,
            "grid_template_areas": null,
            "grid_template_columns": null,
            "grid_template_rows": null,
            "height": null,
            "justify_content": null,
            "justify_items": null,
            "left": null,
            "margin": null,
            "max_height": null,
            "max_width": null,
            "min_height": null,
            "min_width": null,
            "object_fit": null,
            "object_position": null,
            "order": null,
            "overflow": null,
            "overflow_x": null,
            "overflow_y": null,
            "padding": null,
            "right": null,
            "top": null,
            "visibility": null,
            "width": null
          }
        },
        "6b2a9820cd8244e8b24def870a5ce530": {
          "model_module": "@jupyter-widgets/controls",
          "model_name": "DescriptionStyleModel",
          "model_module_version": "1.5.0",
          "state": {
            "_model_module": "@jupyter-widgets/controls",
            "_model_module_version": "1.5.0",
            "_model_name": "DescriptionStyleModel",
            "_view_count": null,
            "_view_module": "@jupyter-widgets/base",
            "_view_module_version": "1.2.0",
            "_view_name": "StyleView",
            "description_width": ""
          }
        },
        "0cff902bdce24a85a5bb237d0df405e7": {
          "model_module": "@jupyter-widgets/controls",
          "model_name": "HBoxModel",
          "model_module_version": "1.5.0",
          "state": {
            "_dom_classes": [],
            "_model_module": "@jupyter-widgets/controls",
            "_model_module_version": "1.5.0",
            "_model_name": "HBoxModel",
            "_view_count": null,
            "_view_module": "@jupyter-widgets/controls",
            "_view_module_version": "1.5.0",
            "_view_name": "HBoxView",
            "box_style": "",
            "children": [
              "IPY_MODEL_cbb4bb8502b443bb9be94918b75d730b",
              "IPY_MODEL_8f9fe44c4f0541e7b7e5aeed3abbeb47",
              "IPY_MODEL_66cf39f11b35455294ee8289b290bccc"
            ],
            "layout": "IPY_MODEL_2ba8eea50c1944b49ee2df82f36751d8"
          }
        },
        "cbb4bb8502b443bb9be94918b75d730b": {
          "model_module": "@jupyter-widgets/controls",
          "model_name": "HTMLModel",
          "model_module_version": "1.5.0",
          "state": {
            "_dom_classes": [],
            "_model_module": "@jupyter-widgets/controls",
            "_model_module_version": "1.5.0",
            "_model_name": "HTMLModel",
            "_view_count": null,
            "_view_module": "@jupyter-widgets/controls",
            "_view_module_version": "1.5.0",
            "_view_name": "HTMLView",
            "description": "",
            "description_tooltip": null,
            "layout": "IPY_MODEL_bddbc9220ecb4a7fb979b6c91ddc91ac",
            "placeholder": "​",
            "style": "IPY_MODEL_b6a19711c4a44a61a14a5ef9fab1014e",
            "value": "Downloading: 100%"
          }
        },
        "8f9fe44c4f0541e7b7e5aeed3abbeb47": {
          "model_module": "@jupyter-widgets/controls",
          "model_name": "FloatProgressModel",
          "model_module_version": "1.5.0",
          "state": {
            "_dom_classes": [],
            "_model_module": "@jupyter-widgets/controls",
            "_model_module_version": "1.5.0",
            "_model_name": "FloatProgressModel",
            "_view_count": null,
            "_view_module": "@jupyter-widgets/controls",
            "_view_module_version": "1.5.0",
            "_view_name": "ProgressView",
            "bar_style": "success",
            "description": "",
            "description_tooltip": null,
            "layout": "IPY_MODEL_7aef90656360410493d78b59620286f5",
            "max": 1921,
            "min": 0,
            "orientation": "horizontal",
            "style": "IPY_MODEL_f479c54ba0be40b3915f72deafcc037a",
            "value": 1921
          }
        },
        "66cf39f11b35455294ee8289b290bccc": {
          "model_module": "@jupyter-widgets/controls",
          "model_name": "HTMLModel",
          "model_module_version": "1.5.0",
          "state": {
            "_dom_classes": [],
            "_model_module": "@jupyter-widgets/controls",
            "_model_module_version": "1.5.0",
            "_model_name": "HTMLModel",
            "_view_count": null,
            "_view_module": "@jupyter-widgets/controls",
            "_view_module_version": "1.5.0",
            "_view_name": "HTMLView",
            "description": "",
            "description_tooltip": null,
            "layout": "IPY_MODEL_7b2128a6a5f042f391318a400b3315f7",
            "placeholder": "​",
            "style": "IPY_MODEL_0010e68670bc4636a1ca75fa468762de",
            "value": " 1.92k/1.92k [00:00&lt;00:00, 64.4kB/s]"
          }
        },
        "2ba8eea50c1944b49ee2df82f36751d8": {
          "model_module": "@jupyter-widgets/base",
          "model_name": "LayoutModel",
          "model_module_version": "1.2.0",
          "state": {
            "_model_module": "@jupyter-widgets/base",
            "_model_module_version": "1.2.0",
            "_model_name": "LayoutModel",
            "_view_count": null,
            "_view_module": "@jupyter-widgets/base",
            "_view_module_version": "1.2.0",
            "_view_name": "LayoutView",
            "align_content": null,
            "align_items": null,
            "align_self": null,
            "border": null,
            "bottom": null,
            "display": null,
            "flex": null,
            "flex_flow": null,
            "grid_area": null,
            "grid_auto_columns": null,
            "grid_auto_flow": null,
            "grid_auto_rows": null,
            "grid_column": null,
            "grid_gap": null,
            "grid_row": null,
            "grid_template_areas": null,
            "grid_template_columns": null,
            "grid_template_rows": null,
            "height": null,
            "justify_content": null,
            "justify_items": null,
            "left": null,
            "margin": null,
            "max_height": null,
            "max_width": null,
            "min_height": null,
            "min_width": null,
            "object_fit": null,
            "object_position": null,
            "order": null,
            "overflow": null,
            "overflow_x": null,
            "overflow_y": null,
            "padding": null,
            "right": null,
            "top": null,
            "visibility": null,
            "width": null
          }
        },
        "bddbc9220ecb4a7fb979b6c91ddc91ac": {
          "model_module": "@jupyter-widgets/base",
          "model_name": "LayoutModel",
          "model_module_version": "1.2.0",
          "state": {
            "_model_module": "@jupyter-widgets/base",
            "_model_module_version": "1.2.0",
            "_model_name": "LayoutModel",
            "_view_count": null,
            "_view_module": "@jupyter-widgets/base",
            "_view_module_version": "1.2.0",
            "_view_name": "LayoutView",
            "align_content": null,
            "align_items": null,
            "align_self": null,
            "border": null,
            "bottom": null,
            "display": null,
            "flex": null,
            "flex_flow": null,
            "grid_area": null,
            "grid_auto_columns": null,
            "grid_auto_flow": null,
            "grid_auto_rows": null,
            "grid_column": null,
            "grid_gap": null,
            "grid_row": null,
            "grid_template_areas": null,
            "grid_template_columns": null,
            "grid_template_rows": null,
            "height": null,
            "justify_content": null,
            "justify_items": null,
            "left": null,
            "margin": null,
            "max_height": null,
            "max_width": null,
            "min_height": null,
            "min_width": null,
            "object_fit": null,
            "object_position": null,
            "order": null,
            "overflow": null,
            "overflow_x": null,
            "overflow_y": null,
            "padding": null,
            "right": null,
            "top": null,
            "visibility": null,
            "width": null
          }
        },
        "b6a19711c4a44a61a14a5ef9fab1014e": {
          "model_module": "@jupyter-widgets/controls",
          "model_name": "DescriptionStyleModel",
          "model_module_version": "1.5.0",
          "state": {
            "_model_module": "@jupyter-widgets/controls",
            "_model_module_version": "1.5.0",
            "_model_name": "DescriptionStyleModel",
            "_view_count": null,
            "_view_module": "@jupyter-widgets/base",
            "_view_module_version": "1.2.0",
            "_view_name": "StyleView",
            "description_width": ""
          }
        },
        "7aef90656360410493d78b59620286f5": {
          "model_module": "@jupyter-widgets/base",
          "model_name": "LayoutModel",
          "model_module_version": "1.2.0",
          "state": {
            "_model_module": "@jupyter-widgets/base",
            "_model_module_version": "1.2.0",
            "_model_name": "LayoutModel",
            "_view_count": null,
            "_view_module": "@jupyter-widgets/base",
            "_view_module_version": "1.2.0",
            "_view_name": "LayoutView",
            "align_content": null,
            "align_items": null,
            "align_self": null,
            "border": null,
            "bottom": null,
            "display": null,
            "flex": null,
            "flex_flow": null,
            "grid_area": null,
            "grid_auto_columns": null,
            "grid_auto_flow": null,
            "grid_auto_rows": null,
            "grid_column": null,
            "grid_gap": null,
            "grid_row": null,
            "grid_template_areas": null,
            "grid_template_columns": null,
            "grid_template_rows": null,
            "height": null,
            "justify_content": null,
            "justify_items": null,
            "left": null,
            "margin": null,
            "max_height": null,
            "max_width": null,
            "min_height": null,
            "min_width": null,
            "object_fit": null,
            "object_position": null,
            "order": null,
            "overflow": null,
            "overflow_x": null,
            "overflow_y": null,
            "padding": null,
            "right": null,
            "top": null,
            "visibility": null,
            "width": null
          }
        },
        "f479c54ba0be40b3915f72deafcc037a": {
          "model_module": "@jupyter-widgets/controls",
          "model_name": "ProgressStyleModel",
          "model_module_version": "1.5.0",
          "state": {
            "_model_module": "@jupyter-widgets/controls",
            "_model_module_version": "1.5.0",
            "_model_name": "ProgressStyleModel",
            "_view_count": null,
            "_view_module": "@jupyter-widgets/base",
            "_view_module_version": "1.2.0",
            "_view_name": "StyleView",
            "bar_color": null,
            "description_width": ""
          }
        },
        "7b2128a6a5f042f391318a400b3315f7": {
          "model_module": "@jupyter-widgets/base",
          "model_name": "LayoutModel",
          "model_module_version": "1.2.0",
          "state": {
            "_model_module": "@jupyter-widgets/base",
            "_model_module_version": "1.2.0",
            "_model_name": "LayoutModel",
            "_view_count": null,
            "_view_module": "@jupyter-widgets/base",
            "_view_module_version": "1.2.0",
            "_view_name": "LayoutView",
            "align_content": null,
            "align_items": null,
            "align_self": null,
            "border": null,
            "bottom": null,
            "display": null,
            "flex": null,
            "flex_flow": null,
            "grid_area": null,
            "grid_auto_columns": null,
            "grid_auto_flow": null,
            "grid_auto_rows": null,
            "grid_column": null,
            "grid_gap": null,
            "grid_row": null,
            "grid_template_areas": null,
            "grid_template_columns": null,
            "grid_template_rows": null,
            "height": null,
            "justify_content": null,
            "justify_items": null,
            "left": null,
            "margin": null,
            "max_height": null,
            "max_width": null,
            "min_height": null,
            "min_width": null,
            "object_fit": null,
            "object_position": null,
            "order": null,
            "overflow": null,
            "overflow_x": null,
            "overflow_y": null,
            "padding": null,
            "right": null,
            "top": null,
            "visibility": null,
            "width": null
          }
        },
        "0010e68670bc4636a1ca75fa468762de": {
          "model_module": "@jupyter-widgets/controls",
          "model_name": "DescriptionStyleModel",
          "model_module_version": "1.5.0",
          "state": {
            "_model_module": "@jupyter-widgets/controls",
            "_model_module_version": "1.5.0",
            "_model_name": "DescriptionStyleModel",
            "_view_count": null,
            "_view_module": "@jupyter-widgets/base",
            "_view_module_version": "1.2.0",
            "_view_name": "StyleView",
            "description_width": ""
          }
        },
        "3a3bd410e9064cf782618d2a80784800": {
          "model_module": "@jupyter-widgets/controls",
          "model_name": "HBoxModel",
          "model_module_version": "1.5.0",
          "state": {
            "_dom_classes": [],
            "_model_module": "@jupyter-widgets/controls",
            "_model_module_version": "1.5.0",
            "_model_name": "HBoxModel",
            "_view_count": null,
            "_view_module": "@jupyter-widgets/controls",
            "_view_module_version": "1.5.0",
            "_view_name": "HBoxView",
            "box_style": "",
            "children": [
              "IPY_MODEL_98a7f55b83c84dc58aaab325c773e604",
              "IPY_MODEL_de87b08c012b4b7ca6cd4e59a296fef9",
              "IPY_MODEL_01983bb6abc34dc8b22fb43c1a5cedff"
            ],
            "layout": "IPY_MODEL_c192dbe1f82540a1b0fd2035bcdcb09e"
          }
        },
        "98a7f55b83c84dc58aaab325c773e604": {
          "model_module": "@jupyter-widgets/controls",
          "model_name": "HTMLModel",
          "model_module_version": "1.5.0",
          "state": {
            "_dom_classes": [],
            "_model_module": "@jupyter-widgets/controls",
            "_model_module_version": "1.5.0",
            "_model_name": "HTMLModel",
            "_view_count": null,
            "_view_module": "@jupyter-widgets/controls",
            "_view_module_version": "1.5.0",
            "_view_name": "HTMLView",
            "description": "",
            "description_tooltip": null,
            "layout": "IPY_MODEL_e0a9d8b968c1442190cb4ae947be40d5",
            "placeholder": "​",
            "style": "IPY_MODEL_de331e30ae40432985de3de51dc05185",
            "value": "Downloading: 100%"
          }
        },
        "de87b08c012b4b7ca6cd4e59a296fef9": {
          "model_module": "@jupyter-widgets/controls",
          "model_name": "FloatProgressModel",
          "model_module_version": "1.5.0",
          "state": {
            "_dom_classes": [],
            "_model_module": "@jupyter-widgets/controls",
            "_model_module_version": "1.5.0",
            "_model_name": "FloatProgressModel",
            "_view_count": null,
            "_view_module": "@jupyter-widgets/controls",
            "_view_module_version": "1.5.0",
            "_view_name": "ProgressView",
            "bar_style": "success",
            "description": "",
            "description_tooltip": null,
            "layout": "IPY_MODEL_6e5bf007258f4c66a871c40e5d342062",
            "max": 5534328,
            "min": 0,
            "orientation": "horizontal",
            "style": "IPY_MODEL_e84591d8c0504b76ab7676c7c9f304cb",
            "value": 5534328
          }
        },
        "01983bb6abc34dc8b22fb43c1a5cedff": {
          "model_module": "@jupyter-widgets/controls",
          "model_name": "HTMLModel",
          "model_module_version": "1.5.0",
          "state": {
            "_dom_classes": [],
            "_model_module": "@jupyter-widgets/controls",
            "_model_module_version": "1.5.0",
            "_model_name": "HTMLModel",
            "_view_count": null,
            "_view_module": "@jupyter-widgets/controls",
            "_view_module_version": "1.5.0",
            "_view_name": "HTMLView",
            "description": "",
            "description_tooltip": null,
            "layout": "IPY_MODEL_ce85262cb0c44ac4bd904c9366584ce0",
            "placeholder": "​",
            "style": "IPY_MODEL_6cb3dc86817c494b9a30dc7744a4a78d",
            "value": " 5.53M/5.53M [00:00&lt;00:00, 23.0MB/s]"
          }
        },
        "c192dbe1f82540a1b0fd2035bcdcb09e": {
          "model_module": "@jupyter-widgets/base",
          "model_name": "LayoutModel",
          "model_module_version": "1.2.0",
          "state": {
            "_model_module": "@jupyter-widgets/base",
            "_model_module_version": "1.2.0",
            "_model_name": "LayoutModel",
            "_view_count": null,
            "_view_module": "@jupyter-widgets/base",
            "_view_module_version": "1.2.0",
            "_view_name": "LayoutView",
            "align_content": null,
            "align_items": null,
            "align_self": null,
            "border": null,
            "bottom": null,
            "display": null,
            "flex": null,
            "flex_flow": null,
            "grid_area": null,
            "grid_auto_columns": null,
            "grid_auto_flow": null,
            "grid_auto_rows": null,
            "grid_column": null,
            "grid_gap": null,
            "grid_row": null,
            "grid_template_areas": null,
            "grid_template_columns": null,
            "grid_template_rows": null,
            "height": null,
            "justify_content": null,
            "justify_items": null,
            "left": null,
            "margin": null,
            "max_height": null,
            "max_width": null,
            "min_height": null,
            "min_width": null,
            "object_fit": null,
            "object_position": null,
            "order": null,
            "overflow": null,
            "overflow_x": null,
            "overflow_y": null,
            "padding": null,
            "right": null,
            "top": null,
            "visibility": null,
            "width": null
          }
        },
        "e0a9d8b968c1442190cb4ae947be40d5": {
          "model_module": "@jupyter-widgets/base",
          "model_name": "LayoutModel",
          "model_module_version": "1.2.0",
          "state": {
            "_model_module": "@jupyter-widgets/base",
            "_model_module_version": "1.2.0",
            "_model_name": "LayoutModel",
            "_view_count": null,
            "_view_module": "@jupyter-widgets/base",
            "_view_module_version": "1.2.0",
            "_view_name": "LayoutView",
            "align_content": null,
            "align_items": null,
            "align_self": null,
            "border": null,
            "bottom": null,
            "display": null,
            "flex": null,
            "flex_flow": null,
            "grid_area": null,
            "grid_auto_columns": null,
            "grid_auto_flow": null,
            "grid_auto_rows": null,
            "grid_column": null,
            "grid_gap": null,
            "grid_row": null,
            "grid_template_areas": null,
            "grid_template_columns": null,
            "grid_template_rows": null,
            "height": null,
            "justify_content": null,
            "justify_items": null,
            "left": null,
            "margin": null,
            "max_height": null,
            "max_width": null,
            "min_height": null,
            "min_width": null,
            "object_fit": null,
            "object_position": null,
            "order": null,
            "overflow": null,
            "overflow_x": null,
            "overflow_y": null,
            "padding": null,
            "right": null,
            "top": null,
            "visibility": null,
            "width": null
          }
        },
        "de331e30ae40432985de3de51dc05185": {
          "model_module": "@jupyter-widgets/controls",
          "model_name": "DescriptionStyleModel",
          "model_module_version": "1.5.0",
          "state": {
            "_model_module": "@jupyter-widgets/controls",
            "_model_module_version": "1.5.0",
            "_model_name": "DescriptionStyleModel",
            "_view_count": null,
            "_view_module": "@jupyter-widgets/base",
            "_view_module_version": "1.2.0",
            "_view_name": "StyleView",
            "description_width": ""
          }
        },
        "6e5bf007258f4c66a871c40e5d342062": {
          "model_module": "@jupyter-widgets/base",
          "model_name": "LayoutModel",
          "model_module_version": "1.2.0",
          "state": {
            "_model_module": "@jupyter-widgets/base",
            "_model_module_version": "1.2.0",
            "_model_name": "LayoutModel",
            "_view_count": null,
            "_view_module": "@jupyter-widgets/base",
            "_view_module_version": "1.2.0",
            "_view_name": "LayoutView",
            "align_content": null,
            "align_items": null,
            "align_self": null,
            "border": null,
            "bottom": null,
            "display": null,
            "flex": null,
            "flex_flow": null,
            "grid_area": null,
            "grid_auto_columns": null,
            "grid_auto_flow": null,
            "grid_auto_rows": null,
            "grid_column": null,
            "grid_gap": null,
            "grid_row": null,
            "grid_template_areas": null,
            "grid_template_columns": null,
            "grid_template_rows": null,
            "height": null,
            "justify_content": null,
            "justify_items": null,
            "left": null,
            "margin": null,
            "max_height": null,
            "max_width": null,
            "min_height": null,
            "min_width": null,
            "object_fit": null,
            "object_position": null,
            "order": null,
            "overflow": null,
            "overflow_x": null,
            "overflow_y": null,
            "padding": null,
            "right": null,
            "top": null,
            "visibility": null,
            "width": null
          }
        },
        "e84591d8c0504b76ab7676c7c9f304cb": {
          "model_module": "@jupyter-widgets/controls",
          "model_name": "ProgressStyleModel",
          "model_module_version": "1.5.0",
          "state": {
            "_model_module": "@jupyter-widgets/controls",
            "_model_module_version": "1.5.0",
            "_model_name": "ProgressStyleModel",
            "_view_count": null,
            "_view_module": "@jupyter-widgets/base",
            "_view_module_version": "1.2.0",
            "_view_name": "StyleView",
            "bar_color": null,
            "description_width": ""
          }
        },
        "ce85262cb0c44ac4bd904c9366584ce0": {
          "model_module": "@jupyter-widgets/base",
          "model_name": "LayoutModel",
          "model_module_version": "1.2.0",
          "state": {
            "_model_module": "@jupyter-widgets/base",
            "_model_module_version": "1.2.0",
            "_model_name": "LayoutModel",
            "_view_count": null,
            "_view_module": "@jupyter-widgets/base",
            "_view_module_version": "1.2.0",
            "_view_name": "LayoutView",
            "align_content": null,
            "align_items": null,
            "align_self": null,
            "border": null,
            "bottom": null,
            "display": null,
            "flex": null,
            "flex_flow": null,
            "grid_area": null,
            "grid_auto_columns": null,
            "grid_auto_flow": null,
            "grid_auto_rows": null,
            "grid_column": null,
            "grid_gap": null,
            "grid_row": null,
            "grid_template_areas": null,
            "grid_template_columns": null,
            "grid_template_rows": null,
            "height": null,
            "justify_content": null,
            "justify_items": null,
            "left": null,
            "margin": null,
            "max_height": null,
            "max_width": null,
            "min_height": null,
            "min_width": null,
            "object_fit": null,
            "object_position": null,
            "order": null,
            "overflow": null,
            "overflow_x": null,
            "overflow_y": null,
            "padding": null,
            "right": null,
            "top": null,
            "visibility": null,
            "width": null
          }
        },
        "6cb3dc86817c494b9a30dc7744a4a78d": {
          "model_module": "@jupyter-widgets/controls",
          "model_name": "DescriptionStyleModel",
          "model_module_version": "1.5.0",
          "state": {
            "_model_module": "@jupyter-widgets/controls",
            "_model_module_version": "1.5.0",
            "_model_name": "DescriptionStyleModel",
            "_view_count": null,
            "_view_module": "@jupyter-widgets/base",
            "_view_module_version": "1.2.0",
            "_view_name": "StyleView",
            "description_width": ""
          }
        },
        "54f2fbf292ce49cf9082df926b544a0f": {
          "model_module": "@jupyter-widgets/controls",
          "model_name": "HBoxModel",
          "model_module_version": "1.5.0",
          "state": {
            "_dom_classes": [],
            "_model_module": "@jupyter-widgets/controls",
            "_model_module_version": "1.5.0",
            "_model_name": "HBoxModel",
            "_view_count": null,
            "_view_module": "@jupyter-widgets/controls",
            "_view_module_version": "1.5.0",
            "_view_name": "HBoxView",
            "box_style": "",
            "children": [
              "IPY_MODEL_4e76ef88ef804beeb4ee965bbddb3e38",
              "IPY_MODEL_d7938b39601f43f28211014685617d95",
              "IPY_MODEL_4d4483a0d3794c4c8dbccfb9e977f006"
            ],
            "layout": "IPY_MODEL_e69d7af6a05d484f882046bfc970d7b6"
          }
        },
        "4e76ef88ef804beeb4ee965bbddb3e38": {
          "model_module": "@jupyter-widgets/controls",
          "model_name": "HTMLModel",
          "model_module_version": "1.5.0",
          "state": {
            "_dom_classes": [],
            "_model_module": "@jupyter-widgets/controls",
            "_model_module_version": "1.5.0",
            "_model_name": "HTMLModel",
            "_view_count": null,
            "_view_module": "@jupyter-widgets/controls",
            "_view_module_version": "1.5.0",
            "_view_name": "HTMLView",
            "description": "",
            "description_tooltip": null,
            "layout": "IPY_MODEL_392019d0b07444d198374afcbbc315c6",
            "placeholder": "​",
            "style": "IPY_MODEL_08f8161cddc94a56872fb0dc705b0760",
            "value": "Downloading: 100%"
          }
        },
        "d7938b39601f43f28211014685617d95": {
          "model_module": "@jupyter-widgets/controls",
          "model_name": "FloatProgressModel",
          "model_module_version": "1.5.0",
          "state": {
            "_dom_classes": [],
            "_model_module": "@jupyter-widgets/controls",
            "_model_module_version": "1.5.0",
            "_model_name": "FloatProgressModel",
            "_view_count": null,
            "_view_module": "@jupyter-widgets/controls",
            "_view_module_version": "1.5.0",
            "_view_name": "ProgressView",
            "bar_style": "success",
            "description": "",
            "description_tooltip": null,
            "layout": "IPY_MODEL_8a894bf28b5e4619a3d42ad1e4465399",
            "max": 128619,
            "min": 0,
            "orientation": "horizontal",
            "style": "IPY_MODEL_4915ccc7f7314a4abe665af78b358f93",
            "value": 128619
          }
        },
        "4d4483a0d3794c4c8dbccfb9e977f006": {
          "model_module": "@jupyter-widgets/controls",
          "model_name": "HTMLModel",
          "model_module_version": "1.5.0",
          "state": {
            "_dom_classes": [],
            "_model_module": "@jupyter-widgets/controls",
            "_model_module_version": "1.5.0",
            "_model_name": "HTMLModel",
            "_view_count": null,
            "_view_module": "@jupyter-widgets/controls",
            "_view_module_version": "1.5.0",
            "_view_name": "HTMLView",
            "description": "",
            "description_tooltip": null,
            "layout": "IPY_MODEL_afa1eb8791e743c5b0c941b9d5775594",
            "placeholder": "​",
            "style": "IPY_MODEL_dc7f5beed415445f8ee56b8bc440b07f",
            "value": " 129k/129k [00:00&lt;00:00, 2.18MB/s]"
          }
        },
        "e69d7af6a05d484f882046bfc970d7b6": {
          "model_module": "@jupyter-widgets/base",
          "model_name": "LayoutModel",
          "model_module_version": "1.2.0",
          "state": {
            "_model_module": "@jupyter-widgets/base",
            "_model_module_version": "1.2.0",
            "_model_name": "LayoutModel",
            "_view_count": null,
            "_view_module": "@jupyter-widgets/base",
            "_view_module_version": "1.2.0",
            "_view_name": "LayoutView",
            "align_content": null,
            "align_items": null,
            "align_self": null,
            "border": null,
            "bottom": null,
            "display": null,
            "flex": null,
            "flex_flow": null,
            "grid_area": null,
            "grid_auto_columns": null,
            "grid_auto_flow": null,
            "grid_auto_rows": null,
            "grid_column": null,
            "grid_gap": null,
            "grid_row": null,
            "grid_template_areas": null,
            "grid_template_columns": null,
            "grid_template_rows": null,
            "height": null,
            "justify_content": null,
            "justify_items": null,
            "left": null,
            "margin": null,
            "max_height": null,
            "max_width": null,
            "min_height": null,
            "min_width": null,
            "object_fit": null,
            "object_position": null,
            "order": null,
            "overflow": null,
            "overflow_x": null,
            "overflow_y": null,
            "padding": null,
            "right": null,
            "top": null,
            "visibility": null,
            "width": null
          }
        },
        "392019d0b07444d198374afcbbc315c6": {
          "model_module": "@jupyter-widgets/base",
          "model_name": "LayoutModel",
          "model_module_version": "1.2.0",
          "state": {
            "_model_module": "@jupyter-widgets/base",
            "_model_module_version": "1.2.0",
            "_model_name": "LayoutModel",
            "_view_count": null,
            "_view_module": "@jupyter-widgets/base",
            "_view_module_version": "1.2.0",
            "_view_name": "LayoutView",
            "align_content": null,
            "align_items": null,
            "align_self": null,
            "border": null,
            "bottom": null,
            "display": null,
            "flex": null,
            "flex_flow": null,
            "grid_area": null,
            "grid_auto_columns": null,
            "grid_auto_flow": null,
            "grid_auto_rows": null,
            "grid_column": null,
            "grid_gap": null,
            "grid_row": null,
            "grid_template_areas": null,
            "grid_template_columns": null,
            "grid_template_rows": null,
            "height": null,
            "justify_content": null,
            "justify_items": null,
            "left": null,
            "margin": null,
            "max_height": null,
            "max_width": null,
            "min_height": null,
            "min_width": null,
            "object_fit": null,
            "object_position": null,
            "order": null,
            "overflow": null,
            "overflow_x": null,
            "overflow_y": null,
            "padding": null,
            "right": null,
            "top": null,
            "visibility": null,
            "width": null
          }
        },
        "08f8161cddc94a56872fb0dc705b0760": {
          "model_module": "@jupyter-widgets/controls",
          "model_name": "DescriptionStyleModel",
          "model_module_version": "1.5.0",
          "state": {
            "_model_module": "@jupyter-widgets/controls",
            "_model_module_version": "1.5.0",
            "_model_name": "DescriptionStyleModel",
            "_view_count": null,
            "_view_module": "@jupyter-widgets/base",
            "_view_module_version": "1.2.0",
            "_view_name": "StyleView",
            "description_width": ""
          }
        },
        "8a894bf28b5e4619a3d42ad1e4465399": {
          "model_module": "@jupyter-widgets/base",
          "model_name": "LayoutModel",
          "model_module_version": "1.2.0",
          "state": {
            "_model_module": "@jupyter-widgets/base",
            "_model_module_version": "1.2.0",
            "_model_name": "LayoutModel",
            "_view_count": null,
            "_view_module": "@jupyter-widgets/base",
            "_view_module_version": "1.2.0",
            "_view_name": "LayoutView",
            "align_content": null,
            "align_items": null,
            "align_self": null,
            "border": null,
            "bottom": null,
            "display": null,
            "flex": null,
            "flex_flow": null,
            "grid_area": null,
            "grid_auto_columns": null,
            "grid_auto_flow": null,
            "grid_auto_rows": null,
            "grid_column": null,
            "grid_gap": null,
            "grid_row": null,
            "grid_template_areas": null,
            "grid_template_columns": null,
            "grid_template_rows": null,
            "height": null,
            "justify_content": null,
            "justify_items": null,
            "left": null,
            "margin": null,
            "max_height": null,
            "max_width": null,
            "min_height": null,
            "min_width": null,
            "object_fit": null,
            "object_position": null,
            "order": null,
            "overflow": null,
            "overflow_x": null,
            "overflow_y": null,
            "padding": null,
            "right": null,
            "top": null,
            "visibility": null,
            "width": null
          }
        },
        "4915ccc7f7314a4abe665af78b358f93": {
          "model_module": "@jupyter-widgets/controls",
          "model_name": "ProgressStyleModel",
          "model_module_version": "1.5.0",
          "state": {
            "_model_module": "@jupyter-widgets/controls",
            "_model_module_version": "1.5.0",
            "_model_name": "ProgressStyleModel",
            "_view_count": null,
            "_view_module": "@jupyter-widgets/base",
            "_view_module_version": "1.2.0",
            "_view_name": "StyleView",
            "bar_color": null,
            "description_width": ""
          }
        },
        "afa1eb8791e743c5b0c941b9d5775594": {
          "model_module": "@jupyter-widgets/base",
          "model_name": "LayoutModel",
          "model_module_version": "1.2.0",
          "state": {
            "_model_module": "@jupyter-widgets/base",
            "_model_module_version": "1.2.0",
            "_model_name": "LayoutModel",
            "_view_count": null,
            "_view_module": "@jupyter-widgets/base",
            "_view_module_version": "1.2.0",
            "_view_name": "LayoutView",
            "align_content": null,
            "align_items": null,
            "align_self": null,
            "border": null,
            "bottom": null,
            "display": null,
            "flex": null,
            "flex_flow": null,
            "grid_area": null,
            "grid_auto_columns": null,
            "grid_auto_flow": null,
            "grid_auto_rows": null,
            "grid_column": null,
            "grid_gap": null,
            "grid_row": null,
            "grid_template_areas": null,
            "grid_template_columns": null,
            "grid_template_rows": null,
            "height": null,
            "justify_content": null,
            "justify_items": null,
            "left": null,
            "margin": null,
            "max_height": null,
            "max_width": null,
            "min_height": null,
            "min_width": null,
            "object_fit": null,
            "object_position": null,
            "order": null,
            "overflow": null,
            "overflow_x": null,
            "overflow_y": null,
            "padding": null,
            "right": null,
            "top": null,
            "visibility": null,
            "width": null
          }
        },
        "dc7f5beed415445f8ee56b8bc440b07f": {
          "model_module": "@jupyter-widgets/controls",
          "model_name": "DescriptionStyleModel",
          "model_module_version": "1.5.0",
          "state": {
            "_model_module": "@jupyter-widgets/controls",
            "_model_module_version": "1.5.0",
            "_model_name": "DescriptionStyleModel",
            "_view_count": null,
            "_view_module": "@jupyter-widgets/base",
            "_view_module_version": "1.2.0",
            "_view_name": "StyleView",
            "description_width": ""
          }
        }
      }
    },
    "accelerator": "GPU"
  },
  "nbformat": 4,
  "nbformat_minor": 0
}