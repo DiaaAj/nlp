{
  "cells": [
    {
      "cell_type": "markdown",
      "source": [
        "[![notebook shield](https://img.shields.io/static/v1?label=&message=Notebook&color=blue&style=for-the-badge&logo=googlecolab&link=https://colab.research.google.com/github/ArthurFDLR/whisper-youtube/blob/main/whisper_youtube.ipynb)](https://colab.research.google.com/github/Majdoddin/nlp/blob/main/Pyannote_plays_and_Whisper_rhymes_v_2_0.ipynb)\n",
        "[![repository shield](https://img.shields.io/static/v1?label=&message=Repository&color=blue&style=for-the-badge&logo=github&link=https://github.com/openai/whisper)](https://github.com/majdoddin/nlp)\n",
        "\n",
        "# Whisper's transcription plus Pyannote's Diarization \n",
        "\n",
        "Andrej Karpathy [suggested](https://twitter.com/karpathy/status/1574476200801538048?s=20&t=s5IMMXOYjBI6-91dib6w8g) training a classifier on top of  OpenAI [Whisper](https://openai.com/blog/whisper/) model features to identify the speaker, so we can visualize the speaker in the transcript. But, as [pointed out](https://twitter.com/tarantulae/status/1574493613362388992?s=20&t=s5IMMXOYjBI6-91dib6w8g) by Christian Perone, it seems that features from whisper wouldn't be that great for speaker recognition as its main objective is basically to ignore speaker differences.\n",
        "\n",
        "In the following, I use [**`pyannote-audio`**](https://github.com/pyannote/pyannote-audio), a speaker diarization toolkit by Hervé Bredin, to identify the speakers, and then match it with the transcriptions of Whispr, linked to the video. The input can be YouTube or an video/audio file (also on Google Drive). I try it on a part of an [interview](https://youtu.be/NSp2fEQ6wyA) with Freeman Dyson. Check the result [**here**](https://majdoddin.github.io/dyson.html).\n",
        "\n",
        "To make it easier to match the transcriptions to diarizations by speaker change, Sarah Kaiser [suggested](https://github.com/openai/whisper/discussions/264#discussioncomment-3825375) runnnig the pyannote.audio first and  then just running whisper on the split-by-speaker chunks. \n",
        "For sake of performance (and transcription quality?), we attach the audio segements into a single audio file with a silent spacer as a seperator, and run whisper on it. Enjoy it!\n",
        "\n",
        "(For sake of performance , I also tried attaching the audio segements into a single audio file with a silent -or beep- spacer as a seperator, and run whisper on it see it on [colab](https://colab.research.google.com/drive/1HuvcY4tkTHPDzcwyVH77LCh_m8tP-Qet?usp=sharing). It [works](https://majdoddin.github.io/lexicap.html) on some audio, and fails on some (Dyson's Interview). The problem is, whisper does not reliably make a timestap on a spacer. See the discussions [#139](https://github.com/openai/whisper/discussions/139) and [#29](https://github.com/openai/whisper/discussions/29))\n",
        "\n",
        "The Markdown form used below is from [@ArthurFDLR](https://github.com/ArthurFDLR/whisper-youtube/).   "
      ],
      "metadata": {
        "id": "RQyROdrfsvk4"
      }
    },
    {
      "cell_type": "markdown",
      "source": [
        "# Preparing the audio file"
      ],
      "metadata": {
        "id": "wtljXaTXnowa"
      }
    },
    {
      "cell_type": "markdown",
      "source": [
        "**Optional:** Mount Google Drive\n",
        "\n"
      ],
      "metadata": {
        "id": "bUA_4lnNgpSW"
      }
    },
    {
      "cell_type": "code",
      "source": [
        "from google.colab import drive\n",
        "from pathlib import Path\n",
        "\n",
        "drive_mount_path = Path(\"/content/drive\")\n",
        "drive.mount(str(drive_mount_path))\n",
        "drive_mount_path /= \"MyDrive\""
      ],
      "metadata": {
        "id": "B3tqC8m8fyCJ",
        "outputId": "0a833734-9c24-4834-8f8d-05c053178435",
        "colab": {
          "base_uri": "https://localhost:8080/"
        }
      },
      "execution_count": 1,
      "outputs": [
        {
          "output_type": "stream",
          "name": "stdout",
          "text": [
            "Mounted at /content/drive\n"
          ]
        }
      ]
    },
    {
      "cell_type": "code",
      "source": [
        "#@markdown Enter the URL of the YouTube video, or the path to the video/audio file you want to transcribe, give the output path, and run the cell. HTML file is generated only for YouTube videos\n",
        "\n",
        "Source = 'Youtube' #@param ['Youtube', 'File (Google Drive)']\n",
        "#@markdown ---\n",
        "#@markdown #### **Youtube video**\n",
        "video_url = \"https://youtu.be/NSp2fEQ6wyA\" #@param {type:\"string\"}\n",
        "#store_audio = True #@param {type:\"boolean\"}\n",
        "#@markdown ---\n",
        "#@markdown #### **Google Drive video or audio (mp4, wav)**\n",
        "video_path = \"/content/drive/MyDrive/Colab Notebooks/PyannoteWhisper/dyson.mp4\" #@param {type:\"string\"}\n",
        "#@markdown ---\n",
        "output_path = \"/content/\" #@param {type:\"string\"}\n",
        "output_path = str(Path(output_path))\n",
        "#@markdown ---\n",
        "#@markdown **Run this cell again if you change the video.**\n"
      ],
      "metadata": {
        "id": "1zqnZsBacKph"
      },
      "execution_count": 2,
      "outputs": []
    },
    {
      "cell_type": "code",
      "source": [
        "Path(output_path).mkdir(parents=True, exist_ok=True)\n",
        "%cd {output_path}\n",
        "video_title = \"\"\n",
        "video_id = \"\""
      ],
      "metadata": {
        "colab": {
          "base_uri": "https://localhost:8080/"
        },
        "id": "6vgK82ahXNje",
        "outputId": "70f978e1-4609-4d81-abe6-daffa7024087"
      },
      "execution_count": 3,
      "outputs": [
        {
          "output_type": "stream",
          "name": "stdout",
          "text": [
            "/content\n"
          ]
        }
      ]
    },
    {
      "cell_type": "markdown",
      "source": [
        "## From YouTube"
      ],
      "metadata": {
        "id": "o-a6pLioVHjl"
      }
    },
    {
      "cell_type": "markdown",
      "source": [
        " Installing [`yt-dlp`](https://github.com/yt-dlp/yt-dlp) and downloading the [video](https://youtu.be/NSp2fEQ6wyA) from youtube."
      ],
      "metadata": {
        "id": "Ct4adIANpQvX"
      }
    },
    {
      "cell_type": "code",
      "execution_count": 4,
      "metadata": {
        "id": "TL7fC4aZdpyH",
        "colab": {
          "base_uri": "https://localhost:8080/"
        },
        "outputId": "b447e97d-6c32-46e7-b97f-21a56ab237ef"
      },
      "outputs": [
        {
          "output_type": "stream",
          "name": "stdout",
          "text": [
            "Looking in indexes: https://pypi.org/simple, https://us-python.pkg.dev/colab-wheels/public/simple/\n",
            "Collecting yt-dlp\n",
            "  Downloading yt_dlp-2023.3.4-py2.py3-none-any.whl (2.9 MB)\n",
            "\u001b[2K     \u001b[90m━━━━━━━━━━━━━━━━━━━━━━━━━━━━━━━━━━━━━━━━\u001b[0m \u001b[32m2.9/2.9 MB\u001b[0m \u001b[31m63.2 MB/s\u001b[0m eta \u001b[36m0:00:00\u001b[0m\n",
            "\u001b[?25hCollecting pycryptodomex\n",
            "  Downloading pycryptodomex-3.17-cp35-abi3-manylinux_2_17_x86_64.manylinux2014_x86_64.whl (2.1 MB)\n",
            "\u001b[2K     \u001b[90m━━━━━━━━━━━━━━━━━━━━━━━━━━━━━━━━━━━━━━━━\u001b[0m \u001b[32m2.1/2.1 MB\u001b[0m \u001b[31m94.3 MB/s\u001b[0m eta \u001b[36m0:00:00\u001b[0m\n",
            "\u001b[?25hCollecting brotli\n",
            "  Downloading Brotli-1.0.9-cp39-cp39-manylinux1_x86_64.whl (357 kB)\n",
            "\u001b[2K     \u001b[90m━━━━━━━━━━━━━━━━━━━━━━━━━━━━━━━━━━━━━━\u001b[0m \u001b[32m357.2/357.2 KB\u001b[0m \u001b[31m46.0 MB/s\u001b[0m eta \u001b[36m0:00:00\u001b[0m\n",
            "\u001b[?25hCollecting websockets\n",
            "  Downloading websockets-10.4-cp39-cp39-manylinux_2_5_x86_64.manylinux1_x86_64.manylinux_2_17_x86_64.manylinux2014_x86_64.whl (106 kB)\n",
            "\u001b[2K     \u001b[90m━━━━━━━━━━━━━━━━━━━━━━━━━━━━━━━━━━━━━━\u001b[0m \u001b[32m106.5/106.5 KB\u001b[0m \u001b[31m18.4 MB/s\u001b[0m eta \u001b[36m0:00:00\u001b[0m\n",
            "\u001b[?25hCollecting mutagen\n",
            "  Downloading mutagen-1.46.0-py3-none-any.whl (193 kB)\n",
            "\u001b[2K     \u001b[90m━━━━━━━━━━━━━━━━━━━━━━━━━━━━━━━━━━━━━━\u001b[0m \u001b[32m193.6/193.6 KB\u001b[0m \u001b[31m29.5 MB/s\u001b[0m eta \u001b[36m0:00:00\u001b[0m\n",
            "\u001b[?25hRequirement already satisfied: certifi in /usr/local/lib/python3.9/dist-packages (from yt-dlp) (2022.12.7)\n",
            "Installing collected packages: brotli, websockets, pycryptodomex, mutagen, yt-dlp\n",
            "Successfully installed brotli-1.0.9 mutagen-1.46.0 pycryptodomex-3.17 websockets-10.4 yt-dlp-2023.3.4\n"
          ]
        }
      ],
      "source": [
        "if Source == \"Youtube\":\n",
        "  !pip install -U yt-dlp"
      ]
    },
    {
      "cell_type": "markdown",
      "source": [
        "Custom build of `ffmpeg` as [recommended](https://github.com/yt-dlp/yt-dlp#strongly-recommended) by `yt-dlp`."
      ],
      "metadata": {
        "id": "bI5sr2GI4gXb"
      }
    },
    {
      "cell_type": "code",
      "execution_count": 5,
      "metadata": {
        "id": "KsedMPN-daEX"
      },
      "outputs": [],
      "source": [
        "if Source == \"Youtube\":\n",
        "  !wget -O - -q  https://github.com/yt-dlp/FFmpeg-Builds/releases/download/latest/ffmpeg-master-latest-linux64-gpl.tar.xz | xz -qdc| tar -x"
      ]
    },
    {
      "cell_type": "code",
      "source": [
        "#Getting video info\n",
        "if Source == \"Youtube\":\n",
        "  from yt_dlp import YoutubeDL\n",
        "  with YoutubeDL() as ydl: \n",
        "    info_dict = ydl.extract_info(video_url, download=False)\n",
        "    video_title = info_dict.get('title', None)\n",
        "    video_id = info_dict.get('id', None)\n",
        "    print(\"Title: \" + video_title) # <= Here, you got the video title\n"
      ],
      "metadata": {
        "colab": {
          "base_uri": "https://localhost:8080/"
        },
        "id": "DNcD7tx9UmyK",
        "outputId": "12a20fb6-cfe3-4eef-c5ae-914153f4a04b"
      },
      "execution_count": 6,
      "outputs": [
        {
          "output_type": "stream",
          "name": "stdout",
          "text": [
            "[youtube] Extracting URL: https://youtu.be/NSp2fEQ6wyA\n",
            "[youtube] NSp2fEQ6wyA: Downloading webpage\n",
            "[youtube] NSp2fEQ6wyA: Downloading android player API JSON\n",
            "Title: Freeman Dyson - Pure mathematics at Cambridge: the influence of Besicovitch (23/157)\n"
          ]
        }
      ]
    },
    {
      "cell_type": "markdown",
      "source": [
        "Downloading the audio from YouTube."
      ],
      "metadata": {
        "id": "e_UyK49aPNiD"
      }
    },
    {
      "cell_type": "code",
      "execution_count": 7,
      "metadata": {
        "id": "2VHzpv72dkvV",
        "colab": {
          "base_uri": "https://localhost:8080/"
        },
        "outputId": "e04c81b4-51d1-40a4-8ab8-b433675ccfe7"
      },
      "outputs": [
        {
          "output_type": "stream",
          "name": "stdout",
          "text": [
            "[debug] Command-line config: ['-xv', '--ffmpeg-location', 'ffmpeg-master-latest-linux64-gpl/bin', '--audio-format', 'wav', '-o', '/content/input.wav', '--', 'https://youtu.be/NSp2fEQ6wyA']\n",
            "[debug] Encodings: locale UTF-8, fs utf-8, pref UTF-8, out utf-8, error utf-8, screen utf-8\n",
            "[debug] yt-dlp version stable@2023.03.04 [392389b7d] (pip)\n",
            "[debug] Python 3.9.16 (CPython x86_64 64bit) - Linux-5.10.147+-x86_64-with-glibc2.31 (OpenSSL 1.1.1f  31 Mar 2020, glibc 2.31)\n",
            "[debug] exe versions: ffmpeg N-110022-gc3a7999099-20230316 (setts), ffprobe N-110022-gc3a7999099-20230316\n",
            "[debug] Optional libraries: Cryptodome-3.17, brotli-1.0.9, certifi-2022.12.07, mutagen-1.46.0, sqlite3-2.6.0, websockets-10.4\n",
            "[debug] Proxy map: {}\n",
            "[debug] Loaded 1786 extractors\n",
            "[youtube] Extracting URL: https://youtu.be/NSp2fEQ6wyA\n",
            "[youtube] NSp2fEQ6wyA: Downloading webpage\n",
            "[youtube] NSp2fEQ6wyA: Downloading android player API JSON\n",
            "[debug] Sort order given by extractor: quality, res, fps, hdr:12, source, vcodec:vp9.2, channels, acodec, lang, proto\n",
            "[debug] Formats sorted by: hasvid, ie_pref, quality, res, fps, hdr:12(7), source, vcodec:vp9.2(10), channels, acodec, lang, proto, filesize, fs_approx, tbr, vbr, abr, asr, vext, aext, hasaud, id\n",
            "[info] NSp2fEQ6wyA: Downloading 1 format(s): 251\n",
            "[debug] Invoking dashsegments downloader on \"https://rr1---sn-5hne6n6e.googlevideo.com/videoplayback?expire=1679073758&ei=fk0UZMmAGoyu1wLQmb2oAw&ip=34.90.133.1&id=o-AHNloSA6uUyWpnTvkkkWswyRXXvLt46fqlOK677RsD0d&itag=251&source=youtube&requiressl=yes&mh=KI&mm=31%2C29&mn=sn-5hne6n6e%2Csn-5hneknek&ms=au%2Crdu&mv=u&mvi=1&pl=21&spc=H3gIhlonGgv-0Nf4ZQIYO191IGkBiEI&vprv=1&svpuc=1&mime=audio%2Fwebm&gir=yes&clen=3153007&dur=256.641&lmt=1475065382561792&mt=1679051735&fvip=1&keepalive=yes&fexp=24007246&c=ANDROID&sparams=expire%2Cei%2Cip%2Cid%2Citag%2Csource%2Crequiressl%2Cspc%2Cvprv%2Csvpuc%2Cmime%2Cgir%2Cclen%2Cdur%2Clmt&sig=AOq0QJ8wRgIhAKL2SF9VRZPi3ApwN-BYSUPRvxAl8OQ4foOra5jOoESiAiEAxEs8LCuOHBO8lm1tbIAmXirYFaAEk9UT7OGo49y2Zjg%3D&lsparams=mh%2Cmm%2Cmn%2Cms%2Cmv%2Cmvi%2Cpl&lsig=AG3C_xAwRgIhAOpCnS_KR3I9E6B8-mwpaAHwRJ5KNlSiPXryL1Q0ByulAiEAtxeh0qa79Cz7foPMA5XUUgMCgq7hJkwCA9Dv7P8_ltU%3D\"\n",
            "[dashsegments] Total fragments: 1\n",
            "[download] Destination: /content/input.webm\n",
            "\u001b[K[download] 100% of    3.01MiB in \u001b[1;37m00:00:00\u001b[0m at \u001b[0;32m41.25MiB/s\u001b[0m\n",
            "[debug] ffmpeg command line: ffmpeg-master-latest-linux64-gpl/bin/ffprobe -show_streams file:/content/input.webm\n",
            "[ExtractAudio] Destination: /content/input.wav\n",
            "[debug] ffmpeg command line: ffmpeg-master-latest-linux64-gpl/bin/ffmpeg -y -loglevel repeat+info -i file:/content/input.webm -vn -movflags +faststart file:/content/input.wav\n",
            "Deleting original file /content/input.webm (pass -k to keep)\n"
          ]
        }
      ],
      "source": [
        "if Source == \"Youtube\":\n",
        "  !yt-dlp -xv --ffmpeg-location ffmpeg-master-latest-linux64-gpl/bin --audio-format wav  -o \"{str(output_path) + '/'}input.wav\" -- {video_url}"
      ]
    },
    {
      "cell_type": "markdown",
      "source": [
        "## or from File (Google Drive)"
      ],
      "metadata": {
        "id": "NJRyeo5RVYb8"
      }
    },
    {
      "cell_type": "code",
      "source": [
        "if Source == 'File (Google Drive)':\n",
        "    !ffmpeg -i {repr(video_path)} -vn -acodec pcm_s16le -ar 16000 -ac 1 input.wav  "
      ],
      "metadata": {
        "id": "VjORT6CkVoTF"
      },
      "execution_count": 8,
      "outputs": []
    },
    {
      "cell_type": "markdown",
      "source": [
        "## Prepending a spacer"
      ],
      "metadata": {
        "id": "1u1vbqd_VzNp"
      }
    },
    {
      "cell_type": "markdown",
      "source": [
        "`pyannote.audio` seems to miss the first 0.5 seconds of the audio, and, therefore, we prepend a spcacer."
      ],
      "metadata": {
        "id": "q7qMLTISFE6M"
      }
    },
    {
      "cell_type": "code",
      "execution_count": 9,
      "metadata": {
        "id": "ZqznOE7Kw725",
        "colab": {
          "base_uri": "https://localhost:8080/"
        },
        "outputId": "f0e0cd8d-a6d0-4c88-eabc-180b94bcd4c4"
      },
      "outputs": [
        {
          "output_type": "stream",
          "name": "stdout",
          "text": [
            "Looking in indexes: https://pypi.org/simple, https://us-python.pkg.dev/colab-wheels/public/simple/\n",
            "Collecting pydub\n",
            "  Downloading pydub-0.25.1-py2.py3-none-any.whl (32 kB)\n",
            "Installing collected packages: pydub\n",
            "Successfully installed pydub-0.25.1\n"
          ]
        }
      ],
      "source": [
        "!pip install pydub"
      ]
    },
    {
      "cell_type": "code",
      "source": [
        "from pydub import AudioSegment\n",
        "\n",
        "spacermilli = 2000\n",
        "spacer = AudioSegment.silent(duration=spacermilli)\n",
        "\n",
        "\n",
        "audio = AudioSegment.from_wav(\"input.wav\") \n",
        "\n",
        "audio = spacer.append(audio, crossfade=0)\n",
        "\n",
        "audio.export('input_prep.wav', format='wav')"
      ],
      "metadata": {
        "colab": {
          "base_uri": "https://localhost:8080/"
        },
        "id": "MaRDsBV1CWi8",
        "outputId": "5c63fc12-3362-4fd6-e448-cbbc0c7fa541"
      },
      "execution_count": 10,
      "outputs": [
        {
          "output_type": "execute_result",
          "data": {
            "text/plain": [
              "<_io.BufferedRandom name='input_prep.wav'>"
            ]
          },
          "metadata": {},
          "execution_count": 10
        }
      ]
    },
    {
      "cell_type": "markdown",
      "source": [
        "# Pyannote's Diarization"
      ],
      "metadata": {
        "id": "mb5eEOKUooju"
      }
    },
    {
      "cell_type": "markdown",
      "metadata": {
        "id": "nxNf1l8Ye_U9"
      },
      "source": [
        "[`pyannote.audio`](https://github.com/pyannote/pyannote-audio) is an open-source toolkit written in Python for **speaker diarization**. \n",
        "\n",
        "Based on [`PyTorch`](https://pytorch.org) machine learning framework, it provides a set of trainable end-to-end neural building blocks that can be combined and jointly optimized to build speaker diarization pipelines. \n",
        "\n",
        "`pyannote.audio` also comes with pretrained [models](https://huggingface.co/models?other=pyannote-audio-model) and [pipelines](https://huggingface.co/models?other=pyannote-audio-pipeline) covering a wide range of domains for voice activity detection, speaker segmentation, overlapped speech detection, speaker embedding reaching state-of-the-art performance for most of them. "
      ]
    },
    {
      "cell_type": "markdown",
      "source": [
        "Installing `pyannote.audio`."
      ],
      "metadata": {
        "id": "S8Ak_OQwqd-3"
      }
    },
    {
      "cell_type": "code",
      "execution_count": 11,
      "metadata": {
        "id": "vJGyKTQJqdzq",
        "colab": {
          "base_uri": "https://localhost:8080/",
          "height": 1000
        },
        "outputId": "c8e51c98-3453-4b6d-bec4-dbc3a4d95b5c"
      },
      "outputs": [
        {
          "output_type": "stream",
          "name": "stdout",
          "text": [
            "Looking in indexes: https://pypi.org/simple, https://us-python.pkg.dev/colab-wheels/public/simple/\n",
            "Collecting pyannote.audio\n",
            "  Downloading pyannote.audio-2.1.1-py2.py3-none-any.whl (390 kB)\n",
            "\u001b[2K     \u001b[90m━━━━━━━━━━━━━━━━━━━━━━━━━━━━━━━━━━━━━━\u001b[0m \u001b[32m390.7/390.7 KB\u001b[0m \u001b[31m21.2 MB/s\u001b[0m eta \u001b[36m0:00:00\u001b[0m\n",
            "\u001b[?25hCollecting pytorch-metric-learning<2.0,>=1.0.0\n",
            "  Downloading pytorch_metric_learning-1.7.3-py3-none-any.whl (112 kB)\n",
            "\u001b[2K     \u001b[90m━━━━━━━━━━━━━━━━━━━━━━━━━━━━━━━━━━━━━━\u001b[0m \u001b[32m112.2/112.2 KB\u001b[0m \u001b[31m19.8 MB/s\u001b[0m eta \u001b[36m0:00:00\u001b[0m\n",
            "\u001b[?25hCollecting pyannote.metrics<4.0,>=3.2\n",
            "  Downloading pyannote.metrics-3.2.1-py3-none-any.whl (51 kB)\n",
            "\u001b[2K     \u001b[90m━━━━━━━━━━━━━━━━━━━━━━━━━━━━━━━━━━━━━━━━\u001b[0m \u001b[32m51.4/51.4 KB\u001b[0m \u001b[31m8.7 MB/s\u001b[0m eta \u001b[36m0:00:00\u001b[0m\n",
            "\u001b[?25hRequirement already satisfied: torchaudio<1.0,>=0.10 in /usr/local/lib/python3.9/dist-packages (from pyannote.audio) (0.13.1+cu116)\n",
            "Collecting speechbrain<0.6,>=0.5.12\n",
            "  Downloading speechbrain-0.5.13-py3-none-any.whl (498 kB)\n",
            "\u001b[2K     \u001b[90m━━━━━━━━━━━━━━━━━━━━━━━━━━━━━━━━━━━━━━\u001b[0m \u001b[32m499.0/499.0 KB\u001b[0m \u001b[31m48.6 MB/s\u001b[0m eta \u001b[36m0:00:00\u001b[0m\n",
            "\u001b[?25hCollecting torch-audiomentations>=0.11.0\n",
            "  Downloading torch_audiomentations-0.11.0-py3-none-any.whl (47 kB)\n",
            "\u001b[2K     \u001b[90m━━━━━━━━━━━━━━━━━━━━━━━━━━━━━━━━━━━━━━━━\u001b[0m \u001b[32m47.9/47.9 KB\u001b[0m \u001b[31m7.7 MB/s\u001b[0m eta \u001b[36m0:00:00\u001b[0m\n",
            "\u001b[?25hRequirement already satisfied: typing-extensions in /usr/local/lib/python3.9/dist-packages (from pyannote.audio) (4.5.0)\n",
            "Collecting pyannote.database<5.0,>=4.1.1\n",
            "  Downloading pyannote.database-4.1.3-py3-none-any.whl (41 kB)\n",
            "\u001b[2K     \u001b[90m━━━━━━━━━━━━━━━━━━━━━━━━━━━━━━━━━━━━━━━━\u001b[0m \u001b[32m41.6/41.6 KB\u001b[0m \u001b[31m6.1 MB/s\u001b[0m eta \u001b[36m0:00:00\u001b[0m\n",
            "\u001b[?25hCollecting hmmlearn<0.3,>=0.2.7\n",
            "  Downloading hmmlearn-0.2.8-cp39-cp39-manylinux_2_5_x86_64.manylinux1_x86_64.whl (217 kB)\n",
            "\u001b[2K     \u001b[90m━━━━━━━━━━━━━━━━━━━━━━━━━━━━━━━━━━━━━━\u001b[0m \u001b[32m217.2/217.2 KB\u001b[0m \u001b[31m32.4 MB/s\u001b[0m eta \u001b[36m0:00:00\u001b[0m\n",
            "\u001b[?25hCollecting pyannote.pipeline<3.0,>=2.3\n",
            "  Downloading pyannote.pipeline-2.3-py3-none-any.whl (30 kB)\n",
            "Collecting torchmetrics<1.0,>=0.6\n",
            "  Downloading torchmetrics-0.11.4-py3-none-any.whl (519 kB)\n",
            "\u001b[2K     \u001b[90m━━━━━━━━━━━━━━━━━━━━━━━━━━━━━━━━━━━━━━\u001b[0m \u001b[32m519.2/519.2 KB\u001b[0m \u001b[31m54.2 MB/s\u001b[0m eta \u001b[36m0:00:00\u001b[0m\n",
            "\u001b[?25hCollecting pytorch-lightning<1.7,>=1.5.4\n",
            "  Downloading pytorch_lightning-1.6.5-py3-none-any.whl (585 kB)\n",
            "\u001b[2K     \u001b[90m━━━━━━━━━━━━━━━━━━━━━━━━━━━━━━━━━━━━━━\u001b[0m \u001b[32m585.9/585.9 KB\u001b[0m \u001b[31m52.2 MB/s\u001b[0m eta \u001b[36m0:00:00\u001b[0m\n",
            "\u001b[?25hCollecting semver<3.0,>=2.10.2\n",
            "  Downloading semver-2.13.0-py2.py3-none-any.whl (12 kB)\n",
            "Collecting asteroid-filterbanks<0.5,>=0.4\n",
            "  Downloading asteroid_filterbanks-0.4.0-py3-none-any.whl (29 kB)\n",
            "Collecting huggingface-hub>=0.8.1\n",
            "  Downloading huggingface_hub-0.13.2-py3-none-any.whl (199 kB)\n",
            "\u001b[2K     \u001b[90m━━━━━━━━━━━━━━━━━━━━━━━━━━━━━━━━━━━━━━\u001b[0m \u001b[32m199.2/199.2 KB\u001b[0m \u001b[31m28.9 MB/s\u001b[0m eta \u001b[36m0:00:00\u001b[0m\n",
            "\u001b[?25hCollecting singledispatchmethod\n",
            "  Downloading singledispatchmethod-1.0-py2.py3-none-any.whl (4.7 kB)\n",
            "Requirement already satisfied: torch>=1.9 in /usr/local/lib/python3.9/dist-packages (from pyannote.audio) (1.13.1+cu116)\n",
            "Collecting pyannote.core<5.0,>=4.4\n",
            "  Downloading pyannote.core-4.5-py3-none-any.whl (60 kB)\n",
            "\u001b[2K     \u001b[90m━━━━━━━━━━━━━━━━━━━━━━━━━━━━━━━━━━━━━━━━\u001b[0m \u001b[32m60.5/60.5 KB\u001b[0m \u001b[31m6.2 MB/s\u001b[0m eta \u001b[36m0:00:00\u001b[0m\n",
            "\u001b[?25hCollecting einops<0.4.0,>=0.3\n",
            "  Downloading einops-0.3.2-py3-none-any.whl (25 kB)\n",
            "Collecting omegaconf<3.0,>=2.1\n",
            "  Downloading omegaconf-2.3.0-py3-none-any.whl (79 kB)\n",
            "\u001b[2K     \u001b[90m━━━━━━━━━━━━━━━━━━━━━━━━━━━━━━━━━━━━━━━━\u001b[0m \u001b[32m79.5/79.5 KB\u001b[0m \u001b[31m12.4 MB/s\u001b[0m eta \u001b[36m0:00:00\u001b[0m\n",
            "\u001b[?25hCollecting soundfile<0.11,>=0.10.2\n",
            "  Downloading SoundFile-0.10.3.post1-py2.py3-none-any.whl (21 kB)\n",
            "Collecting backports.cached-property\n",
            "  Downloading backports.cached_property-1.0.2-py3-none-any.whl (6.1 kB)\n",
            "Collecting networkx<3.0,>=2.6\n",
            "  Downloading networkx-2.8.8-py3-none-any.whl (2.0 MB)\n",
            "\u001b[2K     \u001b[90m━━━━━━━━━━━━━━━━━━━━━━━━━━━━━━━━━━━━━━━━\u001b[0m \u001b[32m2.0/2.0 MB\u001b[0m \u001b[31m98.9 MB/s\u001b[0m eta \u001b[36m0:00:00\u001b[0m\n",
            "\u001b[?25hRequirement already satisfied: numpy in /usr/local/lib/python3.9/dist-packages (from asteroid-filterbanks<0.5,>=0.4->pyannote.audio) (1.22.4)\n",
            "Requirement already satisfied: scipy>=0.19 in /usr/local/lib/python3.9/dist-packages (from hmmlearn<0.3,>=0.2.7->pyannote.audio) (1.10.1)\n",
            "Requirement already satisfied: scikit-learn>=0.16 in /usr/local/lib/python3.9/dist-packages (from hmmlearn<0.3,>=0.2.7->pyannote.audio) (1.2.2)\n",
            "Requirement already satisfied: tqdm>=4.42.1 in /usr/local/lib/python3.9/dist-packages (from huggingface-hub>=0.8.1->pyannote.audio) (4.65.0)\n",
            "Requirement already satisfied: packaging>=20.9 in /usr/local/lib/python3.9/dist-packages (from huggingface-hub>=0.8.1->pyannote.audio) (23.0)\n",
            "Requirement already satisfied: filelock in /usr/local/lib/python3.9/dist-packages (from huggingface-hub>=0.8.1->pyannote.audio) (3.9.1)\n",
            "Requirement already satisfied: pyyaml>=5.1 in /usr/local/lib/python3.9/dist-packages (from huggingface-hub>=0.8.1->pyannote.audio) (6.0)\n",
            "Requirement already satisfied: requests in /usr/local/lib/python3.9/dist-packages (from huggingface-hub>=0.8.1->pyannote.audio) (2.25.1)\n",
            "Collecting antlr4-python3-runtime==4.9.*\n",
            "  Downloading antlr4-python3-runtime-4.9.3.tar.gz (117 kB)\n",
            "\u001b[2K     \u001b[90m━━━━━━━━━━━━━━━━━━━━━━━━━━━━━━━━━━━━━━\u001b[0m \u001b[32m117.0/117.0 KB\u001b[0m \u001b[31m18.2 MB/s\u001b[0m eta \u001b[36m0:00:00\u001b[0m\n",
            "\u001b[?25h  Preparing metadata (setup.py) ... \u001b[?25l\u001b[?25hdone\n",
            "Collecting simplejson>=3.8.1\n",
            "  Downloading simplejson-3.18.4-cp39-cp39-manylinux_2_5_x86_64.manylinux1_x86_64.manylinux_2_17_x86_64.manylinux2014_x86_64.whl (136 kB)\n",
            "\u001b[2K     \u001b[90m━━━━━━━━━━━━━━━━━━━━━━━━━━━━━━━━━━━━━━\u001b[0m \u001b[32m136.8/136.8 KB\u001b[0m \u001b[31m22.3 MB/s\u001b[0m eta \u001b[36m0:00:00\u001b[0m\n",
            "\u001b[?25hRequirement already satisfied: sortedcontainers>=2.0.4 in /usr/local/lib/python3.9/dist-packages (from pyannote.core<5.0,>=4.4->pyannote.audio) (2.4.0)\n",
            "Requirement already satisfied: typer[all]>=0.2.1 in /usr/local/lib/python3.9/dist-packages (from pyannote.database<5.0,>=4.1.1->pyannote.audio) (0.7.0)\n",
            "Requirement already satisfied: pandas>=0.19 in /usr/local/lib/python3.9/dist-packages (from pyannote.database<5.0,>=4.1.1->pyannote.audio) (1.4.4)\n",
            "Requirement already satisfied: tabulate>=0.7.7 in /usr/local/lib/python3.9/dist-packages (from pyannote.metrics<4.0,>=3.2->pyannote.audio) (0.8.10)\n",
            "Requirement already satisfied: matplotlib>=2.0.0 in /usr/local/lib/python3.9/dist-packages (from pyannote.metrics<4.0,>=3.2->pyannote.audio) (3.7.1)\n",
            "Collecting docopt>=0.6.2\n",
            "  Downloading docopt-0.6.2.tar.gz (25 kB)\n",
            "  Preparing metadata (setup.py) ... \u001b[?25l\u001b[?25hdone\n",
            "Requirement already satisfied: sympy>=1.1 in /usr/local/lib/python3.9/dist-packages (from pyannote.metrics<4.0,>=3.2->pyannote.audio) (1.7.1)\n",
            "Collecting optuna>=1.4\n",
            "  Downloading optuna-3.1.0-py3-none-any.whl (365 kB)\n",
            "\u001b[2K     \u001b[90m━━━━━━━━━━━━━━━━━━━━━━━━━━━━━━━━━━━━━━\u001b[0m \u001b[32m365.3/365.3 KB\u001b[0m \u001b[31m38.0 MB/s\u001b[0m eta \u001b[36m0:00:00\u001b[0m\n",
            "\u001b[?25hRequirement already satisfied: fsspec[http]!=2021.06.0,>=2021.05.0 in /usr/local/lib/python3.9/dist-packages (from pytorch-lightning<1.7,>=1.5.4->pyannote.audio) (2023.3.0)\n",
            "Collecting pyDeprecate>=0.3.1\n",
            "  Downloading pyDeprecate-0.3.2-py3-none-any.whl (10 kB)\n",
            "Requirement already satisfied: tensorboard>=2.2.0 in /usr/local/lib/python3.9/dist-packages (from pytorch-lightning<1.7,>=1.5.4->pyannote.audio) (2.11.2)\n",
            "Requirement already satisfied: protobuf<=3.20.1 in /usr/local/lib/python3.9/dist-packages (from pytorch-lightning<1.7,>=1.5.4->pyannote.audio) (3.19.6)\n",
            "Requirement already satisfied: cffi>=1.0 in /usr/local/lib/python3.9/dist-packages (from soundfile<0.11,>=0.10.2->pyannote.audio) (1.15.1)\n",
            "Collecting hyperpyyaml\n",
            "  Downloading HyperPyYAML-1.1.0-py3-none-any.whl (15 kB)\n",
            "Requirement already satisfied: joblib in /usr/local/lib/python3.9/dist-packages (from speechbrain<0.6,>=0.5.12->pyannote.audio) (1.1.1)\n",
            "Collecting sentencepiece\n",
            "  Downloading sentencepiece-0.1.97-cp39-cp39-manylinux_2_17_x86_64.manylinux2014_x86_64.whl (1.3 MB)\n",
            "\u001b[2K     \u001b[90m━━━━━━━━━━━━━━━━━━━━━━━━━━━━━━━━━━━━━━━━\u001b[0m \u001b[32m1.3/1.3 MB\u001b[0m \u001b[31m64.9 MB/s\u001b[0m eta \u001b[36m0:00:00\u001b[0m\n",
            "\u001b[?25hCollecting julius<0.3,>=0.2.3\n",
            "  Downloading julius-0.2.7.tar.gz (59 kB)\n",
            "\u001b[2K     \u001b[90m━━━━━━━━━━━━━━━━━━━━━━━━━━━━━━━━━━━━━━━━\u001b[0m \u001b[32m59.6/59.6 KB\u001b[0m \u001b[31m9.8 MB/s\u001b[0m eta \u001b[36m0:00:00\u001b[0m\n",
            "\u001b[?25h  Preparing metadata (setup.py) ... \u001b[?25l\u001b[?25hdone\n",
            "Requirement already satisfied: librosa>=0.6.0 in /usr/local/lib/python3.9/dist-packages (from torch-audiomentations>=0.11.0->pyannote.audio) (0.8.1)\n",
            "Collecting torch-pitch-shift>=1.2.2\n",
            "  Downloading torch_pitch_shift-1.2.2-py3-none-any.whl (5.0 kB)\n",
            "Requirement already satisfied: pycparser in /usr/local/lib/python3.9/dist-packages (from cffi>=1.0->soundfile<0.11,>=0.10.2->pyannote.audio) (2.21)\n",
            "Collecting aiohttp!=4.0.0a0,!=4.0.0a1\n",
            "  Downloading aiohttp-3.8.4-cp39-cp39-manylinux_2_17_x86_64.manylinux2014_x86_64.whl (1.0 MB)\n",
            "\u001b[2K     \u001b[90m━━━━━━━━━━━━━━━━━━━━━━━━━━━━━━━━━━━━━━━━\u001b[0m \u001b[32m1.0/1.0 MB\u001b[0m \u001b[31m59.6 MB/s\u001b[0m eta \u001b[36m0:00:00\u001b[0m\n",
            "\u001b[?25hRequirement already satisfied: numba>=0.43.0 in /usr/local/lib/python3.9/dist-packages (from librosa>=0.6.0->torch-audiomentations>=0.11.0->pyannote.audio) (0.56.4)\n",
            "Requirement already satisfied: audioread>=2.0.0 in /usr/local/lib/python3.9/dist-packages (from librosa>=0.6.0->torch-audiomentations>=0.11.0->pyannote.audio) (3.0.0)\n",
            "Requirement already satisfied: pooch>=1.0 in /usr/local/lib/python3.9/dist-packages (from librosa>=0.6.0->torch-audiomentations>=0.11.0->pyannote.audio) (1.7.0)\n",
            "Requirement already satisfied: decorator>=3.0.0 in /usr/local/lib/python3.9/dist-packages (from librosa>=0.6.0->torch-audiomentations>=0.11.0->pyannote.audio) (4.4.2)\n",
            "Requirement already satisfied: resampy>=0.2.2 in /usr/local/lib/python3.9/dist-packages (from librosa>=0.6.0->torch-audiomentations>=0.11.0->pyannote.audio) (0.4.2)\n",
            "Requirement already satisfied: pyparsing>=2.3.1 in /usr/local/lib/python3.9/dist-packages (from matplotlib>=2.0.0->pyannote.metrics<4.0,>=3.2->pyannote.audio) (3.0.9)\n",
            "Requirement already satisfied: kiwisolver>=1.0.1 in /usr/local/lib/python3.9/dist-packages (from matplotlib>=2.0.0->pyannote.metrics<4.0,>=3.2->pyannote.audio) (1.4.4)\n",
            "Requirement already satisfied: pillow>=6.2.0 in /usr/local/lib/python3.9/dist-packages (from matplotlib>=2.0.0->pyannote.metrics<4.0,>=3.2->pyannote.audio) (8.4.0)\n",
            "Requirement already satisfied: contourpy>=1.0.1 in /usr/local/lib/python3.9/dist-packages (from matplotlib>=2.0.0->pyannote.metrics<4.0,>=3.2->pyannote.audio) (1.0.7)\n",
            "Requirement already satisfied: cycler>=0.10 in /usr/local/lib/python3.9/dist-packages (from matplotlib>=2.0.0->pyannote.metrics<4.0,>=3.2->pyannote.audio) (0.11.0)\n",
            "Requirement already satisfied: importlib-resources>=3.2.0 in /usr/local/lib/python3.9/dist-packages (from matplotlib>=2.0.0->pyannote.metrics<4.0,>=3.2->pyannote.audio) (5.12.0)\n",
            "Requirement already satisfied: fonttools>=4.22.0 in /usr/local/lib/python3.9/dist-packages (from matplotlib>=2.0.0->pyannote.metrics<4.0,>=3.2->pyannote.audio) (4.39.0)\n",
            "Requirement already satisfied: python-dateutil>=2.7 in /usr/local/lib/python3.9/dist-packages (from matplotlib>=2.0.0->pyannote.metrics<4.0,>=3.2->pyannote.audio) (2.8.2)\n",
            "Collecting colorlog\n",
            "  Downloading colorlog-6.7.0-py2.py3-none-any.whl (11 kB)\n",
            "Requirement already satisfied: sqlalchemy>=1.3.0 in /usr/local/lib/python3.9/dist-packages (from optuna>=1.4->pyannote.pipeline<3.0,>=2.3->pyannote.audio) (1.4.46)\n",
            "Collecting alembic>=1.5.0\n",
            "  Downloading alembic-1.10.2-py3-none-any.whl (212 kB)\n",
            "\u001b[2K     \u001b[90m━━━━━━━━━━━━━━━━━━━━━━━━━━━━━━━━━━━━━━\u001b[0m \u001b[32m212.2/212.2 KB\u001b[0m \u001b[31m26.9 MB/s\u001b[0m eta \u001b[36m0:00:00\u001b[0m\n",
            "\u001b[?25hCollecting cmaes>=0.9.1\n",
            "  Downloading cmaes-0.9.1-py3-none-any.whl (21 kB)\n",
            "Requirement already satisfied: pytz>=2020.1 in /usr/local/lib/python3.9/dist-packages (from pandas>=0.19->pyannote.database<5.0,>=4.1.1->pyannote.audio) (2022.7.1)\n",
            "Requirement already satisfied: threadpoolctl>=2.0.0 in /usr/local/lib/python3.9/dist-packages (from scikit-learn>=0.16->hmmlearn<0.3,>=0.2.7->pyannote.audio) (3.1.0)\n",
            "Requirement already satisfied: mpmath>=0.19 in /usr/local/lib/python3.9/dist-packages (from sympy>=1.1->pyannote.metrics<4.0,>=3.2->pyannote.audio) (1.3.0)\n",
            "Requirement already satisfied: werkzeug>=1.0.1 in /usr/local/lib/python3.9/dist-packages (from tensorboard>=2.2.0->pytorch-lightning<1.7,>=1.5.4->pyannote.audio) (2.2.3)\n",
            "Requirement already satisfied: tensorboard-plugin-wit>=1.6.0 in /usr/local/lib/python3.9/dist-packages (from tensorboard>=2.2.0->pytorch-lightning<1.7,>=1.5.4->pyannote.audio) (1.8.1)\n",
            "Requirement already satisfied: absl-py>=0.4 in /usr/local/lib/python3.9/dist-packages (from tensorboard>=2.2.0->pytorch-lightning<1.7,>=1.5.4->pyannote.audio) (1.4.0)\n",
            "Requirement already satisfied: google-auth-oauthlib<0.5,>=0.4.1 in /usr/local/lib/python3.9/dist-packages (from tensorboard>=2.2.0->pytorch-lightning<1.7,>=1.5.4->pyannote.audio) (0.4.6)\n",
            "Requirement already satisfied: markdown>=2.6.8 in /usr/local/lib/python3.9/dist-packages (from tensorboard>=2.2.0->pytorch-lightning<1.7,>=1.5.4->pyannote.audio) (3.4.1)\n",
            "Requirement already satisfied: grpcio>=1.24.3 in /usr/local/lib/python3.9/dist-packages (from tensorboard>=2.2.0->pytorch-lightning<1.7,>=1.5.4->pyannote.audio) (1.51.3)\n",
            "Requirement already satisfied: tensorboard-data-server<0.7.0,>=0.6.0 in /usr/local/lib/python3.9/dist-packages (from tensorboard>=2.2.0->pytorch-lightning<1.7,>=1.5.4->pyannote.audio) (0.6.1)\n",
            "Requirement already satisfied: wheel>=0.26 in /usr/local/lib/python3.9/dist-packages (from tensorboard>=2.2.0->pytorch-lightning<1.7,>=1.5.4->pyannote.audio) (0.40.0)\n",
            "Requirement already satisfied: setuptools>=41.0.0 in /usr/local/lib/python3.9/dist-packages (from tensorboard>=2.2.0->pytorch-lightning<1.7,>=1.5.4->pyannote.audio) (63.4.3)\n",
            "Requirement already satisfied: google-auth<3,>=1.6.3 in /usr/local/lib/python3.9/dist-packages (from tensorboard>=2.2.0->pytorch-lightning<1.7,>=1.5.4->pyannote.audio) (2.16.2)\n",
            "Requirement already satisfied: idna<3,>=2.5 in /usr/local/lib/python3.9/dist-packages (from requests->huggingface-hub>=0.8.1->pyannote.audio) (2.10)\n",
            "Requirement already satisfied: certifi>=2017.4.17 in /usr/local/lib/python3.9/dist-packages (from requests->huggingface-hub>=0.8.1->pyannote.audio) (2022.12.7)\n",
            "Requirement already satisfied: chardet<5,>=3.0.2 in /usr/local/lib/python3.9/dist-packages (from requests->huggingface-hub>=0.8.1->pyannote.audio) (4.0.0)\n",
            "Requirement already satisfied: urllib3<1.27,>=1.21.1 in /usr/local/lib/python3.9/dist-packages (from requests->huggingface-hub>=0.8.1->pyannote.audio) (1.26.15)\n",
            "Collecting primePy>=1.3\n",
            "  Downloading primePy-1.3-py3-none-any.whl (4.0 kB)\n",
            "Requirement already satisfied: click<9.0.0,>=7.1.1 in /usr/local/lib/python3.9/dist-packages (from typer[all]>=0.2.1->pyannote.database<5.0,>=4.1.1->pyannote.audio) (8.1.3)\n",
            "Collecting colorama<0.5.0,>=0.4.3\n",
            "  Downloading colorama-0.4.6-py2.py3-none-any.whl (25 kB)\n",
            "Collecting shellingham<2.0.0,>=1.3.0\n",
            "  Downloading shellingham-1.5.0.post1-py2.py3-none-any.whl (9.4 kB)\n",
            "Collecting rich<13.0.0,>=10.11.0\n",
            "  Downloading rich-12.6.0-py3-none-any.whl (237 kB)\n",
            "\u001b[2K     \u001b[90m━━━━━━━━━━━━━━━━━━━━━━━━━━━━━━━━━━━━━━\u001b[0m \u001b[32m237.5/237.5 KB\u001b[0m \u001b[31m31.5 MB/s\u001b[0m eta \u001b[36m0:00:00\u001b[0m\n",
            "\u001b[?25hCollecting ruamel.yaml>=0.17.8\n",
            "  Downloading ruamel.yaml-0.17.21-py3-none-any.whl (109 kB)\n",
            "\u001b[2K     \u001b[90m━━━━━━━━━━━━━━━━━━━━━━━━━━━━━━━━━━━━━━\u001b[0m \u001b[32m109.5/109.5 KB\u001b[0m \u001b[31m18.3 MB/s\u001b[0m eta \u001b[36m0:00:00\u001b[0m\n",
            "\u001b[?25hCollecting charset-normalizer<4.0,>=2.0\n",
            "  Downloading charset_normalizer-3.1.0-cp39-cp39-manylinux_2_17_x86_64.manylinux2014_x86_64.whl (199 kB)\n",
            "\u001b[2K     \u001b[90m━━━━━━━━━━━━━━━━━━━━━━━━━━━━━━━━━━━━━━\u001b[0m \u001b[32m199.2/199.2 KB\u001b[0m \u001b[31m29.9 MB/s\u001b[0m eta \u001b[36m0:00:00\u001b[0m\n",
            "\u001b[?25hRequirement already satisfied: attrs>=17.3.0 in /usr/local/lib/python3.9/dist-packages (from aiohttp!=4.0.0a0,!=4.0.0a1->fsspec[http]!=2021.06.0,>=2021.05.0->pytorch-lightning<1.7,>=1.5.4->pyannote.audio) (22.2.0)\n",
            "Collecting frozenlist>=1.1.1\n",
            "  Downloading frozenlist-1.3.3-cp39-cp39-manylinux_2_5_x86_64.manylinux1_x86_64.manylinux_2_17_x86_64.manylinux2014_x86_64.whl (158 kB)\n",
            "\u001b[2K     \u001b[90m━━━━━━━━━━━━━━━━━━━━━━━━━━━━━━━━━━━━━━\u001b[0m \u001b[32m158.8/158.8 KB\u001b[0m \u001b[31m24.4 MB/s\u001b[0m eta \u001b[36m0:00:00\u001b[0m\n",
            "\u001b[?25hCollecting multidict<7.0,>=4.5\n",
            "  Downloading multidict-6.0.4-cp39-cp39-manylinux_2_17_x86_64.manylinux2014_x86_64.whl (114 kB)\n",
            "\u001b[2K     \u001b[90m━━━━━━━━━━━━━━━━━━━━━━━━━━━━━━━━━━━━━━\u001b[0m \u001b[32m114.2/114.2 KB\u001b[0m \u001b[31m19.4 MB/s\u001b[0m eta \u001b[36m0:00:00\u001b[0m\n",
            "\u001b[?25hCollecting aiosignal>=1.1.2\n",
            "  Downloading aiosignal-1.3.1-py3-none-any.whl (7.6 kB)\n",
            "Collecting async-timeout<5.0,>=4.0.0a3\n",
            "  Downloading async_timeout-4.0.2-py3-none-any.whl (5.8 kB)\n",
            "Collecting yarl<2.0,>=1.0\n",
            "  Downloading yarl-1.8.2-cp39-cp39-manylinux_2_17_x86_64.manylinux2014_x86_64.whl (264 kB)\n",
            "\u001b[2K     \u001b[90m━━━━━━━━━━━━━━━━━━━━━━━━━━━━━━━━━━━━━━\u001b[0m \u001b[32m264.6/264.6 KB\u001b[0m \u001b[31m32.9 MB/s\u001b[0m eta \u001b[36m0:00:00\u001b[0m\n",
            "\u001b[?25hCollecting Mako\n",
            "  Downloading Mako-1.2.4-py3-none-any.whl (78 kB)\n",
            "\u001b[2K     \u001b[90m━━━━━━━━━━━━━━━━━━━━━━━━━━━━━━━━━━━━━━━━\u001b[0m \u001b[32m78.7/78.7 KB\u001b[0m \u001b[31m12.9 MB/s\u001b[0m eta \u001b[36m0:00:00\u001b[0m\n",
            "\u001b[?25hRequirement already satisfied: cachetools<6.0,>=2.0.0 in /usr/local/lib/python3.9/dist-packages (from google-auth<3,>=1.6.3->tensorboard>=2.2.0->pytorch-lightning<1.7,>=1.5.4->pyannote.audio) (5.3.0)\n",
            "Requirement already satisfied: rsa<5,>=3.1.4 in /usr/local/lib/python3.9/dist-packages (from google-auth<3,>=1.6.3->tensorboard>=2.2.0->pytorch-lightning<1.7,>=1.5.4->pyannote.audio) (4.9)\n",
            "Requirement already satisfied: pyasn1-modules>=0.2.1 in /usr/local/lib/python3.9/dist-packages (from google-auth<3,>=1.6.3->tensorboard>=2.2.0->pytorch-lightning<1.7,>=1.5.4->pyannote.audio) (0.2.8)\n",
            "Requirement already satisfied: six>=1.9.0 in /usr/local/lib/python3.9/dist-packages (from google-auth<3,>=1.6.3->tensorboard>=2.2.0->pytorch-lightning<1.7,>=1.5.4->pyannote.audio) (1.15.0)\n",
            "Requirement already satisfied: requests-oauthlib>=0.7.0 in /usr/local/lib/python3.9/dist-packages (from google-auth-oauthlib<0.5,>=0.4.1->tensorboard>=2.2.0->pytorch-lightning<1.7,>=1.5.4->pyannote.audio) (1.3.1)\n",
            "Requirement already satisfied: zipp>=3.1.0 in /usr/local/lib/python3.9/dist-packages (from importlib-resources>=3.2.0->matplotlib>=2.0.0->pyannote.metrics<4.0,>=3.2->pyannote.audio) (3.15.0)\n",
            "Requirement already satisfied: importlib-metadata>=4.4 in /usr/local/lib/python3.9/dist-packages (from markdown>=2.6.8->tensorboard>=2.2.0->pytorch-lightning<1.7,>=1.5.4->pyannote.audio) (6.0.0)\n",
            "Requirement already satisfied: llvmlite<0.40,>=0.39.0dev0 in /usr/local/lib/python3.9/dist-packages (from numba>=0.43.0->librosa>=0.6.0->torch-audiomentations>=0.11.0->pyannote.audio) (0.39.1)\n",
            "Requirement already satisfied: platformdirs>=2.5.0 in /usr/local/lib/python3.9/dist-packages (from pooch>=1.0->librosa>=0.6.0->torch-audiomentations>=0.11.0->pyannote.audio) (3.1.1)\n",
            "Collecting commonmark<0.10.0,>=0.9.0\n",
            "  Downloading commonmark-0.9.1-py2.py3-none-any.whl (51 kB)\n",
            "\u001b[2K     \u001b[90m━━━━━━━━━━━━━━━━━━━━━━━━━━━━━━━━━━━━━━━━\u001b[0m \u001b[32m51.1/51.1 KB\u001b[0m \u001b[31m9.5 MB/s\u001b[0m eta \u001b[36m0:00:00\u001b[0m\n",
            "\u001b[?25hRequirement already satisfied: pygments<3.0.0,>=2.6.0 in /usr/local/lib/python3.9/dist-packages (from rich<13.0.0,>=10.11.0->typer[all]>=0.2.1->pyannote.database<5.0,>=4.1.1->pyannote.audio) (2.6.1)\n",
            "Collecting ruamel.yaml.clib>=0.2.6\n",
            "  Downloading ruamel.yaml.clib-0.2.7-cp39-cp39-manylinux_2_17_x86_64.manylinux2014_x86_64.manylinux_2_24_x86_64.whl (519 kB)\n",
            "\u001b[2K     \u001b[90m━━━━━━━━━━━━━━━━━━━━━━━━━━━━━━━━━━━━━━\u001b[0m \u001b[32m519.4/519.4 KB\u001b[0m \u001b[31m50.4 MB/s\u001b[0m eta \u001b[36m0:00:00\u001b[0m\n",
            "\u001b[?25hRequirement already satisfied: greenlet!=0.4.17 in /usr/local/lib/python3.9/dist-packages (from sqlalchemy>=1.3.0->optuna>=1.4->pyannote.pipeline<3.0,>=2.3->pyannote.audio) (2.0.2)\n",
            "Requirement already satisfied: MarkupSafe>=2.1.1 in /usr/local/lib/python3.9/dist-packages (from werkzeug>=1.0.1->tensorboard>=2.2.0->pytorch-lightning<1.7,>=1.5.4->pyannote.audio) (2.1.2)\n",
            "Requirement already satisfied: pyasn1<0.5.0,>=0.4.6 in /usr/local/lib/python3.9/dist-packages (from pyasn1-modules>=0.2.1->google-auth<3,>=1.6.3->tensorboard>=2.2.0->pytorch-lightning<1.7,>=1.5.4->pyannote.audio) (0.4.8)\n",
            "Requirement already satisfied: oauthlib>=3.0.0 in /usr/local/lib/python3.9/dist-packages (from requests-oauthlib>=0.7.0->google-auth-oauthlib<0.5,>=0.4.1->tensorboard>=2.2.0->pytorch-lightning<1.7,>=1.5.4->pyannote.audio) (3.2.2)\n",
            "Building wheels for collected packages: antlr4-python3-runtime, docopt, julius\n",
            "  Building wheel for antlr4-python3-runtime (setup.py) ... \u001b[?25l\u001b[?25hdone\n",
            "  Created wheel for antlr4-python3-runtime: filename=antlr4_python3_runtime-4.9.3-py3-none-any.whl size=144573 sha256=2829351a82844923900fa6452beb852fa0b4eb295b48f873573c686f82a9ec56\n",
            "  Stored in directory: /root/.cache/pip/wheels/23/cf/80/f3efa822e6ab23277902ee9165fe772eeb1dfb8014f359020a\n",
            "  Building wheel for docopt (setup.py) ... \u001b[?25l\u001b[?25hdone\n",
            "  Created wheel for docopt: filename=docopt-0.6.2-py2.py3-none-any.whl size=13721 sha256=24abefd9e5a27b11bafba4273bb28a51c8158f5aab4f723f655b6322cebb907b\n",
            "  Stored in directory: /root/.cache/pip/wheels/70/4a/46/1309fc853b8d395e60bafaf1b6df7845bdd82c95fd59dd8d2b\n",
            "  Building wheel for julius (setup.py) ... \u001b[?25l\u001b[?25hdone\n",
            "  Created wheel for julius: filename=julius-0.2.7-py3-none-any.whl size=21895 sha256=470b9f8c6ccdf509c43fca6ad3a8adac0360aa0279d7e818549503c3be433bf2\n",
            "  Stored in directory: /root/.cache/pip/wheels/53/0a/a7/fc08f97438f4969d86afa7904336c2eb7eb422101359f3ad11\n",
            "Successfully built antlr4-python3-runtime docopt julius\n",
            "Installing collected packages: singledispatchmethod, sentencepiece, primePy, einops, docopt, commonmark, antlr4-python3-runtime, simplejson, shellingham, semver, ruamel.yaml.clib, rich, pyDeprecate, omegaconf, networkx, multidict, Mako, frozenlist, colorlog, colorama, cmaes, charset-normalizer, backports.cached-property, async-timeout, yarl, torchmetrics, soundfile, ruamel.yaml, pyannote.core, julius, huggingface-hub, asteroid-filterbanks, alembic, aiosignal, torch-pitch-shift, pytorch-metric-learning, pyannote.database, optuna, hyperpyyaml, hmmlearn, aiohttp, torch-audiomentations, speechbrain, pyannote.pipeline, pyannote.metrics, pytorch-lightning, pyannote.audio\n",
            "  Attempting uninstall: networkx\n",
            "    Found existing installation: networkx 3.0\n",
            "    Uninstalling networkx-3.0:\n",
            "      Successfully uninstalled networkx-3.0\n",
            "  Attempting uninstall: soundfile\n",
            "    Found existing installation: soundfile 0.12.1\n",
            "    Uninstalling soundfile-0.12.1:\n",
            "      Successfully uninstalled soundfile-0.12.1\n",
            "Successfully installed Mako-1.2.4 aiohttp-3.8.4 aiosignal-1.3.1 alembic-1.10.2 antlr4-python3-runtime-4.9.3 asteroid-filterbanks-0.4.0 async-timeout-4.0.2 backports.cached-property-1.0.2 charset-normalizer-3.1.0 cmaes-0.9.1 colorama-0.4.6 colorlog-6.7.0 commonmark-0.9.1 docopt-0.6.2 einops-0.3.2 frozenlist-1.3.3 hmmlearn-0.2.8 huggingface-hub-0.13.2 hyperpyyaml-1.1.0 julius-0.2.7 multidict-6.0.4 networkx-2.8.8 omegaconf-2.3.0 optuna-3.1.0 primePy-1.3 pyDeprecate-0.3.2 pyannote.audio-2.1.1 pyannote.core-4.5 pyannote.database-4.1.3 pyannote.metrics-3.2.1 pyannote.pipeline-2.3 pytorch-lightning-1.6.5 pytorch-metric-learning-1.7.3 rich-12.6.0 ruamel.yaml-0.17.21 ruamel.yaml.clib-0.2.7 semver-2.13.0 sentencepiece-0.1.97 shellingham-1.5.0.post1 simplejson-3.18.4 singledispatchmethod-1.0 soundfile-0.10.3.post1 speechbrain-0.5.13 torch-audiomentations-0.11.0 torch-pitch-shift-1.2.2 torchmetrics-0.11.4 yarl-1.8.2\n"
          ]
        },
        {
          "output_type": "display_data",
          "data": {
            "application/vnd.colab-display-data+json": {
              "pip_warning": {
                "packages": [
                  "pydevd_plugins"
                ]
              }
            }
          },
          "metadata": {}
        }
      ],
      "source": [
        "!pip install   pyannote.audio"
      ]
    },
    {
      "cell_type": "markdown",
      "source": [
        "**Important:** To load the pyannote speaker diarization pipeline, \n",
        "\n",
        "* accept the user conditions on both [hf.co/pyannote/speaker-diarization](https://hf.co/pyannote/speaker-diarization) and [hf.co/pyannote/segmentation](https://huggingface.co/pyannote/segmentation).\n",
        "* paste your access_token or login using `notebook_login` below"
      ],
      "metadata": {
        "id": "N7TPgEVW8XeH"
      }
    },
    {
      "cell_type": "code",
      "execution_count": 12,
      "metadata": {
        "id": "r5u7VMb-YnqB"
      },
      "outputs": [],
      "source": [
        "access_token = \"\" #copy your huggingface access token here\n",
        "if not(access_token):\n",
        "  from huggingface_hub import notebook_login\n",
        "  notebook_login()"
      ]
    },
    {
      "cell_type": "code",
      "execution_count": 14,
      "metadata": {
        "id": "jKG14DGYbwku"
      },
      "outputs": [],
      "source": [
        "from pyannote.audio import Pipeline\n",
        "pipeline = Pipeline.from_pretrained('pyannote/speaker-diarization', use_auth_token= (access_token) or True )"
      ]
    },
    {
      "cell_type": "markdown",
      "source": [
        "Running pyannote.audio to generate the diarizations."
      ],
      "metadata": {
        "id": "ImKMcCr5W5Nw"
      }
    },
    {
      "cell_type": "code",
      "execution_count": 15,
      "metadata": {
        "id": "yA4xiEefft9Z"
      },
      "outputs": [],
      "source": [
        "DEMO_FILE = {'uri': 'blabla', 'audio': 'input_prep.wav'}\n",
        "dz = pipeline(DEMO_FILE)  \n",
        "\n",
        "with open(\"diarization.txt\", \"w\") as text_file:\n",
        "    text_file.write(str(dz))"
      ]
    },
    {
      "cell_type": "code",
      "source": [
        "print(*list(dz.itertracks(yield_label = True))[:10], sep=\"\\n\")"
      ],
      "metadata": {
        "colab": {
          "base_uri": "https://localhost:8080/"
        },
        "id": "GHIY2MB3Vz3e",
        "outputId": "f46728e4-b7a8-40f0-84fe-c7db398b78ee"
      },
      "execution_count": 16,
      "outputs": [
        {
          "output_type": "stream",
          "name": "stdout",
          "text": [
            "(<Segment(1.98281, 20.0391)>, 'F', 'SPEAKER_01')\n",
            "(<Segment(20.8659, 34.1803)>, 'G', 'SPEAKER_01')\n",
            "(<Segment(34.8553, 37.8759)>, 'H', 'SPEAKER_01')\n",
            "(<Segment(38.8209, 40.4747)>, 'I', 'SPEAKER_01')\n",
            "(<Segment(41.7741, 46.0772)>, 'J', 'SPEAKER_01')\n",
            "(<Segment(46.9547, 51.6122)>, 'K', 'SPEAKER_01')\n",
            "(<Segment(52.2534, 53.5528)>, 'L', 'SPEAKER_01')\n",
            "(<Segment(55.2234, 56.3709)>, 'M', 'SPEAKER_01')\n",
            "(<Segment(57.9741, 60.3703)>, 'N', 'SPEAKER_01')\n",
            "(<Segment(61.2984, 70.4953)>, 'O', 'SPEAKER_01')\n"
          ]
        }
      ]
    },
    {
      "cell_type": "markdown",
      "source": [
        "# Preparing audio files according to the diarization"
      ],
      "metadata": {
        "id": "Wp36eMedRkR0"
      }
    },
    {
      "cell_type": "code",
      "source": [
        "def millisec(timeStr):\n",
        "  spl = timeStr.split(\":\")\n",
        "  s = (int)((int(spl[0]) * 60 * 60 + int(spl[1]) * 60 + float(spl[2]) )* 1000)\n",
        "  return s"
      ],
      "metadata": {
        "id": "KPGOaVpOH7pZ"
      },
      "execution_count": 17,
      "outputs": []
    },
    {
      "cell_type": "markdown",
      "source": [
        "Grouping the diarization segments according to the speaker."
      ],
      "metadata": {
        "id": "_Co3BIIH6aW4"
      }
    },
    {
      "cell_type": "code",
      "source": [
        "import re\n",
        "dzs = open('diarization.txt').read().splitlines()\n",
        "\n",
        "groups = []\n",
        "g = []\n",
        "lastend = 0\n",
        "\n",
        "for d in dzs:   \n",
        "  if g and (g[0].split()[-1] != d.split()[-1]):      #same speaker\n",
        "    groups.append(g)\n",
        "    g = []\n",
        "  \n",
        "  g.append(d)\n",
        "  \n",
        "  end = re.findall('[0-9]+:[0-9]+:[0-9]+\\.[0-9]+', string=d)[1]\n",
        "  end = millisec(end)\n",
        "  if (lastend > end):       #segment engulfed by a previous segment\n",
        "    groups.append(g)\n",
        "    g = [] \n",
        "  else:\n",
        "    lastend = end\n",
        "if g:\n",
        "  groups.append(g)\n",
        "print(*groups, sep='\\n')"
      ],
      "metadata": {
        "colab": {
          "base_uri": "https://localhost:8080/"
        },
        "id": "umQdzNFzcP2f",
        "outputId": "8797fc64-ddfd-4f1c-c72e-e7708efb5d06"
      },
      "execution_count": 18,
      "outputs": [
        {
          "output_type": "stream",
          "name": "stdout",
          "text": [
            "['[ 00:00:01.982 -->  00:00:20.039] F SPEAKER_01', '[ 00:00:20.865 -->  00:00:34.180] G SPEAKER_01', '[ 00:00:34.855 -->  00:00:37.875] H SPEAKER_01', '[ 00:00:38.820 -->  00:00:40.474] I SPEAKER_01', '[ 00:00:41.774 -->  00:00:46.077] J SPEAKER_01', '[ 00:00:46.954 -->  00:00:51.612] K SPEAKER_01', '[ 00:00:52.253 -->  00:00:53.552] L SPEAKER_01', '[ 00:00:55.223 -->  00:00:56.370] M SPEAKER_01', '[ 00:00:57.974 -->  00:01:00.370] N SPEAKER_01', '[ 00:01:01.298 -->  00:01:10.495] O SPEAKER_01', '[ 00:01:11.237 -->  00:01:15.692] P SPEAKER_01', '[ 00:01:16.536 -->  00:01:23.657] Q SPEAKER_01', '[ 00:01:24.265 -->  00:01:31.386] R SPEAKER_01', '[ 00:01:32.618 -->  00:01:33.192] S SPEAKER_01', '[ 00:01:36.060 -->  00:01:37.056] T SPEAKER_01', '[ 00:01:39.402 -->  00:01:40.819] U SPEAKER_01', '[ 00:01:42.490 -->  00:01:45.510] V SPEAKER_01', '[ 00:01:47.114 -->  00:01:53.172] W SPEAKER_01', '[ 00:01:54.539 -->  00:01:56.918] X SPEAKER_01']\n",
            "['[ 00:01:57.947 -->  00:02:04.242] A SPEAKER_00']\n",
            "['[ 00:02:03.719 -->  00:02:17.235] Y SPEAKER_01', '[ 00:02:18.619 -->  00:02:21.741] Z SPEAKER_01', '[ 00:02:23.108 -->  00:02:30.550] AA SPEAKER_01', '[ 00:02:31.343 -->  00:02:36.895] AB SPEAKER_01', '[ 00:02:37.671 -->  00:02:48.353] AC SPEAKER_01', '[ 00:02:49.922 -->  00:03:06.882] AD SPEAKER_01', '[ 00:03:09.750 -->  00:03:18.407] AE SPEAKER_01', '[ 00:03:19.285 -->  00:03:38.927] AF SPEAKER_01', '[ 00:03:39.788 -->  00:03:44.445] AG SPEAKER_01']\n",
            "['[ 00:03:44.445 -->  00:03:53.001] B SPEAKER_00']\n",
            "['[ 00:03:52.697 -->  00:03:59.549] AH SPEAKER_01']\n",
            "['[ 00:03:56.241 -->  00:03:57.152] C SPEAKER_00']\n",
            "['[ 00:04:01.928 -->  00:04:05.252] D SPEAKER_00', '[ 00:04:06.906 -->  00:04:08.897] E SPEAKER_00']\n",
            "['[ 00:04:08.509 -->  00:04:10.230] AI SPEAKER_01', '[ 00:04:12.610 -->  00:04:18.449] AJ SPEAKER_01']\n"
          ]
        }
      ]
    },
    {
      "cell_type": "markdown",
      "source": [
        "Save the audio part corresponding to each diarization group."
      ],
      "metadata": {
        "id": "JOuf8CuRQeZo"
      }
    },
    {
      "cell_type": "code",
      "source": [
        "audio = AudioSegment.from_wav(\"input_prep.wav\")\n",
        "gidx = -1\n",
        "for g in groups:\n",
        "  start = re.findall('[0-9]+:[0-9]+:[0-9]+\\.[0-9]+', string=g[0])[0]\n",
        "  end = re.findall('[0-9]+:[0-9]+:[0-9]+\\.[0-9]+', string=g[-1])[1]\n",
        "  start = millisec(start) #- spacermilli\n",
        "  end = millisec(end)  #- spacermilli\n",
        "  gidx += 1\n",
        "  audio[start:end].export(str(gidx) + '.wav', format='wav')\n",
        "  print(f\"group {gidx}: {start}--{end}\")"
      ],
      "metadata": {
        "colab": {
          "base_uri": "https://localhost:8080/"
        },
        "id": "dRQPUW4Mzvfn",
        "outputId": "1721b200-b914-4cb3-ec73-58b1a28079d9"
      },
      "execution_count": 19,
      "outputs": [
        {
          "output_type": "stream",
          "name": "stdout",
          "text": [
            "group 0: 1982--116918\n",
            "group 1: 117947--124242\n",
            "group 2: 123719--224445\n",
            "group 3: 224445--233001\n",
            "group 4: 232697--239549\n",
            "group 5: 236241--237152\n",
            "group 6: 241928--248897\n",
            "group 7: 248509--258449\n"
          ]
        }
      ]
    },
    {
      "cell_type": "markdown",
      "source": [
        "Freeing up some memory"
      ],
      "metadata": {
        "id": "rv2GYZCsLKBJ"
      }
    },
    {
      "cell_type": "code",
      "source": [
        "#del   DEMO_FILE, pipeline, spacer,  audio, dz"
      ],
      "metadata": {
        "id": "cONumKWUjfus"
      },
      "execution_count": 20,
      "outputs": []
    },
    {
      "cell_type": "markdown",
      "source": [
        "# Whisper's Transcriptions"
      ],
      "metadata": {
        "id": "AmxtB0k4n8lY"
      }
    },
    {
      "cell_type": "markdown",
      "source": [
        "Installing Open AI whisper."
      ],
      "metadata": {
        "id": "swPVuqWaakkH"
      }
    },
    {
      "cell_type": "code",
      "source": [
        "import locale\n",
        "locale.getpreferredencoding = lambda: \"UTF-8\""
      ],
      "metadata": {
        "id": "AHxTT-Ma71bn"
      },
      "execution_count": 21,
      "outputs": []
    },
    {
      "cell_type": "code",
      "source": [
        "!pip install git+https://github.com/openai/whisper.git "
      ],
      "metadata": {
        "id": "kUd7I__FUZVc",
        "colab": {
          "base_uri": "https://localhost:8080/",
          "height": 1000
        },
        "outputId": "b39ac22c-34a4-43ec-b7a6-8a1b3fb5cf1d"
      },
      "execution_count": 22,
      "outputs": [
        {
          "output_type": "stream",
          "name": "stdout",
          "text": [
            "Looking in indexes: https://pypi.org/simple, https://us-python.pkg.dev/colab-wheels/public/simple/\n",
            "Collecting git+https://github.com/openai/whisper.git\n",
            "  Cloning https://github.com/openai/whisper.git to /tmp/pip-req-build-4xws90u2\n",
            "  Running command git clone --filter=blob:none --quiet https://github.com/openai/whisper.git /tmp/pip-req-build-4xws90u2\n",
            "  Resolved https://github.com/openai/whisper.git to commit 6dea21fd7f7253bfe450f1e2512a0fe47ee2d258\n",
            "  Installing build dependencies ... \u001b[?25l\u001b[?25hdone\n",
            "  Getting requirements to build wheel ... \u001b[?25l\u001b[?25hdone\n",
            "  Preparing metadata (pyproject.toml) ... \u001b[?25l\u001b[?25hdone\n",
            "Requirement already satisfied: tqdm in /usr/local/lib/python3.9/dist-packages (from openai-whisper==20230314) (4.65.0)\n",
            "Requirement already satisfied: numpy in /usr/local/lib/python3.9/dist-packages (from openai-whisper==20230314) (1.22.4)\n",
            "Collecting tiktoken==0.3.1\n",
            "  Downloading tiktoken-0.3.1-cp39-cp39-manylinux_2_17_x86_64.manylinux2014_x86_64.whl (1.7 MB)\n",
            "\u001b[2K     \u001b[90m━━━━━━━━━━━━━━━━━━━━━━━━━━━━━━━━━━━━━━━━\u001b[0m \u001b[32m1.7/1.7 MB\u001b[0m \u001b[31m51.3 MB/s\u001b[0m eta \u001b[36m0:00:00\u001b[0m\n",
            "\u001b[?25hRequirement already satisfied: numba in /usr/local/lib/python3.9/dist-packages (from openai-whisper==20230314) (0.56.4)\n",
            "Requirement already satisfied: more-itertools in /usr/local/lib/python3.9/dist-packages (from openai-whisper==20230314) (9.1.0)\n",
            "Collecting triton==2.0.0\n",
            "  Downloading triton-2.0.0-cp39-cp39-manylinux_2_17_x86_64.manylinux2014_x86_64.whl (63.3 MB)\n",
            "\u001b[2K     \u001b[90m━━━━━━━━━━━━━━━━━━━━━━━━━━━━━━━━━━━━━━━━\u001b[0m \u001b[32m63.3/63.3 MB\u001b[0m \u001b[31m18.8 MB/s\u001b[0m eta \u001b[36m0:00:00\u001b[0m\n",
            "\u001b[?25hRequirement already satisfied: torch in /usr/local/lib/python3.9/dist-packages (from openai-whisper==20230314) (1.13.1+cu116)\n",
            "Collecting ffmpeg-python==0.2.0\n",
            "  Downloading ffmpeg_python-0.2.0-py3-none-any.whl (25 kB)\n",
            "Requirement already satisfied: future in /usr/local/lib/python3.9/dist-packages (from ffmpeg-python==0.2.0->openai-whisper==20230314) (0.16.0)\n",
            "Collecting requests>=2.26.0\n",
            "  Downloading requests-2.28.2-py3-none-any.whl (62 kB)\n",
            "\u001b[2K     \u001b[90m━━━━━━━━━━━━━━━━━━━━━━━━━━━━━━━━━━━━━━━━\u001b[0m \u001b[32m62.8/62.8 KB\u001b[0m \u001b[31m10.6 MB/s\u001b[0m eta \u001b[36m0:00:00\u001b[0m\n",
            "\u001b[?25hRequirement already satisfied: regex>=2022.1.18 in /usr/local/lib/python3.9/dist-packages (from tiktoken==0.3.1->openai-whisper==20230314) (2022.6.2)\n",
            "Collecting lit\n",
            "  Downloading lit-15.0.7.tar.gz (132 kB)\n",
            "\u001b[2K     \u001b[90m━━━━━━━━━━━━━━━━━━━━━━━━━━━━━━━━━━━━━━\u001b[0m \u001b[32m132.3/132.3 KB\u001b[0m \u001b[31m21.1 MB/s\u001b[0m eta \u001b[36m0:00:00\u001b[0m\n",
            "\u001b[?25h  Preparing metadata (setup.py) ... \u001b[?25l\u001b[?25hdone\n",
            "Requirement already satisfied: filelock in /usr/local/lib/python3.9/dist-packages (from triton==2.0.0->openai-whisper==20230314) (3.9.1)\n",
            "Requirement already satisfied: cmake in /usr/local/lib/python3.9/dist-packages (from triton==2.0.0->openai-whisper==20230314) (3.22.6)\n",
            "Requirement already satisfied: llvmlite<0.40,>=0.39.0dev0 in /usr/local/lib/python3.9/dist-packages (from numba->openai-whisper==20230314) (0.39.1)\n",
            "Requirement already satisfied: setuptools in /usr/local/lib/python3.9/dist-packages (from numba->openai-whisper==20230314) (63.4.3)\n",
            "Requirement already satisfied: typing-extensions in /usr/local/lib/python3.9/dist-packages (from torch->openai-whisper==20230314) (4.5.0)\n",
            "Requirement already satisfied: urllib3<1.27,>=1.21.1 in /usr/local/lib/python3.9/dist-packages (from requests>=2.26.0->tiktoken==0.3.1->openai-whisper==20230314) (1.26.15)\n",
            "Requirement already satisfied: certifi>=2017.4.17 in /usr/local/lib/python3.9/dist-packages (from requests>=2.26.0->tiktoken==0.3.1->openai-whisper==20230314) (2022.12.7)\n",
            "Requirement already satisfied: charset-normalizer<4,>=2 in /usr/local/lib/python3.9/dist-packages (from requests>=2.26.0->tiktoken==0.3.1->openai-whisper==20230314) (3.1.0)\n",
            "Requirement already satisfied: idna<4,>=2.5 in /usr/local/lib/python3.9/dist-packages (from requests>=2.26.0->tiktoken==0.3.1->openai-whisper==20230314) (2.10)\n",
            "Building wheels for collected packages: openai-whisper, lit\n",
            "  Building wheel for openai-whisper (pyproject.toml) ... \u001b[?25l\u001b[?25hdone\n",
            "  Created wheel for openai-whisper: filename=openai_whisper-20230314-py3-none-any.whl size=796926 sha256=5ecae8774e8b89130f4cf171c0900070e81b8b68292a03b6ba78315244bccedd\n",
            "  Stored in directory: /tmp/pip-ephem-wheel-cache-yr5721e3/wheels/fe/03/29/e7919208d11b4ab32972cb448bb84a9a675d92cd52c9a48341\n",
            "  Building wheel for lit (setup.py) ... \u001b[?25l\u001b[?25hdone\n",
            "  Created wheel for lit: filename=lit-15.0.7-py3-none-any.whl size=90003 sha256=6bbb6b9aed67d9645214506b927499b75cb9a86dc19570fa20417cb7f4bfeef1\n",
            "  Stored in directory: /root/.cache/pip/wheels/b7/68/18/2ad49b416abb9139c8217c349fd9df0674da8f0d1952db2ea5\n",
            "Successfully built openai-whisper lit\n",
            "Installing collected packages: lit, requests, ffmpeg-python, triton, tiktoken, openai-whisper\n",
            "  Attempting uninstall: requests\n",
            "    Found existing installation: requests 2.25.1\n",
            "    Uninstalling requests-2.25.1:\n",
            "      Successfully uninstalled requests-2.25.1\n",
            "Successfully installed ffmpeg-python-0.2.0 lit-15.0.7 openai-whisper-20230314 requests-2.28.2 tiktoken-0.3.1 triton-2.0.0\n"
          ]
        },
        {
          "output_type": "display_data",
          "data": {
            "application/vnd.colab-display-data+json": {
              "pip_warning": {
                "packages": [
                  "requests"
                ]
              }
            }
          },
          "metadata": {}
        }
      ]
    },
    {
      "cell_type": "markdown",
      "source": [
        "Run whisper on all audio files. Whisper generates the transcription and writes it to a file."
      ],
      "metadata": {
        "id": "pBO8IpdiRQ0X"
      }
    },
    {
      "cell_type": "code",
      "source": [
        "import whisper, torch\n",
        "device = torch.device(\"cuda\" if torch.cuda.is_available() else \"cpu\")\n",
        "model = whisper.load_model('large', device = device)\n"
      ],
      "metadata": {
        "id": "AHKf0tFVmGyq",
        "colab": {
          "base_uri": "https://localhost:8080/"
        },
        "outputId": "aa6ec7e0-72e4-4c15-fbca-242af6068f65"
      },
      "execution_count": 23,
      "outputs": [
        {
          "output_type": "stream",
          "name": "stderr",
          "text": [
            "100%|█████████████████████████████████████| 2.87G/2.87G [00:34<00:00, 88.5MiB/s]\n"
          ]
        }
      ]
    },
    {
      "cell_type": "code",
      "source": [
        "import json\n",
        "for i in range(len(groups)):\n",
        "  audiof = str(i) + '.wav'\n",
        "  result = model.transcribe(audio=audiof, language='en', word_timestamps=True)#, initial_prompt=result.get('text', \"\"))\n",
        "  with open(str(i)+'.json', \"w\") as outfile:\n",
        "    json.dump(result, outfile, indent=4)  "
      ],
      "metadata": {
        "id": "odstu62EnMLL"
      },
      "execution_count": 24,
      "outputs": []
    },
    {
      "cell_type": "markdown",
      "source": [
        "# Generating the HTML and/or txt file from the Transcriptions and the Diarization"
      ],
      "metadata": {
        "id": "u_UyWQMXpB3N"
      }
    },
    {
      "cell_type": "markdown",
      "source": [
        "Change or add to the speaker names and collors bellow as you wish `(speaker, textbox color, speaker color)`."
      ],
      "metadata": {
        "id": "V2qTkKD_30FG"
      }
    },
    {
      "cell_type": "code",
      "source": [
        "speakers = {'SPEAKER_00':('Interviewer', '#e1ffc7', 'darkgreen'), 'SPEAKER_01':('Dyson', 'white', 'darkorange') }\n",
        "def_boxclr = 'white'\n",
        "def_spkrclr = 'orange'"
      ],
      "metadata": {
        "id": "j7EP6fO73wTY"
      },
      "execution_count": 25,
      "outputs": []
    },
    {
      "cell_type": "markdown",
      "source": [
        "In the generated HTML,  the transcriptions for each diarization group are written in a box, with the speaker name on the top. By clicking a transcription, the embedded video jumps to the right time ."
      ],
      "metadata": {
        "id": "KndDYy_xMpMq"
      }
    },
    {
      "cell_type": "code",
      "execution_count": 26,
      "metadata": {
        "id": "vKdx9Hwg630K"
      },
      "outputs": [],
      "source": [
        "preS = '<!DOCTYPE html>\\n<html lang=\"en\">\\n\\n<head>\\n\\t<meta charset=\"UTF-8\">\\n\\t<meta name=\"viewport\" content=\"width=device-width, initial-scale=1.0\">\\n\\t<meta http-equiv=\"X-UA-Compatible\" content=\"ie=edge\">\\n\\t<title>Freeman Dyson - Pure mathematics at Cambridge: the influence of Besicovitch (23/157)' + \\\n",
        "video_title+ \\\n",
        "'</title>\\n\\t<style>\\n\\t\\tbody {\\n\\t\\t\\tfont-family: sans-serif;\\n\\t\\t\\tfont-size: 14px;\\n\\t\\t\\tcolor: #111;\\n\\t\\t\\tpadding: 0 0 1em 0;\\n\\t\\t\\tbackground-color: #efe7dd;\\n\\t\\t}\\n\\n\\t\\ttable {\\n\\t\\t\\tborder-spacing: 10px;\\n\\t\\t}\\n\\n\\t\\tth {\\n\\t\\t\\ttext-align: left;\\n\\t\\t}\\n\\n\\t\\t.lt {\\n\\t\\t\\tcolor: inherit;\\n\\t\\t\\ttext-decoration: inherit;\\n\\t\\t}\\n\\n\\t\\t.l {\\n\\t\\t\\tcolor: #050;\\n\\t\\t}\\n\\n\\t\\t.s {\\n\\t\\t\\tdisplay: inline-block;\\n\\t\\t}\\n\\n\\t\\t.c {\\n\\t\\t\\tdisplay: inline-block;\\n\\t\\t}\\n\\n\\t\\t.e {\\n\\t\\t\\t/*background-color: white; Changing background color */\\n\\t\\t\\tborder-radius: 10px;\\n\\t\\t\\t/* Making border radius */\\n\\t\\t\\twidth: 50%;\\n\\t\\t\\t/* Making auto-sizable width */\\n\\t\\t\\tpadding: 0 0 0 0;\\n\\t\\t\\t/* Making space around letters */\\n\\t\\t\\tfont-size: 14px;\\n\\t\\t\\t/* Changing font size */\\n\\t\\t\\tmargin-bottom: 0;\\n\\t\\t}\\n\\n\\t\\t.t {\\n\\t\\t\\tdisplay: inline-block;\\n\\t\\t}\\n\\n\\t\\t#player-div {\\n\\t\\t\\tposition: sticky;\\n\\t\\t\\ttop: 20px;\\n\\t\\t\\tfloat: right;\\n\\t\\t\\twidth: 40%\\n\\t\\t}\\n\\n\\t\\t#player {\\n\\t\\t\\taspect-ratio: 16 / 9;\\n\\t\\t\\twidth: 100%;\\n\\t\\t\\theight: auto;\\n\\n\\t\\t}\\n\\n\\t\\ta {\\n\\t\\t\\tdisplay: inline;\\n\\t\\t}\\n\\t</style>\\n\\t<script>\\n\\t\\tvar tag = document.createElement(\\'script\\');\\n\\t\\ttag.src = \"https://www.youtube.com/iframe_api\";\\n\\t\\tvar firstScriptTag = document.getElementsByTagName(\\'script\\')[0];\\n\\t\\tfirstScriptTag.parentNode.insertBefore(tag, firstScriptTag);\\n\\t\\tvar player;\\n\\t\\tfunction onYouTubeIframeAPIReady() {\\n\\t\\t\\tplayer = new YT.Player(\\'player\\', {\\n\\t\\t\\t\\t//height: \\'210\\',\\n\\t\\t\\t\\t//width: \\'340\\',\\n\\t\\t\\t\\tvideoId: \\''+ \\\n",
        "video_id + \\\n",
        "'\\',\\n\\t\\t\\t});\\n\\n\\n\\n\\t\\t\\t// This is the source \"window\" that will emit the events.\\n\\t\\t\\tvar iframeWindow = player.getIframe().contentWindow;\\n\\t\\t\\tvar lastword = null;\\n\\n\\t\\t\\t// So we can compare against new updates.\\n\\t\\t\\tvar lastTimeUpdate = \"-1\";\\n\\n\\t\\t\\t// Listen to events triggered by postMessage,\\n\\t\\t\\t// this is how different windows in a browser\\n\\t\\t\\t// (such as a popup or iFrame) can communicate.\\n\\t\\t\\t// See: https://developer.mozilla.org/en-US/docs/Web/API/Window/postMessage\\n\\t\\t\\twindow.addEventListener(\"message\", function (event) {\\n\\t\\t\\t\\t// Check that the event was sent from the YouTube IFrame.\\n\\t\\t\\t\\tif (event.source === iframeWindow) {\\n\\t\\t\\t\\t\\tvar data = JSON.parse(event.data);\\n\\n\\t\\t\\t\\t\\t// The \"infoDelivery\" event is used by YT to transmit any\\n\\t\\t\\t\\t\\t// kind of information change in the player,\\n\\t\\t\\t\\t\\t// such as the current time or a playback quality change.\\n\\t\\t\\t\\t\\tif (\\n\\t\\t\\t\\t\\t\\tdata.event === \"infoDelivery\" &&\\n\\t\\t\\t\\t\\t\\tdata.info &&\\n\\t\\t\\t\\t\\t\\tdata.info.currentTime\\n\\t\\t\\t\\t\\t) {\\n\\t\\t\\t\\t\\t\\t// currentTime is emitted very frequently (milliseconds),\\n\\t\\t\\t\\t\\t\\t// but we only care about whole second changes.\\n\\t\\t\\t\\t\\t\\tvar ts = (data.info.currentTime).toFixed(1).toString();\\n\\t\\t\\t\\t\\t\\tts = (Math.round((data.info.currentTime) * 5) / 5).toFixed(1);\\n\\t\\t\\t\\t\\t\\tts = ts.toString();\\n\\t\\t\\t\\t\\t\\tconsole.log(ts)\\n\\t\\t\\t\\t\\t\\tif (ts !== lastTimeUpdate) {\\n\\t\\t\\t\\t\\t\\t\\tlastTimeUpdate = ts;\\n\\n\\t\\t\\t\\t\\t\\t\\t// It\\'s now up to you to format the time.\\n\\t\\t\\t\\t\\t\\t\\t//document.getElementById(\"time2\").innerHTML = time;\\n\\t\\t\\t\\t\\t\\t\\tword = document.getElementById(ts)\\n\\t\\t\\t\\t\\t\\t\\tif (word) {\\n\\t\\t\\t\\t\\t\\t\\t\\tif (lastword) {\\n\\t\\t\\t\\t\\t\\t\\t\\t\\tlastword.style.fontWeight = \\'normal\\';\\n\\t\\t\\t\\t\\t\\t\\t\\t}\\n\\t\\t\\t\\t\\t\\t\\t\\tlastword = word;\\n\\t\\t\\t\\t\\t\\t\\t\\t//word.style.textDecoration = \\'underline\\';\\n\\t\\t\\t\\t\\t\\t\\t\\tword.style.fontWeight = \\'bold\\';\\n\\n\\t\\t\\t\\t\\t\\t\\t\\tlet toggle = document.getElementById(\"autoscroll\");\\n\\t\\t\\t\\t\\t\\t\\t\\tif (toggle.checked) {\\n\\t\\t\\t\\t\\t\\t\\t\\t\\tlet position = word.offsetTop - 10;\\n\\t\\t\\t\\t\\t\\t\\t\\t\\twindow.scrollTo({\\n\\t\\t\\t\\t\\t\\t\\t\\t\\t\\ttop: position,\\n\\t\\t\\t\\t\\t\\t\\t\\t\\t\\tbehavior: \\'smooth\\'\\n\\t\\t\\t\\t\\t\\t\\t\\t\\t});\\n\\t\\t\\t\\t\\t\\t\\t\\t}\\n\\n\\t\\t\\t\\t\\t\\t\\t}\\n\\t\\t\\t\\t\\t\\t}\\n\\t\\t\\t\\t\\t}\\n\\t\\t\\t\\t}\\n\\t\\t\\t})\\n\\t\\t}\\n\\t\\tfunction jumptoTime(timepoint, id) {\\n\\t\\t\\tevent.preventDefault();\\n\\t\\t\\thistory.pushState(null, null, \"#\" + id);\\n\\t\\t\\tplayer.seekTo(timepoint);\\n\\t\\t\\tplayer.playVideo();\\n\\t\\t}\\n\\t</script>\\n</head>\\n\\n<body>\\n\\t<h2>'  + \\\n",
        "video_title + \\\n",
        "'</h2>\\n\\t<i>Click on a part of the transcription, to jump to its video, and get an anchor to it in the address\\n\\t\\tbar<br><br></i>\\n\\t<div id=\"player-div\">\\n\\t\\t<div id=\"player\"></div>\\n\\t\\t<div><label for=\"autoscroll\">auto-scroll: </label>\\n\\t\\t\\t<input type=\"checkbox\" id=\"autoscroll\" checked>\\n\\t\\t</div>\\n\\t</div>\\n  '\n",
        "\n",
        "#preS = '<!DOCTYPE html>\\n<html lang=\"en\">\\n\\n<head>\\n\\t<meta charset=\"UTF-8\">\\n\\t<meta name=\"viewport\" content=\"width=device-width, initial-scale=1.0\">\\n\\t<meta http-equiv=\"X-UA-Compatible\" content=\"ie=edge\">\\n\\t<title>' + \\\n",
        "#      video_title + \\\n",
        "#      '</title>\\n    <style>\\n        body {\\n            font-family: sans-serif;\\n            font-size: 14px;\\n            color: #111;\\n            padding: 0 0 1em 0;\\n\\t        background-color: #efe7dd;\\n        }\\n        table {\\n             border-spacing: 10px;\\n        }\\n        th { text-align: left;}\\n        .lt {\\n          color: inherit;\\n          text-decoration: inherit;\\n        }\\n        .l {\\n          color: #050;\\n        }\\n        .s {\\n            display: inline-block;\\n        }\\n        .c {\\n            display: inline-block;\\n        }\\n        .e {\\n            /*background-color: white; Changing background color */\\n            border-radius: 10px; /* Making border radius */\\n            width: 50%; /* Making auto-sizable width */\\n            padding: 0 0 0 0; /* Making space around letters */\\n            font-size: 14px; /* Changing font size */\\n            margin-bottom: 0;\\n        }\\n\\n        .t {\\n            display: inline-block;\\n        }\\n        #player {\\n            position: sticky;\\n            top: 20px;\\n            float: right;\\naspect-ratio: 16 / 9;width:40%;height: auto;        }\\n        a {\\n            display: inline;\\n        }\\n</style>\\n\\t<script>\\n      var tag = document.createElement(\\'script\\');\\n      tag.src = \"https://www.youtube.com/iframe_api\";\\n      var firstScriptTag = document.getElementsByTagName(\\'script\\')[0];\\n      firstScriptTag.parentNode.insertBefore(tag, firstScriptTag);\\n      var player;\\n      function onYouTubeIframeAPIReady() {\\n        player = new YT.Player(\\'player\\', {\\n          //height: \\'210\\',\\n          //width: \\'340\\',\\n          videoId: \\'' + \\\n",
        "#      video_id + \\\n",
        "#      '\\',\\n        });\\n      }\\n      function jumptoTime(timepoint, id) {\\n        event.preventDefault();\\n        history.pushState(null, null, \"#\"+id);\\n        player.seekTo(timepoint);\\n        player.playVideo();\\n      }\\n    </script>\\n  </head>\\n  <body>\\n    <h2>' + \\\n",
        "#      video_title + \\\n",
        "#      '</h2>\\n  <i>Click on a part of the transcription, to jump to its video, and get an anchor to it in the address bar<br><br></i>\\n<div  id=\"player\"></div>\\n'\n",
        "postS = '\\t</body>\\n</html>'"
      ]
    },
    {
      "cell_type": "code",
      "source": [
        "#import webvtt\n",
        "import json\n",
        "from datetime import timedelta\n",
        "\n",
        "def timeStr(t):\n",
        "  return '{0:02d}:{1:02d}:{2:06.2f}'.format(round(t // 3600), \n",
        "                                                round(t % 3600 // 60), \n",
        "                                                t % 60)\n",
        "\n",
        "html = list(preS)\n",
        "txt = list(\"\")\n",
        "gidx = -1\n",
        "for g in groups:  \n",
        "  shift = re.findall('[0-9]+:[0-9]+:[0-9]+\\.[0-9]+', string=g[0])[0]\n",
        "  shift = millisec(shift) - spacermilli #the start time in the original video\n",
        "  shift=max(shift, 0)\n",
        "  \n",
        "  gidx += 1\n",
        "  \n",
        "  captions = json.load(open(str(gidx) + '.json'))['segments']\n",
        "\n",
        "  if captions:\n",
        "    speaker = g[0].split()[-1]\n",
        "    boxclr = def_boxclr\n",
        "    spkrclr = def_spkrclr\n",
        "    if speaker in speakers:\n",
        "      speaker, boxclr, spkrclr = speakers[speaker] \n",
        "    \n",
        "    html.append(f'<div class=\"e\" style=\"background-color: {boxclr}\">\\n');\n",
        "    html.append('<p  style=\"margin:0;padding: 5px 10px 10px 10px;word-wrap:normal;white-space:normal;\">\\n')\n",
        "    html.append(f'<span style=\"color:{spkrclr};font-weight: bold;\">{speaker}</span><br>\\n\\t\\t\\t\\t')\n",
        "      \n",
        "    for c in captions:\n",
        "      start = shift + c['start'] * 1000.0 \n",
        "      start = start / 1000.0   #time resolution ot youtube is Second.            \n",
        "      end = (shift + c['end'] * 1000.0) / 1000.0      \n",
        "      txt.append(f'[{timeStr(start)} --> {timeStr(end)}] [{speaker}] {c[\"text\"]}\\n')\n",
        "\n",
        "      for i, w in enumerate(c['words']):\n",
        "        if w == \"\":\n",
        "           continue\n",
        "        start = (shift + w['start']*1000.0) / 1000.0        \n",
        "        #end = (shift + w['end']) / 1000.0   #time resolution ot youtube is Second.  \n",
        "        html.append(f'<a href=\"#{timeStr(start)}\" id=\"{\"{:.1f}\".format(round(start*5)/5)}\" class=\"lt\" onclick=\"jumptoTime({int(start)}, this.id)\">{w[\"word\"]}</a><!--\\n\\t\\t\\t\\t-->')\n",
        "    #html.append('\\n')      \n",
        "    html.append('</p>\\n')\n",
        "    html.append(f'</div>\\n')\n",
        "\n",
        "html.append(postS)\n",
        "\n",
        "with open(\"capspeaker.txt\", \"w\") as file:\n",
        "  s = \"\".join(txt)\n",
        "  file.write(s)\n",
        "if Source == 'File (Google Drive)':\n",
        "  print(s)\n",
        "elif Source == 'Youtube':\n",
        "  with open(\"capspeaker.html\", \"w\") as file:    #TODO: proper html embed tag when video/audio from file\n",
        "    s = \"\".join(html)\n",
        "    file.write(s)\n",
        "    print(s)"
      ],
      "metadata": {
        "colab": {
          "base_uri": "https://localhost:8080/"
        },
        "id": "vqO6Nd6YfZYa",
        "outputId": "1bdc7e58-25e2-4c53-9b7f-25a56b68ef6b"
      },
      "execution_count": 27,
      "outputs": [
        {
          "output_type": "stream",
          "name": "stdout",
          "text": [
            "<!DOCTYPE html>\n",
            "<html lang=\"en\">\n",
            "\n",
            "<head>\n",
            "\t<meta charset=\"UTF-8\">\n",
            "\t<meta name=\"viewport\" content=\"width=device-width, initial-scale=1.0\">\n",
            "\t<meta http-equiv=\"X-UA-Compatible\" content=\"ie=edge\">\n",
            "\t<title>Freeman Dyson - Pure mathematics at Cambridge: the influence of Besicovitch (23/157)Freeman Dyson - Pure mathematics at Cambridge: the influence of Besicovitch (23/157)</title>\n",
            "\t<style>\n",
            "\t\tbody {\n",
            "\t\t\tfont-family: sans-serif;\n",
            "\t\t\tfont-size: 14px;\n",
            "\t\t\tcolor: #111;\n",
            "\t\t\tpadding: 0 0 1em 0;\n",
            "\t\t\tbackground-color: #efe7dd;\n",
            "\t\t}\n",
            "\n",
            "\t\ttable {\n",
            "\t\t\tborder-spacing: 10px;\n",
            "\t\t}\n",
            "\n",
            "\t\tth {\n",
            "\t\t\ttext-align: left;\n",
            "\t\t}\n",
            "\n",
            "\t\t.lt {\n",
            "\t\t\tcolor: inherit;\n",
            "\t\t\ttext-decoration: inherit;\n",
            "\t\t}\n",
            "\n",
            "\t\t.l {\n",
            "\t\t\tcolor: #050;\n",
            "\t\t}\n",
            "\n",
            "\t\t.s {\n",
            "\t\t\tdisplay: inline-block;\n",
            "\t\t}\n",
            "\n",
            "\t\t.c {\n",
            "\t\t\tdisplay: inline-block;\n",
            "\t\t}\n",
            "\n",
            "\t\t.e {\n",
            "\t\t\t/*background-color: white; Changing background color */\n",
            "\t\t\tborder-radius: 10px;\n",
            "\t\t\t/* Making border radius */\n",
            "\t\t\twidth: 50%;\n",
            "\t\t\t/* Making auto-sizable width */\n",
            "\t\t\tpadding: 0 0 0 0;\n",
            "\t\t\t/* Making space around letters */\n",
            "\t\t\tfont-size: 14px;\n",
            "\t\t\t/* Changing font size */\n",
            "\t\t\tmargin-bottom: 0;\n",
            "\t\t}\n",
            "\n",
            "\t\t.t {\n",
            "\t\t\tdisplay: inline-block;\n",
            "\t\t}\n",
            "\n",
            "\t\t#player-div {\n",
            "\t\t\tposition: sticky;\n",
            "\t\t\ttop: 20px;\n",
            "\t\t\tfloat: right;\n",
            "\t\t\twidth: 40%\n",
            "\t\t}\n",
            "\n",
            "\t\t#player {\n",
            "\t\t\taspect-ratio: 16 / 9;\n",
            "\t\t\twidth: 100%;\n",
            "\t\t\theight: auto;\n",
            "\n",
            "\t\t}\n",
            "\n",
            "\t\ta {\n",
            "\t\t\tdisplay: inline;\n",
            "\t\t}\n",
            "\t</style>\n",
            "\t<script>\n",
            "\t\tvar tag = document.createElement('script');\n",
            "\t\ttag.src = \"https://www.youtube.com/iframe_api\";\n",
            "\t\tvar firstScriptTag = document.getElementsByTagName('script')[0];\n",
            "\t\tfirstScriptTag.parentNode.insertBefore(tag, firstScriptTag);\n",
            "\t\tvar player;\n",
            "\t\tfunction onYouTubeIframeAPIReady() {\n",
            "\t\t\tplayer = new YT.Player('player', {\n",
            "\t\t\t\t//height: '210',\n",
            "\t\t\t\t//width: '340',\n",
            "\t\t\t\tvideoId: 'NSp2fEQ6wyA',\n",
            "\t\t\t});\n",
            "\n",
            "\n",
            "\n",
            "\t\t\t// This is the source \"window\" that will emit the events.\n",
            "\t\t\tvar iframeWindow = player.getIframe().contentWindow;\n",
            "\t\t\tvar lastword = null;\n",
            "\n",
            "\t\t\t// So we can compare against new updates.\n",
            "\t\t\tvar lastTimeUpdate = \"-1\";\n",
            "\n",
            "\t\t\t// Listen to events triggered by postMessage,\n",
            "\t\t\t// this is how different windows in a browser\n",
            "\t\t\t// (such as a popup or iFrame) can communicate.\n",
            "\t\t\t// See: https://developer.mozilla.org/en-US/docs/Web/API/Window/postMessage\n",
            "\t\t\twindow.addEventListener(\"message\", function (event) {\n",
            "\t\t\t\t// Check that the event was sent from the YouTube IFrame.\n",
            "\t\t\t\tif (event.source === iframeWindow) {\n",
            "\t\t\t\t\tvar data = JSON.parse(event.data);\n",
            "\n",
            "\t\t\t\t\t// The \"infoDelivery\" event is used by YT to transmit any\n",
            "\t\t\t\t\t// kind of information change in the player,\n",
            "\t\t\t\t\t// such as the current time or a playback quality change.\n",
            "\t\t\t\t\tif (\n",
            "\t\t\t\t\t\tdata.event === \"infoDelivery\" &&\n",
            "\t\t\t\t\t\tdata.info &&\n",
            "\t\t\t\t\t\tdata.info.currentTime\n",
            "\t\t\t\t\t) {\n",
            "\t\t\t\t\t\t// currentTime is emitted very frequently (milliseconds),\n",
            "\t\t\t\t\t\t// but we only care about whole second changes.\n",
            "\t\t\t\t\t\tvar ts = (data.info.currentTime).toFixed(1).toString();\n",
            "\t\t\t\t\t\tts = (Math.round((data.info.currentTime) * 5) / 5).toFixed(1);\n",
            "\t\t\t\t\t\tts = ts.toString();\n",
            "\t\t\t\t\t\tconsole.log(ts)\n",
            "\t\t\t\t\t\tif (ts !== lastTimeUpdate) {\n",
            "\t\t\t\t\t\t\tlastTimeUpdate = ts;\n",
            "\n",
            "\t\t\t\t\t\t\t// It's now up to you to format the time.\n",
            "\t\t\t\t\t\t\t//document.getElementById(\"time2\").innerHTML = time;\n",
            "\t\t\t\t\t\t\tword = document.getElementById(ts)\n",
            "\t\t\t\t\t\t\tif (word) {\n",
            "\t\t\t\t\t\t\t\tif (lastword) {\n",
            "\t\t\t\t\t\t\t\t\tlastword.style.fontWeight = 'normal';\n",
            "\t\t\t\t\t\t\t\t}\n",
            "\t\t\t\t\t\t\t\tlastword = word;\n",
            "\t\t\t\t\t\t\t\t//word.style.textDecoration = 'underline';\n",
            "\t\t\t\t\t\t\t\tword.style.fontWeight = 'bold';\n",
            "\n",
            "\t\t\t\t\t\t\t\tlet toggle = document.getElementById(\"autoscroll\");\n",
            "\t\t\t\t\t\t\t\tif (toggle.checked) {\n",
            "\t\t\t\t\t\t\t\t\tlet position = word.offsetTop - 10;\n",
            "\t\t\t\t\t\t\t\t\twindow.scrollTo({\n",
            "\t\t\t\t\t\t\t\t\t\ttop: position,\n",
            "\t\t\t\t\t\t\t\t\t\tbehavior: 'smooth'\n",
            "\t\t\t\t\t\t\t\t\t});\n",
            "\t\t\t\t\t\t\t\t}\n",
            "\n",
            "\t\t\t\t\t\t\t}\n",
            "\t\t\t\t\t\t}\n",
            "\t\t\t\t\t}\n",
            "\t\t\t\t}\n",
            "\t\t\t})\n",
            "\t\t}\n",
            "\t\tfunction jumptoTime(timepoint, id) {\n",
            "\t\t\tevent.preventDefault();\n",
            "\t\t\thistory.pushState(null, null, \"#\" + id);\n",
            "\t\t\tplayer.seekTo(timepoint);\n",
            "\t\t\tplayer.playVideo();\n",
            "\t\t}\n",
            "\t</script>\n",
            "</head>\n",
            "\n",
            "<body>\n",
            "\t<h2>Freeman Dyson - Pure mathematics at Cambridge: the influence of Besicovitch (23/157)</h2>\n",
            "\t<i>Click on a part of the transcription, to jump to its video, and get an anchor to it in the address\n",
            "\t\tbar<br><br></i>\n",
            "\t<div id=\"player-div\">\n",
            "\t\t<div id=\"player\"></div>\n",
            "\t\t<div><label for=\"autoscroll\">auto-scroll: </label>\n",
            "\t\t\t<input type=\"checkbox\" id=\"autoscroll\" checked>\n",
            "\t\t</div>\n",
            "\t</div>\n",
            "  <div class=\"e\" style=\"background-color: white\">\n",
            "<p  style=\"margin:0;padding: 5px 10px 10px 10px;word-wrap:normal;white-space:normal;\">\n",
            "<span style=\"color:darkorange;font-weight: bold;\">Dyson</span><br>\n",
            "\t\t\t\t<a href=\"#00:00:000.00\" id=\"0.0\" class=\"lt\" onclick=\"jumptoTime(0, this.id)\"> So</a><!--\n",
            "\t\t\t\t--><a href=\"#00:00:000.22\" id=\"0.2\" class=\"lt\" onclick=\"jumptoTime(0, this.id)\"> then</a><!--\n",
            "\t\t\t\t--><a href=\"#00:00:000.42\" id=\"0.4\" class=\"lt\" onclick=\"jumptoTime(0, this.id)\"> I</a><!--\n",
            "\t\t\t\t--><a href=\"#00:00:000.56\" id=\"0.6\" class=\"lt\" onclick=\"jumptoTime(0, this.id)\"> come</a><!--\n",
            "\t\t\t\t--><a href=\"#00:00:000.78\" id=\"0.8\" class=\"lt\" onclick=\"jumptoTime(0, this.id)\"> to</a><!--\n",
            "\t\t\t\t--><a href=\"#00:00:000.96\" id=\"1.0\" class=\"lt\" onclick=\"jumptoTime(0, this.id)\"> Cambridge</a><!--\n",
            "\t\t\t\t--><a href=\"#00:00:001.36\" id=\"1.4\" class=\"lt\" onclick=\"jumptoTime(1, this.id)\"> in</a><!--\n",
            "\t\t\t\t--><a href=\"#00:00:001.60\" id=\"1.6\" class=\"lt\" onclick=\"jumptoTime(1, this.id)\"> 1941</a><!--\n",
            "\t\t\t\t--><a href=\"#00:00:002.28\" id=\"2.2\" class=\"lt\" onclick=\"jumptoTime(2, this.id)\"> as</a><!--\n",
            "\t\t\t\t--><a href=\"#00:00:002.62\" id=\"2.6\" class=\"lt\" onclick=\"jumptoTime(2, this.id)\"> a</a><!--\n",
            "\t\t\t\t--><a href=\"#00:00:002.76\" id=\"2.8\" class=\"lt\" onclick=\"jumptoTime(2, this.id)\"> 17</a><!--\n",
            "\t\t\t\t--><a href=\"#00:00:003.12\" id=\"3.2\" class=\"lt\" onclick=\"jumptoTime(3, this.id)\">-year</a><!--\n",
            "\t\t\t\t--><a href=\"#00:00:003.34\" id=\"3.4\" class=\"lt\" onclick=\"jumptoTime(3, this.id)\">-old.</a><!--\n",
            "\t\t\t\t--><a href=\"#00:00:005.08\" id=\"5.0\" class=\"lt\" onclick=\"jumptoTime(5, this.id)\"> And</a><!--\n",
            "\t\t\t\t--><a href=\"#00:00:005.08\" id=\"5.0\" class=\"lt\" onclick=\"jumptoTime(5, this.id)\"> before,</a><!--\n",
            "\t\t\t\t--><a href=\"#00:00:006.88\" id=\"6.8\" class=\"lt\" onclick=\"jumptoTime(6, this.id)\"> I'd</a><!--\n",
            "\t\t\t\t--><a href=\"#00:00:007.50\" id=\"7.6\" class=\"lt\" onclick=\"jumptoTime(7, this.id)\"> always</a><!--\n",
            "\t\t\t\t--><a href=\"#00:00:007.70\" id=\"7.6\" class=\"lt\" onclick=\"jumptoTime(7, this.id)\"> been</a><!--\n",
            "\t\t\t\t--><a href=\"#00:00:007.90\" id=\"8.0\" class=\"lt\" onclick=\"jumptoTime(7, this.id)\"> interested</a><!--\n",
            "\t\t\t\t--><a href=\"#00:00:008.36\" id=\"8.4\" class=\"lt\" onclick=\"jumptoTime(8, this.id)\"> in</a><!--\n",
            "\t\t\t\t--><a href=\"#00:00:008.68\" id=\"8.6\" class=\"lt\" onclick=\"jumptoTime(8, this.id)\"> physics</a><!--\n",
            "\t\t\t\t--><a href=\"#00:00:009.14\" id=\"9.2\" class=\"lt\" onclick=\"jumptoTime(9, this.id)\"> and</a><!--\n",
            "\t\t\t\t--><a href=\"#00:00:010.98\" id=\"11.0\" class=\"lt\" onclick=\"jumptoTime(10, this.id)\"> applied</a><!--\n",
            "\t\t\t\t--><a href=\"#00:00:011.36\" id=\"11.4\" class=\"lt\" onclick=\"jumptoTime(11, this.id)\"> mathematics</a><!--\n",
            "\t\t\t\t--><a href=\"#00:00:011.88\" id=\"11.8\" class=\"lt\" onclick=\"jumptoTime(11, this.id)\"> of</a><!--\n",
            "\t\t\t\t--><a href=\"#00:00:012.14\" id=\"12.2\" class=\"lt\" onclick=\"jumptoTime(12, this.id)\"> all</a><!--\n",
            "\t\t\t\t--><a href=\"#00:00:012.40\" id=\"12.4\" class=\"lt\" onclick=\"jumptoTime(12, this.id)\"> sorts.</a><!--\n",
            "\t\t\t\t--><a href=\"#00:00:013.12\" id=\"13.2\" class=\"lt\" onclick=\"jumptoTime(13, this.id)\"> And</a><!--\n",
            "\t\t\t\t--><a href=\"#00:00:013.24\" id=\"13.2\" class=\"lt\" onclick=\"jumptoTime(13, this.id)\"> one</a><!--\n",
            "\t\t\t\t--><a href=\"#00:00:013.86\" id=\"13.8\" class=\"lt\" onclick=\"jumptoTime(13, this.id)\"> of</a><!--\n",
            "\t\t\t\t--><a href=\"#00:00:013.96\" id=\"14.0\" class=\"lt\" onclick=\"jumptoTime(13, this.id)\"> the</a><!--\n",
            "\t\t\t\t--><a href=\"#00:00:014.12\" id=\"14.2\" class=\"lt\" onclick=\"jumptoTime(14, this.id)\"> textbooks</a><!--\n",
            "\t\t\t\t--><a href=\"#00:00:014.46\" id=\"14.4\" class=\"lt\" onclick=\"jumptoTime(14, this.id)\"> that</a><!--\n",
            "\t\t\t\t--><a href=\"#00:00:014.88\" id=\"14.8\" class=\"lt\" onclick=\"jumptoTime(14, this.id)\"> I</a><!--\n",
            "\t\t\t\t--><a href=\"#00:00:015.10\" id=\"15.2\" class=\"lt\" onclick=\"jumptoTime(15, this.id)\"> bought</a><!--\n",
            "\t\t\t\t--><a href=\"#00:00:015.38\" id=\"15.4\" class=\"lt\" onclick=\"jumptoTime(15, this.id)\"> as</a><!--\n",
            "\t\t\t\t--><a href=\"#00:00:015.60\" id=\"15.6\" class=\"lt\" onclick=\"jumptoTime(15, this.id)\"> a</a><!--\n",
            "\t\t\t\t--><a href=\"#00:00:015.72\" id=\"15.8\" class=\"lt\" onclick=\"jumptoTime(15, this.id)\"> prize</a><!--\n",
            "\t\t\t\t--><a href=\"#00:00:016.02\" id=\"16.0\" class=\"lt\" onclick=\"jumptoTime(16, this.id)\"> was</a><!--\n",
            "\t\t\t\t--><a href=\"#00:00:016.24\" id=\"16.2\" class=\"lt\" onclick=\"jumptoTime(16, this.id)\"> a</a><!--\n",
            "\t\t\t\t--><a href=\"#00:00:016.42\" id=\"16.4\" class=\"lt\" onclick=\"jumptoTime(16, this.id)\"> textbook</a><!--\n",
            "\t\t\t\t--><a href=\"#00:00:016.74\" id=\"16.8\" class=\"lt\" onclick=\"jumptoTime(16, this.id)\"> in</a><!--\n",
            "\t\t\t\t--><a href=\"#00:00:016.98\" id=\"17.0\" class=\"lt\" onclick=\"jumptoTime(16, this.id)\"> aerodynamics,</a><!--\n",
            "\t\t\t\t--><a href=\"#00:00:018.84\" id=\"18.8\" class=\"lt\" onclick=\"jumptoTime(18, this.id)\"> which</a><!--\n",
            "\t\t\t\t--><a href=\"#00:00:019.12\" id=\"19.2\" class=\"lt\" onclick=\"jumptoTime(19, this.id)\"> I</a><!--\n",
            "\t\t\t\t--><a href=\"#00:00:019.28\" id=\"19.2\" class=\"lt\" onclick=\"jumptoTime(19, this.id)\"> think</a><!--\n",
            "\t\t\t\t--><a href=\"#00:00:019.56\" id=\"19.6\" class=\"lt\" onclick=\"jumptoTime(19, this.id)\"> was</a><!--\n",
            "\t\t\t\t--><a href=\"#00:00:020.28\" id=\"20.2\" class=\"lt\" onclick=\"jumptoTime(20, this.id)\"> because</a><!--\n",
            "\t\t\t\t--><a href=\"#00:00:020.64\" id=\"20.6\" class=\"lt\" onclick=\"jumptoTime(20, this.id)\"> of</a><!--\n",
            "\t\t\t\t--><a href=\"#00:00:020.80\" id=\"20.8\" class=\"lt\" onclick=\"jumptoTime(20, this.id)\"> James</a><!--\n",
            "\t\t\t\t--><a href=\"#00:00:021.04\" id=\"21.0\" class=\"lt\" onclick=\"jumptoTime(21, this.id)\"> Lighthill.</a><!--\n",
            "\t\t\t\t--><a href=\"#00:00:021.96\" id=\"22.0\" class=\"lt\" onclick=\"jumptoTime(21, this.id)\"> And</a><!--\n",
            "\t\t\t\t--><a href=\"#00:00:021.96\" id=\"22.0\" class=\"lt\" onclick=\"jumptoTime(21, this.id)\"> so</a><!--\n",
            "\t\t\t\t--><a href=\"#00:00:023.30\" id=\"23.2\" class=\"lt\" onclick=\"jumptoTime(23, this.id)\"> I</a><!--\n",
            "\t\t\t\t--><a href=\"#00:00:023.44\" id=\"23.4\" class=\"lt\" onclick=\"jumptoTime(23, this.id)\"> thought</a><!--\n",
            "\t\t\t\t--><a href=\"#00:00:024.44\" id=\"24.4\" class=\"lt\" onclick=\"jumptoTime(24, this.id)\"> of</a><!--\n",
            "\t\t\t\t--><a href=\"#00:00:024.58\" id=\"24.6\" class=\"lt\" onclick=\"jumptoTime(24, this.id)\"> myself</a><!--\n",
            "\t\t\t\t--><a href=\"#00:00:024.92\" id=\"25.0\" class=\"lt\" onclick=\"jumptoTime(24, this.id)\"> as</a><!--\n",
            "\t\t\t\t--><a href=\"#00:00:025.14\" id=\"25.2\" class=\"lt\" onclick=\"jumptoTime(25, this.id)\"> becoming</a><!--\n",
            "\t\t\t\t--><a href=\"#00:00:025.50\" id=\"25.6\" class=\"lt\" onclick=\"jumptoTime(25, this.id)\"> an</a><!--\n",
            "\t\t\t\t--><a href=\"#00:00:025.72\" id=\"25.8\" class=\"lt\" onclick=\"jumptoTime(25, this.id)\"> aerodynamicist</a><!--\n",
            "\t\t\t\t--><a href=\"#00:00:026.62\" id=\"26.6\" class=\"lt\" onclick=\"jumptoTime(26, this.id)\"> as</a><!--\n",
            "\t\t\t\t--><a href=\"#00:00:027.44\" id=\"27.4\" class=\"lt\" onclick=\"jumptoTime(27, this.id)\"> a</a><!--\n",
            "\t\t\t\t--><a href=\"#00:00:028.02\" id=\"28.0\" class=\"lt\" onclick=\"jumptoTime(28, this.id)\"> serious</a><!--\n",
            "\t\t\t\t--><a href=\"#00:00:029.16\" id=\"29.2\" class=\"lt\" onclick=\"jumptoTime(29, this.id)\"> possibility.</a><!--\n",
            "\t\t\t\t--><a href=\"#00:00:029.70\" id=\"29.6\" class=\"lt\" onclick=\"jumptoTime(29, this.id)\"> That</a><!--\n",
            "\t\t\t\t--><a href=\"#00:00:030.24\" id=\"30.2\" class=\"lt\" onclick=\"jumptoTime(30, this.id)\"> seemed</a><!--\n",
            "\t\t\t\t--><a href=\"#00:00:030.56\" id=\"30.6\" class=\"lt\" onclick=\"jumptoTime(30, this.id)\"> to</a><!--\n",
            "\t\t\t\t--><a href=\"#00:00:030.66\" id=\"30.6\" class=\"lt\" onclick=\"jumptoTime(30, this.id)\"> be</a><!--\n",
            "\t\t\t\t--><a href=\"#00:00:030.76\" id=\"30.8\" class=\"lt\" onclick=\"jumptoTime(30, this.id)\"> a</a><!--\n",
            "\t\t\t\t--><a href=\"#00:00:030.88\" id=\"30.8\" class=\"lt\" onclick=\"jumptoTime(30, this.id)\"> field</a><!--\n",
            "\t\t\t\t--><a href=\"#00:00:031.06\" id=\"31.0\" class=\"lt\" onclick=\"jumptoTime(31, this.id)\"> where</a><!--\n",
            "\t\t\t\t--><a href=\"#00:00:031.26\" id=\"31.2\" class=\"lt\" onclick=\"jumptoTime(31, this.id)\"> mathematics</a><!--\n",
            "\t\t\t\t--><a href=\"#00:00:031.76\" id=\"31.8\" class=\"lt\" onclick=\"jumptoTime(31, this.id)\"> could</a><!--\n",
            "\t\t\t\t--><a href=\"#00:00:033.06\" id=\"33.0\" class=\"lt\" onclick=\"jumptoTime(33, this.id)\"> really</a><!--\n",
            "\t\t\t\t--><a href=\"#00:00:033.26\" id=\"33.2\" class=\"lt\" onclick=\"jumptoTime(33, this.id)\"> be</a><!--\n",
            "\t\t\t\t--><a href=\"#00:00:033.42\" id=\"33.4\" class=\"lt\" onclick=\"jumptoTime(33, this.id)\"> helpful.</a><!--\n",
            "\t\t\t\t--><a href=\"#00:00:034.22\" id=\"34.2\" class=\"lt\" onclick=\"jumptoTime(34, this.id)\"> And</a><!--\n",
            "\t\t\t\t--><a href=\"#00:00:034.30\" id=\"34.4\" class=\"lt\" onclick=\"jumptoTime(34, this.id)\"> flying,</a><!--\n",
            "\t\t\t\t--><a href=\"#00:00:034.74\" id=\"34.8\" class=\"lt\" onclick=\"jumptoTime(34, this.id)\"> of</a><!--\n",
            "\t\t\t\t--><a href=\"#00:00:034.80\" id=\"34.8\" class=\"lt\" onclick=\"jumptoTime(34, this.id)\"> course,</a><!--\n",
            "\t\t\t\t--><a href=\"#00:00:034.98\" id=\"35.0\" class=\"lt\" onclick=\"jumptoTime(34, this.id)\"> was</a><!--\n",
            "\t\t\t\t--><a href=\"#00:00:035.14\" id=\"35.2\" class=\"lt\" onclick=\"jumptoTime(35, this.id)\"> exciting.</a><!--\n",
            "\t\t\t\t--><a href=\"#00:00:036.74\" id=\"36.8\" class=\"lt\" onclick=\"jumptoTime(36, this.id)\"> But</a><!--\n",
            "\t\t\t\t--><a href=\"#00:00:037.10\" id=\"37.2\" class=\"lt\" onclick=\"jumptoTime(37, this.id)\"> anyway,</a><!--\n",
            "\t\t\t\t--><a href=\"#00:00:037.52\" id=\"37.6\" class=\"lt\" onclick=\"jumptoTime(37, this.id)\"> I</a><!--\n",
            "\t\t\t\t--><a href=\"#00:00:037.60\" id=\"37.6\" class=\"lt\" onclick=\"jumptoTime(37, this.id)\"> arrived</a><!--\n",
            "\t\t\t\t--><a href=\"#00:00:037.88\" id=\"37.8\" class=\"lt\" onclick=\"jumptoTime(37, this.id)\"> in</a><!--\n",
            "\t\t\t\t--><a href=\"#00:00:038.04\" id=\"38.0\" class=\"lt\" onclick=\"jumptoTime(38, this.id)\"> Cambridge,</a><!--\n",
            "\t\t\t\t--><a href=\"#00:00:038.72\" id=\"38.8\" class=\"lt\" onclick=\"jumptoTime(38, this.id)\"> and</a><!--\n",
            "\t\t\t\t--><a href=\"#00:00:039.96\" id=\"40.0\" class=\"lt\" onclick=\"jumptoTime(39, this.id)\"> all</a><!--\n",
            "\t\t\t\t--><a href=\"#00:00:040.20\" id=\"40.2\" class=\"lt\" onclick=\"jumptoTime(40, this.id)\"> the</a><!--\n",
            "\t\t\t\t--><a href=\"#00:00:040.34\" id=\"40.4\" class=\"lt\" onclick=\"jumptoTime(40, this.id)\"> applied</a><!--\n",
            "\t\t\t\t--><a href=\"#00:00:040.60\" id=\"40.6\" class=\"lt\" onclick=\"jumptoTime(40, this.id)\"> mathematicians</a><!--\n",
            "\t\t\t\t--><a href=\"#00:00:041.24\" id=\"41.2\" class=\"lt\" onclick=\"jumptoTime(41, this.id)\"> were</a><!--\n",
            "\t\t\t\t--><a href=\"#00:00:041.42\" id=\"41.4\" class=\"lt\" onclick=\"jumptoTime(41, this.id)\"> gone.</a><!--\n",
            "\t\t\t\t--><a href=\"#00:00:041.82\" id=\"41.8\" class=\"lt\" onclick=\"jumptoTime(41, this.id)\"> There</a><!--\n",
            "\t\t\t\t--><a href=\"#00:00:041.96\" id=\"42.0\" class=\"lt\" onclick=\"jumptoTime(41, this.id)\"> was</a><!--\n",
            "\t\t\t\t--><a href=\"#00:00:042.12\" id=\"42.2\" class=\"lt\" onclick=\"jumptoTime(42, this.id)\"> nobody</a><!--\n",
            "\t\t\t\t--><a href=\"#00:00:042.44\" id=\"42.4\" class=\"lt\" onclick=\"jumptoTime(42, this.id)\"> there</a><!--\n",
            "\t\t\t\t--><a href=\"#00:00:042.80\" id=\"42.8\" class=\"lt\" onclick=\"jumptoTime(42, this.id)\"> except</a><!--\n",
            "\t\t\t\t--><a href=\"#00:00:043.20\" id=\"43.2\" class=\"lt\" onclick=\"jumptoTime(43, this.id)\"> pure.</a><!--\n",
            "\t\t\t\t--><a href=\"#00:00:043.98\" id=\"44.0\" class=\"lt\" onclick=\"jumptoTime(43, this.id)\"> And</a><!--\n",
            "\t\t\t\t--><a href=\"#00:00:043.98\" id=\"44.0\" class=\"lt\" onclick=\"jumptoTime(43, this.id)\"> all</a><!--\n",
            "\t\t\t\t--><a href=\"#00:00:045.46\" id=\"45.4\" class=\"lt\" onclick=\"jumptoTime(45, this.id)\"> the</a><!--\n",
            "\t\t\t\t--><a href=\"#00:00:045.62\" id=\"45.6\" class=\"lt\" onclick=\"jumptoTime(45, this.id)\"> applied</a><!--\n",
            "\t\t\t\t--><a href=\"#00:00:045.92\" id=\"46.0\" class=\"lt\" onclick=\"jumptoTime(45, this.id)\"> mathematicians</a><!--\n",
            "\t\t\t\t--><a href=\"#00:00:046.68\" id=\"46.6\" class=\"lt\" onclick=\"jumptoTime(46, this.id)\"> and</a><!--\n",
            "\t\t\t\t--><a href=\"#00:00:046.92\" id=\"47.0\" class=\"lt\" onclick=\"jumptoTime(46, this.id)\"> physicists</a><!--\n",
            "\t\t\t\t--><a href=\"#00:00:047.32\" id=\"47.4\" class=\"lt\" onclick=\"jumptoTime(47, this.id)\"> were</a><!--\n",
            "\t\t\t\t--><a href=\"#00:00:048.44\" id=\"48.4\" class=\"lt\" onclick=\"jumptoTime(48, this.id)\"> fighting</a><!--\n",
            "\t\t\t\t--><a href=\"#00:00:048.76\" id=\"48.8\" class=\"lt\" onclick=\"jumptoTime(48, this.id)\"> the</a><!--\n",
            "\t\t\t\t--><a href=\"#00:00:048.98\" id=\"49.0\" class=\"lt\" onclick=\"jumptoTime(48, this.id)\"> war.</a><!--\n",
            "\t\t\t\t--><a href=\"#00:00:049.60\" id=\"49.6\" class=\"lt\" onclick=\"jumptoTime(49, this.id)\"> And</a><!--\n",
            "\t\t\t\t--><a href=\"#00:00:050.18\" id=\"50.2\" class=\"lt\" onclick=\"jumptoTime(50, this.id)\"> they'd</a><!--\n",
            "\t\t\t\t--><a href=\"#00:00:050.96\" id=\"51.0\" class=\"lt\" onclick=\"jumptoTime(50, this.id)\"> gone</a><!--\n",
            "\t\t\t\t--><a href=\"#00:00:051.24\" id=\"51.2\" class=\"lt\" onclick=\"jumptoTime(51, this.id)\"> to</a><!--\n",
            "\t\t\t\t--><a href=\"#00:00:051.56\" id=\"51.6\" class=\"lt\" onclick=\"jumptoTime(51, this.id)\"> do</a><!--\n",
            "\t\t\t\t--><a href=\"#00:00:053.48\" id=\"53.4\" class=\"lt\" onclick=\"jumptoTime(53, this.id)\"> radar</a><!--\n",
            "\t\t\t\t--><a href=\"#00:00:053.88\" id=\"53.8\" class=\"lt\" onclick=\"jumptoTime(53, this.id)\"> or</a><!--\n",
            "\t\t\t\t--><a href=\"#00:00:054.62\" id=\"54.6\" class=\"lt\" onclick=\"jumptoTime(54, this.id)\"> cryptoanalysis</a><!--\n",
            "\t\t\t\t--><a href=\"#00:00:056.94\" id=\"57.0\" class=\"lt\" onclick=\"jumptoTime(56, this.id)\"> or</a><!--\n",
            "\t\t\t\t--><a href=\"#00:00:057.18\" id=\"57.2\" class=\"lt\" onclick=\"jumptoTime(57, this.id)\"> various</a><!--\n",
            "\t\t\t\t--><a href=\"#00:00:057.46\" id=\"57.4\" class=\"lt\" onclick=\"jumptoTime(57, this.id)\"> other</a><!--\n",
            "\t\t\t\t--><a href=\"#00:00:057.72\" id=\"57.8\" class=\"lt\" onclick=\"jumptoTime(57, this.id)\"> things.</a><!--\n",
            "\t\t\t\t--><a href=\"#00:00:059.06\" id=\"59.0\" class=\"lt\" onclick=\"jumptoTime(59, this.id)\"> So</a><!--\n",
            "\t\t\t\t--><a href=\"#00:00:059.54\" id=\"59.6\" class=\"lt\" onclick=\"jumptoTime(59, this.id)\"> they'd</a><!--\n",
            "\t\t\t\t--><a href=\"#00:00:059.84\" id=\"59.8\" class=\"lt\" onclick=\"jumptoTime(59, this.id)\"> all</a><!--\n",
            "\t\t\t\t--><a href=\"#00:00:059.98\" id=\"60.0\" class=\"lt\" onclick=\"jumptoTime(59, this.id)\"> disappeared.</a><!--\n",
            "\t\t\t\t--><a href=\"#00:01:000.66\" id=\"60.6\" class=\"lt\" onclick=\"jumptoTime(60, this.id)\"> And</a><!--\n",
            "\t\t\t\t--><a href=\"#00:01:000.86\" id=\"60.8\" class=\"lt\" onclick=\"jumptoTime(60, this.id)\"> all</a><!--\n",
            "\t\t\t\t--><a href=\"#00:01:001.32\" id=\"61.4\" class=\"lt\" onclick=\"jumptoTime(61, this.id)\"> that</a><!--\n",
            "\t\t\t\t--><a href=\"#00:01:001.42\" id=\"61.4\" class=\"lt\" onclick=\"jumptoTime(61, this.id)\"> was</a><!--\n",
            "\t\t\t\t--><a href=\"#00:01:001.56\" id=\"61.6\" class=\"lt\" onclick=\"jumptoTime(61, this.id)\"> left</a><!--\n",
            "\t\t\t\t--><a href=\"#00:01:001.78\" id=\"61.8\" class=\"lt\" onclick=\"jumptoTime(61, this.id)\"> was</a><!--\n",
            "\t\t\t\t--><a href=\"#00:01:002.00\" id=\"62.0\" class=\"lt\" onclick=\"jumptoTime(62, this.id)\"> the</a><!--\n",
            "\t\t\t\t--><a href=\"#00:01:002.20\" id=\"62.2\" class=\"lt\" onclick=\"jumptoTime(62, this.id)\"> pure</a><!--\n",
            "\t\t\t\t--><a href=\"#00:01:002.38\" id=\"62.4\" class=\"lt\" onclick=\"jumptoTime(62, this.id)\"> mathematicians.</a><!--\n",
            "\t\t\t\t--><a href=\"#00:01:003.46\" id=\"63.4\" class=\"lt\" onclick=\"jumptoTime(63, this.id)\"> So</a><!--\n",
            "\t\t\t\t--><a href=\"#00:01:003.70\" id=\"63.6\" class=\"lt\" onclick=\"jumptoTime(63, this.id)\"> I</a><!--\n",
            "\t\t\t\t--><a href=\"#00:01:003.86\" id=\"63.8\" class=\"lt\" onclick=\"jumptoTime(63, this.id)\"> just</a><!--\n",
            "\t\t\t\t--><a href=\"#00:01:004.08\" id=\"64.0\" class=\"lt\" onclick=\"jumptoTime(64, this.id)\"> had</a><!--\n",
            "\t\t\t\t--><a href=\"#00:01:004.32\" id=\"64.4\" class=\"lt\" onclick=\"jumptoTime(64, this.id)\"> a</a><!--\n",
            "\t\t\t\t--><a href=\"#00:01:004.46\" id=\"64.4\" class=\"lt\" onclick=\"jumptoTime(64, this.id)\"> wonderful</a><!--\n",
            "\t\t\t\t--><a href=\"#00:01:004.92\" id=\"65.0\" class=\"lt\" onclick=\"jumptoTime(64, this.id)\"> feast</a><!--\n",
            "\t\t\t\t--><a href=\"#00:01:005.38\" id=\"65.4\" class=\"lt\" onclick=\"jumptoTime(65, this.id)\"> of</a><!--\n",
            "\t\t\t\t--><a href=\"#00:01:005.58\" id=\"65.6\" class=\"lt\" onclick=\"jumptoTime(65, this.id)\"> pure</a><!--\n",
            "\t\t\t\t--><a href=\"#00:01:005.76\" id=\"65.8\" class=\"lt\" onclick=\"jumptoTime(65, this.id)\"> mathematics</a><!--\n",
            "\t\t\t\t--><a href=\"#00:01:006.24\" id=\"66.2\" class=\"lt\" onclick=\"jumptoTime(66, this.id)\"> for</a><!--\n",
            "\t\t\t\t--><a href=\"#00:01:006.68\" id=\"66.6\" class=\"lt\" onclick=\"jumptoTime(66, this.id)\"> the</a><!--\n",
            "\t\t\t\t--><a href=\"#00:01:006.86\" id=\"66.8\" class=\"lt\" onclick=\"jumptoTime(66, this.id)\"> two</a><!--\n",
            "\t\t\t\t--><a href=\"#00:01:007.00\" id=\"67.0\" class=\"lt\" onclick=\"jumptoTime(67, this.id)\"> years</a><!--\n",
            "\t\t\t\t--><a href=\"#00:01:007.30\" id=\"67.2\" class=\"lt\" onclick=\"jumptoTime(67, this.id)\"> that</a><!--\n",
            "\t\t\t\t--><a href=\"#00:01:007.48\" id=\"67.4\" class=\"lt\" onclick=\"jumptoTime(67, this.id)\"> I</a><!--\n",
            "\t\t\t\t--><a href=\"#00:01:007.64\" id=\"67.6\" class=\"lt\" onclick=\"jumptoTime(67, this.id)\"> was</a><!--\n",
            "\t\t\t\t--><a href=\"#00:01:007.76\" id=\"67.8\" class=\"lt\" onclick=\"jumptoTime(67, this.id)\"> in</a><!--\n",
            "\t\t\t\t--><a href=\"#00:01:007.94\" id=\"68.0\" class=\"lt\" onclick=\"jumptoTime(67, this.id)\"> Cambridge.</a><!--\n",
            "\t\t\t\t--><a href=\"#00:01:009.38\" id=\"69.4\" class=\"lt\" onclick=\"jumptoTime(69, this.id)\"> And</a><!--\n",
            "\t\t\t\t--><a href=\"#00:01:009.72\" id=\"69.8\" class=\"lt\" onclick=\"jumptoTime(69, this.id)\"> I</a><!--\n",
            "\t\t\t\t--><a href=\"#00:01:010.68\" id=\"70.6\" class=\"lt\" onclick=\"jumptoTime(70, this.id)\"> had</a><!--\n",
            "\t\t\t\t--><a href=\"#00:01:010.90\" id=\"70.8\" class=\"lt\" onclick=\"jumptoTime(70, this.id)\"> the</a><!--\n",
            "\t\t\t\t--><a href=\"#00:01:011.04\" id=\"71.0\" class=\"lt\" onclick=\"jumptoTime(71, this.id)\"> great</a><!--\n",
            "\t\t\t\t--><a href=\"#00:01:011.22\" id=\"71.2\" class=\"lt\" onclick=\"jumptoTime(71, this.id)\"> luck</a><!--\n",
            "\t\t\t\t--><a href=\"#00:01:011.52\" id=\"71.6\" class=\"lt\" onclick=\"jumptoTime(71, this.id)\"> to</a><!--\n",
            "\t\t\t\t--><a href=\"#00:01:011.72\" id=\"71.8\" class=\"lt\" onclick=\"jumptoTime(71, this.id)\"> have</a><!--\n",
            "\t\t\t\t--><a href=\"#00:01:011.96\" id=\"72.0\" class=\"lt\" onclick=\"jumptoTime(71, this.id)\"> Bezikovic</a><!--\n",
            "\t\t\t\t--><a href=\"#00:01:012.86\" id=\"72.8\" class=\"lt\" onclick=\"jumptoTime(72, this.id)\"> as</a><!--\n",
            "\t\t\t\t--><a href=\"#00:01:013.04\" id=\"73.0\" class=\"lt\" onclick=\"jumptoTime(73, this.id)\"> my</a><!--\n",
            "\t\t\t\t--><a href=\"#00:01:013.24\" id=\"73.2\" class=\"lt\" onclick=\"jumptoTime(73, this.id)\"> tutor,</a><!--\n",
            "\t\t\t\t--><a href=\"#00:01:014.30\" id=\"74.4\" class=\"lt\" onclick=\"jumptoTime(74, this.id)\"> who</a><!--\n",
            "\t\t\t\t--><a href=\"#00:01:014.74\" id=\"74.8\" class=\"lt\" onclick=\"jumptoTime(74, this.id)\"> was</a><!--\n",
            "\t\t\t\t--><a href=\"#00:01:014.92\" id=\"75.0\" class=\"lt\" onclick=\"jumptoTime(74, this.id)\"> a</a><!--\n",
            "\t\t\t\t--><a href=\"#00:01:015.04\" id=\"75.0\" class=\"lt\" onclick=\"jumptoTime(75, this.id)\"> great</a><!--\n",
            "\t\t\t\t--><a href=\"#00:01:015.24\" id=\"75.2\" class=\"lt\" onclick=\"jumptoTime(75, this.id)\"> mathematician,</a><!--\n",
            "\t\t\t\t--><a href=\"#00:01:016.14\" id=\"76.2\" class=\"lt\" onclick=\"jumptoTime(76, this.id)\"> as</a><!--\n",
            "\t\t\t\t--><a href=\"#00:01:016.18\" id=\"76.2\" class=\"lt\" onclick=\"jumptoTime(76, this.id)\"> well</a><!--\n",
            "\t\t\t\t--><a href=\"#00:01:016.36\" id=\"76.4\" class=\"lt\" onclick=\"jumptoTime(76, this.id)\"> as</a><!--\n",
            "\t\t\t\t--><a href=\"#00:01:016.52\" id=\"76.6\" class=\"lt\" onclick=\"jumptoTime(76, this.id)\"> being</a><!--\n",
            "\t\t\t\t--><a href=\"#00:01:016.86\" id=\"76.8\" class=\"lt\" onclick=\"jumptoTime(76, this.id)\"> also</a><!--\n",
            "\t\t\t\t--><a href=\"#00:01:017.44\" id=\"77.4\" class=\"lt\" onclick=\"jumptoTime(77, this.id)\"> a</a><!--\n",
            "\t\t\t\t--><a href=\"#00:01:019.60\" id=\"79.6\" class=\"lt\" onclick=\"jumptoTime(79, this.id)\"> Russian,</a><!--\n",
            "\t\t\t\t--><a href=\"#00:01:020.04\" id=\"80.0\" class=\"lt\" onclick=\"jumptoTime(80, this.id)\"> so</a><!--\n",
            "\t\t\t\t--><a href=\"#00:01:020.16\" id=\"80.2\" class=\"lt\" onclick=\"jumptoTime(80, this.id)\"> I</a><!--\n",
            "\t\t\t\t--><a href=\"#00:01:020.34\" id=\"80.4\" class=\"lt\" onclick=\"jumptoTime(80, this.id)\"> could</a><!--\n",
            "\t\t\t\t--><a href=\"#00:01:020.50\" id=\"80.4\" class=\"lt\" onclick=\"jumptoTime(80, this.id)\"> talk</a><!--\n",
            "\t\t\t\t--><a href=\"#00:01:020.72\" id=\"80.8\" class=\"lt\" onclick=\"jumptoTime(80, this.id)\"> Russian</a><!--\n",
            "\t\t\t\t--><a href=\"#00:01:020.98\" id=\"81.0\" class=\"lt\" onclick=\"jumptoTime(80, this.id)\"> with</a><!--\n",
            "\t\t\t\t--><a href=\"#00:01:021.22\" id=\"81.2\" class=\"lt\" onclick=\"jumptoTime(81, this.id)\"> him.</a><!--\n",
            "\t\t\t\t--><a href=\"#00:01:022.10\" id=\"82.0\" class=\"lt\" onclick=\"jumptoTime(82, this.id)\"> And</a><!--\n",
            "\t\t\t\t--><a href=\"#00:01:022.44\" id=\"82.4\" class=\"lt\" onclick=\"jumptoTime(82, this.id)\"> we</a><!--\n",
            "\t\t\t\t--><a href=\"#00:01:022.54\" id=\"82.6\" class=\"lt\" onclick=\"jumptoTime(82, this.id)\"> became</a><!--\n",
            "\t\t\t\t--><a href=\"#00:01:022.84\" id=\"82.8\" class=\"lt\" onclick=\"jumptoTime(82, this.id)\"> very</a><!--\n",
            "\t\t\t\t--><a href=\"#00:01:023.10\" id=\"83.2\" class=\"lt\" onclick=\"jumptoTime(83, this.id)\"> close</a><!--\n",
            "\t\t\t\t--><a href=\"#00:01:023.36\" id=\"83.4\" class=\"lt\" onclick=\"jumptoTime(83, this.id)\"> friends.</a><!--\n",
            "\t\t\t\t--><a href=\"#00:01:024.72\" id=\"84.8\" class=\"lt\" onclick=\"jumptoTime(84, this.id)\"> And</a><!--\n",
            "\t\t\t\t--><a href=\"#00:01:025.24\" id=\"85.2\" class=\"lt\" onclick=\"jumptoTime(85, this.id)\"> so</a><!--\n",
            "\t\t\t\t--><a href=\"#00:01:025.60\" id=\"85.6\" class=\"lt\" onclick=\"jumptoTime(85, this.id)\"> with</a><!--\n",
            "\t\t\t\t--><a href=\"#00:01:027.12\" id=\"87.2\" class=\"lt\" onclick=\"jumptoTime(87, this.id)\"> him,</a><!--\n",
            "\t\t\t\t--><a href=\"#00:01:027.42\" id=\"87.4\" class=\"lt\" onclick=\"jumptoTime(87, this.id)\"> I</a><!--\n",
            "\t\t\t\t--><a href=\"#00:01:027.56\" id=\"87.6\" class=\"lt\" onclick=\"jumptoTime(87, this.id)\"> actually</a><!--\n",
            "\t\t\t\t--><a href=\"#00:01:027.86\" id=\"87.8\" class=\"lt\" onclick=\"jumptoTime(87, this.id)\"> did</a><!--\n",
            "\t\t\t\t--><a href=\"#00:01:028.12\" id=\"88.2\" class=\"lt\" onclick=\"jumptoTime(88, this.id)\"> serious</a><!--\n",
            "\t\t\t\t--><a href=\"#00:01:028.58\" id=\"88.6\" class=\"lt\" onclick=\"jumptoTime(88, this.id)\"> mathematics.</a><!--\n",
            "\t\t\t\t--><a href=\"#00:01:030.78\" id=\"90.8\" class=\"lt\" onclick=\"jumptoTime(90, this.id)\"> And</a><!--\n",
            "\t\t\t\t--><a href=\"#00:01:030.84\" id=\"90.8\" class=\"lt\" onclick=\"jumptoTime(90, this.id)\"> I</a><!--\n",
            "\t\t\t\t--><a href=\"#00:01:030.98\" id=\"91.0\" class=\"lt\" onclick=\"jumptoTime(90, this.id)\"> got,</a><!--\n",
            "\t\t\t\t--><a href=\"#00:01:033.16\" id=\"93.2\" class=\"lt\" onclick=\"jumptoTime(93, this.id)\"> again,</a><!--\n",
            "\t\t\t\t--><a href=\"#00:01:034.94\" id=\"95.0\" class=\"lt\" onclick=\"jumptoTime(94, this.id)\"> deep</a><!--\n",
            "\t\t\t\t--><a href=\"#00:01:037.80\" id=\"97.8\" class=\"lt\" onclick=\"jumptoTime(97, this.id)\"> into</a><!--\n",
            "\t\t\t\t--><a href=\"#00:01:038.06\" id=\"98.0\" class=\"lt\" onclick=\"jumptoTime(98, this.id)\"> problems</a><!--\n",
            "\t\t\t\t--><a href=\"#00:01:038.68\" id=\"98.6\" class=\"lt\" onclick=\"jumptoTime(98, this.id)\"> which</a><!--\n",
            "\t\t\t\t--><a href=\"#00:01:040.70\" id=\"100.8\" class=\"lt\" onclick=\"jumptoTime(100, this.id)\"> I</a><!--\n",
            "\t\t\t\t--><a href=\"#00:01:040.82\" id=\"100.8\" class=\"lt\" onclick=\"jumptoTime(100, this.id)\"> never</a><!--\n",
            "\t\t\t\t--><a href=\"#00:01:041.00\" id=\"101.0\" class=\"lt\" onclick=\"jumptoTime(101, this.id)\"> solved</a><!--\n",
            "\t\t\t\t--><a href=\"#00:01:041.46\" id=\"101.4\" class=\"lt\" onclick=\"jumptoTime(101, this.id)\"> but</a><!--\n",
            "\t\t\t\t--><a href=\"#00:01:041.66\" id=\"101.6\" class=\"lt\" onclick=\"jumptoTime(101, this.id)\"> which</a><!--\n",
            "\t\t\t\t--><a href=\"#00:01:041.88\" id=\"101.8\" class=\"lt\" onclick=\"jumptoTime(101, this.id)\"> gave</a><!--\n",
            "\t\t\t\t--><a href=\"#00:01:042.10\" id=\"102.0\" class=\"lt\" onclick=\"jumptoTime(102, this.id)\"> me</a><!--\n",
            "\t\t\t\t--><a href=\"#00:01:042.22\" id=\"102.2\" class=\"lt\" onclick=\"jumptoTime(102, this.id)\"> enormous</a><!--\n",
            "\t\t\t\t--><a href=\"#00:01:042.54\" id=\"102.6\" class=\"lt\" onclick=\"jumptoTime(102, this.id)\"> satisfaction.</a><!--\n",
            "\t\t\t\t--><a href=\"#00:01:044.74\" id=\"104.8\" class=\"lt\" onclick=\"jumptoTime(104, this.id)\"> I</a><!--\n",
            "\t\t\t\t--><a href=\"#00:01:045.52\" id=\"105.6\" class=\"lt\" onclick=\"jumptoTime(105, this.id)\"> remember</a><!--\n",
            "\t\t\t\t--><a href=\"#00:01:045.88\" id=\"105.8\" class=\"lt\" onclick=\"jumptoTime(105, this.id)\"> Bezikovic</a><!--\n",
            "\t\t\t\t--><a href=\"#00:01:046.54\" id=\"106.6\" class=\"lt\" onclick=\"jumptoTime(106, this.id)\"> gave</a><!--\n",
            "\t\t\t\t--><a href=\"#00:01:046.78\" id=\"106.8\" class=\"lt\" onclick=\"jumptoTime(106, this.id)\"> me</a><!--\n",
            "\t\t\t\t--><a href=\"#00:01:047.02\" id=\"107.0\" class=\"lt\" onclick=\"jumptoTime(107, this.id)\"> problems</a><!--\n",
            "\t\t\t\t--><a href=\"#00:01:048.74\" id=\"108.8\" class=\"lt\" onclick=\"jumptoTime(108, this.id)\"> which</a><!--\n",
            "\t\t\t\t--><a href=\"#00:01:049.00\" id=\"109.0\" class=\"lt\" onclick=\"jumptoTime(109, this.id)\"> would</a><!--\n",
            "\t\t\t\t--><a href=\"#00:01:049.24\" id=\"109.2\" class=\"lt\" onclick=\"jumptoTime(109, this.id)\"> have</a><!--\n",
            "\t\t\t\t--><a href=\"#00:01:049.40\" id=\"109.4\" class=\"lt\" onclick=\"jumptoTime(109, this.id)\"> been</a><!--\n",
            "\t\t\t\t--><a href=\"#00:01:049.58\" id=\"109.6\" class=\"lt\" onclick=\"jumptoTime(109, this.id)\"> too</a><!--\n",
            "\t\t\t\t--><a href=\"#00:01:049.82\" id=\"109.8\" class=\"lt\" onclick=\"jumptoTime(109, this.id)\"> hard</a><!--\n",
            "\t\t\t\t--><a href=\"#00:01:050.08\" id=\"110.0\" class=\"lt\" onclick=\"jumptoTime(110, this.id)\"> for</a><!--\n",
            "\t\t\t\t--><a href=\"#00:01:050.26\" id=\"110.2\" class=\"lt\" onclick=\"jumptoTime(110, this.id)\"> a</a><!--\n",
            "\t\t\t\t--><a href=\"#00:01:050.38\" id=\"110.4\" class=\"lt\" onclick=\"jumptoTime(110, this.id)\"> graduate</a><!--\n",
            "\t\t\t\t--><a href=\"#00:01:050.62\" id=\"110.6\" class=\"lt\" onclick=\"jumptoTime(110, this.id)\"> student.</a><!--\n",
            "\t\t\t\t--><a href=\"#00:01:052.62\" id=\"112.6\" class=\"lt\" onclick=\"jumptoTime(112, this.id)\"> But</a><!--\n",
            "\t\t\t\t--><a href=\"#00:01:053.04\" id=\"113.0\" class=\"lt\" onclick=\"jumptoTime(113, this.id)\"> nevertheless,</a><!--\n",
            "\t\t\t\t--><a href=\"#00:01:053.46\" id=\"113.4\" class=\"lt\" onclick=\"jumptoTime(113, this.id)\"> they</a><!--\n",
            "\t\t\t\t--><a href=\"#00:01:053.56\" id=\"113.6\" class=\"lt\" onclick=\"jumptoTime(113, this.id)\"> taught</a><!--\n",
            "\t\t\t\t--><a href=\"#00:01:053.80\" id=\"113.8\" class=\"lt\" onclick=\"jumptoTime(113, this.id)\"> me</a><!--\n",
            "\t\t\t\t--><a href=\"#00:01:053.96\" id=\"114.0\" class=\"lt\" onclick=\"jumptoTime(113, this.id)\"> a</a><!--\n",
            "\t\t\t\t--><a href=\"#00:01:054.06\" id=\"114.0\" class=\"lt\" onclick=\"jumptoTime(114, this.id)\"> tremendous</a><!--\n",
            "\t\t\t\t--><a href=\"#00:01:054.44\" id=\"114.4\" class=\"lt\" onclick=\"jumptoTime(114, this.id)\"> lot.</a><!--\n",
            "\t\t\t\t--></p>\n",
            "</div>\n",
            "<div class=\"e\" style=\"background-color: #e1ffc7\">\n",
            "<p  style=\"margin:0;padding: 5px 10px 10px 10px;word-wrap:normal;white-space:normal;\">\n",
            "<span style=\"color:darkgreen;font-weight: bold;\">Interviewer</span><br>\n",
            "\t\t\t\t<a href=\"#00:01:055.95\" id=\"116.0\" class=\"lt\" onclick=\"jumptoTime(115, this.id)\"> And</a><!--\n",
            "\t\t\t\t--><a href=\"#00:01:056.75\" id=\"116.8\" class=\"lt\" onclick=\"jumptoTime(116, this.id)\"> he</a><!--\n",
            "\t\t\t\t--><a href=\"#00:01:057.17\" id=\"117.2\" class=\"lt\" onclick=\"jumptoTime(117, this.id)\"> was</a><!--\n",
            "\t\t\t\t--><a href=\"#00:01:057.39\" id=\"117.4\" class=\"lt\" onclick=\"jumptoTime(117, this.id)\"> primarily</a><!--\n",
            "\t\t\t\t--><a href=\"#00:01:058.01\" id=\"118.0\" class=\"lt\" onclick=\"jumptoTime(118, this.id)\"> interested</a><!--\n",
            "\t\t\t\t--><a href=\"#00:01:058.91\" id=\"119.0\" class=\"lt\" onclick=\"jumptoTime(118, this.id)\"> in</a><!--\n",
            "\t\t\t\t--><a href=\"#00:01:059.17\" id=\"119.2\" class=\"lt\" onclick=\"jumptoTime(119, this.id)\"> measure</a><!--\n",
            "\t\t\t\t--><a href=\"#00:01:059.41\" id=\"119.4\" class=\"lt\" onclick=\"jumptoTime(119, this.id)\"> theory</a><!--\n",
            "\t\t\t\t--><a href=\"#00:01:059.99\" id=\"120.0\" class=\"lt\" onclick=\"jumptoTime(119, this.id)\"> and</a><!--\n",
            "\t\t\t\t--><a href=\"#00:02:000.47\" id=\"120.4\" class=\"lt\" onclick=\"jumptoTime(120, this.id)\"> such</a><!--\n",
            "\t\t\t\t--><a href=\"#00:02:001.09\" id=\"121.0\" class=\"lt\" onclick=\"jumptoTime(121, this.id)\"> problems?</a><!--\n",
            "\t\t\t\t--></p>\n",
            "</div>\n",
            "<div class=\"e\" style=\"background-color: white\">\n",
            "<p  style=\"margin:0;padding: 5px 10px 10px 10px;word-wrap:normal;white-space:normal;\">\n",
            "<span style=\"color:darkorange;font-weight: bold;\">Dyson</span><br>\n",
            "\t\t\t\t<a href=\"#00:02:001.72\" id=\"121.8\" class=\"lt\" onclick=\"jumptoTime(121, this.id)\"> Yes,</a><!--\n",
            "\t\t\t\t--><a href=\"#00:02:002.00\" id=\"122.0\" class=\"lt\" onclick=\"jumptoTime(121, this.id)\"> he</a><!--\n",
            "\t\t\t\t--><a href=\"#00:02:002.10\" id=\"122.0\" class=\"lt\" onclick=\"jumptoTime(122, this.id)\"> was</a><!--\n",
            "\t\t\t\t--><a href=\"#00:02:002.26\" id=\"122.2\" class=\"lt\" onclick=\"jumptoTime(122, this.id)\"> also</a><!--\n",
            "\t\t\t\t--><a href=\"#00:02:002.70\" id=\"122.6\" class=\"lt\" onclick=\"jumptoTime(122, this.id)\"> geometry,</a><!--\n",
            "\t\t\t\t--><a href=\"#00:02:003.72\" id=\"123.8\" class=\"lt\" onclick=\"jumptoTime(123, this.id)\"> but</a><!--\n",
            "\t\t\t\t--><a href=\"#00:02:004.14\" id=\"124.2\" class=\"lt\" onclick=\"jumptoTime(124, this.id)\"> it</a><!--\n",
            "\t\t\t\t--><a href=\"#00:02:004.40\" id=\"124.4\" class=\"lt\" onclick=\"jumptoTime(124, this.id)\"> was</a><!--\n",
            "\t\t\t\t--><a href=\"#00:02:004.52\" id=\"124.6\" class=\"lt\" onclick=\"jumptoTime(124, this.id)\"> metrical</a><!--\n",
            "\t\t\t\t--><a href=\"#00:02:004.92\" id=\"125.0\" class=\"lt\" onclick=\"jumptoTime(124, this.id)\"> geometry</a><!--\n",
            "\t\t\t\t--><a href=\"#00:02:005.42\" id=\"125.4\" class=\"lt\" onclick=\"jumptoTime(125, this.id)\"> rather</a><!--\n",
            "\t\t\t\t--><a href=\"#00:02:005.78\" id=\"125.8\" class=\"lt\" onclick=\"jumptoTime(125, this.id)\"> than</a><!--\n",
            "\t\t\t\t--><a href=\"#00:02:006.04\" id=\"126.0\" class=\"lt\" onclick=\"jumptoTime(126, this.id)\"> algebraic.</a><!--\n",
            "\t\t\t\t--><a href=\"#00:02:008.62\" id=\"128.6\" class=\"lt\" onclick=\"jumptoTime(128, this.id)\"> But</a><!--\n",
            "\t\t\t\t--><a href=\"#00:02:008.90\" id=\"128.8\" class=\"lt\" onclick=\"jumptoTime(128, this.id)\"> the</a><!--\n",
            "\t\t\t\t--><a href=\"#00:02:009.44\" id=\"129.4\" class=\"lt\" onclick=\"jumptoTime(129, this.id)\"> kind</a><!--\n",
            "\t\t\t\t--><a href=\"#00:02:009.66\" id=\"129.6\" class=\"lt\" onclick=\"jumptoTime(129, this.id)\"> of</a><!--\n",
            "\t\t\t\t--><a href=\"#00:02:009.76\" id=\"129.8\" class=\"lt\" onclick=\"jumptoTime(129, this.id)\"> problem</a><!--\n",
            "\t\t\t\t--><a href=\"#00:02:010.06\" id=\"130.0\" class=\"lt\" onclick=\"jumptoTime(130, this.id)\"> he</a><!--\n",
            "\t\t\t\t--><a href=\"#00:02:010.26\" id=\"130.2\" class=\"lt\" onclick=\"jumptoTime(130, this.id)\"> gave</a><!--\n",
            "\t\t\t\t--><a href=\"#00:02:010.56\" id=\"130.6\" class=\"lt\" onclick=\"jumptoTime(130, this.id)\"> to</a><!--\n",
            "\t\t\t\t--><a href=\"#00:02:010.76\" id=\"130.8\" class=\"lt\" onclick=\"jumptoTime(130, this.id)\"> me</a><!--\n",
            "\t\t\t\t--><a href=\"#00:02:010.98\" id=\"131.0\" class=\"lt\" onclick=\"jumptoTime(130, this.id)\"> was</a><!--\n",
            "\t\t\t\t--><a href=\"#00:02:011.26\" id=\"131.2\" class=\"lt\" onclick=\"jumptoTime(131, this.id)\"> to</a><!--\n",
            "\t\t\t\t--><a href=\"#00:02:012.36\" id=\"132.4\" class=\"lt\" onclick=\"jumptoTime(132, this.id)\"> understand</a><!--\n",
            "\t\t\t\t--><a href=\"#00:02:014.76\" id=\"134.8\" class=\"lt\" onclick=\"jumptoTime(134, this.id)\"> the</a><!--\n",
            "\t\t\t\t--><a href=\"#00:02:015.06\" id=\"135.0\" class=\"lt\" onclick=\"jumptoTime(135, this.id)\"> properties</a><!--\n",
            "\t\t\t\t--><a href=\"#00:02:017.02\" id=\"137.0\" class=\"lt\" onclick=\"jumptoTime(137, this.id)\"> of</a><!--\n",
            "\t\t\t\t--><a href=\"#00:02:017.32\" id=\"137.4\" class=\"lt\" onclick=\"jumptoTime(137, this.id)\"> measurable</a><!--\n",
            "\t\t\t\t--><a href=\"#00:02:017.74\" id=\"137.8\" class=\"lt\" onclick=\"jumptoTime(137, this.id)\"> sets</a><!--\n",
            "\t\t\t\t--><a href=\"#00:02:018.18\" id=\"138.2\" class=\"lt\" onclick=\"jumptoTime(138, this.id)\"> in</a><!--\n",
            "\t\t\t\t--><a href=\"#00:02:018.42\" id=\"138.4\" class=\"lt\" onclick=\"jumptoTime(138, this.id)\"> fractional</a><!--\n",
            "\t\t\t\t--><a href=\"#00:02:018.86\" id=\"138.8\" class=\"lt\" onclick=\"jumptoTime(138, this.id)\"> dimensions.</a><!--\n",
            "\t\t\t\t--><a href=\"#00:02:021.50\" id=\"141.4\" class=\"lt\" onclick=\"jumptoTime(141, this.id)\"> It's</a><!--\n",
            "\t\t\t\t--><a href=\"#00:02:023.12\" id=\"143.2\" class=\"lt\" onclick=\"jumptoTime(143, this.id)\"> hard</a><!--\n",
            "\t\t\t\t--><a href=\"#00:02:023.34\" id=\"143.4\" class=\"lt\" onclick=\"jumptoTime(143, this.id)\"> enough</a><!--\n",
            "\t\t\t\t--><a href=\"#00:02:023.64\" id=\"143.6\" class=\"lt\" onclick=\"jumptoTime(143, this.id)\"> in</a><!--\n",
            "\t\t\t\t--><a href=\"#00:02:023.82\" id=\"143.8\" class=\"lt\" onclick=\"jumptoTime(143, this.id)\"> one</a><!--\n",
            "\t\t\t\t--><a href=\"#00:02:024.06\" id=\"144.0\" class=\"lt\" onclick=\"jumptoTime(144, this.id)\"> dimension</a><!--\n",
            "\t\t\t\t--><a href=\"#00:02:024.44\" id=\"144.4\" class=\"lt\" onclick=\"jumptoTime(144, this.id)\"> or</a><!--\n",
            "\t\t\t\t--><a href=\"#00:02:024.68\" id=\"144.6\" class=\"lt\" onclick=\"jumptoTime(144, this.id)\"> two,</a><!--\n",
            "\t\t\t\t--><a href=\"#00:02:025.02\" id=\"145.0\" class=\"lt\" onclick=\"jumptoTime(145, this.id)\"> but</a><!--\n",
            "\t\t\t\t--><a href=\"#00:02:025.24\" id=\"145.2\" class=\"lt\" onclick=\"jumptoTime(145, this.id)\"> when</a><!--\n",
            "\t\t\t\t--><a href=\"#00:02:026.16\" id=\"146.2\" class=\"lt\" onclick=\"jumptoTime(146, this.id)\"> you</a><!--\n",
            "\t\t\t\t--><a href=\"#00:02:026.30\" id=\"146.2\" class=\"lt\" onclick=\"jumptoTime(146, this.id)\"> come</a><!--\n",
            "\t\t\t\t--><a href=\"#00:02:026.50\" id=\"146.4\" class=\"lt\" onclick=\"jumptoTime(146, this.id)\"> to</a><!--\n",
            "\t\t\t\t--><a href=\"#00:02:026.66\" id=\"146.6\" class=\"lt\" onclick=\"jumptoTime(146, this.id)\"> fractional</a><!--\n",
            "\t\t\t\t--><a href=\"#00:02:027.04\" id=\"147.0\" class=\"lt\" onclick=\"jumptoTime(147, this.id)\"> dimensions,</a><!--\n",
            "\t\t\t\t--><a href=\"#00:02:027.62\" id=\"147.6\" class=\"lt\" onclick=\"jumptoTime(147, this.id)\"> it</a><!--\n",
            "\t\t\t\t--><a href=\"#00:02:027.74\" id=\"147.8\" class=\"lt\" onclick=\"jumptoTime(147, this.id)\"> gets</a><!--\n",
            "\t\t\t\t--><a href=\"#00:02:028.00\" id=\"148.0\" class=\"lt\" onclick=\"jumptoTime(147, this.id)\"> worse.</a><!--\n",
            "\t\t\t\t--><a href=\"#00:02:030.14\" id=\"150.2\" class=\"lt\" onclick=\"jumptoTime(150, this.id)\"> I</a><!--\n",
            "\t\t\t\t--><a href=\"#00:02:030.64\" id=\"150.6\" class=\"lt\" onclick=\"jumptoTime(150, this.id)\"> had</a><!--\n",
            "\t\t\t\t--><a href=\"#00:02:031.06\" id=\"151.0\" class=\"lt\" onclick=\"jumptoTime(151, this.id)\"> a</a><!--\n",
            "\t\t\t\t--><a href=\"#00:02:031.14\" id=\"151.2\" class=\"lt\" onclick=\"jumptoTime(151, this.id)\"> great</a><!--\n",
            "\t\t\t\t--><a href=\"#00:02:031.32\" id=\"151.4\" class=\"lt\" onclick=\"jumptoTime(151, this.id)\"> time</a><!--\n",
            "\t\t\t\t--><a href=\"#00:02:031.62\" id=\"151.6\" class=\"lt\" onclick=\"jumptoTime(151, this.id)\"> struggling</a><!--\n",
            "\t\t\t\t--><a href=\"#00:02:031.96\" id=\"152.0\" class=\"lt\" onclick=\"jumptoTime(151, this.id)\"> with</a><!--\n",
            "\t\t\t\t--><a href=\"#00:02:032.24\" id=\"152.2\" class=\"lt\" onclick=\"jumptoTime(152, this.id)\"> that,</a><!--\n",
            "\t\t\t\t--><a href=\"#00:02:032.52\" id=\"152.6\" class=\"lt\" onclick=\"jumptoTime(152, this.id)\"> but</a><!--\n",
            "\t\t\t\t--><a href=\"#00:02:032.60\" id=\"152.6\" class=\"lt\" onclick=\"jumptoTime(152, this.id)\"> of</a><!--\n",
            "\t\t\t\t--><a href=\"#00:02:032.80\" id=\"152.8\" class=\"lt\" onclick=\"jumptoTime(152, this.id)\"> course</a><!--\n",
            "\t\t\t\t--><a href=\"#00:02:032.80\" id=\"152.8\" class=\"lt\" onclick=\"jumptoTime(152, this.id)\"> nothing</a><!--\n",
            "\t\t\t\t--><a href=\"#00:02:033.06\" id=\"153.0\" class=\"lt\" onclick=\"jumptoTime(153, this.id)\"> much</a><!--\n",
            "\t\t\t\t--><a href=\"#00:02:033.36\" id=\"153.4\" class=\"lt\" onclick=\"jumptoTime(153, this.id)\"> came</a><!--\n",
            "\t\t\t\t--><a href=\"#00:02:034.44\" id=\"154.4\" class=\"lt\" onclick=\"jumptoTime(154, this.id)\"> out</a><!--\n",
            "\t\t\t\t--><a href=\"#00:02:034.62\" id=\"154.6\" class=\"lt\" onclick=\"jumptoTime(154, this.id)\"> of</a><!--\n",
            "\t\t\t\t--><a href=\"#00:02:034.74\" id=\"154.8\" class=\"lt\" onclick=\"jumptoTime(154, this.id)\"> it</a><!--\n",
            "\t\t\t\t--><a href=\"#00:02:034.98\" id=\"155.0\" class=\"lt\" onclick=\"jumptoTime(154, this.id)\"> except</a><!--\n",
            "\t\t\t\t--><a href=\"#00:02:035.92\" id=\"156.0\" class=\"lt\" onclick=\"jumptoTime(155, this.id)\"> just</a><!--\n",
            "\t\t\t\t--><a href=\"#00:02:036.16\" id=\"156.2\" class=\"lt\" onclick=\"jumptoTime(156, this.id)\"> a</a><!--\n",
            "\t\t\t\t--><a href=\"#00:02:036.62\" id=\"156.6\" class=\"lt\" onclick=\"jumptoTime(156, this.id)\"> taste</a><!--\n",
            "\t\t\t\t--><a href=\"#00:02:036.88\" id=\"156.8\" class=\"lt\" onclick=\"jumptoTime(156, this.id)\"> for</a><!--\n",
            "\t\t\t\t--><a href=\"#00:02:037.12\" id=\"157.2\" class=\"lt\" onclick=\"jumptoTime(157, this.id)\"> his</a><!--\n",
            "\t\t\t\t--><a href=\"#00:02:037.36\" id=\"157.4\" class=\"lt\" onclick=\"jumptoTime(157, this.id)\"> style.</a><!--\n",
            "\t\t\t\t--><a href=\"#00:02:037.96\" id=\"158.0\" class=\"lt\" onclick=\"jumptoTime(157, this.id)\"> Bezikovitch's</a><!--\n",
            "\t\t\t\t--><a href=\"#00:02:039.02\" id=\"159.0\" class=\"lt\" onclick=\"jumptoTime(159, this.id)\"> style</a><!--\n",
            "\t\t\t\t--><a href=\"#00:02:039.38\" id=\"159.4\" class=\"lt\" onclick=\"jumptoTime(159, this.id)\"> has</a><!--\n",
            "\t\t\t\t--><a href=\"#00:02:040.64\" id=\"160.6\" class=\"lt\" onclick=\"jumptoTime(160, this.id)\"> stayed</a><!--\n",
            "\t\t\t\t--><a href=\"#00:02:040.86\" id=\"160.8\" class=\"lt\" onclick=\"jumptoTime(160, this.id)\"> with</a><!--\n",
            "\t\t\t\t--><a href=\"#00:02:041.08\" id=\"161.0\" class=\"lt\" onclick=\"jumptoTime(161, this.id)\"> me</a><!--\n",
            "\t\t\t\t--><a href=\"#00:02:041.22\" id=\"161.2\" class=\"lt\" onclick=\"jumptoTime(161, this.id)\"> all</a><!--\n",
            "\t\t\t\t--><a href=\"#00:02:041.36\" id=\"161.4\" class=\"lt\" onclick=\"jumptoTime(161, this.id)\"> my</a><!--\n",
            "\t\t\t\t--><a href=\"#00:02:041.52\" id=\"161.6\" class=\"lt\" onclick=\"jumptoTime(161, this.id)\"> life,</a><!--\n",
            "\t\t\t\t--><a href=\"#00:02:041.98\" id=\"162.0\" class=\"lt\" onclick=\"jumptoTime(161, this.id)\"> and</a><!--\n",
            "\t\t\t\t--><a href=\"#00:02:042.06\" id=\"162.0\" class=\"lt\" onclick=\"jumptoTime(162, this.id)\"> that's</a><!--\n",
            "\t\t\t\t--><a href=\"#00:02:042.52\" id=\"162.6\" class=\"lt\" onclick=\"jumptoTime(162, this.id)\"> the</a><!--\n",
            "\t\t\t\t--><a href=\"#00:02:042.82\" id=\"162.8\" class=\"lt\" onclick=\"jumptoTime(162, this.id)\"> way</a><!--\n",
            "\t\t\t\t--><a href=\"#00:02:042.98\" id=\"163.0\" class=\"lt\" onclick=\"jumptoTime(162, this.id)\"> I</a><!--\n",
            "\t\t\t\t--><a href=\"#00:02:043.16\" id=\"163.2\" class=\"lt\" onclick=\"jumptoTime(163, this.id)\"> do</a><!--\n",
            "\t\t\t\t--><a href=\"#00:02:043.40\" id=\"163.4\" class=\"lt\" onclick=\"jumptoTime(163, this.id)\"> science</a><!--\n",
            "\t\t\t\t--><a href=\"#00:02:044.68\" id=\"164.6\" class=\"lt\" onclick=\"jumptoTime(164, this.id)\"> in</a><!--\n",
            "\t\t\t\t--><a href=\"#00:02:045.64\" id=\"165.6\" class=\"lt\" onclick=\"jumptoTime(165, this.id)\"> all</a><!--\n",
            "\t\t\t\t--><a href=\"#00:02:045.86\" id=\"165.8\" class=\"lt\" onclick=\"jumptoTime(165, this.id)\"> fields.</a><!--\n",
            "\t\t\t\t--><a href=\"#00:02:047.22\" id=\"167.2\" class=\"lt\" onclick=\"jumptoTime(167, this.id)\"> It's</a><!--\n",
            "\t\t\t\t--><a href=\"#00:02:049.40\" id=\"169.4\" class=\"lt\" onclick=\"jumptoTime(169, this.id)\"> a</a><!--\n",
            "\t\t\t\t--><a href=\"#00:02:049.50\" id=\"169.4\" class=\"lt\" onclick=\"jumptoTime(169, this.id)\"> very</a><!--\n",
            "\t\t\t\t--><a href=\"#00:02:049.64\" id=\"169.6\" class=\"lt\" onclick=\"jumptoTime(169, this.id)\"> distinctive</a><!--\n",
            "\t\t\t\t--><a href=\"#00:02:050.14\" id=\"170.2\" class=\"lt\" onclick=\"jumptoTime(170, this.id)\"> style,</a><!--\n",
            "\t\t\t\t--><a href=\"#00:02:051.76\" id=\"171.8\" class=\"lt\" onclick=\"jumptoTime(171, this.id)\"> which</a><!--\n",
            "\t\t\t\t--><a href=\"#00:02:051.96\" id=\"172.0\" class=\"lt\" onclick=\"jumptoTime(171, this.id)\"> is</a><!--\n",
            "\t\t\t\t--><a href=\"#00:02:052.20\" id=\"172.2\" class=\"lt\" onclick=\"jumptoTime(172, this.id)\"> kind</a><!--\n",
            "\t\t\t\t--><a href=\"#00:02:052.94\" id=\"173.0\" class=\"lt\" onclick=\"jumptoTime(172, this.id)\"> of</a><!--\n",
            "\t\t\t\t--><a href=\"#00:02:053.10\" id=\"173.0\" class=\"lt\" onclick=\"jumptoTime(173, this.id)\"> an</a><!--\n",
            "\t\t\t\t--><a href=\"#00:02:054.72\" id=\"174.8\" class=\"lt\" onclick=\"jumptoTime(174, this.id)\"> architectural</a><!--\n",
            "\t\t\t\t--><a href=\"#00:02:055.20\" id=\"175.2\" class=\"lt\" onclick=\"jumptoTime(175, this.id)\"> style</a><!--\n",
            "\t\t\t\t--><a href=\"#00:02:055.82\" id=\"175.8\" class=\"lt\" onclick=\"jumptoTime(175, this.id)\"> in</a><!--\n",
            "\t\t\t\t--><a href=\"#00:02:056.02\" id=\"176.0\" class=\"lt\" onclick=\"jumptoTime(176, this.id)\"> which</a><!--\n",
            "\t\t\t\t--><a href=\"#00:02:056.20\" id=\"176.2\" class=\"lt\" onclick=\"jumptoTime(176, this.id)\"> you</a><!--\n",
            "\t\t\t\t--><a href=\"#00:02:056.38\" id=\"176.4\" class=\"lt\" onclick=\"jumptoTime(176, this.id)\"> take</a><!--\n",
            "\t\t\t\t--><a href=\"#00:02:056.60\" id=\"176.6\" class=\"lt\" onclick=\"jumptoTime(176, this.id)\"> very</a><!--\n",
            "\t\t\t\t--><a href=\"#00:02:056.84\" id=\"176.8\" class=\"lt\" onclick=\"jumptoTime(176, this.id)\"> simple</a><!--\n",
            "\t\t\t\t--><a href=\"#00:02:057.24\" id=\"177.2\" class=\"lt\" onclick=\"jumptoTime(177, this.id)\"> components</a><!--\n",
            "\t\t\t\t--><a href=\"#00:02:057.98\" id=\"178.0\" class=\"lt\" onclick=\"jumptoTime(177, this.id)\"> and</a><!--\n",
            "\t\t\t\t--><a href=\"#00:02:059.34\" id=\"179.4\" class=\"lt\" onclick=\"jumptoTime(179, this.id)\"> then</a><!--\n",
            "\t\t\t\t--><a href=\"#00:02:059.60\" id=\"179.6\" class=\"lt\" onclick=\"jumptoTime(179, this.id)\"> build</a><!--\n",
            "\t\t\t\t--><a href=\"#00:03:000.12\" id=\"180.2\" class=\"lt\" onclick=\"jumptoTime(180, this.id)\"> hierarchical</a><!--\n",
            "\t\t\t\t--><a href=\"#00:03:001.98\" id=\"182.0\" class=\"lt\" onclick=\"jumptoTime(181, this.id)\"> structures</a><!--\n",
            "\t\t\t\t--><a href=\"#00:03:002.58\" id=\"182.6\" class=\"lt\" onclick=\"jumptoTime(182, this.id)\"> which</a><!--\n",
            "\t\t\t\t--><a href=\"#00:03:003.82\" id=\"183.8\" class=\"lt\" onclick=\"jumptoTime(183, this.id)\"> become,</a><!--\n",
            "\t\t\t\t--><a href=\"#00:03:004.98\" id=\"185.0\" class=\"lt\" onclick=\"jumptoTime(184, this.id)\"> stage</a><!--\n",
            "\t\t\t\t--><a href=\"#00:03:008.30\" id=\"188.2\" class=\"lt\" onclick=\"jumptoTime(188, this.id)\"> by</a><!--\n",
            "\t\t\t\t--><a href=\"#00:03:008.52\" id=\"188.6\" class=\"lt\" onclick=\"jumptoTime(188, this.id)\"> stage,</a><!--\n",
            "\t\t\t\t--><a href=\"#00:03:009.30\" id=\"189.2\" class=\"lt\" onclick=\"jumptoTime(189, this.id)\"> bigger</a><!--\n",
            "\t\t\t\t--><a href=\"#00:03:009.84\" id=\"189.8\" class=\"lt\" onclick=\"jumptoTime(189, this.id)\"> and</a><!--\n",
            "\t\t\t\t--><a href=\"#00:03:010.70\" id=\"190.6\" class=\"lt\" onclick=\"jumptoTime(190, this.id)\"> fewer</a><!--\n",
            "\t\t\t\t--><a href=\"#00:03:011.34\" id=\"191.4\" class=\"lt\" onclick=\"jumptoTime(191, this.id)\"> as</a><!--\n",
            "\t\t\t\t--><a href=\"#00:03:011.70\" id=\"191.6\" class=\"lt\" onclick=\"jumptoTime(191, this.id)\"> you</a><!--\n",
            "\t\t\t\t--><a href=\"#00:03:012.50\" id=\"192.4\" class=\"lt\" onclick=\"jumptoTime(192, this.id)\"> build</a><!--\n",
            "\t\t\t\t--><a href=\"#00:03:012.78\" id=\"192.8\" class=\"lt\" onclick=\"jumptoTime(192, this.id)\"> one</a><!--\n",
            "\t\t\t\t--><a href=\"#00:03:013.04\" id=\"193.0\" class=\"lt\" onclick=\"jumptoTime(193, this.id)\"> story</a><!--\n",
            "\t\t\t\t--><a href=\"#00:03:013.34\" id=\"193.4\" class=\"lt\" onclick=\"jumptoTime(193, this.id)\"> on</a><!--\n",
            "\t\t\t\t--><a href=\"#00:03:013.52\" id=\"193.6\" class=\"lt\" onclick=\"jumptoTime(193, this.id)\"> another</a><!--\n",
            "\t\t\t\t--><a href=\"#00:03:014.10\" id=\"194.0\" class=\"lt\" onclick=\"jumptoTime(194, this.id)\"> until</a><!--\n",
            "\t\t\t\t--><a href=\"#00:03:014.38\" id=\"194.4\" class=\"lt\" onclick=\"jumptoTime(194, this.id)\"> finally</a><!--\n",
            "\t\t\t\t--><a href=\"#00:03:014.80\" id=\"194.8\" class=\"lt\" onclick=\"jumptoTime(194, this.id)\"> you</a><!--\n",
            "\t\t\t\t--><a href=\"#00:03:015.04\" id=\"195.0\" class=\"lt\" onclick=\"jumptoTime(195, this.id)\"> get</a><!--\n",
            "\t\t\t\t--><a href=\"#00:03:015.22\" id=\"195.2\" class=\"lt\" onclick=\"jumptoTime(195, this.id)\"> the</a><!--\n",
            "\t\t\t\t--><a href=\"#00:03:015.38\" id=\"195.4\" class=\"lt\" onclick=\"jumptoTime(195, this.id)\"> keystone</a><!--\n",
            "\t\t\t\t--><a href=\"#00:03:015.82\" id=\"195.8\" class=\"lt\" onclick=\"jumptoTime(195, this.id)\"> at</a><!--\n",
            "\t\t\t\t--><a href=\"#00:03:016.00\" id=\"196.0\" class=\"lt\" onclick=\"jumptoTime(195, this.id)\"> the</a><!--\n",
            "\t\t\t\t--><a href=\"#00:03:016.14\" id=\"196.2\" class=\"lt\" onclick=\"jumptoTime(196, this.id)\"> top.</a><!--\n",
            "\t\t\t\t--><a href=\"#00:03:017.12\" id=\"197.2\" class=\"lt\" onclick=\"jumptoTime(197, this.id)\"> So</a><!--\n",
            "\t\t\t\t--><a href=\"#00:03:017.46\" id=\"197.4\" class=\"lt\" onclick=\"jumptoTime(197, this.id)\"> you</a><!--\n",
            "\t\t\t\t--><a href=\"#00:03:017.58\" id=\"197.6\" class=\"lt\" onclick=\"jumptoTime(197, this.id)\"> have</a><!--\n",
            "\t\t\t\t--><a href=\"#00:03:017.76\" id=\"197.8\" class=\"lt\" onclick=\"jumptoTime(197, this.id)\"> this</a><!--\n",
            "\t\t\t\t--><a href=\"#00:03:018.00\" id=\"198.0\" class=\"lt\" onclick=\"jumptoTime(197, this.id)\"> hierarchical</a><!--\n",
            "\t\t\t\t--><a href=\"#00:03:018.66\" id=\"198.6\" class=\"lt\" onclick=\"jumptoTime(198, this.id)\"> structure,</a><!--\n",
            "\t\t\t\t--><a href=\"#00:03:019.14\" id=\"199.2\" class=\"lt\" onclick=\"jumptoTime(199, this.id)\"> which</a><!--\n",
            "\t\t\t\t--><a href=\"#00:03:019.30\" id=\"199.2\" class=\"lt\" onclick=\"jumptoTime(199, this.id)\"> played</a><!--\n",
            "\t\t\t\t--><a href=\"#00:03:019.56\" id=\"199.6\" class=\"lt\" onclick=\"jumptoTime(199, this.id)\"> a</a><!--\n",
            "\t\t\t\t--><a href=\"#00:03:019.70\" id=\"199.6\" class=\"lt\" onclick=\"jumptoTime(199, this.id)\"> big</a><!--\n",
            "\t\t\t\t--><a href=\"#00:03:019.86\" id=\"199.8\" class=\"lt\" onclick=\"jumptoTime(199, this.id)\"> part</a><!--\n",
            "\t\t\t\t--><a href=\"#00:03:020.16\" id=\"200.2\" class=\"lt\" onclick=\"jumptoTime(200, this.id)\"> in</a><!--\n",
            "\t\t\t\t--><a href=\"#00:03:020.30\" id=\"200.2\" class=\"lt\" onclick=\"jumptoTime(200, this.id)\"> all</a><!--\n",
            "\t\t\t\t--><a href=\"#00:03:020.56\" id=\"200.6\" class=\"lt\" onclick=\"jumptoTime(200, this.id)\"> Bezikovitch's</a><!--\n",
            "\t\t\t\t--><a href=\"#00:03:021.40\" id=\"201.4\" class=\"lt\" onclick=\"jumptoTime(201, this.id)\"> work.</a><!--\n",
            "\t\t\t\t--><a href=\"#00:03:023.06\" id=\"203.0\" class=\"lt\" onclick=\"jumptoTime(203, this.id)\"> So</a><!--\n",
            "\t\t\t\t--><a href=\"#00:03:023.60\" id=\"203.6\" class=\"lt\" onclick=\"jumptoTime(203, this.id)\"> out</a><!--\n",
            "\t\t\t\t--><a href=\"#00:03:023.96\" id=\"204.0\" class=\"lt\" onclick=\"jumptoTime(203, this.id)\"> of</a><!--\n",
            "\t\t\t\t--><a href=\"#00:03:024.12\" id=\"204.2\" class=\"lt\" onclick=\"jumptoTime(204, this.id)\"> these</a><!--\n",
            "\t\t\t\t--><a href=\"#00:03:024.38\" id=\"204.4\" class=\"lt\" onclick=\"jumptoTime(204, this.id)\"> simple</a><!--\n",
            "\t\t\t\t--><a href=\"#00:03:025.10\" id=\"205.0\" class=\"lt\" onclick=\"jumptoTime(205, this.id)\"> components</a><!--\n",
            "\t\t\t\t--><a href=\"#00:03:025.66\" id=\"205.6\" class=\"lt\" onclick=\"jumptoTime(205, this.id)\"> you</a><!--\n",
            "\t\t\t\t--><a href=\"#00:03:025.86\" id=\"205.8\" class=\"lt\" onclick=\"jumptoTime(205, this.id)\"> get</a><!--\n",
            "\t\t\t\t--><a href=\"#00:03:026.10\" id=\"206.0\" class=\"lt\" onclick=\"jumptoTime(206, this.id)\"> this</a><!--\n",
            "\t\t\t\t--><a href=\"#00:03:026.36\" id=\"206.4\" class=\"lt\" onclick=\"jumptoTime(206, this.id)\"> very</a><!--\n",
            "\t\t\t\t--><a href=\"#00:03:026.66\" id=\"206.6\" class=\"lt\" onclick=\"jumptoTime(206, this.id)\"> powerful</a><!--\n",
            "\t\t\t\t--><a href=\"#00:03:027.98\" id=\"208.0\" class=\"lt\" onclick=\"jumptoTime(207, this.id)\"> structure,</a><!--\n",
            "\t\t\t\t--><a href=\"#00:03:028.90\" id=\"208.8\" class=\"lt\" onclick=\"jumptoTime(208, this.id)\"> and</a><!--\n",
            "\t\t\t\t--><a href=\"#00:03:029.26\" id=\"209.2\" class=\"lt\" onclick=\"jumptoTime(209, this.id)\"> then</a><!--\n",
            "\t\t\t\t--><a href=\"#00:03:029.44\" id=\"209.4\" class=\"lt\" onclick=\"jumptoTime(209, this.id)\"> the</a><!--\n",
            "\t\t\t\t--><a href=\"#00:03:029.64\" id=\"209.6\" class=\"lt\" onclick=\"jumptoTime(209, this.id)\"> theorem</a><!--\n",
            "\t\t\t\t--><a href=\"#00:03:029.92\" id=\"210.0\" class=\"lt\" onclick=\"jumptoTime(209, this.id)\"> you</a><!--\n",
            "\t\t\t\t--><a href=\"#00:03:030.06\" id=\"210.0\" class=\"lt\" onclick=\"jumptoTime(210, this.id)\"> want</a><!--\n",
            "\t\t\t\t--><a href=\"#00:03:030.24\" id=\"210.2\" class=\"lt\" onclick=\"jumptoTime(210, this.id)\"> to</a><!--\n",
            "\t\t\t\t--><a href=\"#00:03:030.38\" id=\"210.4\" class=\"lt\" onclick=\"jumptoTime(210, this.id)\"> prove</a><!--\n",
            "\t\t\t\t--><a href=\"#00:03:030.64\" id=\"210.6\" class=\"lt\" onclick=\"jumptoTime(210, this.id)\"> falls</a><!--\n",
            "\t\t\t\t--><a href=\"#00:03:030.98\" id=\"211.0\" class=\"lt\" onclick=\"jumptoTime(210, this.id)\"> out</a><!--\n",
            "\t\t\t\t--><a href=\"#00:03:031.34\" id=\"211.4\" class=\"lt\" onclick=\"jumptoTime(211, this.id)\"> as</a><!--\n",
            "\t\t\t\t--><a href=\"#00:03:032.02\" id=\"212.0\" class=\"lt\" onclick=\"jumptoTime(212, this.id)\"> a</a><!--\n",
            "\t\t\t\t--><a href=\"#00:03:032.16\" id=\"212.2\" class=\"lt\" onclick=\"jumptoTime(212, this.id)\"> consequence</a><!--\n",
            "\t\t\t\t--><a href=\"#00:03:032.56\" id=\"212.6\" class=\"lt\" onclick=\"jumptoTime(212, this.id)\"> of</a><!--\n",
            "\t\t\t\t--><a href=\"#00:03:032.94\" id=\"213.0\" class=\"lt\" onclick=\"jumptoTime(212, this.id)\"> the</a><!--\n",
            "\t\t\t\t--><a href=\"#00:03:033.08\" id=\"213.0\" class=\"lt\" onclick=\"jumptoTime(213, this.id)\"> overall</a><!--\n",
            "\t\t\t\t--><a href=\"#00:03:033.46\" id=\"213.4\" class=\"lt\" onclick=\"jumptoTime(213, this.id)\"> structure.</a><!--\n",
            "\t\t\t\t--><a href=\"#00:03:034.34\" id=\"214.4\" class=\"lt\" onclick=\"jumptoTime(214, this.id)\"> So</a><!--\n",
            "\t\t\t\t--><a href=\"#00:03:034.44\" id=\"214.4\" class=\"lt\" onclick=\"jumptoTime(214, this.id)\"> it's</a><!--\n",
            "\t\t\t\t--><a href=\"#00:03:034.56\" id=\"214.6\" class=\"lt\" onclick=\"jumptoTime(214, this.id)\"> a</a><!--\n",
            "\t\t\t\t--><a href=\"#00:03:034.66\" id=\"214.6\" class=\"lt\" onclick=\"jumptoTime(214, this.id)\"> kind</a><!--\n",
            "\t\t\t\t--><a href=\"#00:03:034.84\" id=\"214.8\" class=\"lt\" onclick=\"jumptoTime(214, this.id)\"> of</a><!--\n",
            "\t\t\t\t--><a href=\"#00:03:034.92\" id=\"215.0\" class=\"lt\" onclick=\"jumptoTime(214, this.id)\"> architectural</a><!--\n",
            "\t\t\t\t--><a href=\"#00:03:035.44\" id=\"215.4\" class=\"lt\" onclick=\"jumptoTime(215, this.id)\"> style</a><!--\n",
            "\t\t\t\t--><a href=\"#00:03:036.18\" id=\"216.2\" class=\"lt\" onclick=\"jumptoTime(216, this.id)\"> of</a><!--\n",
            "\t\t\t\t--><a href=\"#00:03:036.40\" id=\"216.4\" class=\"lt\" onclick=\"jumptoTime(216, this.id)\"> reasoning,</a><!--\n",
            "\t\t\t\t--><a href=\"#00:03:037.30\" id=\"217.2\" class=\"lt\" onclick=\"jumptoTime(217, this.id)\"> which</a><!--\n",
            "\t\t\t\t--><a href=\"#00:03:038.00\" id=\"218.0\" class=\"lt\" onclick=\"jumptoTime(217, this.id)\"> is</a><!--\n",
            "\t\t\t\t--><a href=\"#00:03:038.12\" id=\"218.2\" class=\"lt\" onclick=\"jumptoTime(218, this.id)\"> very</a><!--\n",
            "\t\t\t\t--><a href=\"#00:03:038.34\" id=\"218.4\" class=\"lt\" onclick=\"jumptoTime(218, this.id)\"> powerful,</a><!--\n",
            "\t\t\t\t--><a href=\"#00:03:039.02\" id=\"219.0\" class=\"lt\" onclick=\"jumptoTime(219, this.id)\"> and</a><!--\n",
            "\t\t\t\t--><a href=\"#00:03:039.14\" id=\"219.2\" class=\"lt\" onclick=\"jumptoTime(219, this.id)\"> I</a><!--\n",
            "\t\t\t\t--><a href=\"#00:03:039.82\" id=\"219.8\" class=\"lt\" onclick=\"jumptoTime(219, this.id)\"> used</a><!--\n",
            "\t\t\t\t--><a href=\"#00:03:040.08\" id=\"220.0\" class=\"lt\" onclick=\"jumptoTime(220, this.id)\"> that</a><!--\n",
            "\t\t\t\t--><a href=\"#00:03:040.30\" id=\"220.2\" class=\"lt\" onclick=\"jumptoTime(220, this.id)\"> in</a><!--\n",
            "\t\t\t\t--><a href=\"#00:03:040.48\" id=\"220.4\" class=\"lt\" onclick=\"jumptoTime(220, this.id)\"> quantum</a><!--\n",
            "\t\t\t\t--><a href=\"#00:03:040.72\" id=\"220.8\" class=\"lt\" onclick=\"jumptoTime(220, this.id)\"> electrodynamics.</a><!--\n",
            "\t\t\t\t--></p>\n",
            "</div>\n",
            "<div class=\"e\" style=\"background-color: #e1ffc7\">\n",
            "<p  style=\"margin:0;padding: 5px 10px 10px 10px;word-wrap:normal;white-space:normal;\">\n",
            "<span style=\"color:darkgreen;font-weight: bold;\">Interviewer</span><br>\n",
            "\t\t\t\t<a href=\"#00:03:043.21\" id=\"223.2\" class=\"lt\" onclick=\"jumptoTime(223, this.id)\"> And</a><!--\n",
            "\t\t\t\t--><a href=\"#00:03:043.76\" id=\"223.8\" class=\"lt\" onclick=\"jumptoTime(223, this.id)\"> you</a><!--\n",
            "\t\t\t\t--><a href=\"#00:03:043.88\" id=\"223.8\" class=\"lt\" onclick=\"jumptoTime(223, this.id)\"> were</a><!--\n",
            "\t\t\t\t--><a href=\"#00:03:044.04\" id=\"224.0\" class=\"lt\" onclick=\"jumptoTime(224, this.id)\"> conscious</a><!--\n",
            "\t\t\t\t--><a href=\"#00:03:044.43\" id=\"224.4\" class=\"lt\" onclick=\"jumptoTime(224, this.id)\"> of</a><!--\n",
            "\t\t\t\t--><a href=\"#00:03:044.72\" id=\"224.8\" class=\"lt\" onclick=\"jumptoTime(224, this.id)\"> that</a><!--\n",
            "\t\t\t\t--><a href=\"#00:03:044.93\" id=\"225.0\" class=\"lt\" onclick=\"jumptoTime(224, this.id)\"> at</a><!--\n",
            "\t\t\t\t--><a href=\"#00:03:045.06\" id=\"225.0\" class=\"lt\" onclick=\"jumptoTime(225, this.id)\"> the</a><!--\n",
            "\t\t\t\t--><a href=\"#00:03:045.21\" id=\"225.2\" class=\"lt\" onclick=\"jumptoTime(225, this.id)\"> time</a><!--\n",
            "\t\t\t\t--><a href=\"#00:03:045.53\" id=\"225.6\" class=\"lt\" onclick=\"jumptoTime(225, this.id)\"> in</a><!--\n",
            "\t\t\t\t--><a href=\"#00:03:045.69\" id=\"225.6\" class=\"lt\" onclick=\"jumptoTime(225, this.id)\"> interacting</a><!--\n",
            "\t\t\t\t--><a href=\"#00:03:046.21\" id=\"226.2\" class=\"lt\" onclick=\"jumptoTime(226, this.id)\"> with</a><!--\n",
            "\t\t\t\t--><a href=\"#00:03:046.47\" id=\"226.4\" class=\"lt\" onclick=\"jumptoTime(226, this.id)\"> Besikovits,</a><!--\n",
            "\t\t\t\t--><a href=\"#00:03:047.59\" id=\"227.6\" class=\"lt\" onclick=\"jumptoTime(227, this.id)\"> that</a><!--\n",
            "\t\t\t\t--><a href=\"#00:03:047.81\" id=\"227.8\" class=\"lt\" onclick=\"jumptoTime(227, this.id)\"> this</a><!--\n",
            "\t\t\t\t--><a href=\"#00:03:048.00\" id=\"228.0\" class=\"lt\" onclick=\"jumptoTime(228, this.id)\"> is</a><!--\n",
            "\t\t\t\t--><a href=\"#00:03:048.28\" id=\"228.2\" class=\"lt\" onclick=\"jumptoTime(228, this.id)\"> an</a><!--\n",
            "\t\t\t\t--><a href=\"#00:03:048.56\" id=\"228.6\" class=\"lt\" onclick=\"jumptoTime(228, this.id)\"> approach</a><!--\n",
            "\t\t\t\t--><a href=\"#00:03:049.09\" id=\"229.0\" class=\"lt\" onclick=\"jumptoTime(229, this.id)\"> of</a><!--\n",
            "\t\t\t\t--><a href=\"#00:03:049.38\" id=\"229.4\" class=\"lt\" onclick=\"jumptoTime(229, this.id)\"> how</a><!--\n",
            "\t\t\t\t--><a href=\"#00:03:049.60\" id=\"229.6\" class=\"lt\" onclick=\"jumptoTime(229, this.id)\"> he</a><!--\n",
            "\t\t\t\t--><a href=\"#00:03:049.76\" id=\"229.8\" class=\"lt\" onclick=\"jumptoTime(229, this.id)\"> does</a><!--\n",
            "\t\t\t\t--><a href=\"#00:03:049.99\" id=\"230.0\" class=\"lt\" onclick=\"jumptoTime(229, this.id)\"> mathematics?</a><!--\n",
            "\t\t\t\t--></p>\n",
            "</div>\n",
            "<div class=\"e\" style=\"background-color: white\">\n",
            "<p  style=\"margin:0;padding: 5px 10px 10px 10px;word-wrap:normal;white-space:normal;\">\n",
            "<span style=\"color:darkorange;font-weight: bold;\">Dyson</span><br>\n",
            "\t\t\t\t<a href=\"#00:03:050.70\" id=\"230.6\" class=\"lt\" onclick=\"jumptoTime(230, this.id)\"> I'm</a><!--\n",
            "\t\t\t\t--><a href=\"#00:03:050.92\" id=\"231.0\" class=\"lt\" onclick=\"jumptoTime(230, this.id)\"> not</a><!--\n",
            "\t\t\t\t--><a href=\"#00:03:051.08\" id=\"231.0\" class=\"lt\" onclick=\"jumptoTime(231, this.id)\"> sure</a><!--\n",
            "\t\t\t\t--><a href=\"#00:03:051.34\" id=\"231.4\" class=\"lt\" onclick=\"jumptoTime(231, this.id)\"> whether</a><!--\n",
            "\t\t\t\t--><a href=\"#00:03:051.60\" id=\"231.6\" class=\"lt\" onclick=\"jumptoTime(231, this.id)\"> I</a><!--\n",
            "\t\t\t\t--><a href=\"#00:03:051.78\" id=\"231.8\" class=\"lt\" onclick=\"jumptoTime(231, this.id)\"> was</a><!--\n",
            "\t\t\t\t--><a href=\"#00:03:051.92\" id=\"232.0\" class=\"lt\" onclick=\"jumptoTime(231, this.id)\"> conscious</a><!--\n",
            "\t\t\t\t--><a href=\"#00:03:052.32\" id=\"232.4\" class=\"lt\" onclick=\"jumptoTime(232, this.id)\"> of</a><!--\n",
            "\t\t\t\t--><a href=\"#00:03:052.56\" id=\"232.6\" class=\"lt\" onclick=\"jumptoTime(232, this.id)\"> it,</a><!--\n",
            "\t\t\t\t--><a href=\"#00:03:052.70\" id=\"232.6\" class=\"lt\" onclick=\"jumptoTime(232, this.id)\"> but</a><!--\n",
            "\t\t\t\t--><a href=\"#00:03:052.84\" id=\"232.8\" class=\"lt\" onclick=\"jumptoTime(232, this.id)\"> certainly</a><!--\n",
            "\t\t\t\t--><a href=\"#00:03:053.14\" id=\"233.2\" class=\"lt\" onclick=\"jumptoTime(233, this.id)\"> I</a><!--\n",
            "\t\t\t\t--><a href=\"#00:03:053.36\" id=\"233.4\" class=\"lt\" onclick=\"jumptoTime(233, this.id)\"> absorbed</a><!--\n",
            "\t\t\t\t--><a href=\"#00:03:053.74\" id=\"233.8\" class=\"lt\" onclick=\"jumptoTime(233, this.id)\"> it,</a><!--\n",
            "\t\t\t\t--><a href=\"#00:03:054.36\" id=\"234.4\" class=\"lt\" onclick=\"jumptoTime(234, this.id)\"> and</a><!--\n",
            "\t\t\t\t--><a href=\"#00:03:055.18\" id=\"235.2\" class=\"lt\" onclick=\"jumptoTime(235, this.id)\"> it's</a><!--\n",
            "\t\t\t\t--><a href=\"#00:03:055.40\" id=\"235.4\" class=\"lt\" onclick=\"jumptoTime(235, this.id)\"> very</a><!--\n",
            "\t\t\t\t--><a href=\"#00:03:055.58\" id=\"235.6\" class=\"lt\" onclick=\"jumptoTime(235, this.id)\"> visible</a><!--\n",
            "\t\t\t\t--><a href=\"#00:03:055.98\" id=\"236.0\" class=\"lt\" onclick=\"jumptoTime(235, this.id)\"> in</a><!--\n",
            "\t\t\t\t--><a href=\"#00:03:056.24\" id=\"236.2\" class=\"lt\" onclick=\"jumptoTime(236, this.id)\"> everything</a><!--\n",
            "\t\t\t\t--><a href=\"#00:03:056.60\" id=\"236.6\" class=\"lt\" onclick=\"jumptoTime(236, this.id)\"> that</a><!--\n",
            "\t\t\t\t--><a href=\"#00:03:056.88\" id=\"236.8\" class=\"lt\" onclick=\"jumptoTime(236, this.id)\"> I</a><!--\n",
            "\t\t\t\t--><a href=\"#00:03:057.04\" id=\"237.0\" class=\"lt\" onclick=\"jumptoTime(237, this.id)\"> do.</a><!--\n",
            "\t\t\t\t--></p>\n",
            "</div>\n",
            "<div class=\"e\" style=\"background-color: #e1ffc7\">\n",
            "<p  style=\"margin:0;padding: 5px 10px 10px 10px;word-wrap:normal;white-space:normal;\">\n",
            "<span style=\"color:darkgreen;font-weight: bold;\">Interviewer</span><br>\n",
            "\t\t\t\t<a href=\"#00:03:059.93\" id=\"240.0\" class=\"lt\" onclick=\"jumptoTime(239, this.id)\"> And</a><!--\n",
            "\t\t\t\t--><a href=\"#00:04:000.13\" id=\"240.2\" class=\"lt\" onclick=\"jumptoTime(240, this.id)\"> so</a><!--\n",
            "\t\t\t\t--><a href=\"#00:04:000.27\" id=\"240.2\" class=\"lt\" onclick=\"jumptoTime(240, this.id)\"> Besikowicz</a><!--\n",
            "\t\t\t\t--><a href=\"#00:04:001.01\" id=\"241.0\" class=\"lt\" onclick=\"jumptoTime(241, this.id)\"> is</a><!--\n",
            "\t\t\t\t--><a href=\"#00:04:001.41\" id=\"241.4\" class=\"lt\" onclick=\"jumptoTime(241, this.id)\"> an</a><!--\n",
            "\t\t\t\t--><a href=\"#00:04:002.67\" id=\"242.6\" class=\"lt\" onclick=\"jumptoTime(242, this.id)\"> important</a><!--\n",
            "\t\t\t\t--><a href=\"#00:04:003.29\" id=\"243.2\" class=\"lt\" onclick=\"jumptoTime(243, this.id)\"> resource</a><!--\n",
            "\t\t\t\t--><a href=\"#00:04:005.59\" id=\"245.6\" class=\"lt\" onclick=\"jumptoTime(245, this.id)\"> for</a><!--\n",
            "\t\t\t\t--><a href=\"#00:04:005.87\" id=\"245.8\" class=\"lt\" onclick=\"jumptoTime(245, this.id)\"> you.</a><!--\n",
            "\t\t\t\t--><a href=\"#00:04:006.59\" id=\"246.6\" class=\"lt\" onclick=\"jumptoTime(246, this.id)\"> Yes.</a><!--\n",
            "\t\t\t\t--></p>\n",
            "</div>\n",
            "<div class=\"e\" style=\"background-color: white\">\n",
            "<p  style=\"margin:0;padding: 5px 10px 10px 10px;word-wrap:normal;white-space:normal;\">\n",
            "<span style=\"color:darkorange;font-weight: bold;\">Dyson</span><br>\n",
            "\t\t\t\t<a href=\"#00:04:006.51\" id=\"246.6\" class=\"lt\" onclick=\"jumptoTime(246, this.id)\"> Yes,</a><!--\n",
            "\t\t\t\t--><a href=\"#00:04:007.17\" id=\"247.2\" class=\"lt\" onclick=\"jumptoTime(247, this.id)\"> certainly</a><!--\n",
            "\t\t\t\t--><a href=\"#00:04:007.87\" id=\"247.8\" class=\"lt\" onclick=\"jumptoTime(247, this.id)\"> the</a><!--\n",
            "\t\t\t\t--><a href=\"#00:04:010.83\" id=\"250.8\" class=\"lt\" onclick=\"jumptoTime(250, this.id)\"> tools</a><!--\n",
            "\t\t\t\t--><a href=\"#00:04:012.53\" id=\"252.6\" class=\"lt\" onclick=\"jumptoTime(252, this.id)\"> that</a><!--\n",
            "\t\t\t\t--><a href=\"#00:04:012.73\" id=\"252.8\" class=\"lt\" onclick=\"jumptoTime(252, this.id)\"> I</a><!--\n",
            "\t\t\t\t--><a href=\"#00:04:012.91\" id=\"253.0\" class=\"lt\" onclick=\"jumptoTime(252, this.id)\"> use</a><!--\n",
            "\t\t\t\t--><a href=\"#00:04:013.27\" id=\"253.2\" class=\"lt\" onclick=\"jumptoTime(253, this.id)\"> are</a><!--\n",
            "\t\t\t\t--><a href=\"#00:04:013.93\" id=\"254.0\" class=\"lt\" onclick=\"jumptoTime(253, this.id)\"> basically</a><!--\n",
            "\t\t\t\t--><a href=\"#00:04:014.49\" id=\"254.4\" class=\"lt\" onclick=\"jumptoTime(254, this.id)\"> Bezikovitch</a><!--\n",
            "\t\t\t\t--><a href=\"#00:04:015.35\" id=\"255.4\" class=\"lt\" onclick=\"jumptoTime(255, this.id)\"> tools.</a><!--\n",
            "\t\t\t\t--></p>\n",
            "</div>\n",
            "\t</body>\n",
            "</html>\n"
          ]
        }
      ]
    }
  ],
  "metadata": {
    "colab": {
      "provenance": [],
      "machine_shape": "hm"
    },
    "kernelspec": {
      "display_name": "Python 3",
      "name": "python3"
    },
    "gpuClass": "standard",
    "accelerator": "GPU"
  },
  "nbformat": 4,
  "nbformat_minor": 0
}