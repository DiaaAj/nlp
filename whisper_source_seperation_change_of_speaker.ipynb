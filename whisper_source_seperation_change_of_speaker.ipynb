{
  "nbformat": 4,
  "nbformat_minor": 0,
  "metadata": {
    "colab": {
      "private_outputs": true,
      "provenance": [],
      "mount_file_id": "1WPjicsG2iVtAXPaB3lg1Nfuiar0qYguo",
      "authorship_tag": "ABX9TyMFnTgB0P8hOZnPdNpBpAqI",
      "include_colab_link": true
    },
    "kernelspec": {
      "name": "python3",
      "display_name": "Python 3"
    },
    "language_info": {
      "name": "python"
    },
    "accelerator": "GPU",
    "gpuClass": "standard"
  },
  "cells": [
    {
      "cell_type": "markdown",
      "metadata": {
        "id": "view-in-github",
        "colab_type": "text"
      },
      "source": [
        "<a href=\"https://colab.research.google.com/github/Majdoddin/nlp/blob/develop/whisper_source_seperation_change_of_speaker.ipynb\" target=\"_parent\"><img src=\"https://colab.research.google.com/assets/colab-badge.svg\" alt=\"Open In Colab\"/></a>"
      ]
    },
    {
      "cell_type": "markdown",
      "source": [
        " Installing [`yt-dlp`](https://github.com/yt-dlp/yt-dlp) and downloading the [video](https://youtu.be/NSp2fEQ6wyA) from youtube."
      ],
      "metadata": {
        "id": "Ct4adIANpQvX"
      }
    },
    {
      "cell_type": "code",
      "execution_count": null,
      "metadata": {
        "id": "TL7fC4aZdpyH"
      },
      "outputs": [],
      "source": [
        "  !pip install -U yt-dlp"
      ]
    },
    {
      "cell_type": "code",
      "execution_count": null,
      "metadata": {
        "id": "KsedMPN-daEX"
      },
      "outputs": [],
      "source": [
        "  !wget -O - -q  https://github.com/yt-dlp/FFmpeg-Builds/releases/download/latest/ffmpeg-master-latest-linux64-gpl.tar.xz | xz -qdc| tar -x"
      ]
    },
    {
      "cell_type": "code",
      "execution_count": null,
      "metadata": {
        "id": "2VHzpv72dkvV"
      },
      "outputs": [],
      "source": [
        "video_url = 'https://youtu.be/NSp2fEQ6wyA'\n",
        "!yt-dlp -xv --ffmpeg-location ffmpeg-master-latest-linux64-gpl/bin --audio-format wav  -o \"audio.wav\" -- {video_url}"
      ]
    },
    {
      "cell_type": "code",
      "source": [
        "!pip install pydub"
      ],
      "metadata": {
        "id": "4-xR_GorzL29"
      },
      "execution_count": null,
      "outputs": []
    },
    {
      "cell_type": "code",
      "source": [
        "from pydub import AudioSegment\n",
        "\n",
        "spacermilli = 1000\n",
        "spacer = AudioSegment.silent(duration=spacermilli)\n",
        "\n",
        "audio = AudioSegment.from_wav(\"audio.wav\") \n",
        "sound1 = audio[(4*60+6)*1000+53:]\n",
        "sound1.export('sound1.wav', format='wav')\n",
        "\n",
        "sound2 = audio[(3*60+59)*1000+93:(4*60+6)*1000+53]\n",
        "sound2 = spacer.append(sound2, crossfade=0)\n",
        "sound2.export('sound2.wav', format='wav')\n",
        "\n",
        "combined = sound1.overlay(sound2)\n",
        "combined.export('combined.wav', format='wav')"
      ],
      "metadata": {
        "id": "D15Mp12fzasF"
      },
      "execution_count": null,
      "outputs": []
    },
    {
      "cell_type": "code",
      "source": [
        "from IPython.display import display, Audio \n",
        "display(Audio('combined.wav'))"
      ],
      "metadata": {
        "id": "21APLXwJgBJT"
      },
      "execution_count": null,
      "outputs": []
    },
    {
      "cell_type": "code",
      "source": [],
      "metadata": {
        "id": "QSzLKZ7vgx9D"
      },
      "execution_count": null,
      "outputs": []
    },
    {
      "cell_type": "code",
      "execution_count": null,
      "metadata": {
        "id": "Zou3_iWcgHe7"
      },
      "outputs": [],
      "source": [
        "!pip install git+https://github.com/openai/whisper.git "
      ]
    },
    {
      "cell_type": "code",
      "source": [
        "!whisper test.m4a --language en --model large"
      ],
      "metadata": {
        "id": "eh1YhO1cgRCz"
      },
      "execution_count": null,
      "outputs": []
    }
  ]
}